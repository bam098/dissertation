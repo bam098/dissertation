{
 "cells": [
  {
   "cell_type": "markdown",
   "metadata": {},
   "source": [
    "# Deep k-Nearest Neighbors (DkNN) - CIFAR10: Eval on Testset (CIFAR10)"
   ]
  },
  {
   "cell_type": "code",
   "execution_count": 1,
   "metadata": {
    "colab": {
     "base_uri": "https://localhost:8080/",
     "height": 170
    },
    "colab_type": "code",
    "id": "2PTvaJ7Q9yo8",
    "outputId": "0c716a5d-95f6-4ad9-a659-eff21fc4d5c6"
   },
   "outputs": [
    {
     "name": "stdout",
     "output_type": "stream",
     "text": [
      "python version:      3.6.9\n",
      "torch version:       1.7.0\n",
      "torchvision version: 0.8.1\n",
      "numpy version:       1.19.5\n",
      "matplotlib version:  3.2.2\n",
      "pickle version:      4.0\n",
      "CUDA available:      False\n",
      "cuDNN enabled:       True\n",
      "num gpus:            0\n"
     ]
    }
   ],
   "source": [
    "%reload_ext autoreload\n",
    "%autoreload 2\n",
    "%matplotlib inline\n",
    "\n",
    "# BUG FIX, see: https://github.com/pytorch/vision/issues/1938\n",
    "from six.moves import urllib\n",
    "opener = urllib.request.build_opener()\n",
    "opener.addheaders = [('User-agent', 'Mozilla/5.0')]\n",
    "urllib.request.install_opener(opener)\n",
    "\n",
    "# Load libs\n",
    "import torch\n",
    "import torch.nn as nn\n",
    "import torch.nn.functional as F\n",
    "import torch.optim as optim\n",
    "from torch.utils.data import Dataset, TensorDataset, DataLoader\n",
    "import torchvision\n",
    "from torchvision import transforms\n",
    "import matplotlib\n",
    "import matplotlib.pyplot as plt\n",
    "import pickle\n",
    "import numpy as np\n",
    "import falconn\n",
    "import faiss\n",
    "import platform\n",
    "import enum\n",
    "import copy\n",
    "from bisect import bisect_left\n",
    "import warnings\n",
    "import time\n",
    "\n",
    "print('python version:      {}'.format(platform.python_version()))\n",
    "print('torch version:       {}'.format(torch.__version__))\n",
    "print('torchvision version: {}'.format(torchvision.__version__))\n",
    "print('numpy version:       {}'.format(np.__version__))\n",
    "print('matplotlib version:  {}'.format(matplotlib.__version__))\n",
    "print('pickle version:      {}'.format(pickle.format_version))\n",
    "\n",
    "use_cuda = torch.cuda.is_available()\n",
    "print('CUDA available:      {}'.format(use_cuda))\n",
    "print('cuDNN enabled:       {}'.format(torch.backends.cudnn.enabled))\n",
    "print('num gpus:            {}'.format(torch.cuda.device_count()))\n",
    "\n",
    "if use_cuda:\n",
    "    print('gpu:                 {}'.format(torch.cuda.get_device_name(0)))\n",
    "\n",
    "    print()\n",
    "    print('------------------------- CUDA -------------------------')\n",
    "    ! nvcc --version"
   ]
  },
  {
   "cell_type": "code",
   "execution_count": 2,
   "metadata": {
    "colab": {},
    "colab_type": "code",
    "id": "yMH4t0VK9-Cp"
   },
   "outputs": [],
   "source": [
    "random_seed = 0\n",
    "torch.manual_seed(random_seed)\n",
    "np.random.seed(random_seed)\n",
    "\n",
    "torch.backends.cudnn.benchmark = False\n",
    "torch.backends.cudnn.deterministic = True\n",
    "torch.set_deterministic(True)"
   ]
  },
  {
   "cell_type": "code",
   "execution_count": 3,
   "metadata": {
    "colab": {},
    "colab_type": "code",
    "id": "7dBVyKcX4qNw"
   },
   "outputs": [],
   "source": [
    "batch_size_train = 500    # batch size for training\n",
    "batch_size_test = 1000    # batch size for testing\n",
    "calibset_size = 750       # size of the calibration set for DkNN\n",
    "neighbors = 75            # number of nearest neighbors for DkNN\n",
    "number_bits = 17          # number of bits for LSH for DkNN\n",
    "\n",
    "log_interval = 10         # printing training statistics after 10 iterations"
   ]
  },
  {
   "cell_type": "markdown",
   "metadata": {},
   "source": [
    "## Load Data and Model"
   ]
  },
  {
   "cell_type": "code",
   "execution_count": 4,
   "metadata": {},
   "outputs": [],
   "source": [
    "class CustomTensorDataset(torch.utils.data.Dataset):\n",
    "    \"\"\"\n",
    "    TensorDataset with support for transforms\n",
    "    \"\"\"\n",
    "    def __init__(self, tensors, transform=None):\n",
    "        assert all(tensors[0].size(0) == tensor.size(0) for tensor in tensors)\n",
    "        self.tensors = tensors\n",
    "        self.transform = transform\n",
    "\n",
    "    def __getitem__(self, index):\n",
    "        x = self.tensors[0][index]\n",
    "\n",
    "        if self.transform:\n",
    "            x = self.transform(x)\n",
    "\n",
    "        y = self.tensors[1][index]\n",
    "\n",
    "        return x, y\n",
    "\n",
    "    def __len__(self):\n",
    "        return self.tensors[0].size(0)"
   ]
  },
  {
   "cell_type": "markdown",
   "metadata": {
    "colab_type": "text",
    "id": "Wik1VDmc-GfA"
   },
   "source": [
    "### Data"
   ]
  },
  {
   "cell_type": "markdown",
   "metadata": {
    "colab_type": "text",
    "id": "U7c2zcL7yVUC"
   },
   "source": [
    "#### Specify Dataset"
   ]
  },
  {
   "cell_type": "code",
   "execution_count": 5,
   "metadata": {
    "colab": {},
    "colab_type": "code",
    "id": "VmUEEiqvyRj4"
   },
   "outputs": [],
   "source": [
    "transform = transforms.Compose([\n",
    "    transforms.ToTensor(),\n",
    "    transforms.Normalize((0.1307,), (0.3081,))\n",
    "])"
   ]
  },
  {
   "cell_type": "code",
   "execution_count": 6,
   "metadata": {
    "colab": {},
    "colab_type": "code",
    "id": "TeakmI6Xyf8-"
   },
   "outputs": [],
   "source": [
    "# Training set\n",
    "trainset = torchvision.datasets.MNIST(\n",
    "    root='./data', train=True, download=True, transform=transform\n",
    ")\n",
    "\n",
    "# Test set and calibration set\n",
    "orig_testset = torchvision.datasets.MNIST(\n",
    "    root='./data', train=False, download=True, transform=transform\n",
    ")\n",
    "orig_testset_size = len(orig_testset)\n",
    "\n",
    "testset_size = orig_testset_size - calibset_size\n",
    "testset, calibset = torch.utils.data.random_split(orig_testset, [testset_size, calibset_size])\n",
    "\n",
    "# OoD Test set\n",
    "nood_testset = torchvision.datasets.KMNIST(\n",
    "    root='./data', train=False, download=True, transform=transform\n",
    ")"
   ]
  },
  {
   "cell_type": "markdown",
   "metadata": {
    "colab_type": "text",
    "id": "AzgtNQAwymuT"
   },
   "source": [
    "#### Load Data"
   ]
  },
  {
   "cell_type": "code",
   "execution_count": 7,
   "metadata": {
    "colab": {},
    "colab_type": "code",
    "id": "0fi0GzKryxw4"
   },
   "outputs": [],
   "source": [
    "# Create training data loader\n",
    "trainloader = torch.utils.data.DataLoader(\n",
    "    trainset, batch_size=batch_size_train, shuffle=False, num_workers=2\n",
    ")\n",
    "\n",
    "# Create test data loader\n",
    "testloader = torch.utils.data.DataLoader(\n",
    "    testset, batch_size=batch_size_test, shuffle=False, num_workers=2\n",
    ")\n",
    "\n",
    "# Create NOOD test data loader\n",
    "nood_testloader = torch.utils.data.DataLoader(\n",
    "    nood_testset, batch_size=batch_size_test, shuffle=False, num_workers=2\n",
    ")\n",
    "\n",
    "# Create FGSM test data loader\n",
    "fname = '/Users/lehmann/research/laca/adv_examples/advloader_mnist_fgsm.pth'\n",
    "fgsm_testloader = torch.load(fname)\n",
    "\n",
    "# Create BIM test data loader\n",
    "fname = '/Users/lehmann/research/laca/adv_examples/advloader_mnist_bim.pth'\n",
    "bim_testloader = torch.load(fname)\n",
    "\n",
    "# Create PGD test data loader\n",
    "fname = '/Users/lehmann/research/laca/adv_examples/advloader_mnist_pgd.pth'\n",
    "pgd_testloader = torch.load(fname)\n",
    "\n",
    "# Create calib data loader\n",
    "calibloader = torch.utils.data.DataLoader(\n",
    "    calibset, batch_size=calibset_size, shuffle=False, num_workers=2\n",
    ")\n",
    "\n",
    "# Create training data loader for DkNN\n",
    "trainloader_dknn = torch.utils.data.DataLoader(\n",
    "    trainset, batch_size=batch_size_train, shuffle=False, num_workers=2\n",
    ")"
   ]
  },
  {
   "cell_type": "code",
   "execution_count": 8,
   "metadata": {},
   "outputs": [],
   "source": [
    "dataset_classes = []\n",
    "\n",
    "for batch_idx, (data, target) in enumerate(trainloader):\n",
    "    dataset_classes += list(target.numpy())\n",
    "    break\n",
    "    \n",
    "num_classes = len(set(dataset_classes))"
   ]
  },
  {
   "cell_type": "code",
   "execution_count": 9,
   "metadata": {
    "colab": {
     "base_uri": "https://localhost:8080/",
     "height": 68
    },
    "colab_type": "code",
    "id": "F5XTyUe0b31Q",
    "outputId": "2eae29d2-48bd-4ad7-a8e8-2b4f361675d0"
   },
   "outputs": [
    {
     "name": "stdout",
     "output_type": "stream",
     "text": [
      "num classes: 10\n",
      "\n",
      "trainset size:      60000\n",
      "testset size:       9250\n",
      "nood testset size:  10000\n",
      "fgsm testset size:  10000\n",
      "bim testset size:   10000\n",
      "pgd testset size:   10000\n",
      "calibset size:      750\n",
      "trainset DkNN size: 60000\n"
     ]
    }
   ],
   "source": [
    "print(f'num classes: {num_classes}')\n",
    "print()\n",
    "print('trainset size:      {}'.format(len(trainloader.dataset)))\n",
    "print('testset size:       {}'.format(len(testloader.dataset)))\n",
    "print('nood testset size:  {}'.format(len(nood_testloader.dataset)))\n",
    "print('fgsm testset size:  {}'.format(len(fgsm_testloader.dataset)))\n",
    "print('bim testset size:   {}'.format(len(bim_testloader.dataset)))\n",
    "print('pgd testset size:   {}'.format(len(pgd_testloader.dataset)))\n",
    "print('calibset size:      {}'.format(len(calibloader.dataset)))\n",
    "print('trainset DkNN size: {}'.format(len(trainloader_dknn.dataset)))"
   ]
  },
  {
   "cell_type": "markdown",
   "metadata": {
    "colab_type": "text",
    "id": "SvhyHSj_y2Ra"
   },
   "source": [
    "#### Display Samples"
   ]
  },
  {
   "cell_type": "code",
   "execution_count": 10,
   "metadata": {
    "colab": {},
    "colab_type": "code",
    "id": "NQBLPagqy2_J"
   },
   "outputs": [],
   "source": [
    "def show_samples(data, targets):\n",
    "    data = data.numpy()\n",
    "    print(\"tensor shape: \" + str(data.shape))\n",
    "    \n",
    "    fig = plt.figure()\n",
    "    for i in range(9):\n",
    "        plt.subplot(3,3,i+1)\n",
    "        plt.tight_layout()\n",
    "        \n",
    "        img = data * 0.3081 + 0.1307  # unnormalize\n",
    "        plt.imshow(img[i][0], cmap='gray', interpolation='none')\n",
    "        plt.title(\"Ground Truth: {}\".format(targets[i]))\n",
    "        \n",
    "        plt.xticks([])\n",
    "        plt.yticks([])"
   ]
  },
  {
   "cell_type": "markdown",
   "metadata": {
    "colab_type": "text",
    "id": "0kXdGSzry8Ce"
   },
   "source": [
    "##### Training Samples"
   ]
  },
  {
   "cell_type": "code",
   "execution_count": 11,
   "metadata": {
    "colab": {
     "base_uri": "https://localhost:8080/",
     "height": 301
    },
    "colab_type": "code",
    "id": "woBy6gE-y8YR",
    "outputId": "f87743cd-0528-4fb3-ca7e-1786dd8ea148"
   },
   "outputs": [
    {
     "name": "stdout",
     "output_type": "stream",
     "text": [
      "tensor shape: (500, 1, 28, 28)\n"
     ]
    },
    {
     "data": {
      "image/png": "[encoded data removed]",
      "text/plain": [
       "<Figure size 432x288 with 9 Axes>"
      ]
     },
     "metadata": {},
     "output_type": "display_data"
    }
   ],
   "source": [
    "dataiter = enumerate(trainloader)\n",
    "_, (train_sample_data, train_sample_targets) = next(dataiter)\n",
    "\n",
    "show_samples(train_sample_data, train_sample_targets)"
   ]
  },
  {
   "cell_type": "markdown",
   "metadata": {},
   "source": [
    "##### Test Samples"
   ]
  },
  {
   "cell_type": "code",
   "execution_count": 12,
   "metadata": {},
   "outputs": [
    {
     "name": "stdout",
     "output_type": "stream",
     "text": [
      "tensor shape: (1000, 1, 28, 28)\n"
     ]
    },
    {
     "data": {
      "image/png": "[encoded data removed]",
      "text/plain": [
       "<Figure size 432x288 with 9 Axes>"
      ]
     },
     "metadata": {},
     "output_type": "display_data"
    }
   ],
   "source": [
    "dataiter = enumerate(testloader)\n",
    "_, (test_sample_data, test_sample_targets) = next(dataiter)\n",
    "\n",
    "show_samples(test_sample_data, test_sample_targets)"
   ]
  },
  {
   "cell_type": "code",
   "execution_count": 13,
   "metadata": {},
   "outputs": [
    {
     "name": "stdout",
     "output_type": "stream",
     "text": [
      "tensor shape: (1000, 1, 28, 28)\n"
     ]
    },
    {
     "data": {
      "image/png": "[encoded data removed]",
      "text/plain": [
       "<Figure size 432x288 with 9 Axes>"
      ]
     },
     "metadata": {},
     "output_type": "display_data"
    }
   ],
   "source": [
    "dataiter = enumerate(nood_testloader)\n",
    "_, (nood_test_sample_data, nood_test_sample_targets) = next(dataiter)\n",
    "\n",
    "show_samples(nood_test_sample_data, nood_test_sample_targets)"
   ]
  },
  {
   "cell_type": "code",
   "execution_count": 14,
   "metadata": {},
   "outputs": [
    {
     "name": "stdout",
     "output_type": "stream",
     "text": [
      "tensor shape: (1000, 1, 28, 28)\n"
     ]
    },
    {
     "data": {
      "image/png": "[encoded data removed]",
      "text/plain": [
       "<Figure size 432x288 with 9 Axes>"
      ]
     },
     "metadata": {},
     "output_type": "display_data"
    }
   ],
   "source": [
    "dataiter = enumerate(fgsm_testloader)\n",
    "_, (fgsm_test_sample_data, fgsm_test_sample_targets) = next(dataiter)\n",
    "\n",
    "show_samples(fgsm_test_sample_data, fgsm_test_sample_targets)"
   ]
  },
  {
   "cell_type": "code",
   "execution_count": 15,
   "metadata": {},
   "outputs": [
    {
     "name": "stdout",
     "output_type": "stream",
     "text": [
      "tensor shape: (1000, 1, 28, 28)\n"
     ]
    },
    {
     "data": {
      "image/png": "[encoded data removed]",
      "text/plain": [
       "<Figure size 432x288 with 9 Axes>"
      ]
     },
     "metadata": {},
     "output_type": "display_data"
    }
   ],
   "source": [
    "dataiter = enumerate(bim_testloader)\n",
    "_, (bim_test_sample_data, bim_test_sample_targets) = next(dataiter)\n",
    "\n",
    "show_samples(bim_test_sample_data, bim_test_sample_targets)"
   ]
  },
  {
   "cell_type": "code",
   "execution_count": 16,
   "metadata": {},
   "outputs": [
    {
     "name": "stdout",
     "output_type": "stream",
     "text": [
      "tensor shape: (1000, 1, 28, 28)\n"
     ]
    },
    {
     "data": {
      "image/png": "[encoded data removed]",
      "text/plain": [
       "<Figure size 432x288 with 9 Axes>"
      ]
     },
     "metadata": {},
     "output_type": "display_data"
    }
   ],
   "source": [
    "dataiter = enumerate(pgd_testloader)\n",
    "_, (pgd_test_sample_data, pgd_test_sample_targets) = next(dataiter)\n",
    "\n",
    "show_samples(pgd_test_sample_data, pgd_test_sample_targets)"
   ]
  },
  {
   "cell_type": "markdown",
   "metadata": {},
   "source": [
    "##### Calibration Samples"
   ]
  },
  {
   "cell_type": "code",
   "execution_count": 17,
   "metadata": {},
   "outputs": [
    {
     "name": "stdout",
     "output_type": "stream",
     "text": [
      "tensor shape: (750, 1, 28, 28)\n"
     ]
    },
    {
     "data": {
      "image/png": "[encoded data removed]",
      "text/plain": [
       "<Figure size 432x288 with 9 Axes>"
      ]
     },
     "metadata": {},
     "output_type": "display_data"
    }
   ],
   "source": [
    "dataiter = enumerate(calibloader)\n",
    "_, (calib_sample_data, calib_sample_targets) = next(dataiter)\n",
    "\n",
    "show_samples(calib_sample_data, calib_sample_targets)"
   ]
  },
  {
   "cell_type": "markdown",
   "metadata": {
    "colab_type": "text",
    "id": "8nrEJtUA4vwY"
   },
   "source": [
    "### Define Test Functions"
   ]
  },
  {
   "cell_type": "code",
   "execution_count": 18,
   "metadata": {
    "colab": {},
    "colab_type": "code",
    "id": "PgBe_-yy4w-B"
   },
   "outputs": [],
   "source": [
    "def test(model, crit, data_loader, test_losses, test_accs):\n",
    "    model.eval()\n",
    "    correct = 0\n",
    "    test_loss = 0\n",
    "    \n",
    "    with torch.no_grad():\n",
    "        for data in data_loader:\n",
    "            # Get the inputs; data is a list of [inputs, labels]\n",
    "            inputs, targets = data\n",
    "\n",
    "            if use_cuda:\n",
    "                inputs, targets = inputs.cuda(), targets.cuda()\n",
    "            \n",
    "            # Forward + loss + correct\n",
    "            outputs = model(inputs)\n",
    "            test_loss += crit(outputs, targets).item()\n",
    "            \n",
    "            _, predicted = torch.max(outputs.data, 1)\n",
    "            correct += (predicted == targets).sum().item()\n",
    "          \n",
    "    dataset_size = len(data_loader.dataset)\n",
    "    test_loss /= dataset_size\n",
    "    acc = 100. * correct / dataset_size\n",
    "    \n",
    "    test_losses.append(test_loss)\n",
    "    test_accs.append(acc)\n",
    "    \n",
    "    print('\\nTest set: Avg. loss: {:.6f}, Accuracy: {}/{} ({:.2f}%)\\n'.format(\n",
    "        test_loss, correct, dataset_size, acc\n",
    "    ))\n",
    "    \n",
    "    return test_losses, test_accs"
   ]
  },
  {
   "cell_type": "markdown",
   "metadata": {
    "colab_type": "text",
    "id": "_YFZQkAi450A"
   },
   "source": [
    "### Network Architecture"
   ]
  },
  {
   "cell_type": "code",
   "execution_count": 19,
   "metadata": {
    "colab": {},
    "colab_type": "code",
    "id": "P7Pt-A4Z47aj"
   },
   "outputs": [],
   "source": [
    "class MnistNet(nn.Module):\n",
    "    def __init__(self):\n",
    "        super(MnistNet, self).__init__()\n",
    "        self.conv1 = nn.Conv2d(1, 64, kernel_size=8, stride=2, padding=3)\n",
    "        self.relu1 = nn.ReLU(True)\n",
    "        self.conv2 = nn.Conv2d(64, 128, kernel_size=6, stride=2)\n",
    "        self.relu2 = nn.ReLU(True)\n",
    "        self.conv3 = nn.Conv2d(128, 128, kernel_size=5)\n",
    "        self.relu3 = nn.ReLU(True)\n",
    "        self.fc = nn.Linear(128, 10)\n",
    "\n",
    "    def forward(self, x):\n",
    "        x = self.relu1(self.conv1(x))\n",
    "        x = self.relu2(self.conv2(x))\n",
    "        x = self.relu3(self.conv3(x))\n",
    "        x = x.view(-1, 128)\n",
    "        x = self.fc(x)\n",
    "        return x"
   ]
  },
  {
   "cell_type": "markdown",
   "metadata": {},
   "source": [
    "### Model Testing"
   ]
  },
  {
   "cell_type": "code",
   "execution_count": 20,
   "metadata": {},
   "outputs": [
    {
     "data": {
      "text/plain": [
       "<All keys matched successfully>"
      ]
     },
     "execution_count": 20,
     "metadata": {},
     "output_type": "execute_result"
    }
   ],
   "source": [
    "# Create Model\n",
    "model = MnistNet()\n",
    "criterion = nn.CrossEntropyLoss()\n",
    "\n",
    "# Load Model\n",
    "model.load_state_dict(\n",
    "    torch.load(\"/Users/lehmann/research/laca/models/mnist_model.pth\", map_location=torch.device('cpu'))\n",
    ")"
   ]
  },
  {
   "cell_type": "code",
   "execution_count": 21,
   "metadata": {
    "scrolled": true
   },
   "outputs": [
    {
     "data": {
      "text/plain": [
       "MnistNet(\n",
       "  (conv1): Conv2d(1, 64, kernel_size=(8, 8), stride=(2, 2), padding=(3, 3))\n",
       "  (relu1): ReLU(inplace=True)\n",
       "  (conv2): Conv2d(64, 128, kernel_size=(6, 6), stride=(2, 2))\n",
       "  (relu2): ReLU(inplace=True)\n",
       "  (conv3): Conv2d(128, 128, kernel_size=(5, 5), stride=(1, 1))\n",
       "  (relu3): ReLU(inplace=True)\n",
       "  (fc): Linear(in_features=128, out_features=10, bias=True)\n",
       ")"
      ]
     },
     "execution_count": 21,
     "metadata": {},
     "output_type": "execute_result"
    }
   ],
   "source": [
    "model"
   ]
  },
  {
   "cell_type": "code",
   "execution_count": 22,
   "metadata": {},
   "outputs": [],
   "source": [
    "layers = {\n",
    "    'relu1': model.relu1,\n",
    "    'relu2': model.relu2,\n",
    "    'relu3': model.relu3,\n",
    "    'fc': model.fc\n",
    "}"
   ]
  },
  {
   "cell_type": "code",
   "execution_count": 23,
   "metadata": {
    "colab": {},
    "colab_type": "code",
    "id": "g10p0O_9fAOe"
   },
   "outputs": [],
   "source": [
    "model.eval()\n",
    "\n",
    "if use_cuda:\n",
    "    model.cuda()\n",
    "    print('Using ', torch.cuda.device_count(), ' GPU(s)')"
   ]
  },
  {
   "cell_type": "code",
   "execution_count": 24,
   "metadata": {
    "colab": {},
    "colab_type": "code",
    "id": "GblopwOcg1HF"
   },
   "outputs": [],
   "source": [
    "def test_final(model, data_loader):\n",
    "    _, accs = test(model, criterion, data_loader, [], [])\n",
    "    return accs[0]"
   ]
  },
  {
   "cell_type": "code",
   "execution_count": 25,
   "metadata": {
    "colab": {
     "base_uri": "https://localhost:8080/",
     "height": 85
    },
    "colab_type": "code",
    "id": "ruV5BFPJgYJY",
    "outputId": "914f603d-40e7-494f-a39e-b843a51b8ad5"
   },
   "outputs": [
    {
     "name": "stdout",
     "output_type": "stream",
     "text": [
      "\n",
      "Test set: Avg. loss: 0.000038, Accuracy: 9162/9250 (99.05%)\n",
      "\n",
      "\n",
      "Test set: Avg. loss: 0.009112, Accuracy: 759/10000 (7.59%)\n",
      "\n",
      "\n",
      "Test set: Avg. loss: 0.007778, Accuracy: 805/10000 (8.05%)\n",
      "\n",
      "\n",
      "Test set: Avg. loss: 0.014205, Accuracy: 4/10000 (0.04%)\n",
      "\n",
      "\n",
      "Test set: Avg. loss: 0.008820, Accuracy: 246/10000 (2.46%)\n",
      "\n",
      "test acc:           99.04864864864865\n",
      "test acc (nood):    7.59\n",
      "test acc (fgsm):    8.05\n",
      "test acc (bim):     0.04\n",
      "test acc (pgd):     2.46\n"
     ]
    }
   ],
   "source": [
    "test_acc = test_final(model, testloader)\n",
    "nood_test_acc = test_final(model, nood_testloader)\n",
    "fgsm_test_acc = test_final(model, fgsm_testloader)\n",
    "bim_test_acc = test_final(model, bim_testloader)\n",
    "pgd_test_acc = test_final(model, pgd_testloader)\n",
    "\n",
    "\n",
    "print('test acc:           {}'.format(test_acc))\n",
    "print('test acc (nood):    {}'.format(nood_test_acc))\n",
    "print('test acc (fgsm):    {}'.format(fgsm_test_acc))\n",
    "print('test acc (bim):     {}'.format(bim_test_acc))\n",
    "print('test acc (pgd):     {}'.format(pgd_test_acc))"
   ]
  },
  {
   "cell_type": "markdown",
   "metadata": {
    "colab_type": "text",
    "id": "aRNHTEVitJmU"
   },
   "source": [
    "## DkNN Initialization"
   ]
  },
  {
   "cell_type": "code",
   "execution_count": 26,
   "metadata": {
    "colab": {},
    "colab_type": "code",
    "id": "-s3P0R-KkTq8"
   },
   "outputs": [],
   "source": [
    "def get_activations(dataloader, model, layers): \n",
    "    activations = {}\n",
    "    activations['activations'] = {}\n",
    "    activations['targets'] = []\n",
    "    \n",
    "    handlers = {}\n",
    "    \n",
    "    # Define hook\n",
    "    def get_activations(layer_name):\n",
    "        def hook(model, input, output):    \n",
    "            layer_activations = output.squeeze().detach().cpu().numpy()\n",
    "\n",
    "            if len(layer_activations.shape) == 4:\n",
    "                layer_activations = layer_activations.reshape(layer_activations.shape[0], -1)\n",
    "        \n",
    "            activations['activations'][layer_name].append(layer_activations)\n",
    "            \n",
    "        return hook\n",
    "    \n",
    "    # Register Hooks\n",
    "    print('## Registering Hooks')\n",
    "    \n",
    "    for layer_name in layers:\n",
    "        print('Register Hook for Layer {}'.format(layer_name))\n",
    "        activations['activations'][layer_name] = []\n",
    "        handlers[layer_name] = layers[layer_name].register_forward_hook(get_activations(layer_name))\n",
    "    \n",
    "    print()\n",
    "        \n",
    "    # Fetch activations\n",
    "    print('## Fetching Activations')\n",
    "    targets = []\n",
    "    \n",
    "    for i, batch in enumerate(dataloader):\n",
    "        print('Processing Batch {}'.format(i))\n",
    "\n",
    "        if use_cuda:\n",
    "            batch = batch.cuda()\n",
    "            \n",
    "        _ = model(batch[0])\n",
    "\n",
    "        if len(batch) > 1:\n",
    "            activations['targets'].append(batch[1].detach().cpu().numpy())\n",
    "            \n",
    "    print('- activations fetched')\n",
    "    print()\n",
    "     \n",
    "    # Concetenate batch activations/targets and remove hooks\n",
    "    print('## Removing Hooks')\n",
    "    activations['targets'] = np.concatenate(activations['targets'])\n",
    "    \n",
    "    for layer_name in layers:\n",
    "        print('Remove Hook from Layer {}'.format(layer_name))\n",
    "        activations['activations'][layer_name] = np.concatenate(activations['activations'][layer_name])\n",
    "        handlers[layer_name].remove()\n",
    "        \n",
    "    print()\n",
    "    print(\"done!\")        \n",
    "    print()\n",
    "        \n",
    "    return activations\n",
    "\n",
    "\n",
    "class NearestNeighbor:\n",
    "\n",
    "    class BACKEND(enum.Enum):\n",
    "        FALCONN = 1\n",
    "        FAISS = 2\n",
    "\n",
    "    def __init__(self, backend, dimension, neighbors, number_bits, nb_tables=None):\n",
    "        assert backend in NearestNeighbor.BACKEND\n",
    "\n",
    "        self._NEIGHBORS = neighbors\n",
    "        self._BACKEND = backend\n",
    "\n",
    "        if self._BACKEND is NearestNeighbor.BACKEND.FALCONN:\n",
    "            self._init_falconn(dimension, number_bits, nb_tables)\n",
    "        elif self._BACKEND is NearestNeighbor.BACKEND.FAISS:\n",
    "            self._init_faiss(dimension)\n",
    "        else:\n",
    "            raise NotImplementedError\n",
    "\n",
    "    def _init_falconn(self, dimension, number_bits, nb_tables):\n",
    "        assert nb_tables >= self._NEIGHBORS\n",
    "\n",
    "        # LSH parameters\n",
    "        params_cp = falconn.LSHConstructionParameters()\n",
    "        params_cp.dimension = dimension\n",
    "        params_cp.lsh_family = falconn.LSHFamily.CrossPolytope\n",
    "        params_cp.distance_function = falconn.DistanceFunction.EuclideanSquared\n",
    "        params_cp.l = nb_tables\n",
    "        params_cp.num_rotations = 2  # for dense set it to 1; for sparse data set it to 2\n",
    "        params_cp.seed = 5721840\n",
    "        params_cp.num_setup_threads = 0  # we want to use all the available threads to set up\n",
    "        params_cp.storage_hash_table = falconn.StorageHashTable.BitPackedFlatHashTable\n",
    "\n",
    "        # we build number_bits-bit hashes so that each table has\n",
    "        # 2^number_bits bins; a rule of thumb is to have the number\n",
    "        # of bins be the same order of magnitude as the number of data points\n",
    "        falconn.compute_number_of_hash_functions(number_bits, params_cp)\n",
    "        self._falconn_table = falconn.LSHIndex(params_cp)\n",
    "        self._falconn_query_object = None\n",
    "        self._FALCONN_NB_TABLES = nb_tables\n",
    "\n",
    "    def _init_faiss(self, dimension):\n",
    "        res = faiss.StandardGpuResources()\n",
    "        self._faiss_index = faiss.GpuIndexFlatL2(res, dimension)\n",
    "\n",
    "    def add(self, x):\n",
    "        if self._BACKEND is NearestNeighbor.BACKEND.FALCONN:\n",
    "            self._falconn_table.setup(x)\n",
    "        elif self._BACKEND is NearestNeighbor.BACKEND.FAISS:\n",
    "            self._faiss_index.add(x)\n",
    "        else:\n",
    "            raise NotImplementedError\n",
    "\n",
    "    def find_knns(self, x, output):\n",
    "        if self._BACKEND is NearestNeighbor.BACKEND.FALCONN:\n",
    "            return self._find_knns_falconn(x, output)\n",
    "        elif self._BACKEND is NearestNeighbor.BACKEND.FAISS:\n",
    "            return self._find_knns_faiss(x, output)\n",
    "        else:\n",
    "            raise NotImplementedError\n",
    "\n",
    "    def _find_knns_falconn(self, x, output):\n",
    "        # Late falconn query_object construction\n",
    "        # Since I suppose there might be an error\n",
    "        # if table.setup() will be called after\n",
    "        if self._falconn_query_object is None:\n",
    "            self._falconn_query_object = self._falconn_table.construct_query_object()\n",
    "            self._falconn_query_object.set_num_probes(self._FALCONN_NB_TABLES)\n",
    "\n",
    "        missing_indices = np.zeros(output.shape, dtype=np.bool)\n",
    "\n",
    "        for i in range(x.shape[0]):\n",
    "            query_res = self._falconn_query_object.find_k_nearest_neighbors(x[i], self._NEIGHBORS)\n",
    "\n",
    "            try:\n",
    "                output[i, :] = query_res\n",
    "            except:\n",
    "                # mark missing indices\n",
    "                missing_indices[i, len(query_res):] = True\n",
    "                output[i, :len(query_res)] = query_res\n",
    "\n",
    "        return missing_indices\n",
    "\n",
    "    def _find_knns_faiss(self, x, output):\n",
    "        neighbor_distance, neighbor_index = self._faiss_index.search(x, self._NEIGHBORS)\n",
    "\n",
    "        missing_indices = neighbor_distance == -1\n",
    "        d1 = neighbor_index.reshape(-1)\n",
    "\n",
    "        output.reshape(-1)[np.logical_not(missing_indices.flatten())] = d1[np.logical_not(missing_indices.flatten())]\n",
    "\n",
    "        return missing_indices\n",
    "\n",
    "\n",
    "class DkNN:\n",
    "\n",
    "    def __init__(self, model, nb_classes, neighbors, layers, trainloader, nearest_neighbor_backend, nb_tables=200, number_bits=17):\n",
    "        \"\"\"\n",
    "        Implementation of the DkNN algorithm, see https://arxiv.org/abs/1803.04765 for more details\n",
    "        :param model: model to be used\n",
    "        :param nb_classes: the number of classes in the task\n",
    "        :param neighbors: number of neighbors to find per layer\n",
    "        :param layers: a list of layer names to include in the DkNN\n",
    "        :param trainloader: data loader for the training data\n",
    "        :param nearest_neighbor_backend: falconn or faiss to be used for LSH\n",
    "        :param nb_tables: number of tables used by FALCONN to perform locality-sensitive hashing.\n",
    "        :param number_bits: number of hash bits used by LSH.\n",
    "        \"\"\"\n",
    "        print('---------- DkNN init')\n",
    "        print()\n",
    "\n",
    "        self.model = model\n",
    "        self.nb_classes = nb_classes\n",
    "        self.neighbors = neighbors\n",
    "        self.layers = layers\n",
    "        self.backend = nearest_neighbor_backend\n",
    "        self.nb_tables = nb_tables\n",
    "        self.number_bits = number_bits\n",
    "\n",
    "        self.nb_cali = -1\n",
    "        self.calibrated = False   \n",
    "\n",
    "        # Compute training data activations\n",
    "        activations = get_activations(trainloader, model, layers)\n",
    "        self.train_activations = activations['activations']\n",
    "        self.train_labels = activations['targets']\n",
    "\n",
    "        # Build locality-sensitive hashing tables for training representations\n",
    "        self.train_activations_lsh = copy.copy(self.train_activations)\n",
    "        self.init_lsh()\n",
    "\n",
    "    def init_lsh(self):\n",
    "        \"\"\"\n",
    "        Initializes locality-sensitive hashing with FALCONN to find nearest neighbors in training data\n",
    "        \"\"\"\n",
    "        self.query_objects = {} # contains the object that can be queried to find nearest neighbors at each layer\n",
    "        self.centers = {} # mean of training data representation per layer (that needs to be substracted before NearestNeighbor)\n",
    "\n",
    "        print(\"## Constructing the NearestNeighbor tables\")\n",
    "\n",
    "        for layer in self.layers:\n",
    "            print(\"Constructing table for {}\".format(layer))\n",
    "\n",
    "            # Normalize all the lenghts, since we care about the cosine similarity\n",
    "            self.train_activations_lsh[layer] /= np.linalg.norm(self.train_activations_lsh[layer], axis=1).reshape(-1, 1)\n",
    "\n",
    "            # Center the dataset and the queries: this improves the performance of LSH quite a bit\n",
    "            center = np.mean(self.train_activations_lsh[layer], axis=0)\n",
    "            self.train_activations_lsh[layer] -= center\n",
    "            self.centers[layer] = center\n",
    "\n",
    "            # Constructing nearest neighbor table\n",
    "            self.query_objects[layer] = NearestNeighbor(\n",
    "                backend=self.backend,\n",
    "                dimension=self.train_activations_lsh[layer].shape[1],\n",
    "                number_bits=self.number_bits,\n",
    "                neighbors=self.neighbors,\n",
    "                nb_tables=self.nb_tables,\n",
    "            )\n",
    "\n",
    "            self.query_objects[layer].add(self.train_activations_lsh[layer])\n",
    "\n",
    "        print(\"done!\")\n",
    "        print()\n",
    "\n",
    "\n",
    "    def calibrate(self, calibloader):\n",
    "        \"\"\"\n",
    "        Runs the DkNN on holdout data to calibrate the credibility metric\n",
    "        :param calibloader: data loader for the calibration loader\n",
    "        \"\"\"\n",
    "        print('---------- DkNN calibrate')\n",
    "        print()\n",
    "\n",
    "        # Compute calibration data activations\n",
    "        self.nb_cali = len(calibloader.dataset)\n",
    "        activations = get_activations(calibloader, self.model, self.layers)\n",
    "        self.cali_activations = activations['activations']\n",
    "        self.cali_labels = activations['targets']\n",
    "\n",
    "        print(\"## Starting calibration of DkNN\")\n",
    "\n",
    "        cali_knns_ind, cali_knns_labels = self.find_train_knns(self.cali_activations)\n",
    "        assert all([v.shape == (self.nb_cali, self.neighbors) for v in cali_knns_ind.values()])\n",
    "        assert all([v.shape == (self.nb_cali, self.neighbors) for v in cali_knns_labels.values()])\n",
    "\n",
    "        cali_knns_not_in_class = self.nonconformity(cali_knns_labels)\n",
    "        cali_knns_not_in_l = np.zeros(self.nb_cali, dtype=np.int32)\n",
    "\n",
    "        for i in range(self.nb_cali):\n",
    "            cali_knns_not_in_l[i] = cali_knns_not_in_class[i, self.cali_labels[i]]\n",
    "\n",
    "        cali_knns_not_in_l_sorted = np.sort(cali_knns_not_in_l)\n",
    "        self.cali_nonconformity = np.trim_zeros(cali_knns_not_in_l_sorted, trim='f')\n",
    "        self.nb_cali = self.cali_nonconformity.shape[0]\n",
    "        self.calibrated = True\n",
    "\n",
    "        print(\"DkNN calibration complete\")\n",
    "\n",
    "    def find_train_knns(self, data_activations):\n",
    "        \"\"\"\n",
    "        Given a data_activation dictionary that contains a np array with activations for each layer,\n",
    "        find the knns in the training data\n",
    "        \"\"\"\n",
    "        knns_ind = {}\n",
    "        knns_labels = {}\n",
    "\n",
    "        for layer in self.layers:\n",
    "            # Pre-process representations of data to normalize and remove training data mean\n",
    "            data_activations_layer = copy.copy(data_activations[layer])\n",
    "            nb_data = data_activations_layer.shape[0]\n",
    "            data_activations_layer /= np.linalg.norm(data_activations_layer, axis=1).reshape(-1, 1)\n",
    "            data_activations_layer -= self.centers[layer]\n",
    "\n",
    "            # Use FALCONN to find indices of nearest neighbors in training data\n",
    "            knns_ind[layer] = np.zeros((data_activations_layer.shape[0], self.neighbors), dtype=np.int32)\n",
    "            knn_errors = 0\n",
    "\n",
    "            knn_missing_indices = self.query_objects[layer].find_knns(data_activations_layer, knns_ind[layer])\n",
    "            knn_errors += knn_missing_indices.flatten().sum()\n",
    "\n",
    "            # Find labels of neighbors found in the training data\n",
    "            knns_labels[layer] = np.zeros((nb_data, self.neighbors), dtype=np.int32)\n",
    "\n",
    "            knns_labels[layer].reshape(-1)[\n",
    "                np.logical_not(knn_missing_indices.flatten())\n",
    "            ] = self.train_labels[\n",
    "                knns_ind[layer].reshape(-1)[np.logical_not(knn_missing_indices.flatten())]                    \n",
    "            ]\n",
    "\n",
    "        return knns_ind, knns_labels\n",
    "\n",
    "    def nonconformity(self, knns_labels):\n",
    "        \"\"\"\n",
    "        Given an dictionary of nb_data x nb_classes dimension, compute the nonconformity of\n",
    "        each candidate label for each data point: i.e. the number of knns whose label is\n",
    "        different from the candidate label\n",
    "        \"\"\"\n",
    "        nb_data = knns_labels[list(self.layers.keys())[0]].shape[0]\n",
    "        knns_not_in_class = np.zeros((nb_data, self.nb_classes), dtype=np.int32)\n",
    "\n",
    "        for i in range(nb_data):\n",
    "            # Compute number of nearest neighbors per class\n",
    "            knns_in_class = np.zeros((len(self.layers), self.nb_classes), dtype=np.int32)\n",
    "\n",
    "            for layer_id, layer in enumerate(self.layers):\n",
    "                knns_in_class[layer_id, :] = np.bincount(knns_labels[layer][i], minlength=self.nb_classes)\n",
    "\n",
    "            # Compute number of knns in other class than class_id\n",
    "            for class_id in range(self.nb_classes):\n",
    "                knns_not_in_class[i, class_id] = np.sum(knns_in_class) - np.sum(knns_in_class[:, class_id])\n",
    "\n",
    "        return knns_not_in_class\n",
    "\n",
    "    def fprop(self, testloader):\n",
    "        \"\"\"\n",
    "        Performs a forward pass through the DkNN on an numpy array of data\n",
    "        \"\"\"\n",
    "        print('---------- DkNN predict')\n",
    "        print()\n",
    "\n",
    "        if not self.calibrated:\n",
    "            raise ValueError(\"DkNN needs to be calibrated by calling DkNNModel.calibrate method once before inferring\")\n",
    "\n",
    "        # Compute test data activations\n",
    "        activations = get_activations(testloader, self.model, self.layers)\n",
    "        data_activations = activations['activations']\n",
    "        \n",
    "        start_time = time.time()\n",
    "        _, knns_labels = self.find_train_knns(data_activations)\n",
    "        end_time = time.time()\n",
    "        \n",
    "        print('kNN search time: {}'.format(end_time - start_time))\n",
    "\n",
    "        # Calculate nonconformity\n",
    "        knns_not_in_class = self.nonconformity(knns_labels)\n",
    "        print('Nonconformity calculated')\n",
    "\n",
    "        # Create predictions, confidence and credibility\n",
    "        _, _, creds = self.preds_conf_cred(knns_not_in_class)\n",
    "        print('Predictions created')\n",
    "\n",
    "        return creds, activations['targets']\n",
    "\n",
    "    def preds_conf_cred(self, knns_not_in_class):\n",
    "        \"\"\"\n",
    "        Given an array of nb_data x nb_classes dimensions, use conformal prediction to compute\n",
    "        the DkNN's prediction, confidence and credibility\n",
    "        \"\"\"\n",
    "        nb_data = knns_not_in_class.shape[0]\n",
    "        preds_knn = np.zeros(nb_data, dtype=np.int32)\n",
    "        confs = np.zeros((nb_data, self.nb_classes), dtype=np.float32)\n",
    "        creds = np.zeros((nb_data, self.nb_classes), dtype=np.float32)\n",
    "\n",
    "        for i in range(nb_data):\n",
    "            # p-value of test input for each class\n",
    "            p_value = np.zeros(self.nb_classes, dtype=np.float32)\n",
    "\n",
    "            for class_id in range(self.nb_classes):\n",
    "                # p-value of (test point, candidate label)\n",
    "                p_value[class_id] = (float(self.nb_cali) - bisect_left(self.cali_nonconformity, knns_not_in_class[i, class_id])) / float(self.nb_cali)\n",
    "\n",
    "            preds_knn[i] = np.argmax(p_value)\n",
    "            confs[i, preds_knn[i]] = 1. - np.sort(p_value)[-2]\n",
    "            creds[i, preds_knn[i]] = p_value[preds_knn[i]]\n",
    "\n",
    "        return preds_knn, confs, creds\n",
    "\n",
    "\n",
    "def plot_reliability_diagram(confidence, labels):\n",
    "    \"\"\"\n",
    "    Takes in confidence values (e.g. output of softmax or DkNN confidences) for\n",
    "    predictions and correct labels for the data, plots a reliability diagram\n",
    "    :param confidence: nb_samples x nb_classes with confidence scores\n",
    "    :param labels: targets\n",
    "    \"\"\"\n",
    "    assert len(confidence.shape) == 2\n",
    "    assert len(labels.shape) == 1\n",
    "    assert confidence.shape[0] == labels.shape[0]\n",
    "\n",
    "    if confidence.max() <= 1.:\n",
    "        # confidence array is output of softmax\n",
    "        bins_start = [b / 10. for b in range(0, 10)]\n",
    "        bins_end = [b / 10. for b in range(1, 11)]\n",
    "        bins_center = [(b + .5) / 10. for b in range(0, 10)]\n",
    "        preds_conf = np.max(confidence, axis=1)\n",
    "        preds_l = np.argmax(confidence, axis=1)\n",
    "    else:\n",
    "        raise ValueError('Confidence values go above 1')\n",
    "\n",
    "    print(preds_conf.shape, preds_l.shape)\n",
    "\n",
    "    # Create var for reliability diagram (Will contain mean accuracies for each bin)\n",
    "    reliability_diag = []\n",
    "    num_points = []  # keeps the number of points in each bar\n",
    "\n",
    "    # Find average accuracy per confidence bin\n",
    "    for bin_start, bin_end in zip(bins_start, bins_end):\n",
    "        above = preds_conf >= bin_start\n",
    "\n",
    "        if bin_end == 1.:\n",
    "            below = preds_conf <= bin_end\n",
    "        else:\n",
    "            below = preds_conf < bin_end\n",
    "\n",
    "        mask = np.multiply(above, below)\n",
    "        num_points.append(np.sum(mask))\n",
    "\n",
    "        bin_mean_acc = max(0, np.mean(preds_l[mask] == labels[mask]))\n",
    "        reliability_diag.append(bin_mean_acc)\n",
    "\n",
    "    # Plot diagram\n",
    "    assert len(reliability_diag) == len(bins_center)\n",
    "    #print(reliability_diag)\n",
    "    #print(bins_center)\n",
    "    #print(num_points)\n",
    "\n",
    "    fig, ax1 = plt.subplots()\n",
    "    _ = ax1.bar(bins_center, reliability_diag, width=.1, alpha=0.8, edgecolor = \"black\")\n",
    "    plt.xlim([0, 1.])\n",
    "    ax1.set_ylim([0, 1.])\n",
    "\n",
    "    ax2 = ax1.twinx()\n",
    "\n",
    "    #print(sum(num_points))\n",
    "\n",
    "    ax2.plot(bins_center, num_points, color='r', linestyle='-', linewidth=7.0)\n",
    "    ax2.set_ylabel('Number of points in the data', fontsize=16, color='r')\n",
    "\n",
    "    if len(np.argwhere(confidence[0] != 0.)) == 1:\n",
    "        # This is a DkNN diagram\n",
    "        ax1.set_xlabel('Prediction Credibility', fontsize=16)\n",
    "    else:\n",
    "        # This is a softmax diagram\n",
    "        ax1.set_xlabel('Prediction Confidence', fontsize=16)\n",
    "\n",
    "    ax1.set_ylabel('Prediction Accuracy', fontsize=16)\n",
    "    ax1.tick_params(axis='both', labelsize=14)\n",
    "    ax2.tick_params(axis='both', labelsize=14, colors='r')\n",
    "    fig.tight_layout()\n",
    "    plt.show()"
   ]
  },
  {
   "cell_type": "code",
   "execution_count": 27,
   "metadata": {
    "colab": {
     "base_uri": "https://localhost:8080/",
     "height": 1000
    },
    "colab_type": "code",
    "id": "zX8Op544r4Wu",
    "outputId": "8a2ed2f3-e712-4bb6-e91a-c3e51d7a0000",
    "scrolled": true
   },
   "outputs": [
    {
     "name": "stdout",
     "output_type": "stream",
     "text": [
      "---------- DkNN init\n",
      "\n",
      "## Registering Hooks\n",
      "Register Hook for Layer relu1\n",
      "Register Hook for Layer relu2\n",
      "Register Hook for Layer relu3\n",
      "Register Hook for Layer fc\n",
      "\n",
      "## Fetching Activations\n",
      "Processing Batch 0\n",
      "Processing Batch 1\n",
      "Processing Batch 2\n",
      "Processing Batch 3\n",
      "Processing Batch 4\n",
      "Processing Batch 5\n",
      "Processing Batch 6\n",
      "Processing Batch 7\n",
      "Processing Batch 8\n",
      "Processing Batch 9\n",
      "Processing Batch 10\n",
      "Processing Batch 11\n",
      "Processing Batch 12\n",
      "Processing Batch 13\n",
      "Processing Batch 14\n",
      "Processing Batch 15\n",
      "Processing Batch 16\n",
      "Processing Batch 17\n",
      "Processing Batch 18\n",
      "Processing Batch 19\n",
      "Processing Batch 20\n",
      "Processing Batch 21\n",
      "Processing Batch 22\n",
      "Processing Batch 23\n",
      "Processing Batch 24\n",
      "Processing Batch 25\n",
      "Processing Batch 26\n",
      "Processing Batch 27\n",
      "Processing Batch 28\n",
      "Processing Batch 29\n",
      "Processing Batch 30\n",
      "Processing Batch 31\n",
      "Processing Batch 32\n",
      "Processing Batch 33\n",
      "Processing Batch 34\n",
      "Processing Batch 35\n",
      "Processing Batch 36\n",
      "Processing Batch 37\n",
      "Processing Batch 38\n",
      "Processing Batch 39\n",
      "Processing Batch 40\n",
      "Processing Batch 41\n",
      "Processing Batch 42\n",
      "Processing Batch 43\n",
      "Processing Batch 44\n",
      "Processing Batch 45\n",
      "Processing Batch 46\n",
      "Processing Batch 47\n",
      "Processing Batch 48\n",
      "Processing Batch 49\n",
      "Processing Batch 50\n",
      "Processing Batch 51\n",
      "Processing Batch 52\n",
      "Processing Batch 53\n",
      "Processing Batch 54\n",
      "Processing Batch 55\n",
      "Processing Batch 56\n",
      "Processing Batch 57\n",
      "Processing Batch 58\n",
      "Processing Batch 59\n",
      "Processing Batch 60\n",
      "Processing Batch 61\n",
      "Processing Batch 62\n",
      "Processing Batch 63\n",
      "Processing Batch 64\n",
      "Processing Batch 65\n",
      "Processing Batch 66\n",
      "Processing Batch 67\n",
      "Processing Batch 68\n",
      "Processing Batch 69\n",
      "Processing Batch 70\n",
      "Processing Batch 71\n",
      "Processing Batch 72\n",
      "Processing Batch 73\n",
      "Processing Batch 74\n",
      "Processing Batch 75\n",
      "Processing Batch 76\n",
      "Processing Batch 77\n",
      "Processing Batch 78\n",
      "Processing Batch 79\n",
      "Processing Batch 80\n",
      "Processing Batch 81\n",
      "Processing Batch 82\n",
      "Processing Batch 83\n",
      "Processing Batch 84\n",
      "Processing Batch 85\n",
      "Processing Batch 86\n",
      "Processing Batch 87\n",
      "Processing Batch 88\n",
      "Processing Batch 89\n",
      "Processing Batch 90\n",
      "Processing Batch 91\n",
      "Processing Batch 92\n",
      "Processing Batch 93\n",
      "Processing Batch 94\n",
      "Processing Batch 95\n",
      "Processing Batch 96\n",
      "Processing Batch 97\n",
      "Processing Batch 98\n",
      "Processing Batch 99\n",
      "Processing Batch 100\n",
      "Processing Batch 101\n",
      "Processing Batch 102\n",
      "Processing Batch 103\n",
      "Processing Batch 104\n",
      "Processing Batch 105\n",
      "Processing Batch 106\n",
      "Processing Batch 107\n",
      "Processing Batch 108\n",
      "Processing Batch 109\n",
      "Processing Batch 110\n",
      "Processing Batch 111\n",
      "Processing Batch 112\n",
      "Processing Batch 113\n",
      "Processing Batch 114\n",
      "Processing Batch 115\n",
      "Processing Batch 116\n",
      "Processing Batch 117\n",
      "Processing Batch 118\n",
      "Processing Batch 119\n",
      "- activations fetched\n",
      "\n",
      "## Removing Hooks\n",
      "Remove Hook from Layer relu1\n",
      "Remove Hook from Layer relu2\n",
      "Remove Hook from Layer relu3\n",
      "Remove Hook from Layer fc\n",
      "\n",
      "done!\n",
      "\n",
      "## Constructing the NearestNeighbor tables\n",
      "Constructing table for relu1\n",
      "Constructing table for relu2\n",
      "Constructing table for relu3\n",
      "Constructing table for fc\n",
      "done!\n",
      "\n"
     ]
    }
   ],
   "source": [
    "# Initialize DkNN\n",
    "dknn = DkNN(model, num_classes, neighbors, layers, trainloader_dknn, NearestNeighbor.BACKEND.FALCONN)"
   ]
  },
  {
   "cell_type": "code",
   "execution_count": 28,
   "metadata": {
    "colab": {
     "base_uri": "https://localhost:8080/",
     "height": 357
    },
    "colab_type": "code",
    "id": "r4lBatc9sX7V",
    "outputId": "ba0ab968-24b1-48a9-a7a7-bef0fb746582",
    "scrolled": true
   },
   "outputs": [
    {
     "name": "stdout",
     "output_type": "stream",
     "text": [
      "---------- DkNN calibrate\n",
      "\n",
      "## Registering Hooks\n",
      "Register Hook for Layer relu1\n",
      "Register Hook for Layer relu2\n",
      "Register Hook for Layer relu3\n",
      "Register Hook for Layer fc\n",
      "\n",
      "## Fetching Activations\n",
      "Processing Batch 0\n",
      "- activations fetched\n",
      "\n",
      "## Removing Hooks\n",
      "Remove Hook from Layer relu1\n",
      "Remove Hook from Layer relu2\n",
      "Remove Hook from Layer relu3\n",
      "Remove Hook from Layer fc\n",
      "\n",
      "done!\n",
      "\n",
      "## Starting calibration of DkNN\n",
      "DkNN calibration complete\n"
     ]
    }
   ],
   "source": [
    "dknn.calibrate(calibloader)"
   ]
  },
  {
   "cell_type": "markdown",
   "metadata": {},
   "source": [
    "## Get Testset Credibility"
   ]
  },
  {
   "cell_type": "markdown",
   "metadata": {},
   "source": [
    "### Testset"
   ]
  },
  {
   "cell_type": "code",
   "execution_count": 29,
   "metadata": {
    "colab": {
     "base_uri": "https://localhost:8080/",
     "height": 1000
    },
    "colab_type": "code",
    "id": "IkaYDbNXO-UT",
    "outputId": "623c42e8-e127-4fc4-b250-f357f7aba58f",
    "scrolled": true
   },
   "outputs": [
    {
     "name": "stdout",
     "output_type": "stream",
     "text": [
      "---------- DkNN predict\n",
      "\n",
      "## Registering Hooks\n",
      "Register Hook for Layer relu1\n",
      "Register Hook for Layer relu2\n",
      "Register Hook for Layer relu3\n",
      "Register Hook for Layer fc\n",
      "\n",
      "## Fetching Activations\n",
      "Processing Batch 0\n",
      "Processing Batch 1\n",
      "Processing Batch 2\n",
      "Processing Batch 3\n",
      "Processing Batch 4\n",
      "Processing Batch 5\n",
      "Processing Batch 6\n",
      "Processing Batch 7\n",
      "Processing Batch 8\n",
      "Processing Batch 9\n",
      "- activations fetched\n",
      "\n",
      "## Removing Hooks\n",
      "Remove Hook from Layer relu1\n",
      "Remove Hook from Layer relu2\n",
      "Remove Hook from Layer relu3\n",
      "Remove Hook from Layer fc\n",
      "\n",
      "done!\n",
      "\n",
      "kNN search time: 310.25362396240234\n",
      "Nonconformity calculated\n",
      "Predictions created\n"
     ]
    }
   ],
   "source": [
    "start_credib = time.time()\n",
    "\n",
    "dknn_preds_testset, test_targets = dknn.fprop(testloader)\n",
    "\n",
    "end_credib = time.time()"
   ]
  },
  {
   "cell_type": "code",
   "execution_count": 30,
   "metadata": {},
   "outputs": [
    {
     "name": "stdout",
     "output_type": "stream",
     "text": [
      "---------------------------------------------\n",
      "preds:   (9250, 10)\n",
      "targets: (9250,)\n"
     ]
    }
   ],
   "source": [
    "print('---------------------------------------------')\n",
    "print('preds:   {}'.format(dknn_preds_testset.shape))\n",
    "print('targets: {}'.format(test_targets.shape))"
   ]
  },
  {
   "cell_type": "code",
   "execution_count": 31,
   "metadata": {},
   "outputs": [],
   "source": [
    "test_credibs = list(np.max(dknn_preds_testset, axis=1))"
   ]
  },
  {
   "cell_type": "code",
   "execution_count": 32,
   "metadata": {},
   "outputs": [
    {
     "name": "stdout",
     "output_type": "stream",
     "text": [
      "0.7988610641891892\n"
     ]
    }
   ],
   "source": [
    "num_samples = len(test_credibs)\n",
    "total_credib = np.sum(np.array(test_credibs)) / num_samples\n",
    "print(total_credib)"
   ]
  },
  {
   "cell_type": "code",
   "execution_count": 33,
   "metadata": {},
   "outputs": [
    {
     "data": {
      "image/png": "[encoded data removed]",
      "text/plain": [
       "<Figure size 432x288 with 1 Axes>"
      ]
     },
     "metadata": {
      "needs_background": "light"
     },
     "output_type": "display_data"
    }
   ],
   "source": [
    "plt.hist(test_credibs, bins=[0.0, 0.1, 0.2, 0.3, 0.4, 0.5, 0.6, 0.7, 0.8, 0.9, 1.0]);"
   ]
  },
  {
   "cell_type": "code",
   "execution_count": 34,
   "metadata": {},
   "outputs": [
    {
     "name": "stdout",
     "output_type": "stream",
     "text": [
      "(9250,) (9250,)\n"
     ]
    },
    {
     "data": {
      "image/png": "[encoded data removed]",
      "text/plain": [
       "<Figure size 432x288 with 2 Axes>"
      ]
     },
     "metadata": {
      "needs_background": "light"
     },
     "output_type": "display_data"
    }
   ],
   "source": [
    "with warnings.catch_warnings():\n",
    "    warnings.simplefilter(\"ignore\", category=RuntimeWarning)\n",
    "    plot_reliability_diagram(dknn_preds_testset, test_targets)"
   ]
  },
  {
   "cell_type": "code",
   "execution_count": 35,
   "metadata": {},
   "outputs": [
    {
     "name": "stdout",
     "output_type": "stream",
     "text": [
      "total: 314.665354013443\n"
     ]
    }
   ],
   "source": [
    "time_total = end_credib - start_credib\n",
    "print('total: {}'.format(time_total))"
   ]
  },
  {
   "cell_type": "markdown",
   "metadata": {},
   "source": [
    "### NOOD Testset"
   ]
  },
  {
   "cell_type": "code",
   "execution_count": 36,
   "metadata": {
    "colab": {
     "base_uri": "https://localhost:8080/",
     "height": 1000
    },
    "colab_type": "code",
    "id": "IkaYDbNXO-UT",
    "outputId": "623c42e8-e127-4fc4-b250-f357f7aba58f",
    "scrolled": true
   },
   "outputs": [
    {
     "name": "stdout",
     "output_type": "stream",
     "text": [
      "---------- DkNN predict\n",
      "\n",
      "## Registering Hooks\n",
      "Register Hook for Layer relu1\n",
      "Register Hook for Layer relu2\n",
      "Register Hook for Layer relu3\n",
      "Register Hook for Layer fc\n",
      "\n",
      "## Fetching Activations\n",
      "Processing Batch 0\n",
      "Processing Batch 1\n",
      "Processing Batch 2\n",
      "Processing Batch 3\n",
      "Processing Batch 4\n",
      "Processing Batch 5\n",
      "Processing Batch 6\n",
      "Processing Batch 7\n",
      "Processing Batch 8\n",
      "Processing Batch 9\n",
      "- activations fetched\n",
      "\n",
      "## Removing Hooks\n",
      "Remove Hook from Layer relu1\n",
      "Remove Hook from Layer relu2\n",
      "Remove Hook from Layer relu3\n",
      "Remove Hook from Layer fc\n",
      "\n",
      "done!\n",
      "\n",
      "kNN search time: 262.5916097164154\n",
      "Nonconformity calculated\n",
      "Predictions created\n"
     ]
    }
   ],
   "source": [
    "nood_start_credib = time.time()\n",
    "\n",
    "nood_dknn_preds_testset, nood_test_targets = dknn.fprop(nood_testloader)\n",
    "\n",
    "nood_end_credib = time.time()"
   ]
  },
  {
   "cell_type": "code",
   "execution_count": 37,
   "metadata": {},
   "outputs": [
    {
     "name": "stdout",
     "output_type": "stream",
     "text": [
      "---------------------------------------------\n",
      "preds:   (10000, 10)\n",
      "targets: (10000,)\n"
     ]
    }
   ],
   "source": [
    "print('---------------------------------------------')\n",
    "print('preds:   {}'.format(nood_dknn_preds_testset.shape))\n",
    "print('targets: {}'.format(nood_test_targets.shape))"
   ]
  },
  {
   "cell_type": "code",
   "execution_count": 38,
   "metadata": {},
   "outputs": [],
   "source": [
    "nood_test_credibs = list(np.max(nood_dknn_preds_testset, axis=1))"
   ]
  },
  {
   "cell_type": "code",
   "execution_count": 39,
   "metadata": {},
   "outputs": [
    {
     "name": "stdout",
     "output_type": "stream",
     "text": [
      "0.08068990478515625\n"
     ]
    }
   ],
   "source": [
    "nood_num_samples = len(nood_test_credibs)\n",
    "nood_total_credib = np.sum(np.array(nood_test_credibs)) / nood_num_samples\n",
    "print(nood_total_credib)"
   ]
  },
  {
   "cell_type": "code",
   "execution_count": 40,
   "metadata": {},
   "outputs": [
    {
     "data": {
      "image/png": "[encoded data removed]",
      "text/plain": [
       "<Figure size 432x288 with 1 Axes>"
      ]
     },
     "metadata": {
      "needs_background": "light"
     },
     "output_type": "display_data"
    }
   ],
   "source": [
    "plt.hist(nood_test_credibs, bins=[0.0, 0.1, 0.2, 0.3, 0.4, 0.5, 0.6, 0.7, 0.8, 0.9, 1.0]);"
   ]
  },
  {
   "cell_type": "code",
   "execution_count": 41,
   "metadata": {},
   "outputs": [
    {
     "name": "stdout",
     "output_type": "stream",
     "text": [
      "(10000,) (10000,)\n"
     ]
    },
    {
     "data": {
      "image/png": "[encoded data removed]",
      "text/plain": [
       "<Figure size 432x288 with 2 Axes>"
      ]
     },
     "metadata": {
      "needs_background": "light"
     },
     "output_type": "display_data"
    }
   ],
   "source": [
    "with warnings.catch_warnings():\n",
    "    warnings.simplefilter(\"ignore\", category=RuntimeWarning)\n",
    "    plot_reliability_diagram(nood_dknn_preds_testset, nood_test_targets)"
   ]
  },
  {
   "cell_type": "code",
   "execution_count": 42,
   "metadata": {},
   "outputs": [
    {
     "name": "stdout",
     "output_type": "stream",
     "text": [
      "total: 267.19025707244873\n"
     ]
    }
   ],
   "source": [
    "nood_time_total = nood_end_credib - nood_start_credib\n",
    "print('total: {}'.format(nood_time_total))"
   ]
  },
  {
   "cell_type": "markdown",
   "metadata": {},
   "source": [
    "### FGSM"
   ]
  },
  {
   "cell_type": "code",
   "execution_count": 43,
   "metadata": {
    "colab": {
     "base_uri": "https://localhost:8080/",
     "height": 1000
    },
    "colab_type": "code",
    "id": "IkaYDbNXO-UT",
    "outputId": "623c42e8-e127-4fc4-b250-f357f7aba58f",
    "scrolled": true
   },
   "outputs": [
    {
     "name": "stdout",
     "output_type": "stream",
     "text": [
      "---------- DkNN predict\n",
      "\n",
      "## Registering Hooks\n",
      "Register Hook for Layer relu1\n",
      "Register Hook for Layer relu2\n",
      "Register Hook for Layer relu3\n",
      "Register Hook for Layer fc\n",
      "\n",
      "## Fetching Activations\n",
      "Processing Batch 0\n",
      "Processing Batch 1\n",
      "Processing Batch 2\n",
      "Processing Batch 3\n",
      "Processing Batch 4\n",
      "Processing Batch 5\n",
      "Processing Batch 6\n",
      "Processing Batch 7\n",
      "Processing Batch 8\n",
      "Processing Batch 9\n",
      "- activations fetched\n",
      "\n",
      "## Removing Hooks\n",
      "Remove Hook from Layer relu1\n",
      "Remove Hook from Layer relu2\n",
      "Remove Hook from Layer relu3\n",
      "Remove Hook from Layer fc\n",
      "\n",
      "done!\n",
      "\n",
      "kNN search time: 303.40055108070374\n",
      "Nonconformity calculated\n",
      "Predictions created\n"
     ]
    }
   ],
   "source": [
    "fgsm_start_credib = time.time()\n",
    "\n",
    "fgsm_dknn_preds_testset, fgsm_test_targets = dknn.fprop(fgsm_testloader)\n",
    "\n",
    "fgsm_end_credib = time.time()"
   ]
  },
  {
   "cell_type": "code",
   "execution_count": 44,
   "metadata": {},
   "outputs": [
    {
     "name": "stdout",
     "output_type": "stream",
     "text": [
      "---------------------------------------------\n",
      "preds:   (10000, 10)\n",
      "targets: (10000,)\n"
     ]
    }
   ],
   "source": [
    "print('---------------------------------------------')\n",
    "print('preds:   {}'.format(fgsm_dknn_preds_testset.shape))\n",
    "print('targets: {}'.format(fgsm_test_targets.shape))"
   ]
  },
  {
   "cell_type": "code",
   "execution_count": 45,
   "metadata": {},
   "outputs": [],
   "source": [
    "fgsm_test_credibs = list(np.max(fgsm_dknn_preds_testset, axis=1))"
   ]
  },
  {
   "cell_type": "code",
   "execution_count": 46,
   "metadata": {},
   "outputs": [
    {
     "name": "stdout",
     "output_type": "stream",
     "text": [
      "0.135615283203125\n"
     ]
    }
   ],
   "source": [
    "fgsm_num_samples = len(fgsm_test_credibs)\n",
    "fgsm_total_credib = np.sum(np.array(fgsm_test_credibs)) / fgsm_num_samples\n",
    "print(fgsm_total_credib)"
   ]
  },
  {
   "cell_type": "code",
   "execution_count": 47,
   "metadata": {},
   "outputs": [
    {
     "data": {
      "image/png": "[encoded data removed]",
      "text/plain": [
       "<Figure size 432x288 with 1 Axes>"
      ]
     },
     "metadata": {
      "needs_background": "light"
     },
     "output_type": "display_data"
    }
   ],
   "source": [
    "plt.hist(fgsm_test_credibs, bins=[0.0, 0.1, 0.2, 0.3, 0.4, 0.5, 0.6, 0.7, 0.8, 0.9, 1.0]);"
   ]
  },
  {
   "cell_type": "code",
   "execution_count": 48,
   "metadata": {},
   "outputs": [
    {
     "name": "stdout",
     "output_type": "stream",
     "text": [
      "(10000,) (10000,)\n"
     ]
    },
    {
     "data": {
      "image/png": "[encoded data removed]",
      "text/plain": [
       "<Figure size 432x288 with 2 Axes>"
      ]
     },
     "metadata": {
      "needs_background": "light"
     },
     "output_type": "display_data"
    }
   ],
   "source": [
    "with warnings.catch_warnings():\n",
    "    warnings.simplefilter(\"ignore\", category=RuntimeWarning)\n",
    "    plot_reliability_diagram(fgsm_dknn_preds_testset, fgsm_test_targets)"
   ]
  },
  {
   "cell_type": "code",
   "execution_count": 49,
   "metadata": {},
   "outputs": [
    {
     "name": "stdout",
     "output_type": "stream",
     "text": [
      "total: 308.0220580101013\n"
     ]
    }
   ],
   "source": [
    "fgsm_time_total = fgsm_end_credib - fgsm_start_credib\n",
    "print('total: {}'.format(fgsm_time_total))"
   ]
  },
  {
   "cell_type": "markdown",
   "metadata": {},
   "source": [
    "### BIM"
   ]
  },
  {
   "cell_type": "code",
   "execution_count": 50,
   "metadata": {
    "colab": {
     "base_uri": "https://localhost:8080/",
     "height": 1000
    },
    "colab_type": "code",
    "id": "IkaYDbNXO-UT",
    "outputId": "623c42e8-e127-4fc4-b250-f357f7aba58f",
    "scrolled": true
   },
   "outputs": [
    {
     "name": "stdout",
     "output_type": "stream",
     "text": [
      "---------- DkNN predict\n",
      "\n",
      "## Registering Hooks\n",
      "Register Hook for Layer relu1\n",
      "Register Hook for Layer relu2\n",
      "Register Hook for Layer relu3\n",
      "Register Hook for Layer fc\n",
      "\n",
      "## Fetching Activations\n",
      "Processing Batch 0\n",
      "Processing Batch 1\n",
      "Processing Batch 2\n",
      "Processing Batch 3\n",
      "Processing Batch 4\n",
      "Processing Batch 5\n",
      "Processing Batch 6\n",
      "Processing Batch 7\n",
      "Processing Batch 8\n",
      "Processing Batch 9\n",
      "- activations fetched\n",
      "\n",
      "## Removing Hooks\n",
      "Remove Hook from Layer relu1\n",
      "Remove Hook from Layer relu2\n",
      "Remove Hook from Layer relu3\n",
      "Remove Hook from Layer fc\n",
      "\n",
      "done!\n",
      "\n",
      "kNN search time: 297.65092301368713\n",
      "Nonconformity calculated\n",
      "Predictions created\n"
     ]
    }
   ],
   "source": [
    "bim_start_credib = time.time()\n",
    "\n",
    "bim_dknn_preds_testset, bim_test_targets = dknn.fprop(bim_testloader)\n",
    "\n",
    "bim_end_credib = time.time()"
   ]
  },
  {
   "cell_type": "code",
   "execution_count": 51,
   "metadata": {},
   "outputs": [
    {
     "name": "stdout",
     "output_type": "stream",
     "text": [
      "---------------------------------------------\n",
      "preds:   (10000, 10)\n",
      "targets: (10000,)\n"
     ]
    }
   ],
   "source": [
    "print('---------------------------------------------')\n",
    "print('preds:   {}'.format(bim_dknn_preds_testset.shape))\n",
    "print('targets: {}'.format(bim_test_targets.shape))"
   ]
  },
  {
   "cell_type": "code",
   "execution_count": 52,
   "metadata": {},
   "outputs": [],
   "source": [
    "bim_test_credibs = list(np.max(bim_dknn_preds_testset, axis=1))"
   ]
  },
  {
   "cell_type": "code",
   "execution_count": 53,
   "metadata": {},
   "outputs": [
    {
     "name": "stdout",
     "output_type": "stream",
     "text": [
      "0.08512691040039062\n"
     ]
    }
   ],
   "source": [
    "bim_num_samples = len(bim_test_credibs)\n",
    "bim_total_credib = np.sum(np.array(bim_test_credibs)) / bim_num_samples\n",
    "print(bim_total_credib)"
   ]
  },
  {
   "cell_type": "code",
   "execution_count": 54,
   "metadata": {},
   "outputs": [
    {
     "data": {
      "image/png": "[encoded data removed]",
      "text/plain": [
       "<Figure size 432x288 with 1 Axes>"
      ]
     },
     "metadata": {
      "needs_background": "light"
     },
     "output_type": "display_data"
    }
   ],
   "source": [
    "plt.hist(bim_test_credibs, bins=[0.0, 0.1, 0.2, 0.3, 0.4, 0.5, 0.6, 0.7, 0.8, 0.9, 1.0]);"
   ]
  },
  {
   "cell_type": "code",
   "execution_count": 55,
   "metadata": {},
   "outputs": [
    {
     "name": "stdout",
     "output_type": "stream",
     "text": [
      "(10000,) (10000,)\n"
     ]
    },
    {
     "data": {
      "image/png": "[encoded data removed]",
      "text/plain": [
       "<Figure size 432x288 with 2 Axes>"
      ]
     },
     "metadata": {
      "needs_background": "light"
     },
     "output_type": "display_data"
    }
   ],
   "source": [
    "with warnings.catch_warnings():\n",
    "    warnings.simplefilter(\"ignore\", category=RuntimeWarning)\n",
    "    plot_reliability_diagram(bim_dknn_preds_testset, bim_test_targets)"
   ]
  },
  {
   "cell_type": "code",
   "execution_count": 56,
   "metadata": {},
   "outputs": [
    {
     "name": "stdout",
     "output_type": "stream",
     "text": [
      "total: 303.04779410362244\n"
     ]
    }
   ],
   "source": [
    "bim_time_total = bim_end_credib - bim_start_credib\n",
    "print('total: {}'.format(bim_time_total))"
   ]
  },
  {
   "cell_type": "markdown",
   "metadata": {},
   "source": [
    "### PGD"
   ]
  },
  {
   "cell_type": "code",
   "execution_count": 57,
   "metadata": {
    "colab": {
     "base_uri": "https://localhost:8080/",
     "height": 1000
    },
    "colab_type": "code",
    "id": "IkaYDbNXO-UT",
    "outputId": "623c42e8-e127-4fc4-b250-f357f7aba58f",
    "scrolled": true
   },
   "outputs": [
    {
     "name": "stdout",
     "output_type": "stream",
     "text": [
      "---------- DkNN predict\n",
      "\n",
      "## Registering Hooks\n",
      "Register Hook for Layer relu1\n",
      "Register Hook for Layer relu2\n",
      "Register Hook for Layer relu3\n",
      "Register Hook for Layer fc\n",
      "\n",
      "## Fetching Activations\n",
      "Processing Batch 0\n",
      "Processing Batch 1\n",
      "Processing Batch 2\n",
      "Processing Batch 3\n",
      "Processing Batch 4\n",
      "Processing Batch 5\n",
      "Processing Batch 6\n",
      "Processing Batch 7\n",
      "Processing Batch 8\n",
      "Processing Batch 9\n",
      "- activations fetched\n",
      "\n",
      "## Removing Hooks\n",
      "Remove Hook from Layer relu1\n",
      "Remove Hook from Layer relu2\n",
      "Remove Hook from Layer relu3\n",
      "Remove Hook from Layer fc\n",
      "\n",
      "done!\n",
      "\n",
      "kNN search time: 316.1127619743347\n",
      "Nonconformity calculated\n",
      "Predictions created\n"
     ]
    }
   ],
   "source": [
    "pgd_start_credib = time.time()\n",
    "\n",
    "pgd_dknn_preds_testset, pgd_test_targets = dknn.fprop(pgd_testloader)\n",
    "\n",
    "pgd_end_credib = time.time()"
   ]
  },
  {
   "cell_type": "code",
   "execution_count": 58,
   "metadata": {},
   "outputs": [
    {
     "name": "stdout",
     "output_type": "stream",
     "text": [
      "---------------------------------------------\n",
      "preds:   (10000, 10)\n",
      "targets: (10000,)\n"
     ]
    }
   ],
   "source": [
    "print('---------------------------------------------')\n",
    "print('preds:   {}'.format(pgd_dknn_preds_testset.shape))\n",
    "print('targets: {}'.format(pgd_test_targets.shape))"
   ]
  },
  {
   "cell_type": "code",
   "execution_count": 59,
   "metadata": {},
   "outputs": [],
   "source": [
    "pgd_test_credibs = list(np.max(pgd_dknn_preds_testset, axis=1))"
   ]
  },
  {
   "cell_type": "code",
   "execution_count": 60,
   "metadata": {},
   "outputs": [
    {
     "name": "stdout",
     "output_type": "stream",
     "text": [
      "0.08725780029296876\n"
     ]
    }
   ],
   "source": [
    "pgd_num_samples = len(pgd_test_credibs)\n",
    "pgd_total_credib = np.sum(np.array(pgd_test_credibs)) / pgd_num_samples\n",
    "print(pgd_total_credib)"
   ]
  },
  {
   "cell_type": "code",
   "execution_count": 61,
   "metadata": {},
   "outputs": [
    {
     "data": {
      "image/png": "[encoded data removed]",
      "text/plain": [
       "<Figure size 432x288 with 1 Axes>"
      ]
     },
     "metadata": {
      "needs_background": "light"
     },
     "output_type": "display_data"
    }
   ],
   "source": [
    "plt.hist(pgd_test_credibs, bins=[0.0, 0.1, 0.2, 0.3, 0.4, 0.5, 0.6, 0.7, 0.8, 0.9, 1.0]);"
   ]
  },
  {
   "cell_type": "code",
   "execution_count": 62,
   "metadata": {},
   "outputs": [
    {
     "name": "stdout",
     "output_type": "stream",
     "text": [
      "(10000,) (10000,)\n"
     ]
    },
    {
     "data": {
      "image/png": "[encoded data removed]",
      "text/plain": [
       "<Figure size 432x288 with 2 Axes>"
      ]
     },
     "metadata": {
      "needs_background": "light"
     },
     "output_type": "display_data"
    }
   ],
   "source": [
    "with warnings.catch_warnings():\n",
    "    warnings.simplefilter(\"ignore\", category=RuntimeWarning)\n",
    "    plot_reliability_diagram(pgd_dknn_preds_testset, pgd_test_targets)"
   ]
  },
  {
   "cell_type": "code",
   "execution_count": 63,
   "metadata": {},
   "outputs": [
    {
     "name": "stdout",
     "output_type": "stream",
     "text": [
      "total: 321.5986168384552\n"
     ]
    }
   ],
   "source": [
    "pgd_time_total = pgd_end_credib - pgd_start_credib\n",
    "print('total: {}'.format(pgd_time_total))"
   ]
  },
  {
   "cell_type": "code",
   "execution_count": null,
   "metadata": {
    "colab": {},
    "colab_type": "code",
    "id": "Mn16mBzdEnfk"
   },
   "outputs": [],
   "source": []
  }
 ],
 "metadata": {
  "colab": {
   "collapsed_sections": [],
   "name": "dknn.ipynb",
   "provenance": []
  },
  "kernelspec": {
   "display_name": "Python 3",
   "language": "python",
   "name": "python3"
  },
  "language_info": {
   "codemirror_mode": {
    "name": "ipython",
    "version": 3
   },
   "file_extension": ".py",
   "mimetype": "text/x-python",
   "name": "python",
   "nbconvert_exporter": "python",
   "pygments_lexer": "ipython3",
   "version": "3.6.9"
  }
 },
 "nbformat": 4,
 "nbformat_minor": 1
}
