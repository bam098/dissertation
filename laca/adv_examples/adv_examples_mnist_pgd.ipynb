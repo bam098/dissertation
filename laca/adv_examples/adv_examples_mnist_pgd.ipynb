{
 "cells": [
  {
   "cell_type": "markdown",
   "metadata": {},
   "source": [
    "# Adversarial Example Creation - PGD (MNIST)"
   ]
  },
  {
   "cell_type": "code",
   "execution_count": 1,
   "metadata": {},
   "outputs": [
    {
     "name": "stdout",
     "output_type": "stream",
     "text": [
      "python version:      3.6.9\n",
      "torch version:       1.7.0\n",
      "torchvision version: 0.8.1\n",
      "torchattacks:        2.13.2\n",
      "sklearn version:     0.23.2\n",
      "skimage version:     0.17.2\n",
      "numpy version:       1.19.5\n",
      "matplotlib version:  3.2.2\n",
      "seaborn version:     0.11.0\n",
      "pandas version:      1.1.4\n",
      "pickle version:      4.0\n",
      "CUDA available:      False\n",
      "cuDNN enabled:       True\n",
      "num gpus:            0\n"
     ]
    }
   ],
   "source": [
    "%reload_ext autoreload\n",
    "%autoreload 2\n",
    "%matplotlib inline\n",
    "\n",
    "# BUG FIX, see: https://github.com/pytorch/vision/issues/1938\n",
    "from six.moves import urllib\n",
    "opener = urllib.request.build_opener()\n",
    "opener.addheaders = [('User-agent', 'Mozilla/5.0')]\n",
    "urllib.request.install_opener(opener)\n",
    "\n",
    "# Load libs\n",
    "import torch\n",
    "import torch.nn as nn\n",
    "from torch.nn.functional import adaptive_avg_pool2d\n",
    "from torch.utils.data import TensorDataset\n",
    "import torchvision\n",
    "from torchvision import transforms\n",
    "import torchattacks\n",
    "import sklearn\n",
    "from sklearn import preprocessing\n",
    "from sklearn.decomposition import PCA\n",
    "from sklearn.cluster import KMeans\n",
    "from sklearn import metrics\n",
    "import skimage\n",
    "from skimage.measure import block_reduce\n",
    "from umap import UMAP\n",
    "import matplotlib\n",
    "import matplotlib.pyplot as plt\n",
    "import seaborn as sns\n",
    "import pandas as pd\n",
    "import pickle\n",
    "import numpy as np\n",
    "import platform\n",
    "import warnings\n",
    "import pprint\n",
    "from collections import Counter\n",
    "\n",
    "sns.set()\n",
    "sns.set_context(\"notebook\", font_scale=1.1)\n",
    "sns.set_style(\"ticks\")\n",
    "\n",
    "print('python version:      {}'.format(platform.python_version()))\n",
    "print('torch version:       {}'.format(torch.__version__))\n",
    "print('torchvision version: {}'.format(torchvision.__version__))\n",
    "print('torchattacks:        {}'.format(torchattacks.__version__))\n",
    "print('sklearn version:     {}'.format(sklearn.__version__))\n",
    "print('skimage version:     {}'.format(skimage.__version__))\n",
    "print('numpy version:       {}'.format(np.__version__))\n",
    "print('matplotlib version:  {}'.format(matplotlib.__version__))\n",
    "print('seaborn version:     {}'.format(sns.__version__))\n",
    "print('pandas version:      {}'.format(pd.__version__))\n",
    "print('pickle version:      {}'.format(pickle.format_version))\n",
    "\n",
    "use_cuda = torch.cuda.is_available()\n",
    "print('CUDA available:      {}'.format(use_cuda))\n",
    "print('cuDNN enabled:       {}'.format(torch.backends.cudnn.enabled))\n",
    "print('num gpus:            {}'.format(torch.cuda.device_count()))\n",
    "    \n",
    "if use_cuda:\n",
    "    print('gpu:                 {}'.format(torch.cuda.get_device_name(0)))\n",
    "\n",
    "    print()\n",
    "    print('------------------------- CUDA -------------------------')\n",
    "    ! nvcc --version"
   ]
  },
  {
   "cell_type": "markdown",
   "metadata": {},
   "source": [
    "Put CUDNN to deterministic and set seed values for [reproducibility reasons](https://pytorch.org/docs/stable/notes/randomness.html)."
   ]
  },
  {
   "cell_type": "code",
   "execution_count": 2,
   "metadata": {},
   "outputs": [],
   "source": [
    "random_seed = 0\n",
    "torch.manual_seed(random_seed)\n",
    "np.random.seed(random_seed)\n",
    "\n",
    "torch.backends.cudnn.benchmark = False\n",
    "torch.backends.cudnn.deterministic = True\n",
    "torch.set_deterministic(True)"
   ]
  },
  {
   "cell_type": "markdown",
   "metadata": {},
   "source": [
    "Let's set some parameters for the Deep kNN."
   ]
  },
  {
   "cell_type": "code",
   "execution_count": 3,
   "metadata": {},
   "outputs": [],
   "source": [
    "batch_size_train = 500    # batch size for training\n",
    "batch_size_test = 1000    # batch size for testing"
   ]
  },
  {
   "cell_type": "markdown",
   "metadata": {},
   "source": [
    "## Data"
   ]
  },
  {
   "cell_type": "markdown",
   "metadata": {},
   "source": [
    "### Specify Dataset"
   ]
  },
  {
   "cell_type": "markdown",
   "metadata": {},
   "source": [
    "Define data transform functions for training and test set."
   ]
  },
  {
   "cell_type": "code",
   "execution_count": 4,
   "metadata": {},
   "outputs": [],
   "source": [
    "transform = transforms.Compose([\n",
    "    transforms.ToTensor(),\n",
    "    transforms.Normalize((0.1307,), (0.3081,))\n",
    "])"
   ]
  },
  {
   "cell_type": "markdown",
   "metadata": {},
   "source": [
    "Define training and test set."
   ]
  },
  {
   "cell_type": "code",
   "execution_count": 5,
   "metadata": {},
   "outputs": [],
   "source": [
    "# Training set\n",
    "trainset = torchvision.datasets.MNIST(\n",
    "    root='./data', train=True, download=True, transform=transform\n",
    ")\n",
    "\n",
    "# Test set and calibration set\n",
    "testset = torchvision.datasets.MNIST(\n",
    "    root='./data', train=False, download=True, transform=transform\n",
    ")"
   ]
  },
  {
   "cell_type": "markdown",
   "metadata": {},
   "source": [
    "### Load Data"
   ]
  },
  {
   "cell_type": "markdown",
   "metadata": {},
   "source": [
    "Create train, test and calibration data loader."
   ]
  },
  {
   "cell_type": "code",
   "execution_count": 6,
   "metadata": {},
   "outputs": [],
   "source": [
    "# Create training data loader\n",
    "trainloader = torch.utils.data.DataLoader(\n",
    "    trainset, batch_size=batch_size_train, shuffle=False, num_workers=2\n",
    ")\n",
    "\n",
    "# Create test data loader\n",
    "testloader = torch.utils.data.DataLoader(\n",
    "    testset, batch_size=batch_size_test, shuffle=False, num_workers=2\n",
    ")"
   ]
  },
  {
   "cell_type": "markdown",
   "metadata": {},
   "source": [
    "Print out the sizes of the datasets."
   ]
  },
  {
   "cell_type": "code",
   "execution_count": 7,
   "metadata": {},
   "outputs": [
    {
     "name": "stdout",
     "output_type": "stream",
     "text": [
      "trainset size: 60000\n",
      "testset size:  10000\n"
     ]
    }
   ],
   "source": [
    "print('trainset size: {}'.format(len(trainloader.dataset)))\n",
    "print('testset size:  {}'.format(len(testloader.dataset)))"
   ]
  },
  {
   "cell_type": "markdown",
   "metadata": {},
   "source": [
    "### Display Samples"
   ]
  },
  {
   "cell_type": "code",
   "execution_count": 8,
   "metadata": {},
   "outputs": [],
   "source": [
    "def show_samples(data, targets):\n",
    "    data = data.numpy()\n",
    "    print(\"tensor shape: \" + str(data.shape))\n",
    "    \n",
    "    fig = plt.figure()\n",
    "    for i in range(9):\n",
    "        plt.subplot(3,3,i+1)\n",
    "        plt.tight_layout()\n",
    "        \n",
    "        img = data * 0.3081 + 0.1307  # unnormalize\n",
    "        plt.imshow(img[i][0], cmap='gray', interpolation='none')\n",
    "        plt.title(\"Ground Truth: {}\".format(targets[i]))\n",
    "        \n",
    "        plt.xticks([])\n",
    "        plt.yticks([])"
   ]
  },
  {
   "cell_type": "markdown",
   "metadata": {},
   "source": [
    "Load a few test images and display them."
   ]
  },
  {
   "cell_type": "code",
   "execution_count": 9,
   "metadata": {},
   "outputs": [
    {
     "name": "stdout",
     "output_type": "stream",
     "text": [
      "tensor shape: (1000, 1, 28, 28)\n"
     ]
    },
    {
     "data": {
      "image/png": "[encoded data removed]",
      "text/plain": [
       "<Figure size 432x288 with 9 Axes>"
      ]
     },
     "metadata": {},
     "output_type": "display_data"
    }
   ],
   "source": [
    "dataiter = enumerate(testloader)\n",
    "_, (sample_data, sample_targets) = next(dataiter)\n",
    "\n",
    "show_samples(sample_data, sample_targets)"
   ]
  },
  {
   "cell_type": "markdown",
   "metadata": {},
   "source": [
    "## Define Test Functions"
   ]
  },
  {
   "cell_type": "markdown",
   "metadata": {},
   "source": [
    "Let's define the function for testing."
   ]
  },
  {
   "cell_type": "code",
   "execution_count": 10,
   "metadata": {},
   "outputs": [],
   "source": [
    "def test(model, crit, data_loader, test_losses, test_accs):\n",
    "    model.eval()\n",
    "    correct = 0\n",
    "    test_loss = 0\n",
    "    \n",
    "    with torch.no_grad():\n",
    "        for data in data_loader:\n",
    "            # Get the inputs; data is a list of [inputs, labels]\n",
    "            inputs, targets = data\n",
    "\n",
    "            if use_cuda:\n",
    "                inputs, targets = inputs.cuda(), targets.cuda()\n",
    "            \n",
    "            # Forward + loss + correct\n",
    "            outputs = model(inputs)\n",
    "            test_loss += crit(outputs, targets).item()\n",
    "            \n",
    "            _, predicted = torch.max(outputs.data, 1)\n",
    "            correct += (predicted == targets).sum().item()\n",
    "          \n",
    "    dataset_size = len(data_loader.dataset)\n",
    "    test_loss /= dataset_size\n",
    "    acc = 100. * correct / dataset_size\n",
    "    \n",
    "    test_losses.append(test_loss)\n",
    "    test_accs.append(acc)\n",
    "    \n",
    "    print('\\nTest set: Avg. loss: {:.6f}, Accuracy: {}/{} ({:.2f}%)\\n'.format(\n",
    "        test_loss, correct, dataset_size, acc\n",
    "    ))\n",
    "    \n",
    "    return test_losses, test_accs"
   ]
  },
  {
   "cell_type": "markdown",
   "metadata": {},
   "source": [
    "## Network Architecture"
   ]
  },
  {
   "cell_type": "markdown",
   "metadata": {},
   "source": [
    "Let's define the neural network based model architecture for MNIST."
   ]
  },
  {
   "cell_type": "code",
   "execution_count": 11,
   "metadata": {},
   "outputs": [],
   "source": [
    "class MnistNet(nn.Module):\n",
    "    def __init__(self):\n",
    "        super(MnistNet, self).__init__()\n",
    "        self.conv1 = nn.Conv2d(1, 64, kernel_size=8, stride=2, padding=3)\n",
    "        self.relu1 = nn.ReLU(True)\n",
    "        self.conv2 = nn.Conv2d(64, 128, kernel_size=6, stride=2)\n",
    "        self.relu2 = nn.ReLU(True)\n",
    "        self.conv3 = nn.Conv2d(128, 128, kernel_size=5)\n",
    "        self.relu3 = nn.ReLU(True)\n",
    "        self.fc = nn.Linear(128, 10)\n",
    "\n",
    "    def forward(self, x):\n",
    "        x = self.relu1(self.conv1(x))\n",
    "        x = self.relu2(self.conv2(x))\n",
    "        x = self.relu3(self.conv3(x))\n",
    "        x = x.view(-1, 128)\n",
    "        x = self.fc(x)\n",
    "        return x"
   ]
  },
  {
   "cell_type": "markdown",
   "metadata": {},
   "source": [
    "## Model Testing"
   ]
  },
  {
   "cell_type": "markdown",
   "metadata": {},
   "source": [
    "Let's load the model."
   ]
  },
  {
   "cell_type": "code",
   "execution_count": 12,
   "metadata": {},
   "outputs": [
    {
     "data": {
      "text/plain": [
       "<All keys matched successfully>"
      ]
     },
     "execution_count": 12,
     "metadata": {},
     "output_type": "execute_result"
    }
   ],
   "source": [
    "# Create Model\n",
    "model = MnistNet()\n",
    "criterion = nn.CrossEntropyLoss()\n",
    "\n",
    "# Load Model\n",
    "model.load_state_dict(torch.load(\"/Users/lehmann/research/laca/models/mnist_model.pth\", map_location=torch.device('cpu')))"
   ]
  },
  {
   "cell_type": "markdown",
   "metadata": {},
   "source": [
    "Put model in evaluation mode."
   ]
  },
  {
   "cell_type": "code",
   "execution_count": 13,
   "metadata": {},
   "outputs": [],
   "source": [
    "model.eval()\n",
    "\n",
    "if use_cuda:\n",
    "    model.cuda()\n",
    "    print('Using ', torch.cuda.device_count(), ' GPU(s)')"
   ]
  },
  {
   "cell_type": "markdown",
   "metadata": {},
   "source": [
    "Let's test the model."
   ]
  },
  {
   "cell_type": "code",
   "execution_count": 14,
   "metadata": {},
   "outputs": [],
   "source": [
    "def test_final(model, data_loader):\n",
    "    _, accs = test(model, criterion, data_loader, [], [])\n",
    "    return accs[0]"
   ]
  },
  {
   "cell_type": "code",
   "execution_count": 15,
   "metadata": {},
   "outputs": [
    {
     "name": "stdout",
     "output_type": "stream",
     "text": [
      "\n",
      "Test set: Avg. loss: 0.000030, Accuracy: 9904/10000 (99.04%)\n",
      "\n"
     ]
    },
    {
     "data": {
      "text/plain": [
       "99.04"
      ]
     },
     "execution_count": 15,
     "metadata": {},
     "output_type": "execute_result"
    }
   ],
   "source": [
    "test_acc = test_final(model, testloader); test_acc"
   ]
  },
  {
   "cell_type": "markdown",
   "metadata": {},
   "source": [
    "## Create Adversarial Examples"
   ]
  },
  {
   "cell_type": "code",
   "execution_count": 16,
   "metadata": {},
   "outputs": [],
   "source": [
    "class CustomTensorDataset(torch.utils.data.Dataset):\n",
    "    \"\"\"\n",
    "    TensorDataset with support for transforms\n",
    "    \"\"\"\n",
    "    def __init__(self, tensors, transform=None):\n",
    "        assert all(tensors[0].size(0) == tensor.size(0) for tensor in tensors)\n",
    "        self.tensors = tensors\n",
    "        self.transform = transform\n",
    "\n",
    "    def __getitem__(self, index):\n",
    "        x = self.tensors[0][index]\n",
    "\n",
    "        if self.transform:\n",
    "            x = self.transform(x)\n",
    "\n",
    "        y = self.tensors[1][index]\n",
    "\n",
    "        return x, y\n",
    "\n",
    "    def __len__(self):\n",
    "        return self.tensors[0].size(0)"
   ]
  },
  {
   "cell_type": "markdown",
   "metadata": {},
   "source": [
    "We need to load the test data again. This time without normalization, because for adversarial example creation the dataset should not be normalized."
   ]
  },
  {
   "cell_type": "code",
   "execution_count": 17,
   "metadata": {},
   "outputs": [
    {
     "name": "stdout",
     "output_type": "stream",
     "text": [
      "testset size:  10000\n"
     ]
    }
   ],
   "source": [
    "transform = transforms.Compose([\n",
    "    transforms.ToTensor(),\n",
    "])\n",
    "\n",
    "# Test set without normalization\n",
    "testset = torchvision.datasets.MNIST(\n",
    "    root='./data', train=False, download=True, transform=transform\n",
    ")\n",
    "\n",
    "# Create test data loader\n",
    "testloader = torch.utils.data.DataLoader(\n",
    "    testset, batch_size=10000, shuffle=False, num_workers=2\n",
    ")\n",
    "\n",
    "print('testset size:  {}'.format(len(testloader.dataset)))"
   ]
  },
  {
   "cell_type": "code",
   "execution_count": 18,
   "metadata": {},
   "outputs": [
    {
     "name": "stdout",
     "output_type": "stream",
     "text": [
      "tensor shape: (10000, 1, 28, 28)\n"
     ]
    },
    {
     "data": {
      "image/png": "[encoded data removed]",
      "text/plain": [
       "<Figure size 432x288 with 9 Axes>"
      ]
     },
     "metadata": {},
     "output_type": "display_data"
    }
   ],
   "source": [
    "dataiter = enumerate(testloader)\n",
    "_, (test_data, test_targets) = next(dataiter)\n",
    "\n",
    "show_samples(test_data, test_targets)"
   ]
  },
  {
   "cell_type": "code",
   "execution_count": 19,
   "metadata": {},
   "outputs": [
    {
     "name": "stdout",
     "output_type": "stream",
     "text": [
      "advset size:  10000\n",
      "\n",
      "\n",
      "Test set: Avg. loss: 0.008820, Accuracy: 246/10000 (2.46%)\n",
      "\n",
      "advtest accuracy: 2.46\n",
      "\n",
      "done!\n"
     ]
    }
   ],
   "source": [
    "# adversarial example creation\n",
    "atk = torchattacks.attacks.pgd.PGD(model, eps=0.2)\n",
    "adversarial_images = atk(test_data, test_targets)\n",
    "\n",
    "# create data loader from adversarial data\n",
    "transform = transforms.Compose([\n",
    "    transforms.Normalize((0.1307,), (0.3081,))\n",
    "])\n",
    "\n",
    "advdataset = CustomTensorDataset(tensors=(adversarial_images, test_targets), transform=transform)\n",
    "advloader = torch.utils.data.DataLoader(\n",
    "    advdataset, batch_size=batch_size_test\n",
    ")\n",
    "\n",
    "print('advset size:  {}'.format(len(advloader.dataset)))\n",
    "print()\n",
    "\n",
    "# Test created adversarial set against our model\n",
    "acc = test_final(model, advloader)\n",
    "print('advtest accuracy: {}'.format(acc))\n",
    "print()\n",
    "\n",
    "print('done!')"
   ]
  },
  {
   "cell_type": "code",
   "execution_count": 20,
   "metadata": {},
   "outputs": [
    {
     "name": "stdout",
     "output_type": "stream",
     "text": [
      "tensor shape: (1000, 1, 28, 28)\n"
     ]
    },
    {
     "data": {
      "image/png": "[encoded data removed]",
      "text/plain": [
       "<Figure size 432x288 with 9 Axes>"
      ]
     },
     "metadata": {},
     "output_type": "display_data"
    }
   ],
   "source": [
    "dataiter = enumerate(advloader)\n",
    "_, (adv_data, adv_targets) = next(dataiter)\n",
    "\n",
    "show_samples(adv_data, adv_targets)"
   ]
  },
  {
   "cell_type": "code",
   "execution_count": 21,
   "metadata": {},
   "outputs": [],
   "source": [
    "fname = '/Users/lehmann/research/laca/adv_examples/advloader_mnist_pgd.pth'\n",
    "torch.save(advloader, fname)"
   ]
  },
  {
   "cell_type": "code",
   "execution_count": 22,
   "metadata": {},
   "outputs": [],
   "source": [
    "loaded_advloader = torch.load(fname)"
   ]
  },
  {
   "cell_type": "code",
   "execution_count": 23,
   "metadata": {},
   "outputs": [
    {
     "name": "stdout",
     "output_type": "stream",
     "text": [
      "\n",
      "Test set: Avg. loss: 0.008820, Accuracy: 246/10000 (2.46%)\n",
      "\n",
      "advset size: 10000\n",
      "test accuracy: 2.46\n"
     ]
    }
   ],
   "source": [
    "acc = test_final(model, loaded_advloader)\n",
    "print('advset size: {}'.format(len(loaded_advloader.dataset)))\n",
    "print('test accuracy: {}'.format(acc))"
   ]
  },
  {
   "cell_type": "code",
   "execution_count": 24,
   "metadata": {},
   "outputs": [
    {
     "name": "stdout",
     "output_type": "stream",
     "text": [
      "tensor shape: (1000, 1, 28, 28)\n"
     ]
    },
    {
     "data": {
      "image/png": "[encoded data removed]",
      "text/plain": [
       "<Figure size 432x288 with 9 Axes>"
      ]
     },
     "metadata": {},
     "output_type": "display_data"
    }
   ],
   "source": [
    "dataiter = enumerate(loaded_advloader)\n",
    "_, (adv_data, adv_targets) = next(dataiter)\n",
    "\n",
    "show_samples(adv_data, adv_targets)"
   ]
  },
  {
   "cell_type": "code",
   "execution_count": null,
   "metadata": {},
   "outputs": [],
   "source": []
  }
 ],
 "metadata": {
  "kernelspec": {
   "display_name": "Python 3",
   "language": "python",
   "name": "python3"
  },
  "language_info": {
   "codemirror_mode": {
    "name": "ipython",
    "version": 3
   },
   "file_extension": ".py",
   "mimetype": "text/x-python",
   "name": "python",
   "nbconvert_exporter": "python",
   "pygments_lexer": "ipython3",
   "version": "3.6.9"
  }
 },
 "nbformat": 4,
 "nbformat_minor": 4
}
