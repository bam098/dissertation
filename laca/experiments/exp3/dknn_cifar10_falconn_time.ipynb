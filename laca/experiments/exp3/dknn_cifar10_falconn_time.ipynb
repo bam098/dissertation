{
 "cells": [
  {
   "cell_type": "markdown",
   "metadata": {
    "colab_type": "text",
    "id": "vkFfaHmXHKUQ"
   },
   "source": [
    "# PyTorch Implementation of the paper 'Deep k-Nearest Neighbors'\n"
   ]
  },
  {
   "cell_type": "markdown",
   "metadata": {
    "colab_type": "text",
    "id": "6NAXG9XqbyFP"
   },
   "source": [
    "This notebook contains a PyTorch implementation of the Deep k-Nearest Neighbors method introduced by Papernot & McDaniel (2018), which makes it possible to receive confidence scores for Deep Neural Network based predictions, that are more reliable than softmax scores. The paper can be found [here](https://arxiv.org/abs/1803.04765). The autors have also provided a basic implementation Tensorflow, which can be found [here](https://github.com/tensorflow/cleverhans/blob/master/cleverhans/model_zoo/deep_k_nearest_neighbors/dknn.py). However, this implementation is outdated. Hence, re-implemented the code here (in PyTorch)."
   ]
  },
  {
   "cell_type": "markdown",
   "metadata": {
    "colab_type": "text",
    "id": "bTRgYdUwI_F6"
   },
   "source": [
    "First of all, a few package need to be installed. Besides Pytorch (pip packages torch and torchvision) we also need to install falconn and faiss. These two packages were used by Papernot and McDaniel to find the k-Nearest-Neighbors in high-dimensional spaces through local sensitive hashing (LSH). If you want to find our more about local sensitive hashing you can take a look [here](https://towardsdatascience.com/understanding-locality-sensitive-hashing-49f6d1f6134), [here](https://blog.mayflower.de/6498-lsh-nearest-neighbour-search.html), [here](https://www.youtube.com/watch?v=356GoYkmYKg&list=PLBv09BD7ez_6xoNh_luPdBmDCIHOQ3j7F) and [here](https://www.youtube.com/watch?v=gHdbqsDK9YY&list=PLBv09BD7ez_48heon5Az-TsyoXVYOJtDZ). However, I need to mention that falconn seems not to be under development anymore. Hence, someone might want to switch to another library providing local sensitive hashing in the future."
   ]
  },
  {
   "cell_type": "code",
   "execution_count": 1,
   "metadata": {
    "colab": {
     "base_uri": "https://localhost:8080/",
     "height": 445
    },
    "colab_type": "code",
    "id": "ExlhM-ej9utH",
    "outputId": "51522d15-0eff-4e9f-a322-3d9c3fa04829"
   },
   "outputs": [],
   "source": [
    "#! apt-get install libomp-dev\n",
    "#\n",
    "#! pip uninstall torch torchvision -y\n",
    "#! pip install torch==1.4.0 torchvision==0.5.0\n",
    "#! pip install falconn==1.3.1\n",
    "#! pip install faiss==1.5.3"
   ]
  },
  {
   "cell_type": "markdown",
   "metadata": {
    "colab_type": "text",
    "id": "VW20mnSsLAEI"
   },
   "source": [
    "Next, let's load the required modules from the packages. Furthermore, for reproducibility reasons I also like to print out the package version that are used here and some GPU information if a GPU is available (since I only do the testing using MNIST a CPU should work here as well)."
   ]
  },
  {
   "cell_type": "code",
   "execution_count": 2,
   "metadata": {
    "colab": {
     "base_uri": "https://localhost:8080/",
     "height": 170
    },
    "colab_type": "code",
    "id": "2PTvaJ7Q9yo8",
    "outputId": "0c716a5d-95f6-4ad9-a659-eff21fc4d5c6"
   },
   "outputs": [
    {
     "name": "stdout",
     "output_type": "stream",
     "text": [
      "python version:      3.6.9\n",
      "torch version:       1.7.0\n",
      "torchvision version: 0.8.1\n",
      "numpy version:       1.19.5\n",
      "matplotlib version:  3.2.2\n",
      "pickle version:      4.0\n",
      "CUDA available:      False\n",
      "cuDNN enabled:       True\n",
      "num gpus:            0\n"
     ]
    }
   ],
   "source": [
    "%reload_ext autoreload\n",
    "%autoreload 2\n",
    "%matplotlib inline\n",
    "\n",
    "import torch\n",
    "import torch.nn as nn\n",
    "import torch.nn.functional as F\n",
    "import torch.optim as optim\n",
    "from torch.utils.data import Dataset, TensorDataset, DataLoader\n",
    "import torchvision\n",
    "from torchvision import transforms\n",
    "import matplotlib\n",
    "import matplotlib.pyplot as plt\n",
    "import pickle\n",
    "import numpy as np\n",
    "import falconn\n",
    "import faiss\n",
    "import platform\n",
    "import enum\n",
    "import copy\n",
    "from bisect import bisect_left\n",
    "import warnings\n",
    "import time\n",
    "\n",
    "print('python version:      {}'.format(platform.python_version()))\n",
    "print('torch version:       {}'.format(torch.__version__))\n",
    "print('torchvision version: {}'.format(torchvision.__version__))\n",
    "print('numpy version:       {}'.format(np.__version__))\n",
    "print('matplotlib version:  {}'.format(matplotlib.__version__))\n",
    "print('pickle version:      {}'.format(pickle.format_version))\n",
    "\n",
    "use_cuda = torch.cuda.is_available()\n",
    "print('CUDA available:      {}'.format(use_cuda))\n",
    "print('cuDNN enabled:       {}'.format(torch.backends.cudnn.enabled))\n",
    "print('num gpus:            {}'.format(torch.cuda.device_count()))\n",
    "\n",
    "if use_cuda:\n",
    "    print('gpu:                 {}'.format(torch.cuda.get_device_name(0)))"
   ]
  },
  {
   "cell_type": "markdown",
   "metadata": {
    "colab_type": "text",
    "id": "yb63e9GR-Aii"
   },
   "source": [
    "Put CUDNN to deterministic and set seed values for [reproducibility reasons](https://pytorch.org/docs/stable/notes/randomness.html)."
   ]
  },
  {
   "cell_type": "code",
   "execution_count": 3,
   "metadata": {
    "colab": {},
    "colab_type": "code",
    "id": "yMH4t0VK9-Cp"
   },
   "outputs": [],
   "source": [
    "torch.backends.cudnn.deterministic = True\n",
    "torch.backends.cudnn.benchmark = False\n",
    "\n",
    "random_seed = 0\n",
    "torch.manual_seed(random_seed)\n",
    "np.random.seed(random_seed)"
   ]
  },
  {
   "cell_type": "markdown",
   "metadata": {
    "colab_type": "text",
    "id": "ELNzocTU-DwE"
   },
   "source": [
    "Let's set some parameters for the Deep kNN."
   ]
  },
  {
   "cell_type": "code",
   "execution_count": 4,
   "metadata": {
    "colab": {},
    "colab_type": "code",
    "id": "7dBVyKcX4qNw"
   },
   "outputs": [],
   "source": [
    "num_epochs = 6            # number of training epochs\n",
    "batch_size_train = 500    # batch size for training\n",
    "batch_size_test = 1000    # batch size for testing\n",
    "learning_rate = 0.001     # learning rate for training\n",
    "calibset_size = 750       # size of the calibration set for DkNN\n",
    "neighbors = 75            # number of nearest neighbors for DkNN\n",
    "number_bits = 17          # number of bits for LSH for DkNN\n",
    "\n",
    "log_interval = 10         # printing training statistics after 10 iterations"
   ]
  },
  {
   "cell_type": "markdown",
   "metadata": {
    "colab_type": "text",
    "id": "Wik1VDmc-GfA"
   },
   "source": [
    "## Data"
   ]
  },
  {
   "cell_type": "markdown",
   "metadata": {
    "colab_type": "text",
    "id": "U7c2zcL7yVUC"
   },
   "source": [
    "### Specify Dataset"
   ]
  },
  {
   "cell_type": "markdown",
   "metadata": {
    "colab_type": "text",
    "id": "eoGsnIwryaom"
   },
   "source": [
    "Define data transform functions for training and test set."
   ]
  },
  {
   "cell_type": "code",
   "execution_count": 5,
   "metadata": {
    "colab": {},
    "colab_type": "code",
    "id": "VmUEEiqvyRj4"
   },
   "outputs": [],
   "source": [
    "transform_train = transforms.Compose([\n",
    "    transforms.RandomCrop(32, padding=4),\n",
    "    transforms.RandomHorizontalFlip(),\n",
    "    transforms.ToTensor(),\n",
    "    transforms.Normalize((0.4914, 0.4822, 0.4465), (0.2023, 0.1994, 0.2010)),\n",
    "])\n",
    "\n",
    "transform_test = transforms.Compose([\n",
    "    transforms.ToTensor(),\n",
    "    transforms.Normalize((0.4914, 0.4822, 0.4465), (0.2023, 0.1994, 0.2010)),\n",
    "])"
   ]
  },
  {
   "cell_type": "markdown",
   "metadata": {
    "colab_type": "text",
    "id": "OQKJcyi_yfkV"
   },
   "source": [
    "Define training and test set."
   ]
  },
  {
   "cell_type": "code",
   "execution_count": 6,
   "metadata": {
    "colab": {},
    "colab_type": "code",
    "id": "TeakmI6Xyf8-"
   },
   "outputs": [
    {
     "name": "stdout",
     "output_type": "stream",
     "text": [
      "Files already downloaded and verified\n",
      "Files already downloaded and verified\n"
     ]
    }
   ],
   "source": [
    "# Training set\n",
    "trainset = torchvision.datasets.CIFAR10(\n",
    "    root='./data', train=True, download=True, transform=transform_train\n",
    ")\n",
    "\n",
    "# Test set and calibration set\n",
    "orig_testset = torchvision.datasets.CIFAR10(\n",
    "    root='./data', train=False, download=True, transform=transform_test\n",
    ")\n",
    "orig_testset_size = len(orig_testset)\n",
    "\n",
    "testset_size = orig_testset_size - calibset_size\n",
    "testset, calibset = torch.utils.data.random_split(orig_testset, [testset_size, calibset_size])"
   ]
  },
  {
   "cell_type": "markdown",
   "metadata": {
    "colab_type": "text",
    "id": "AzgtNQAwymuT"
   },
   "source": [
    "### Load Data"
   ]
  },
  {
   "cell_type": "markdown",
   "metadata": {
    "colab_type": "text",
    "id": "ZlSfVhWEyxG7"
   },
   "source": [
    "Create train, test and calibration data loader."
   ]
  },
  {
   "cell_type": "code",
   "execution_count": 7,
   "metadata": {
    "colab": {},
    "colab_type": "code",
    "id": "0fi0GzKryxw4"
   },
   "outputs": [],
   "source": [
    "# Create training data loader\n",
    "trainloader = torch.utils.data.DataLoader(\n",
    "    trainset, batch_size=batch_size_train, shuffle=True, num_workers=2\n",
    ")\n",
    "\n",
    "# Create test data loader\n",
    "testloader = torch.utils.data.DataLoader(\n",
    "    testset, batch_size=batch_size_test, shuffle=False, num_workers=2\n",
    ")\n",
    "\n",
    "# Create calib data loader\n",
    "calibloader = torch.utils.data.DataLoader(\n",
    "    calibset, batch_size=calibset_size, shuffle=False, num_workers=2\n",
    ")"
   ]
  },
  {
   "cell_type": "markdown",
   "metadata": {
    "colab_type": "text",
    "id": "Ha-pQCWXb0Iv"
   },
   "source": [
    "Print out the sizes of the datasets."
   ]
  },
  {
   "cell_type": "code",
   "execution_count": 8,
   "metadata": {
    "colab": {
     "base_uri": "https://localhost:8080/",
     "height": 68
    },
    "colab_type": "code",
    "id": "F5XTyUe0b31Q",
    "outputId": "2eae29d2-48bd-4ad7-a8e8-2b4f361675d0"
   },
   "outputs": [
    {
     "name": "stdout",
     "output_type": "stream",
     "text": [
      "trainset size: 50000\n",
      "testset size:  9250\n",
      "calibset size: 750\n"
     ]
    }
   ],
   "source": [
    "print('trainset size: {}'.format(len(trainloader.dataset)))\n",
    "print('testset size:  {}'.format(len(testloader.dataset)))\n",
    "print('calibset size: {}'.format(len(calibloader.dataset)))"
   ]
  },
  {
   "cell_type": "markdown",
   "metadata": {
    "colab_type": "text",
    "id": "SvhyHSj_y2Ra"
   },
   "source": [
    "### Display Samples"
   ]
  },
  {
   "cell_type": "code",
   "execution_count": 9,
   "metadata": {
    "colab": {},
    "colab_type": "code",
    "id": "NQBLPagqy2_J"
   },
   "outputs": [],
   "source": [
    "classes = ('plane', 'car', 'bird', 'cat', 'deer', 'dog', 'frog', 'horse', 'ship', 'truck')\n",
    "\n",
    "def show_samples(data, targets):\n",
    "    data = data.numpy()\n",
    "    print(\"tensor shape: \" + str(data.shape))\n",
    "    \n",
    "    fig = plt.figure()\n",
    "    for i in range(9):\n",
    "        plt.subplot(3,3,i+1)\n",
    "        plt.tight_layout()\n",
    "\n",
    "        img = data[i]\n",
    "        img[0] = img[0] * 0.2023 + 0.4914\n",
    "        img[1] = img[1] * 0.1994 + 0.4822\n",
    "        img[2] = img[2] * 0.2010 + 0.4465\n",
    "        img = np.clip(img, 0, 1)\n",
    "        img = np.moveaxis(img, 0, -1)\n",
    "        \n",
    "        plt.imshow(img)\n",
    "        plt.title(\"Ground Truth: {}\".format(classes[targets[i]]))\n",
    "        \n",
    "        plt.xticks([])\n",
    "        plt.yticks([])"
   ]
  },
  {
   "cell_type": "markdown",
   "metadata": {
    "colab_type": "text",
    "id": "0kXdGSzry8Ce"
   },
   "source": [
    "Load a few test images and display them."
   ]
  },
  {
   "cell_type": "code",
   "execution_count": 10,
   "metadata": {
    "colab": {
     "base_uri": "https://localhost:8080/",
     "height": 301
    },
    "colab_type": "code",
    "id": "woBy6gE-y8YR",
    "outputId": "f87743cd-0528-4fb3-ca7e-1786dd8ea148"
   },
   "outputs": [
    {
     "name": "stdout",
     "output_type": "stream",
     "text": [
      "tensor shape: (1000, 3, 32, 32)\n"
     ]
    },
    {
     "data": {
      "image/png": "[encoded data removed]",
      "text/plain": [
       "<Figure size 432x288 with 9 Axes>"
      ]
     },
     "metadata": {},
     "output_type": "display_data"
    }
   ],
   "source": [
    "dataiter = enumerate(testloader)\n",
    "_, (sample_data, sample_targets) = next(dataiter)\n",
    "\n",
    "show_samples(sample_data, sample_targets)"
   ]
  },
  {
   "cell_type": "markdown",
   "metadata": {
    "colab_type": "text",
    "id": "8nrEJtUA4vwY"
   },
   "source": [
    "## Define Training and Test Functions"
   ]
  },
  {
   "cell_type": "markdown",
   "metadata": {
    "colab_type": "text",
    "id": "hqpIuwp2awI9"
   },
   "source": [
    "Let's define the functions for training and testing."
   ]
  },
  {
   "cell_type": "code",
   "execution_count": 11,
   "metadata": {
    "colab": {},
    "colab_type": "code",
    "id": "PgBe_-yy4w-B"
   },
   "outputs": [],
   "source": [
    "def test(model, crit, data_loader, test_losses, test_accs):\n",
    "    model.eval()\n",
    "    correct = 0\n",
    "    test_loss = 0\n",
    "    \n",
    "    with torch.no_grad():\n",
    "        for data in data_loader:\n",
    "            # Get the inputs; data is a list of [inputs, labels]\n",
    "            inputs, targets = data\n",
    "\n",
    "            if use_cuda:\n",
    "                inputs, targets = inputs.cuda(), targets.cuda()\n",
    "            \n",
    "            # Forward + loss + correct\n",
    "            outputs = model(inputs)\n",
    "            test_loss += crit(outputs, targets).item()\n",
    "            \n",
    "            _, predicted = torch.max(outputs.data, 1)\n",
    "            correct += (predicted == targets).sum().item()\n",
    "          \n",
    "    dataset_size = len(data_loader.dataset)\n",
    "    test_loss /= dataset_size\n",
    "    acc = 100. * correct / dataset_size\n",
    "    \n",
    "    test_losses.append(test_loss)\n",
    "    test_accs.append(acc)\n",
    "    \n",
    "    print('\\nTest set: Avg. loss: {:.6f}, Accuracy: {}/{} ({:.2f}%)\\n'.format(\n",
    "        test_loss, correct, dataset_size, acc\n",
    "    ))\n",
    "    \n",
    "    return test_losses, test_accs"
   ]
  },
  {
   "cell_type": "markdown",
   "metadata": {
    "colab_type": "text",
    "id": "_YFZQkAi450A"
   },
   "source": [
    "## Network Architecture"
   ]
  },
  {
   "cell_type": "markdown",
   "metadata": {
    "colab_type": "text",
    "id": "52b1IG-ra3eH"
   },
   "source": [
    "Let's define the neural network based model architecture for MNIST, that has also been [used by Papernot and McDaniel](https://github.com/tensorflow/cleverhans/blob/master/cleverhans/model_zoo/deep_k_nearest_neighbors/dknn.py)."
   ]
  },
  {
   "cell_type": "code",
   "execution_count": 12,
   "metadata": {
    "colab": {},
    "colab_type": "code",
    "id": "P7Pt-A4Z47aj"
   },
   "outputs": [],
   "source": [
    "def mixup_data(x, y, alpha=1.0, use_cuda=True, per_sample=False):\n",
    "\n",
    "    '''Compute the mixup data. Return mixed inputs, pairs of targets, and lambda'''\n",
    "    batch_size = x.size()[0]\n",
    "    if use_cuda:\n",
    "        index = torch.randperm(batch_size).cuda()\n",
    "    else:\n",
    "        index = torch.randperm(batch_size)\n",
    "\n",
    "    if alpha > 0. and not per_sample:\n",
    "        lam = torch.zeros(y.size()).fill_(np.random.beta(alpha, alpha)).cuda()\n",
    "        mixed_x = lam.view(-1, 1, 1, 1) * x + (1 - lam.view(-1, 1, 1, 1)) * x[index,:]\n",
    "    elif alpha > 0.:\n",
    "        lam = torch.Tensor(np.random.beta(alpha, alpha, size=y.size())).cuda()\n",
    "        mixed_x = lam.view(-1, 1, 1, 1) * x + (1 - lam.view(-1, 1, 1, 1)) * x[index,:]\n",
    "    else:\n",
    "        lam = torch.ones(y.size()).cuda()\n",
    "        mixed_x = x\n",
    "\n",
    "    y_a, y_b = y, y[index]\n",
    "    return mixed_x, y_a, y_b, lam\n",
    "\n",
    "\n",
    "def mixup_lam_idx(batch_size, alpha, use_cuda=True):\n",
    "    '''Compute the mixup data. Return mixed inputs, pairs of targets, and lambda'''\n",
    "    if alpha > 0.:\n",
    "        lam = np.random.beta(alpha, alpha)\n",
    "    else:\n",
    "        lam = 1.\n",
    "    if use_cuda:\n",
    "        index = torch.randperm(batch_size).cuda()\n",
    "    else:\n",
    "        index = torch.randperm(batch_size)\n",
    "\n",
    "    return lam, index    \n",
    "\n",
    "\n",
    "def mixup_criterion(y_a, y_b, lam):\n",
    "    return lambda criterion, pred: criterion(pred, y_a, lam) + criterion(pred, y_b, 1 - lam)\n",
    "\n",
    "\n",
    "def get_mean_and_std(dataset):\n",
    "    '''Compute the mean and std value of dataset.'''\n",
    "    dataloader = torch.utils.data.DataLoader(dataset, batch_size=1, shuffle=True, num_workers=2)\n",
    "    mean = torch.zeros(3)\n",
    "    std = torch.zeros(3)\n",
    "    print('==> Computing mean and std..')\n",
    "    for inputs, targets in dataloader:\n",
    "        for i in range(3):\n",
    "            mean[i] += inputs[:,i,:,:].mean()\n",
    "            std[i] += inputs[:,i,:,:].std()\n",
    "    mean.div_(len(dataset))\n",
    "    std.div_(len(dataset))\n",
    "    return mean, std\n",
    "\n",
    "\n",
    "def init_params(net):\n",
    "    '''Init layer parameters.'''\n",
    "    for m in net.modules():\n",
    "        if isinstance(m, nn.Conv2d):\n",
    "            init.kaiming_normal(m.weight, mode='fan_out')\n",
    "            if m.bias:\n",
    "                init.constant(m.bias, 0)\n",
    "        elif isinstance(m, nn.BatchNorm2d):\n",
    "            init.constant(m.weight, 1)\n",
    "            init.constant(m.bias, 0)\n",
    "        elif isinstance(m, nn.Linear):\n",
    "            init.normal(m.weight, std=1e-3)\n",
    "            if m.bias:\n",
    "                init.constant(m.bias, 0)\n",
    "\n",
    "                \n",
    "def conv3x3(in_planes, out_planes, stride=1):\n",
    "    \"\"\"3x3 convolution with padding\"\"\"\n",
    "    return nn.Conv2d(in_planes, out_planes, kernel_size=3, stride=stride,\n",
    "                     padding=1, bias=False)\n",
    "\n",
    "\n",
    "class FixupBasicBlock(nn.Module):\n",
    "    expansion = 1\n",
    "\n",
    "    def __init__(self, inplanes, planes, stride=1, downsample=None):\n",
    "        super(FixupBasicBlock, self).__init__()\n",
    "        # Both self.conv1 and self.downsample layers downsample the input when stride != 1\n",
    "        self.bias1a = nn.Parameter(torch.zeros(1))\n",
    "        self.conv1 = conv3x3(inplanes, planes, stride)\n",
    "        self.bias1b = nn.Parameter(torch.zeros(1))\n",
    "        self.relu = nn.ReLU(inplace=True)\n",
    "        self.bias2a = nn.Parameter(torch.zeros(1))\n",
    "        self.conv2 = conv3x3(planes, planes)\n",
    "        self.scale = nn.Parameter(torch.ones(1))\n",
    "        self.bias2b = nn.Parameter(torch.zeros(1))\n",
    "        self.downsample = downsample\n",
    "\n",
    "    def forward(self, x):\n",
    "        identity = x\n",
    "\n",
    "        out = self.conv1(x + self.bias1a)\n",
    "        out = self.relu(out + self.bias1b)\n",
    "\n",
    "        out = self.conv2(out + self.bias2a)\n",
    "        out = out * self.scale + self.bias2b\n",
    "\n",
    "        if self.downsample is not None:\n",
    "            identity = self.downsample(x + self.bias1a)\n",
    "            identity = torch.cat((identity, torch.zeros_like(identity)), 1)\n",
    "\n",
    "        out += identity\n",
    "        out = self.relu(out)\n",
    "\n",
    "        return out\n",
    "\n",
    "\n",
    "class FixupResNet(nn.Module):\n",
    "\n",
    "    def __init__(self, block, layers, num_classes=10):\n",
    "        super(FixupResNet, self).__init__()\n",
    "        self.num_layers = sum(layers)\n",
    "        self.inplanes = 16\n",
    "        self.conv1 = conv3x3(3, 16)\n",
    "        self.bias1 = nn.Parameter(torch.zeros(1))\n",
    "        self.relu = nn.ReLU(inplace=True)\n",
    "        self.layer1 = self._make_layer(block, 16, layers[0])\n",
    "        self.layer2 = self._make_layer(block, 32, layers[1], stride=2)\n",
    "        self.layer3 = self._make_layer(block, 64, layers[2], stride=2)\n",
    "        self.avgpool = nn.AdaptiveAvgPool2d((1, 1))\n",
    "        self.bias2 = nn.Parameter(torch.zeros(1))\n",
    "        self.fc = nn.Linear(64, num_classes)\n",
    "\n",
    "        for m in self.modules():\n",
    "            if isinstance(m, FixupBasicBlock):\n",
    "                nn.init.normal_(m.conv1.weight, mean=0, std=np.sqrt(2 / (m.conv1.weight.shape[0] * np.prod(m.conv1.weight.shape[2:]))) * self.num_layers ** (-0.5))\n",
    "                nn.init.constant_(m.conv2.weight, 0)\n",
    "            elif isinstance(m, nn.Linear):\n",
    "                nn.init.constant_(m.weight, 0)\n",
    "                nn.init.constant_(m.bias, 0)\n",
    "\n",
    "    def _make_layer(self, block, planes, blocks, stride=1):\n",
    "        downsample = None\n",
    "        if stride != 1:\n",
    "            downsample = nn.AvgPool2d(1, stride=stride)\n",
    "\n",
    "        layers = []\n",
    "        layers.append(block(self.inplanes, planes, stride, downsample))\n",
    "        self.inplanes = planes\n",
    "        for _ in range(1, blocks):\n",
    "            layers.append(block(planes, planes))\n",
    "\n",
    "        return nn.Sequential(*layers)\n",
    "\n",
    "    def forward(self, x):\n",
    "        x = self.conv1(x)\n",
    "        x = self.relu(x + self.bias1)\n",
    "\n",
    "        x = self.layer1(x)\n",
    "        x = self.layer2(x)\n",
    "        x = self.layer3(x)\n",
    "\n",
    "        x = self.avgpool(x)\n",
    "        x = x.view(x.size(0), -1)\n",
    "        x = self.fc(x + self.bias2)\n",
    "\n",
    "        return x\n",
    "\n",
    "\n",
    "def fixup_resnet20(**kwargs):\n",
    "    \"\"\"Constructs a Fixup-ResNet-20 model.\n",
    "    \"\"\"\n",
    "    model = FixupResNet(FixupBasicBlock, [3, 3, 3], **kwargs)\n",
    "    return model"
   ]
  },
  {
   "cell_type": "markdown",
   "metadata": {
    "colab_type": "text",
    "id": "szo94UrQH0qc"
   },
   "source": [
    "## Load Model"
   ]
  },
  {
   "cell_type": "markdown",
   "metadata": {
    "colab_type": "text",
    "id": "mXs2dnBFISBR"
   },
   "source": [
    "Let's train the model."
   ]
  },
  {
   "cell_type": "code",
   "execution_count": 13,
   "metadata": {
    "colab": {
     "base_uri": "https://localhost:8080/",
     "height": 1000
    },
    "colab_type": "code",
    "id": "rP4BTofQITUI",
    "outputId": "d11ce456-2a69-4fde-8bcf-bcf604104f6b"
   },
   "outputs": [
    {
     "data": {
      "text/plain": [
       "<All keys matched successfully>"
      ]
     },
     "execution_count": 13,
     "metadata": {},
     "output_type": "execute_result"
    }
   ],
   "source": [
    "# Create Model\n",
    "model = fixup_resnet20()\n",
    "cel = nn.CrossEntropyLoss()\n",
    "\n",
    "# Load Model\n",
    "model.load_state_dict(torch.load(\"/Users/lehmann/research/laca/models/cifar10_model.pth\", map_location=torch.device('cpu')))"
   ]
  },
  {
   "cell_type": "markdown",
   "metadata": {
    "colab_type": "text",
    "id": "qOX5Iwrde9f5"
   },
   "source": [
    "Put model in evaluation mode."
   ]
  },
  {
   "cell_type": "code",
   "execution_count": 14,
   "metadata": {
    "colab": {},
    "colab_type": "code",
    "id": "g10p0O_9fAOe"
   },
   "outputs": [],
   "source": [
    "model.eval()\n",
    "\n",
    "if use_cuda:\n",
    "    model.cuda()\n",
    "    print('Using ', torch.cuda.device_count(), ' GPU(s)')"
   ]
  },
  {
   "cell_type": "markdown",
   "metadata": {
    "colab_type": "text",
    "id": "FRreifcIgVNz"
   },
   "source": [
    "Let's test our model again to see again which accuracy we have finally reached."
   ]
  },
  {
   "cell_type": "code",
   "execution_count": 15,
   "metadata": {
    "colab": {},
    "colab_type": "code",
    "id": "GblopwOcg1HF"
   },
   "outputs": [],
   "source": [
    "def test_final(model, data_loader):\n",
    "    _, accs = test(model, cel, data_loader, [], [])\n",
    "    return accs[0]"
   ]
  },
  {
   "cell_type": "code",
   "execution_count": 16,
   "metadata": {
    "colab": {
     "base_uri": "https://localhost:8080/",
     "height": 85
    },
    "colab_type": "code",
    "id": "ruV5BFPJgYJY",
    "outputId": "914f603d-40e7-494f-a39e-b843a51b8ad5"
   },
   "outputs": [
    {
     "name": "stdout",
     "output_type": "stream",
     "text": [
      "\n",
      "Test set: Avg. loss: 0.000327, Accuracy: 8549/9250 (92.42%)\n",
      "\n"
     ]
    },
    {
     "data": {
      "text/plain": [
       "92.42162162162163"
      ]
     },
     "execution_count": 16,
     "metadata": {},
     "output_type": "execute_result"
    }
   ],
   "source": [
    "test_acc = test_final(model, testloader); test_acc"
   ]
  },
  {
   "cell_type": "markdown",
   "metadata": {
    "colab_type": "text",
    "id": "HOw1TsTvisjv"
   },
   "source": [
    "## Get Activations"
   ]
  },
  {
   "cell_type": "markdown",
   "metadata": {
    "colab_type": "text",
    "id": "1x0SMfDRuQdQ"
   },
   "source": [
    "Now, let's try to get the activations of each layer when feeding the trained model with images. To see again which layers we have let's print the model architecture."
   ]
  },
  {
   "cell_type": "code",
   "execution_count": 17,
   "metadata": {
    "colab": {
     "base_uri": "https://localhost:8080/",
     "height": 170
    },
    "colab_type": "code",
    "id": "Aw3jUxkguTeV",
    "outputId": "ba4f1a75-c0be-4090-c69a-96bba2f279e6"
   },
   "outputs": [
    {
     "data": {
      "text/plain": [
       "FixupResNet(\n",
       "  (conv1): Conv2d(3, 16, kernel_size=(3, 3), stride=(1, 1), padding=(1, 1), bias=False)\n",
       "  (relu): ReLU(inplace=True)\n",
       "  (layer1): Sequential(\n",
       "    (0): FixupBasicBlock(\n",
       "      (conv1): Conv2d(16, 16, kernel_size=(3, 3), stride=(1, 1), padding=(1, 1), bias=False)\n",
       "      (relu): ReLU(inplace=True)\n",
       "      (conv2): Conv2d(16, 16, kernel_size=(3, 3), stride=(1, 1), padding=(1, 1), bias=False)\n",
       "    )\n",
       "    (1): FixupBasicBlock(\n",
       "      (conv1): Conv2d(16, 16, kernel_size=(3, 3), stride=(1, 1), padding=(1, 1), bias=False)\n",
       "      (relu): ReLU(inplace=True)\n",
       "      (conv2): Conv2d(16, 16, kernel_size=(3, 3), stride=(1, 1), padding=(1, 1), bias=False)\n",
       "    )\n",
       "    (2): FixupBasicBlock(\n",
       "      (conv1): Conv2d(16, 16, kernel_size=(3, 3), stride=(1, 1), padding=(1, 1), bias=False)\n",
       "      (relu): ReLU(inplace=True)\n",
       "      (conv2): Conv2d(16, 16, kernel_size=(3, 3), stride=(1, 1), padding=(1, 1), bias=False)\n",
       "    )\n",
       "  )\n",
       "  (layer2): Sequential(\n",
       "    (0): FixupBasicBlock(\n",
       "      (conv1): Conv2d(16, 32, kernel_size=(3, 3), stride=(2, 2), padding=(1, 1), bias=False)\n",
       "      (relu): ReLU(inplace=True)\n",
       "      (conv2): Conv2d(32, 32, kernel_size=(3, 3), stride=(1, 1), padding=(1, 1), bias=False)\n",
       "      (downsample): AvgPool2d(kernel_size=1, stride=2, padding=0)\n",
       "    )\n",
       "    (1): FixupBasicBlock(\n",
       "      (conv1): Conv2d(32, 32, kernel_size=(3, 3), stride=(1, 1), padding=(1, 1), bias=False)\n",
       "      (relu): ReLU(inplace=True)\n",
       "      (conv2): Conv2d(32, 32, kernel_size=(3, 3), stride=(1, 1), padding=(1, 1), bias=False)\n",
       "    )\n",
       "    (2): FixupBasicBlock(\n",
       "      (conv1): Conv2d(32, 32, kernel_size=(3, 3), stride=(1, 1), padding=(1, 1), bias=False)\n",
       "      (relu): ReLU(inplace=True)\n",
       "      (conv2): Conv2d(32, 32, kernel_size=(3, 3), stride=(1, 1), padding=(1, 1), bias=False)\n",
       "    )\n",
       "  )\n",
       "  (layer3): Sequential(\n",
       "    (0): FixupBasicBlock(\n",
       "      (conv1): Conv2d(32, 64, kernel_size=(3, 3), stride=(2, 2), padding=(1, 1), bias=False)\n",
       "      (relu): ReLU(inplace=True)\n",
       "      (conv2): Conv2d(64, 64, kernel_size=(3, 3), stride=(1, 1), padding=(1, 1), bias=False)\n",
       "      (downsample): AvgPool2d(kernel_size=1, stride=2, padding=0)\n",
       "    )\n",
       "    (1): FixupBasicBlock(\n",
       "      (conv1): Conv2d(64, 64, kernel_size=(3, 3), stride=(1, 1), padding=(1, 1), bias=False)\n",
       "      (relu): ReLU(inplace=True)\n",
       "      (conv2): Conv2d(64, 64, kernel_size=(3, 3), stride=(1, 1), padding=(1, 1), bias=False)\n",
       "    )\n",
       "    (2): FixupBasicBlock(\n",
       "      (conv1): Conv2d(64, 64, kernel_size=(3, 3), stride=(1, 1), padding=(1, 1), bias=False)\n",
       "      (relu): ReLU(inplace=True)\n",
       "      (conv2): Conv2d(64, 64, kernel_size=(3, 3), stride=(1, 1), padding=(1, 1), bias=False)\n",
       "    )\n",
       "  )\n",
       "  (avgpool): AdaptiveAvgPool2d(output_size=(1, 1))\n",
       "  (fc): Linear(in_features=64, out_features=10, bias=True)\n",
       ")"
      ]
     },
     "execution_count": 17,
     "metadata": {},
     "output_type": "execute_result"
    }
   ],
   "source": [
    "model"
   ]
  },
  {
   "cell_type": "markdown",
   "metadata": {
    "colab_type": "text",
    "id": "-395Iz3PuYiA"
   },
   "source": [
    "Specify layers to be used for the DkNN."
   ]
  },
  {
   "cell_type": "code",
   "execution_count": 18,
   "metadata": {
    "colab": {},
    "colab_type": "code",
    "id": "Rnlpkyntj0tf"
   },
   "outputs": [],
   "source": [
    "layers = {\n",
    "    'relu': model.relu,\n",
    "    'layer1': model.layer1,\n",
    "    'layer2': model.layer2,\n",
    "    'layer3': model.layer3,\n",
    "    'avgpool': model.avgpool,\n",
    "    'fc': model.fc\n",
    "}"
   ]
  },
  {
   "cell_type": "markdown",
   "metadata": {
    "colab_type": "text",
    "id": "ar9rmLtluyZj"
   },
   "source": [
    "Define function to get activations."
   ]
  },
  {
   "cell_type": "code",
   "execution_count": 19,
   "metadata": {
    "colab": {},
    "colab_type": "code",
    "id": "-d9ohncXP0gw"
   },
   "outputs": [],
   "source": [
    "def get_activations(dataloader, model, layers):\n",
    "    activations = {}\n",
    "    activations['activations'] = {}\n",
    "    activations['targets'] = None\n",
    "\n",
    "    for layer_name in layers:\n",
    "        print('## Fetching Activations from Layer {}'.format(layer_name))\n",
    "\n",
    "        # Get activations for the data\n",
    "        layer = layers[layer_name]\n",
    "        activations['activations'][layer_name], targets = get_activations_from_layer(dataloader, model, layer)\n",
    "\n",
    "        # Get the targets of that data\n",
    "        if targets is not None:\n",
    "            if activations['targets'] is not None:\n",
    "                np.testing.assert_array_equal(activations['targets'], targets)\n",
    "            else:\n",
    "                activations['targets'] = targets\n",
    "\n",
    "        print()\n",
    "\n",
    "    return activations\n",
    "\n",
    "def get_activations_from_layer(dataloader, model, layer):\n",
    "    activations = []\n",
    "    targets = []\n",
    "\n",
    "    # Define hook for fetching the activations\n",
    "    def hook(module, input, output):\n",
    "        layer_activations = output.squeeze().detach().cpu().numpy()\n",
    "\n",
    "        if len(layer_activations.shape) == 4:\n",
    "            layer_activations = layer_activations.reshape(layer_activations.shape[0], -1)\n",
    "        \n",
    "        activations.append(layer_activations)\n",
    "\n",
    "    handle = layer.register_forward_hook(hook)\n",
    "\n",
    "    # Fetch activations\n",
    "    for i, batch in enumerate(dataloader):\n",
    "        print('Processing Batch {}'.format(i))\n",
    "\n",
    "        if use_cuda:\n",
    "            batch = batch.cuda()\n",
    "\n",
    "        _ = model(batch[0])\n",
    "\n",
    "        if len(batch) > 1:\n",
    "            targets.append(batch[1].detach().cpu().numpy())\n",
    "\n",
    "    print(\"done!\")\n",
    "\n",
    "    # Remove hook\n",
    "    handle.remove()\n",
    "\n",
    "    # Return activations and targets\n",
    "    activations = np.concatenate(activations)\n",
    "\n",
    "    if targets:\n",
    "        targets = np.hstack(targets)\n",
    "    else:\n",
    "        None\n",
    "\n",
    "    return activations, targets"
   ]
  },
  {
   "cell_type": "markdown",
   "metadata": {
    "colab_type": "text",
    "id": "zC9ivurMgBl0"
   },
   "source": [
    "Test activation fetching."
   ]
  },
  {
   "cell_type": "code",
   "execution_count": 20,
   "metadata": {
    "colab": {
     "base_uri": "https://localhost:8080/",
     "height": 289
    },
    "colab_type": "code",
    "id": "7wqOGH2BgD3j",
    "outputId": "ce8e877e-91f9-4160-8d28-561aae9abe1e"
   },
   "outputs": [
    {
     "name": "stdout",
     "output_type": "stream",
     "text": [
      "## Fetching Activations from Layer relu\n",
      "Processing Batch 0\n",
      "done!\n",
      "\n",
      "## Fetching Activations from Layer layer1\n",
      "Processing Batch 0\n",
      "done!\n",
      "\n",
      "## Fetching Activations from Layer layer2\n",
      "Processing Batch 0\n",
      "done!\n",
      "\n",
      "## Fetching Activations from Layer layer3\n",
      "Processing Batch 0\n",
      "done!\n",
      "\n",
      "## Fetching Activations from Layer avgpool\n",
      "Processing Batch 0\n",
      "done!\n",
      "\n",
      "## Fetching Activations from Layer fc\n",
      "Processing Batch 0\n",
      "done!\n",
      "\n"
     ]
    }
   ],
   "source": [
    "acts = get_activations(calibloader, model, layers)"
   ]
  },
  {
   "cell_type": "code",
   "execution_count": 21,
   "metadata": {
    "colab": {
     "base_uri": "https://localhost:8080/",
     "height": 255
    },
    "colab_type": "code",
    "id": "-Ra7WMB7j016",
    "outputId": "34d1d0bb-782c-4cfb-8a81-909ddd006baf"
   },
   "outputs": [
    {
     "name": "stdout",
     "output_type": "stream",
     "text": [
      "targets: (750,)\n",
      "\n",
      "## layer relu\n",
      "activations: (750, 16384)\n",
      "\n",
      "## layer layer1\n",
      "activations: (750, 16384)\n",
      "\n",
      "## layer layer2\n",
      "activations: (750, 8192)\n",
      "\n",
      "## layer layer3\n",
      "activations: (750, 4096)\n",
      "\n",
      "## layer avgpool\n",
      "activations: (750, 64)\n",
      "\n",
      "## layer fc\n",
      "activations: (750, 10)\n",
      "\n"
     ]
    }
   ],
   "source": [
    "print('targets: {}'.format(acts['targets'].shape))\n",
    "print()\n",
    "\n",
    "for layer in layers:\n",
    "    print('## layer {}'.format(layer))\n",
    "    print('activations: {}'.format(acts['activations'][layer].shape))\n",
    "    print()"
   ]
  },
  {
   "cell_type": "markdown",
   "metadata": {
    "colab_type": "text",
    "id": "Hiej5u1INAuy"
   },
   "source": [
    "## Create Adversarials"
   ]
  },
  {
   "cell_type": "markdown",
   "metadata": {
    "colab_type": "text",
    "id": "DRT9yLNlgyll"
   },
   "source": [
    "Let's define a function to create adversarials. Later we want to test the DkNN with our normal test set and an adversarial version of the test set. The adversarial method that was used in the [code](https://github.com/tensorflow/cleverhans/blob/master/cleverhans/model_zoo/deep_k_nearest_neighbors/dknn.py) by Papernot and McDaniel is the Fast Gradient Sign method (FGSM) introduced by Goodfellow et al. (you can find the paper [here](https://arxiv.org/abs/1412.6572)). My implementation of FGSM is based on a [official PyTorch FSGM tutorial](https://pytorch.org/tutorials/beginner/fgsm_tutorial.html)."
   ]
  },
  {
   "cell_type": "code",
   "execution_count": 22,
   "metadata": {
    "colab": {},
    "colab_type": "code",
    "id": "DctMtY3Pe2XK"
   },
   "outputs": [],
   "source": [
    "class CustomTensorDataset(torch.utils.data.Dataset):\n",
    "    \"\"\"\n",
    "    TensorDataset with support for transforms\n",
    "    \"\"\"\n",
    "    def __init__(self, tensors, transform=None):\n",
    "        assert all(tensors[0].size(0) == tensor.size(0) for tensor in tensors)\n",
    "        self.tensors = tensors\n",
    "        self.transform = transform\n",
    "\n",
    "    def __getitem__(self, index):\n",
    "        x = self.tensors[0][index]\n",
    "\n",
    "        if self.transform:\n",
    "            x = self.transform(x)\n",
    "\n",
    "        y = self.tensors[1][index]\n",
    "\n",
    "        return x, y\n",
    "\n",
    "    def __len__(self):\n",
    "        return self.tensors[0].size(0)\n",
    "\n",
    "\n",
    "def fgsm_attack(image, epsilon, data_grad, normalized=True):\n",
    "    # If image is normalized, denormalize with MNIST statistics\n",
    "    if normalized:\n",
    "        image[0,0] = image[0,0] * 0.2023 + 0.4914\n",
    "        image[0,1] = image[0,1] * 0.1994 + 0.4822\n",
    "        image[0,2] = image[0,2] * 0.2010 + 0.4465\n",
    "        #image = np.clip(image, 0, 1)\n",
    "\n",
    "    # Collect the element-wise sign of the data gradient\n",
    "    sign_data_grad = data_grad.sign()\n",
    "\n",
    "    # Create the perturbed image by adjusting each pixel of the input image\n",
    "    perturbed_image = image + epsilon*sign_data_grad\n",
    "\n",
    "    # Adding clipping to maintain [0,1] range\n",
    "    perturbed_image = torch.clamp(perturbed_image, 0, 1)\n",
    "\n",
    "    # If image should be normalized, normalize with MNIST statistics\n",
    "    if normalized:\n",
    "        perturbed_image[0,0] = (perturbed_image[0,0] - 0.4914) / 0.2023 \n",
    "        perturbed_image[0,1] = (perturbed_image[0,1] - 0.4822) / 0.1994\n",
    "        perturbed_image[0,2] = (perturbed_image[0,2] - 0.4465) / 0.2010\n",
    "\n",
    "    # Return the perturbed image\n",
    "    return perturbed_image\n",
    "\n",
    "\n",
    "def create_adversarials(model, dataloader, epsilon):\n",
    "    adv_examples = []\n",
    "    targets = []\n",
    "    init_preds = []\n",
    "    final_preds = []\n",
    "\n",
    "    # Loop over all examples in data set\n",
    "    for data, target in dataloader:\n",
    "\n",
    "        # If we run on GPU, send data and target to GPU\n",
    "        if use_cuda:\n",
    "            data, target = data.cuda(), target.cuda()\n",
    "\n",
    "        # Set requires_grad attribute of tensor. Important for Attack\n",
    "        data.requires_grad = True\n",
    "\n",
    "        # Forward pass the data through the model\n",
    "        output = model(data)\n",
    "        init_pred = output.max(1, keepdim=True)[1] # get the index of the max log-probability\n",
    "\n",
    "        # Calculate the loss\n",
    "        loss = cel(output, target)\n",
    "\n",
    "        # Zero all existing gradients\n",
    "        model.zero_grad()\n",
    "\n",
    "        # Calculate gradients of model in backward pass\n",
    "        loss.backward()\n",
    "\n",
    "        # Collect datagrad\n",
    "        data_grad = data.grad.data\n",
    "\n",
    "        # Call FGSM Attack\n",
    "        perturbed_data = fgsm_attack(data, epsilon, data_grad)\n",
    "\n",
    "        # Re-classify the perturbed image\n",
    "        output = model(perturbed_data)\n",
    "        final_pred = output.max(1, keepdim=True)[1] # get the index of the max log-probability\n",
    "\n",
    "        # Save adversarial examples\n",
    "        adv_ex = perturbed_data.detach().cpu().numpy()\n",
    "        adv_examples.append(adv_ex)\n",
    "        targets.append(target.item())\n",
    "        init_preds.append(init_pred.item())\n",
    "        final_preds.append(final_pred.item())\n",
    "\n",
    "    # Return the accuracy and an adversarial example\n",
    "    result = {\n",
    "        'adv_examples': np.vstack(adv_examples),\n",
    "        'targets': targets,\n",
    "        'init_preds': np.array(init_preds),\n",
    "        'final_preds': np.array(final_preds)\n",
    "    }\n",
    "    return result"
   ]
  },
  {
   "cell_type": "markdown",
   "metadata": {
    "colab_type": "text",
    "id": "CfgeK_83m2ua"
   },
   "source": [
    "Create an adversarial dataset using epsilon = 0.05 that was also used in the [code from Papernot and McDaniel](https://github.com/tensorflow/cleverhans/blob/master/cleverhans/model_zoo/deep_k_nearest_neighbors/dknn.py)."
   ]
  },
  {
   "cell_type": "code",
   "execution_count": 23,
   "metadata": {
    "colab": {},
    "colab_type": "code",
    "id": "hQ5PduTym8l3"
   },
   "outputs": [
    {
     "name": "stdout",
     "output_type": "stream",
     "text": [
      "testset size:  9250\n",
      "\n",
      "## Creating adversarials with epsilon = 0.1\n",
      "adversarials created\n",
      "advset size: 9250\n",
      "\n",
      "Test set: Avg. loss: 0.003701, Accuracy: 1233/9250 (13.33%)\n",
      "\n",
      "test accuracy: 13.32972972972973\n",
      "\n",
      "done!\n"
     ]
    }
   ],
   "source": [
    "eps = 0.1\n",
    "\n",
    "# Create test data loader for adversarial creation (batch size needs to be 1)\n",
    "testloader_adv = torch.utils.data.DataLoader(\n",
    "    testset, batch_size=1, shuffle=False, num_workers=2\n",
    ")\n",
    "\n",
    "print('testset size:  {}'.format(len(testloader.dataset)))\n",
    "print()\n",
    "\n",
    "# Create adversarials\n",
    "print('## Creating adversarials with epsilon = {}'.format(eps))\n",
    "\n",
    "adversarials = create_adversarials(model, testloader_adv, eps)\n",
    "print('adversarials created')\n",
    "\n",
    "# Make dataloader from created adversarials\n",
    "adv_data = torch.FloatTensor(adversarials['adv_examples'])\n",
    "adv_targets = torch.LongTensor(adversarials['targets'])\n",
    "\n",
    "advdataset = CustomTensorDataset(tensors=(adv_data, adv_targets), transform=None)\n",
    "advloader = torch.utils.data.DataLoader(\n",
    "    advdataset, batch_size=batch_size_test, shuffle=False, num_workers=2\n",
    ")\n",
    "print('advset size: {}'.format(len(advloader.dataset)))\n",
    "\n",
    "# Test created adversarial set against our model\n",
    "acc = test_final(model, advloader)\n",
    "print('test accuracy: {}'.format(acc))\n",
    "print()\n",
    "\n",
    "print('done!')"
   ]
  },
  {
   "cell_type": "markdown",
   "metadata": {
    "colab_type": "text",
    "id": "aRNHTEVitJmU"
   },
   "source": [
    "# Deep kNN"
   ]
  },
  {
   "cell_type": "markdown",
   "metadata": {
    "colab_type": "text",
    "id": "NBSJ_lc6w0II"
   },
   "source": [
    "Now, let's implement DkNN. The code is based on the original [code from Papernot and McDaniel](https://github.com/tensorflow/cleverhans/blob/master/cleverhans/model_zoo/deep_k_nearest_neighbors/dknn.py). It was converted to PyTorch."
   ]
  },
  {
   "cell_type": "code",
   "execution_count": 24,
   "metadata": {
    "colab": {},
    "colab_type": "code",
    "id": "-s3P0R-KkTq8"
   },
   "outputs": [],
   "source": [
    "class NearestNeighbor:\n",
    "\n",
    "    class BACKEND(enum.Enum):\n",
    "        FALCONN = 1\n",
    "        FAISS = 2\n",
    "\n",
    "    def __init__(self, backend, dimension, neighbors, number_bits, nb_tables=None):\n",
    "        assert backend in NearestNeighbor.BACKEND\n",
    "\n",
    "        self._NEIGHBORS = neighbors\n",
    "        self._BACKEND = backend\n",
    "\n",
    "        if self._BACKEND is NearestNeighbor.BACKEND.FALCONN:\n",
    "            self._init_falconn(dimension, number_bits, nb_tables)\n",
    "        elif self._BACKEND is NearestNeighbor.BACKEND.FAISS:\n",
    "            self._init_faiss(dimension)\n",
    "        else:\n",
    "            raise NotImplementedError\n",
    "\n",
    "    def _init_falconn(self, dimension, number_bits, nb_tables):\n",
    "        assert nb_tables >= self._NEIGHBORS\n",
    "\n",
    "        # LSH parameters\n",
    "        params_cp = falconn.LSHConstructionParameters()\n",
    "        params_cp.dimension = dimension\n",
    "        params_cp.lsh_family = falconn.LSHFamily.CrossPolytope\n",
    "        params_cp.distance_function = falconn.DistanceFunction.EuclideanSquared\n",
    "        params_cp.l = nb_tables\n",
    "        params_cp.num_rotations = 2  # for dense set it to 1; for sparse data set it to 2\n",
    "        params_cp.seed = 5721840\n",
    "        params_cp.num_setup_threads = 0  # we want to use all the available threads to set up\n",
    "        params_cp.storage_hash_table = falconn.StorageHashTable.BitPackedFlatHashTable\n",
    "\n",
    "        # we build number_bits-bit hashes so that each table has\n",
    "        # 2^number_bits bins; a rule of thumb is to have the number\n",
    "        # of bins be the same order of magnitude as the number of data points\n",
    "        falconn.compute_number_of_hash_functions(number_bits, params_cp)\n",
    "        self._falconn_table = falconn.LSHIndex(params_cp)\n",
    "        self._falconn_query_object = None\n",
    "        self._FALCONN_NB_TABLES = nb_tables\n",
    "\n",
    "    def _init_faiss(self, dimension):\n",
    "        res = faiss.StandardGpuResources()\n",
    "        self._faiss_index = faiss.GpuIndexFlatL2(res, dimension)\n",
    "\n",
    "    def add(self, x):\n",
    "        if self._BACKEND is NearestNeighbor.BACKEND.FALCONN:\n",
    "            self._falconn_table.setup(x)\n",
    "        elif self._BACKEND is NearestNeighbor.BACKEND.FAISS:\n",
    "            self._faiss_index.add(x)\n",
    "        else:\n",
    "            raise NotImplementedError\n",
    "\n",
    "    def find_knns(self, x, output):\n",
    "        if self._BACKEND is NearestNeighbor.BACKEND.FALCONN:\n",
    "            return self._find_knns_falconn(x, output)\n",
    "        elif self._BACKEND is NearestNeighbor.BACKEND.FAISS:\n",
    "            return self._find_knns_faiss(x, output)\n",
    "        else:\n",
    "            raise NotImplementedError\n",
    "\n",
    "    def _find_knns_falconn(self, x, output):\n",
    "        # Late falconn query_object construction\n",
    "        # Since I suppose there might be an error\n",
    "        # if table.setup() will be called after\n",
    "        if self._falconn_query_object is None:\n",
    "            self._falconn_query_object = self._falconn_table.construct_query_object()\n",
    "            self._falconn_query_object.set_num_probes(self._FALCONN_NB_TABLES)\n",
    "\n",
    "        missing_indices = np.zeros(output.shape, dtype=np.bool)\n",
    "\n",
    "        for i in range(x.shape[0]):\n",
    "            query_res = self._falconn_query_object.find_k_nearest_neighbors(x[i], self._NEIGHBORS)\n",
    "\n",
    "            try:\n",
    "                output[i, :] = query_res\n",
    "            except:\n",
    "                # mark missing indices\n",
    "                missing_indices[i, len(query_res):] = True\n",
    "                output[i, :len(query_res)] = query_res\n",
    "\n",
    "        return missing_indices\n",
    "\n",
    "    def _find_knns_faiss(self, x, output):\n",
    "        neighbor_distance, neighbor_index = self._faiss_index.search(x, self._NEIGHBORS)\n",
    "\n",
    "        missing_indices = neighbor_distance == -1\n",
    "        d1 = neighbor_index.reshape(-1)\n",
    "\n",
    "        output.reshape(-1)[np.logical_not(missing_indices.flatten())] = d1[np.logical_not(missing_indices.flatten())]\n",
    "\n",
    "        return missing_indices\n",
    "\n",
    "\n",
    "class DkNN:\n",
    "\n",
    "    def __init__(self, model, nb_classes, neighbors, layers, trainloader, nearest_neighbor_backend, nb_tables=200, number_bits=17):\n",
    "        \"\"\"\n",
    "        Implementation of the DkNN algorithm, see https://arxiv.org/abs/1803.04765 for more details\n",
    "        :param model: model to be used\n",
    "        :param nb_classes: the number of classes in the task\n",
    "        :param neighbors: number of neighbors to find per layer\n",
    "        :param layers: a list of layer names to include in the DkNN\n",
    "        :param trainloader: data loader for the training data\n",
    "        :param nearest_neighbor_backend: falconn or faiss to be used for LSH\n",
    "        :param nb_tables: number of tables used by FALCONN to perform locality-sensitive hashing.\n",
    "        :param number_bits: number of hash bits used by LSH.\n",
    "        \"\"\"\n",
    "        print('---------- DkNN init')\n",
    "        print()\n",
    "\n",
    "        self.model = model\n",
    "        self.nb_classes = nb_classes\n",
    "        self.neighbors = neighbors\n",
    "        self.layers = layers\n",
    "        self.backend = nearest_neighbor_backend\n",
    "        self.nb_tables = nb_tables\n",
    "        self.number_bits = number_bits\n",
    "\n",
    "        self.nb_cali = -1\n",
    "        self.calibrated = False   \n",
    "\n",
    "        # Compute training data activations\n",
    "        activations = get_activations(trainloader, model, layers)\n",
    "        self.train_activations = activations['activations']\n",
    "        self.train_labels = activations['targets']\n",
    "\n",
    "        # Build locality-sensitive hashing tables for training representations\n",
    "        self.train_activations_lsh = copy.copy(self.train_activations)\n",
    "        self.init_lsh()\n",
    "\n",
    "    def init_lsh(self):\n",
    "        \"\"\"\n",
    "        Initializes locality-sensitive hashing with FALCONN to find nearest neighbors in training data\n",
    "        \"\"\"\n",
    "        self.query_objects = {} # contains the object that can be queried to find nearest neighbors at each layer\n",
    "        self.centers = {} # mean of training data representation per layer (that needs to be substracted before NearestNeighbor)\n",
    "\n",
    "        print(\"## Constructing the NearestNeighbor tables\")\n",
    "\n",
    "        for layer in self.layers:\n",
    "            print(\"Constructing table for {}\".format(layer))\n",
    "\n",
    "            # Normalize all the lenghts, since we care about the cosine similarity\n",
    "            self.train_activations_lsh[layer] /= np.linalg.norm(self.train_activations_lsh[layer], axis=1).reshape(-1, 1)\n",
    "\n",
    "            # Center the dataset and the queries: this improves the performance of LSH quite a bit\n",
    "            center = np.mean(self.train_activations_lsh[layer], axis=0)\n",
    "            self.train_activations_lsh[layer] -= center\n",
    "            self.centers[layer] = center\n",
    "\n",
    "            # Constructing nearest neighbor table\n",
    "            self.query_objects[layer] = NearestNeighbor(\n",
    "                backend=self.backend,\n",
    "                dimension=self.train_activations_lsh[layer].shape[1],\n",
    "                number_bits=self.number_bits,\n",
    "                neighbors=self.neighbors,\n",
    "                nb_tables=self.nb_tables,\n",
    "            )\n",
    "\n",
    "            self.query_objects[layer].add(self.train_activations_lsh[layer])\n",
    "\n",
    "        print(\"done!\")\n",
    "        print()\n",
    "\n",
    "\n",
    "    def calibrate(self, calibloader):\n",
    "        \"\"\"\n",
    "        Runs the DkNN on holdout data to calibrate the credibility metric\n",
    "        :param calibloader: data loader for the calibration loader\n",
    "        \"\"\"\n",
    "        print('---------- DkNN calibrate')\n",
    "        print()\n",
    "\n",
    "        # Compute calibration data activations\n",
    "        self.nb_cali = len(calibloader.dataset)\n",
    "        activations = get_activations(calibloader, self.model, self.layers)\n",
    "        self.cali_activations = activations['activations']\n",
    "        self.cali_labels = activations['targets']\n",
    "\n",
    "        print(\"## Starting calibration of DkNN\")\n",
    "\n",
    "        cali_knns_ind, cali_knns_labels = self.find_train_knns(self.cali_activations)\n",
    "        assert all([v.shape == (self.nb_cali, self.neighbors) for v in cali_knns_ind.values()])\n",
    "        assert all([v.shape == (self.nb_cali, self.neighbors) for v in cali_knns_labels.values()])\n",
    "\n",
    "        cali_knns_not_in_class = self.nonconformity(cali_knns_labels)\n",
    "        cali_knns_not_in_l = np.zeros(self.nb_cali, dtype=np.int32)\n",
    "\n",
    "        for i in range(self.nb_cali):\n",
    "            cali_knns_not_in_l[i] = cali_knns_not_in_class[i, self.cali_labels[i]]\n",
    "\n",
    "        cali_knns_not_in_l_sorted = np.sort(cali_knns_not_in_l)\n",
    "        self.cali_nonconformity = np.trim_zeros(cali_knns_not_in_l_sorted, trim='f')\n",
    "        self.nb_cali = self.cali_nonconformity.shape[0]\n",
    "        self.calibrated = True\n",
    "\n",
    "        print(\"DkNN calibration complete\")\n",
    "\n",
    "    def find_train_knns(self, data_activations):\n",
    "        \"\"\"\n",
    "        Given a data_activation dictionary that contains a np array with activations for each layer,\n",
    "        find the knns in the training data\n",
    "        \"\"\"\n",
    "        knns_ind = {}\n",
    "        knns_labels = {}\n",
    "\n",
    "        for layer in self.layers:\n",
    "            # Pre-process representations of data to normalize and remove training data mean\n",
    "            data_activations_layer = copy.copy(data_activations[layer])\n",
    "            nb_data = data_activations_layer.shape[0]\n",
    "            data_activations_layer /= np.linalg.norm(data_activations_layer, axis=1).reshape(-1, 1)\n",
    "            data_activations_layer -= self.centers[layer]\n",
    "\n",
    "            # Use FALCONN to find indices of nearest neighbors in training data\n",
    "            knns_ind[layer] = np.zeros((data_activations_layer.shape[0], self.neighbors), dtype=np.int32)\n",
    "            knn_errors = 0\n",
    "\n",
    "            knn_missing_indices = self.query_objects[layer].find_knns(data_activations_layer, knns_ind[layer])\n",
    "            knn_errors += knn_missing_indices.flatten().sum()\n",
    "\n",
    "            # Find labels of neighbors found in the training data\n",
    "            knns_labels[layer] = np.zeros((nb_data, self.neighbors), dtype=np.int32)\n",
    "\n",
    "            knns_labels[layer].reshape(-1)[\n",
    "                np.logical_not(knn_missing_indices.flatten())\n",
    "            ] = self.train_labels[\n",
    "                knns_ind[layer].reshape(-1)[np.logical_not(knn_missing_indices.flatten())]                    \n",
    "            ]\n",
    "\n",
    "        return knns_ind, knns_labels\n",
    "\n",
    "    def nonconformity(self, knns_labels):\n",
    "        \"\"\"\n",
    "        Given an dictionary of nb_data x nb_classes dimension, compute the nonconformity of\n",
    "        each candidate label for each data point: i.e. the number of knns whose label is\n",
    "        different from the candidate label\n",
    "        \"\"\"\n",
    "        nb_data = knns_labels[list(self.layers.keys())[0]].shape[0]\n",
    "        knns_not_in_class = np.zeros((nb_data, self.nb_classes), dtype=np.int32)\n",
    "\n",
    "        for i in range(nb_data):\n",
    "            # Compute number of nearest neighbors per class\n",
    "            knns_in_class = np.zeros((len(self.layers), self.nb_classes), dtype=np.int32)\n",
    "\n",
    "            for layer_id, layer in enumerate(self.layers):\n",
    "                knns_in_class[layer_id, :] = np.bincount(knns_labels[layer][i], minlength=self.nb_classes)\n",
    "\n",
    "            # Compute number of knns in other class than class_id\n",
    "            for class_id in range(self.nb_classes):\n",
    "                knns_not_in_class[i, class_id] = np.sum(knns_in_class) - np.sum(knns_in_class[:, class_id])\n",
    "\n",
    "        return knns_not_in_class\n",
    "\n",
    "    def fprop(self, testloader):\n",
    "        \"\"\"\n",
    "        Performs a forward pass through the DkNN on an numpy array of data\n",
    "        \"\"\"\n",
    "        print('---------- DkNN predict')\n",
    "        print()\n",
    "\n",
    "        if not self.calibrated:\n",
    "            raise ValueError(\"DkNN needs to be calibrated by calling DkNNModel.calibrate method once before inferring\")\n",
    "\n",
    "        # Compute test data activations\n",
    "        activations = get_activations(testloader, self.model, self.layers)\n",
    "        data_activations = activations['activations']\n",
    "        \n",
    "        start_time = time.time()\n",
    "        _, knns_labels = self.find_train_knns(data_activations)\n",
    "        end_time = time.time()\n",
    "        \n",
    "        print('kNN search time: {}'.format(end_time - start_time))\n",
    "\n",
    "        # Calculate nonconformity\n",
    "        knns_not_in_class = self.nonconformity(knns_labels)\n",
    "        print('Nonconformity calculated')\n",
    "\n",
    "        # Create predictions, confidence and credibility\n",
    "        _, _, creds = self.preds_conf_cred(knns_not_in_class)\n",
    "        print('Predictions created')\n",
    "\n",
    "        return creds, activations['targets']\n",
    "\n",
    "    def preds_conf_cred(self, knns_not_in_class):\n",
    "        \"\"\"\n",
    "        Given an array of nb_data x nb_classes dimensions, use conformal prediction to compute\n",
    "        the DkNN's prediction, confidence and credibility\n",
    "        \"\"\"\n",
    "        nb_data = knns_not_in_class.shape[0]\n",
    "        preds_knn = np.zeros(nb_data, dtype=np.int32)\n",
    "        confs = np.zeros((nb_data, self.nb_classes), dtype=np.float32)\n",
    "        creds = np.zeros((nb_data, self.nb_classes), dtype=np.float32)\n",
    "\n",
    "        for i in range(nb_data):\n",
    "            # p-value of test input for each class\n",
    "            p_value = np.zeros(self.nb_classes, dtype=np.float32)\n",
    "\n",
    "            for class_id in range(self.nb_classes):\n",
    "                # p-value of (test point, candidate label)\n",
    "                p_value[class_id] = (float(self.nb_cali) - bisect_left(self.cali_nonconformity, knns_not_in_class[i, class_id])) / float(self.nb_cali)\n",
    "\n",
    "            preds_knn[i] = np.argmax(p_value)\n",
    "            confs[i, preds_knn[i]] = 1. - np.sort(p_value)[-2]\n",
    "            creds[i, preds_knn[i]] = p_value[preds_knn[i]]\n",
    "\n",
    "        return preds_knn, confs, creds\n",
    "\n",
    "\n",
    "def plot_reliability_diagram(confidence, labels):\n",
    "    \"\"\"\n",
    "    Takes in confidence values (e.g. output of softmax or DkNN confidences) for\n",
    "    predictions and correct labels for the data, plots a reliability diagram\n",
    "    :param confidence: nb_samples x nb_classes with confidence scores\n",
    "    :param labels: targets\n",
    "    \"\"\"\n",
    "    assert len(confidence.shape) == 2\n",
    "    assert len(labels.shape) == 1\n",
    "    assert confidence.shape[0] == labels.shape[0]\n",
    "\n",
    "    if confidence.max() <= 1.:\n",
    "        # confidence array is output of softmax\n",
    "        bins_start = [b / 10. for b in range(0, 10)]\n",
    "        bins_end = [b / 10. for b in range(1, 11)]\n",
    "        bins_center = [(b + .5) / 10. for b in range(0, 10)]\n",
    "        preds_conf = np.max(confidence, axis=1)\n",
    "        preds_l = np.argmax(confidence, axis=1)\n",
    "    else:\n",
    "        raise ValueError('Confidence values go above 1')\n",
    "\n",
    "    print(preds_conf.shape, preds_l.shape)\n",
    "\n",
    "    # Create var for reliability diagram (Will contain mean accuracies for each bin)\n",
    "    reliability_diag = []\n",
    "    num_points = []  # keeps the number of points in each bar\n",
    "\n",
    "    # Find average accuracy per confidence bin\n",
    "    for bin_start, bin_end in zip(bins_start, bins_end):\n",
    "        above = preds_conf >= bin_start\n",
    "\n",
    "        if bin_end == 1.:\n",
    "            below = preds_conf <= bin_end\n",
    "        else:\n",
    "            below = preds_conf < bin_end\n",
    "\n",
    "        mask = np.multiply(above, below)\n",
    "        num_points.append(np.sum(mask))\n",
    "\n",
    "        bin_mean_acc = max(0, np.mean(preds_l[mask] == labels[mask]))\n",
    "        reliability_diag.append(bin_mean_acc)\n",
    "\n",
    "    # Plot diagram\n",
    "    assert len(reliability_diag) == len(bins_center)\n",
    "    #print(reliability_diag)\n",
    "    #print(bins_center)\n",
    "    #print(num_points)\n",
    "\n",
    "    fig, ax1 = plt.subplots()\n",
    "    _ = ax1.bar(bins_center, reliability_diag, width=.1, alpha=0.8, edgecolor = \"black\")\n",
    "    plt.xlim([0, 1.])\n",
    "    ax1.set_ylim([0, 1.])\n",
    "\n",
    "    ax2 = ax1.twinx()\n",
    "\n",
    "    #print(sum(num_points))\n",
    "\n",
    "    ax2.plot(bins_center, num_points, color='r', linestyle='-', linewidth=7.0)\n",
    "    ax2.set_ylabel('Number of points in the data', fontsize=16, color='r')\n",
    "\n",
    "    if len(np.argwhere(confidence[0] != 0.)) == 1:\n",
    "        # This is a DkNN diagram\n",
    "        ax1.set_xlabel('Prediction Credibility', fontsize=16)\n",
    "    else:\n",
    "        # This is a softmax diagram\n",
    "        ax1.set_xlabel('Prediction Confidence', fontsize=16)\n",
    "\n",
    "    ax1.set_ylabel('Prediction Accuracy', fontsize=16)\n",
    "    ax1.tick_params(axis='both', labelsize=14)\n",
    "    ax2.tick_params(axis='both', labelsize=14, colors='r')\n",
    "    fig.tight_layout()\n",
    "    plt.show()"
   ]
  },
  {
   "cell_type": "markdown",
   "metadata": {
    "colab_type": "text",
    "id": "NOXkJ-EB5rGU"
   },
   "source": [
    "Let's create a dataloader for training data that should be used to initialize the DkNN (shuffle must be false!). Then, initialize the DkNN."
   ]
  },
  {
   "cell_type": "code",
   "execution_count": 25,
   "metadata": {
    "colab": {
     "base_uri": "https://localhost:8080/",
     "height": 1000
    },
    "colab_type": "code",
    "id": "zX8Op544r4Wu",
    "outputId": "8a2ed2f3-e712-4bb6-e91a-c3e51d7a0000",
    "scrolled": true
   },
   "outputs": [
    {
     "name": "stdout",
     "output_type": "stream",
     "text": [
      "---------- DkNN init\n",
      "\n",
      "## Fetching Activations from Layer relu\n",
      "Processing Batch 0\n",
      "Processing Batch 1\n",
      "Processing Batch 2\n",
      "Processing Batch 3\n",
      "Processing Batch 4\n",
      "Processing Batch 5\n",
      "Processing Batch 6\n",
      "Processing Batch 7\n",
      "Processing Batch 8\n",
      "Processing Batch 9\n",
      "Processing Batch 10\n",
      "Processing Batch 11\n",
      "Processing Batch 12\n",
      "Processing Batch 13\n",
      "Processing Batch 14\n",
      "Processing Batch 15\n",
      "Processing Batch 16\n",
      "Processing Batch 17\n",
      "Processing Batch 18\n",
      "Processing Batch 19\n",
      "Processing Batch 20\n",
      "Processing Batch 21\n",
      "Processing Batch 22\n",
      "Processing Batch 23\n",
      "Processing Batch 24\n",
      "Processing Batch 25\n",
      "Processing Batch 26\n",
      "Processing Batch 27\n",
      "Processing Batch 28\n",
      "Processing Batch 29\n",
      "Processing Batch 30\n",
      "Processing Batch 31\n",
      "Processing Batch 32\n",
      "Processing Batch 33\n",
      "Processing Batch 34\n",
      "Processing Batch 35\n",
      "Processing Batch 36\n",
      "Processing Batch 37\n",
      "Processing Batch 38\n",
      "Processing Batch 39\n",
      "Processing Batch 40\n",
      "Processing Batch 41\n",
      "Processing Batch 42\n",
      "Processing Batch 43\n",
      "Processing Batch 44\n",
      "Processing Batch 45\n",
      "Processing Batch 46\n",
      "Processing Batch 47\n",
      "Processing Batch 48\n",
      "Processing Batch 49\n",
      "Processing Batch 50\n",
      "Processing Batch 51\n",
      "Processing Batch 52\n",
      "Processing Batch 53\n",
      "Processing Batch 54\n",
      "Processing Batch 55\n",
      "Processing Batch 56\n",
      "Processing Batch 57\n",
      "Processing Batch 58\n",
      "Processing Batch 59\n",
      "Processing Batch 60\n",
      "Processing Batch 61\n",
      "Processing Batch 62\n",
      "Processing Batch 63\n",
      "Processing Batch 64\n",
      "Processing Batch 65\n",
      "Processing Batch 66\n",
      "Processing Batch 67\n",
      "Processing Batch 68\n",
      "Processing Batch 69\n",
      "Processing Batch 70\n",
      "Processing Batch 71\n",
      "Processing Batch 72\n",
      "Processing Batch 73\n",
      "Processing Batch 74\n",
      "Processing Batch 75\n",
      "Processing Batch 76\n",
      "Processing Batch 77\n",
      "Processing Batch 78\n",
      "Processing Batch 79\n",
      "Processing Batch 80\n",
      "Processing Batch 81\n",
      "Processing Batch 82\n",
      "Processing Batch 83\n",
      "Processing Batch 84\n",
      "Processing Batch 85\n",
      "Processing Batch 86\n",
      "Processing Batch 87\n",
      "Processing Batch 88\n",
      "Processing Batch 89\n",
      "Processing Batch 90\n",
      "Processing Batch 91\n",
      "Processing Batch 92\n",
      "Processing Batch 93\n",
      "Processing Batch 94\n",
      "Processing Batch 95\n",
      "Processing Batch 96\n",
      "Processing Batch 97\n",
      "Processing Batch 98\n",
      "Processing Batch 99\n",
      "done!\n",
      "\n",
      "## Fetching Activations from Layer layer1\n",
      "Processing Batch 0\n",
      "Processing Batch 1\n",
      "Processing Batch 2\n",
      "Processing Batch 3\n",
      "Processing Batch 4\n",
      "Processing Batch 5\n",
      "Processing Batch 6\n",
      "Processing Batch 7\n",
      "Processing Batch 8\n",
      "Processing Batch 9\n",
      "Processing Batch 10\n",
      "Processing Batch 11\n",
      "Processing Batch 12\n",
      "Processing Batch 13\n",
      "Processing Batch 14\n",
      "Processing Batch 15\n",
      "Processing Batch 16\n",
      "Processing Batch 17\n",
      "Processing Batch 18\n",
      "Processing Batch 19\n",
      "Processing Batch 20\n",
      "Processing Batch 21\n",
      "Processing Batch 22\n",
      "Processing Batch 23\n",
      "Processing Batch 24\n",
      "Processing Batch 25\n",
      "Processing Batch 26\n",
      "Processing Batch 27\n",
      "Processing Batch 28\n",
      "Processing Batch 29\n",
      "Processing Batch 30\n",
      "Processing Batch 31\n",
      "Processing Batch 32\n",
      "Processing Batch 33\n",
      "Processing Batch 34\n",
      "Processing Batch 35\n",
      "Processing Batch 36\n",
      "Processing Batch 37\n",
      "Processing Batch 38\n",
      "Processing Batch 39\n",
      "Processing Batch 40\n",
      "Processing Batch 41\n",
      "Processing Batch 42\n",
      "Processing Batch 43\n",
      "Processing Batch 44\n",
      "Processing Batch 45\n",
      "Processing Batch 46\n",
      "Processing Batch 47\n",
      "Processing Batch 48\n",
      "Processing Batch 49\n",
      "Processing Batch 50\n",
      "Processing Batch 51\n",
      "Processing Batch 52\n",
      "Processing Batch 53\n",
      "Processing Batch 54\n",
      "Processing Batch 55\n",
      "Processing Batch 56\n",
      "Processing Batch 57\n",
      "Processing Batch 58\n",
      "Processing Batch 59\n",
      "Processing Batch 60\n",
      "Processing Batch 61\n",
      "Processing Batch 62\n",
      "Processing Batch 63\n",
      "Processing Batch 64\n",
      "Processing Batch 65\n",
      "Processing Batch 66\n",
      "Processing Batch 67\n",
      "Processing Batch 68\n",
      "Processing Batch 69\n",
      "Processing Batch 70\n",
      "Processing Batch 71\n",
      "Processing Batch 72\n",
      "Processing Batch 73\n",
      "Processing Batch 74\n",
      "Processing Batch 75\n",
      "Processing Batch 76\n",
      "Processing Batch 77\n",
      "Processing Batch 78\n",
      "Processing Batch 79\n",
      "Processing Batch 80\n",
      "Processing Batch 81\n",
      "Processing Batch 82\n",
      "Processing Batch 83\n",
      "Processing Batch 84\n",
      "Processing Batch 85\n",
      "Processing Batch 86\n",
      "Processing Batch 87\n",
      "Processing Batch 88\n",
      "Processing Batch 89\n",
      "Processing Batch 90\n",
      "Processing Batch 91\n",
      "Processing Batch 92\n",
      "Processing Batch 93\n",
      "Processing Batch 94\n",
      "Processing Batch 95\n",
      "Processing Batch 96\n",
      "Processing Batch 97\n",
      "Processing Batch 98\n",
      "Processing Batch 99\n",
      "done!\n",
      "\n",
      "## Fetching Activations from Layer layer2\n",
      "Processing Batch 0\n",
      "Processing Batch 1\n",
      "Processing Batch 2\n",
      "Processing Batch 3\n",
      "Processing Batch 4\n",
      "Processing Batch 5\n",
      "Processing Batch 6\n",
      "Processing Batch 7\n",
      "Processing Batch 8\n",
      "Processing Batch 9\n",
      "Processing Batch 10\n",
      "Processing Batch 11\n",
      "Processing Batch 12\n",
      "Processing Batch 13\n",
      "Processing Batch 14\n",
      "Processing Batch 15\n",
      "Processing Batch 16\n",
      "Processing Batch 17\n",
      "Processing Batch 18\n",
      "Processing Batch 19\n",
      "Processing Batch 20\n",
      "Processing Batch 21\n",
      "Processing Batch 22\n",
      "Processing Batch 23\n",
      "Processing Batch 24\n",
      "Processing Batch 25\n",
      "Processing Batch 26\n",
      "Processing Batch 27\n",
      "Processing Batch 28\n",
      "Processing Batch 29\n",
      "Processing Batch 30\n",
      "Processing Batch 31\n",
      "Processing Batch 32\n",
      "Processing Batch 33\n",
      "Processing Batch 34\n",
      "Processing Batch 35\n",
      "Processing Batch 36\n",
      "Processing Batch 37\n",
      "Processing Batch 38\n",
      "Processing Batch 39\n",
      "Processing Batch 40\n",
      "Processing Batch 41\n",
      "Processing Batch 42\n",
      "Processing Batch 43\n",
      "Processing Batch 44\n",
      "Processing Batch 45\n",
      "Processing Batch 46\n",
      "Processing Batch 47\n",
      "Processing Batch 48\n",
      "Processing Batch 49\n",
      "Processing Batch 50\n",
      "Processing Batch 51\n",
      "Processing Batch 52\n",
      "Processing Batch 53\n",
      "Processing Batch 54\n",
      "Processing Batch 55\n",
      "Processing Batch 56\n",
      "Processing Batch 57\n",
      "Processing Batch 58\n",
      "Processing Batch 59\n",
      "Processing Batch 60\n",
      "Processing Batch 61\n",
      "Processing Batch 62\n",
      "Processing Batch 63\n",
      "Processing Batch 64\n",
      "Processing Batch 65\n",
      "Processing Batch 66\n",
      "Processing Batch 67\n",
      "Processing Batch 68\n",
      "Processing Batch 69\n",
      "Processing Batch 70\n",
      "Processing Batch 71\n",
      "Processing Batch 72\n",
      "Processing Batch 73\n",
      "Processing Batch 74\n",
      "Processing Batch 75\n",
      "Processing Batch 76\n",
      "Processing Batch 77\n",
      "Processing Batch 78\n",
      "Processing Batch 79\n",
      "Processing Batch 80\n",
      "Processing Batch 81\n",
      "Processing Batch 82\n",
      "Processing Batch 83\n",
      "Processing Batch 84\n",
      "Processing Batch 85\n",
      "Processing Batch 86\n",
      "Processing Batch 87\n",
      "Processing Batch 88\n",
      "Processing Batch 89\n",
      "Processing Batch 90\n",
      "Processing Batch 91\n",
      "Processing Batch 92\n",
      "Processing Batch 93\n",
      "Processing Batch 94\n",
      "Processing Batch 95\n",
      "Processing Batch 96\n",
      "Processing Batch 97\n",
      "Processing Batch 98\n",
      "Processing Batch 99\n",
      "done!\n",
      "\n",
      "## Fetching Activations from Layer layer3\n",
      "Processing Batch 0\n",
      "Processing Batch 1\n",
      "Processing Batch 2\n",
      "Processing Batch 3\n",
      "Processing Batch 4\n",
      "Processing Batch 5\n",
      "Processing Batch 6\n",
      "Processing Batch 7\n",
      "Processing Batch 8\n",
      "Processing Batch 9\n",
      "Processing Batch 10\n",
      "Processing Batch 11\n",
      "Processing Batch 12\n",
      "Processing Batch 13\n",
      "Processing Batch 14\n",
      "Processing Batch 15\n",
      "Processing Batch 16\n",
      "Processing Batch 17\n",
      "Processing Batch 18\n",
      "Processing Batch 19\n",
      "Processing Batch 20\n",
      "Processing Batch 21\n",
      "Processing Batch 22\n",
      "Processing Batch 23\n",
      "Processing Batch 24\n",
      "Processing Batch 25\n",
      "Processing Batch 26\n",
      "Processing Batch 27\n",
      "Processing Batch 28\n",
      "Processing Batch 29\n",
      "Processing Batch 30\n",
      "Processing Batch 31\n",
      "Processing Batch 32\n",
      "Processing Batch 33\n",
      "Processing Batch 34\n",
      "Processing Batch 35\n",
      "Processing Batch 36\n",
      "Processing Batch 37\n",
      "Processing Batch 38\n",
      "Processing Batch 39\n",
      "Processing Batch 40\n",
      "Processing Batch 41\n",
      "Processing Batch 42\n",
      "Processing Batch 43\n",
      "Processing Batch 44\n",
      "Processing Batch 45\n",
      "Processing Batch 46\n",
      "Processing Batch 47\n",
      "Processing Batch 48\n",
      "Processing Batch 49\n",
      "Processing Batch 50\n",
      "Processing Batch 51\n",
      "Processing Batch 52\n",
      "Processing Batch 53\n",
      "Processing Batch 54\n",
      "Processing Batch 55\n",
      "Processing Batch 56\n",
      "Processing Batch 57\n",
      "Processing Batch 58\n",
      "Processing Batch 59\n",
      "Processing Batch 60\n",
      "Processing Batch 61\n",
      "Processing Batch 62\n",
      "Processing Batch 63\n",
      "Processing Batch 64\n",
      "Processing Batch 65\n",
      "Processing Batch 66\n",
      "Processing Batch 67\n",
      "Processing Batch 68\n",
      "Processing Batch 69\n",
      "Processing Batch 70\n",
      "Processing Batch 71\n",
      "Processing Batch 72\n",
      "Processing Batch 73\n",
      "Processing Batch 74\n",
      "Processing Batch 75\n",
      "Processing Batch 76\n",
      "Processing Batch 77\n",
      "Processing Batch 78\n",
      "Processing Batch 79\n",
      "Processing Batch 80\n",
      "Processing Batch 81\n",
      "Processing Batch 82\n",
      "Processing Batch 83\n",
      "Processing Batch 84\n",
      "Processing Batch 85\n",
      "Processing Batch 86\n",
      "Processing Batch 87\n",
      "Processing Batch 88\n",
      "Processing Batch 89\n",
      "Processing Batch 90\n",
      "Processing Batch 91\n",
      "Processing Batch 92\n",
      "Processing Batch 93\n",
      "Processing Batch 94\n",
      "Processing Batch 95\n",
      "Processing Batch 96\n",
      "Processing Batch 97\n",
      "Processing Batch 98\n",
      "Processing Batch 99\n",
      "done!\n",
      "\n",
      "## Fetching Activations from Layer avgpool\n"
     ]
    },
    {
     "name": "stdout",
     "output_type": "stream",
     "text": [
      "Processing Batch 0\n",
      "Processing Batch 1\n",
      "Processing Batch 2\n",
      "Processing Batch 3\n",
      "Processing Batch 4\n",
      "Processing Batch 5\n",
      "Processing Batch 6\n",
      "Processing Batch 7\n",
      "Processing Batch 8\n",
      "Processing Batch 9\n",
      "Processing Batch 10\n",
      "Processing Batch 11\n",
      "Processing Batch 12\n",
      "Processing Batch 13\n",
      "Processing Batch 14\n",
      "Processing Batch 15\n",
      "Processing Batch 16\n",
      "Processing Batch 17\n",
      "Processing Batch 18\n",
      "Processing Batch 19\n",
      "Processing Batch 20\n",
      "Processing Batch 21\n",
      "Processing Batch 22\n",
      "Processing Batch 23\n",
      "Processing Batch 24\n",
      "Processing Batch 25\n",
      "Processing Batch 26\n",
      "Processing Batch 27\n",
      "Processing Batch 28\n",
      "Processing Batch 29\n",
      "Processing Batch 30\n",
      "Processing Batch 31\n",
      "Processing Batch 32\n",
      "Processing Batch 33\n",
      "Processing Batch 34\n",
      "Processing Batch 35\n",
      "Processing Batch 36\n",
      "Processing Batch 37\n",
      "Processing Batch 38\n",
      "Processing Batch 39\n",
      "Processing Batch 40\n",
      "Processing Batch 41\n",
      "Processing Batch 42\n",
      "Processing Batch 43\n",
      "Processing Batch 44\n",
      "Processing Batch 45\n",
      "Processing Batch 46\n",
      "Processing Batch 47\n",
      "Processing Batch 48\n",
      "Processing Batch 49\n",
      "Processing Batch 50\n",
      "Processing Batch 51\n",
      "Processing Batch 52\n",
      "Processing Batch 53\n",
      "Processing Batch 54\n",
      "Processing Batch 55\n",
      "Processing Batch 56\n",
      "Processing Batch 57\n",
      "Processing Batch 58\n",
      "Processing Batch 59\n",
      "Processing Batch 60\n",
      "Processing Batch 61\n",
      "Processing Batch 62\n",
      "Processing Batch 63\n",
      "Processing Batch 64\n",
      "Processing Batch 65\n",
      "Processing Batch 66\n",
      "Processing Batch 67\n",
      "Processing Batch 68\n",
      "Processing Batch 69\n",
      "Processing Batch 70\n",
      "Processing Batch 71\n",
      "Processing Batch 72\n",
      "Processing Batch 73\n",
      "Processing Batch 74\n",
      "Processing Batch 75\n",
      "Processing Batch 76\n",
      "Processing Batch 77\n",
      "Processing Batch 78\n",
      "Processing Batch 79\n",
      "Processing Batch 80\n",
      "Processing Batch 81\n",
      "Processing Batch 82\n",
      "Processing Batch 83\n",
      "Processing Batch 84\n",
      "Processing Batch 85\n",
      "Processing Batch 86\n",
      "Processing Batch 87\n",
      "Processing Batch 88\n",
      "Processing Batch 89\n",
      "Processing Batch 90\n",
      "Processing Batch 91\n",
      "Processing Batch 92\n",
      "Processing Batch 93\n",
      "Processing Batch 94\n",
      "Processing Batch 95\n",
      "Processing Batch 96\n",
      "Processing Batch 97\n",
      "Processing Batch 98\n",
      "Processing Batch 99\n",
      "done!\n",
      "\n",
      "## Fetching Activations from Layer fc\n",
      "Processing Batch 0\n",
      "Processing Batch 1\n",
      "Processing Batch 2\n",
      "Processing Batch 3\n",
      "Processing Batch 4\n",
      "Processing Batch 5\n",
      "Processing Batch 6\n",
      "Processing Batch 7\n",
      "Processing Batch 8\n",
      "Processing Batch 9\n",
      "Processing Batch 10\n",
      "Processing Batch 11\n",
      "Processing Batch 12\n",
      "Processing Batch 13\n",
      "Processing Batch 14\n",
      "Processing Batch 15\n",
      "Processing Batch 16\n",
      "Processing Batch 17\n",
      "Processing Batch 18\n",
      "Processing Batch 19\n",
      "Processing Batch 20\n",
      "Processing Batch 21\n",
      "Processing Batch 22\n",
      "Processing Batch 23\n",
      "Processing Batch 24\n",
      "Processing Batch 25\n",
      "Processing Batch 26\n",
      "Processing Batch 27\n",
      "Processing Batch 28\n",
      "Processing Batch 29\n",
      "Processing Batch 30\n",
      "Processing Batch 31\n",
      "Processing Batch 32\n",
      "Processing Batch 33\n",
      "Processing Batch 34\n",
      "Processing Batch 35\n",
      "Processing Batch 36\n",
      "Processing Batch 37\n",
      "Processing Batch 38\n",
      "Processing Batch 39\n",
      "Processing Batch 40\n",
      "Processing Batch 41\n",
      "Processing Batch 42\n",
      "Processing Batch 43\n",
      "Processing Batch 44\n",
      "Processing Batch 45\n",
      "Processing Batch 46\n",
      "Processing Batch 47\n",
      "Processing Batch 48\n",
      "Processing Batch 49\n",
      "Processing Batch 50\n",
      "Processing Batch 51\n",
      "Processing Batch 52\n",
      "Processing Batch 53\n",
      "Processing Batch 54\n",
      "Processing Batch 55\n",
      "Processing Batch 56\n",
      "Processing Batch 57\n",
      "Processing Batch 58\n",
      "Processing Batch 59\n",
      "Processing Batch 60\n",
      "Processing Batch 61\n",
      "Processing Batch 62\n",
      "Processing Batch 63\n",
      "Processing Batch 64\n",
      "Processing Batch 65\n",
      "Processing Batch 66\n",
      "Processing Batch 67\n",
      "Processing Batch 68\n",
      "Processing Batch 69\n",
      "Processing Batch 70\n",
      "Processing Batch 71\n",
      "Processing Batch 72\n",
      "Processing Batch 73\n",
      "Processing Batch 74\n",
      "Processing Batch 75\n",
      "Processing Batch 76\n",
      "Processing Batch 77\n",
      "Processing Batch 78\n",
      "Processing Batch 79\n",
      "Processing Batch 80\n",
      "Processing Batch 81\n",
      "Processing Batch 82\n",
      "Processing Batch 83\n",
      "Processing Batch 84\n",
      "Processing Batch 85\n",
      "Processing Batch 86\n",
      "Processing Batch 87\n",
      "Processing Batch 88\n",
      "Processing Batch 89\n",
      "Processing Batch 90\n",
      "Processing Batch 91\n",
      "Processing Batch 92\n",
      "Processing Batch 93\n",
      "Processing Batch 94\n",
      "Processing Batch 95\n",
      "Processing Batch 96\n",
      "Processing Batch 97\n",
      "Processing Batch 98\n",
      "Processing Batch 99\n",
      "done!\n",
      "\n",
      "## Constructing the NearestNeighbor tables\n",
      "Constructing table for relu\n",
      "Constructing table for layer1\n",
      "Constructing table for layer2\n",
      "Constructing table for layer3\n",
      "Constructing table for avgpool\n",
      "Constructing table for fc\n",
      "done!\n",
      "\n"
     ]
    }
   ],
   "source": [
    "# Create training data loader for DkNN\n",
    "trainloader_dknn = torch.utils.data.DataLoader(\n",
    "    trainset, batch_size=batch_size_train, shuffle=False, num_workers=2\n",
    ")\n",
    "\n",
    "# Initialize DkNN\n",
    "nb_classes_mnist = 10\n",
    "dknn = DkNN(model, nb_classes_mnist, neighbors, layers, trainloader_dknn, NearestNeighbor.BACKEND.FALCONN)"
   ]
  },
  {
   "cell_type": "markdown",
   "metadata": {
    "colab_type": "text",
    "id": "pz04V-f_6IFi"
   },
   "source": [
    "Then, calibrate."
   ]
  },
  {
   "cell_type": "code",
   "execution_count": 26,
   "metadata": {
    "colab": {
     "base_uri": "https://localhost:8080/",
     "height": 357
    },
    "colab_type": "code",
    "id": "r4lBatc9sX7V",
    "outputId": "ba0ab968-24b1-48a9-a7a7-bef0fb746582"
   },
   "outputs": [
    {
     "name": "stdout",
     "output_type": "stream",
     "text": [
      "---------- DkNN calibrate\n",
      "\n",
      "## Fetching Activations from Layer relu\n",
      "Processing Batch 0\n",
      "done!\n",
      "\n",
      "## Fetching Activations from Layer layer1\n",
      "Processing Batch 0\n",
      "done!\n",
      "\n",
      "## Fetching Activations from Layer layer2\n",
      "Processing Batch 0\n",
      "done!\n",
      "\n",
      "## Fetching Activations from Layer layer3\n",
      "Processing Batch 0\n",
      "done!\n",
      "\n",
      "## Fetching Activations from Layer avgpool\n",
      "Processing Batch 0\n",
      "done!\n",
      "\n",
      "## Fetching Activations from Layer fc\n",
      "Processing Batch 0\n",
      "done!\n",
      "\n",
      "## Starting calibration of DkNN\n",
      "DkNN calibration complete\n"
     ]
    }
   ],
   "source": [
    "dknn.calibrate(calibloader)"
   ]
  },
  {
   "cell_type": "markdown",
   "metadata": {
    "colab_type": "text",
    "id": "YPDIvU3e6R7S"
   },
   "source": [
    "Create DkNN predictions for the test set."
   ]
  },
  {
   "cell_type": "code",
   "execution_count": 27,
   "metadata": {
    "colab": {
     "base_uri": "https://localhost:8080/",
     "height": 1000
    },
    "colab_type": "code",
    "id": "IkaYDbNXO-UT",
    "outputId": "623c42e8-e127-4fc4-b250-f357f7aba58f",
    "scrolled": true
   },
   "outputs": [
    {
     "name": "stdout",
     "output_type": "stream",
     "text": [
      "---------- DkNN predict\n",
      "\n",
      "## Fetching Activations from Layer relu\n",
      "Processing Batch 0\n",
      "Processing Batch 1\n",
      "Processing Batch 2\n",
      "Processing Batch 3\n",
      "Processing Batch 4\n",
      "Processing Batch 5\n",
      "Processing Batch 6\n",
      "Processing Batch 7\n",
      "Processing Batch 8\n",
      "Processing Batch 9\n",
      "done!\n",
      "\n",
      "## Fetching Activations from Layer layer1\n",
      "Processing Batch 0\n",
      "Processing Batch 1\n",
      "Processing Batch 2\n",
      "Processing Batch 3\n",
      "Processing Batch 4\n",
      "Processing Batch 5\n",
      "Processing Batch 6\n",
      "Processing Batch 7\n",
      "Processing Batch 8\n",
      "Processing Batch 9\n",
      "done!\n",
      "\n",
      "## Fetching Activations from Layer layer2\n",
      "Processing Batch 0\n",
      "Processing Batch 1\n",
      "Processing Batch 2\n",
      "Processing Batch 3\n",
      "Processing Batch 4\n",
      "Processing Batch 5\n",
      "Processing Batch 6\n",
      "Processing Batch 7\n",
      "Processing Batch 8\n",
      "Processing Batch 9\n",
      "done!\n",
      "\n",
      "## Fetching Activations from Layer layer3\n",
      "Processing Batch 0\n",
      "Processing Batch 1\n",
      "Processing Batch 2\n",
      "Processing Batch 3\n",
      "Processing Batch 4\n",
      "Processing Batch 5\n",
      "Processing Batch 6\n",
      "Processing Batch 7\n",
      "Processing Batch 8\n",
      "Processing Batch 9\n",
      "done!\n",
      "\n",
      "## Fetching Activations from Layer avgpool\n",
      "Processing Batch 0\n",
      "Processing Batch 1\n",
      "Processing Batch 2\n",
      "Processing Batch 3\n",
      "Processing Batch 4\n",
      "Processing Batch 5\n",
      "Processing Batch 6\n",
      "Processing Batch 7\n",
      "Processing Batch 8\n",
      "Processing Batch 9\n",
      "done!\n",
      "\n",
      "## Fetching Activations from Layer fc\n",
      "Processing Batch 0\n",
      "Processing Batch 1\n",
      "Processing Batch 2\n",
      "Processing Batch 3\n",
      "Processing Batch 4\n",
      "Processing Batch 5\n",
      "Processing Batch 6\n",
      "Processing Batch 7\n",
      "Processing Batch 8\n",
      "Processing Batch 9\n",
      "done!\n",
      "\n",
      "kNN search time: 643.5384590625763\n",
      "Nonconformity calculated\n",
      "Predictions created\n",
      "\n",
      "---------------------------------------------\n",
      "preds:   (9250, 10)\n",
      "targets: (9250,)\n"
     ]
    }
   ],
   "source": [
    "start_test_time = time.time()\n",
    "dknn_preds_testset, test_targets = dknn.fprop(testloader)\n",
    "end_test_time = time.time()\n",
    "\n",
    "print()\n",
    "print('---------------------------------------------')\n",
    "print('preds:   {}'.format(dknn_preds_testset.shape))\n",
    "print('targets: {}'.format(test_targets.shape))"
   ]
  },
  {
   "cell_type": "code",
   "execution_count": 28,
   "metadata": {},
   "outputs": [
    {
     "name": "stdout",
     "output_type": "stream",
     "text": [
      "time: 783.1732912063599\n"
     ]
    }
   ],
   "source": [
    "print('time: {}'.format(end_test_time - start_test_time))"
   ]
  },
  {
   "cell_type": "markdown",
   "metadata": {
    "colab_type": "text",
    "id": "sa7OpFM76hQU"
   },
   "source": [
    "Let's plot the result. `plot-reliability_diagram` produces a warning regarding taking a mean of an empty list. According to the discussion on [here](https://stackoverflow.com/questions/29688168/mean-nanmean-and-warning-mean-of-empty-slice) we probably can ignore that warning."
   ]
  },
  {
   "cell_type": "code",
   "execution_count": 29,
   "metadata": {
    "colab": {
     "base_uri": "https://localhost:8080/",
     "height": 314
    },
    "colab_type": "code",
    "id": "EGDlrx9LPVhP",
    "outputId": "4a9bbae8-97a9-48d6-a741-1f7893684837"
   },
   "outputs": [
    {
     "name": "stdout",
     "output_type": "stream",
     "text": [
      "(9250,) (9250,)\n"
     ]
    },
    {
     "data": {
      "image/png": "[encoded data removed]",
      "text/plain": [
       "<Figure size 432x288 with 2 Axes>"
      ]
     },
     "metadata": {
      "needs_background": "light"
     },
     "output_type": "display_data"
    }
   ],
   "source": [
    "with warnings.catch_warnings():\n",
    "    warnings.simplefilter(\"ignore\", category=RuntimeWarning)\n",
    "    plot_reliability_diagram(dknn_preds_testset, test_targets)"
   ]
  },
  {
   "cell_type": "markdown",
   "metadata": {
    "colab_type": "text",
    "id": "7isjmfEH7JVp"
   },
   "source": [
    "Create DkNN predictions for the adversarial set."
   ]
  },
  {
   "cell_type": "code",
   "execution_count": 30,
   "metadata": {
    "colab": {
     "base_uri": "https://localhost:8080/",
     "height": 1000
    },
    "colab_type": "code",
    "id": "3IqnUwcePO6J",
    "outputId": "347d97d1-2ad3-47f0-c680-d0f1071df5f5",
    "scrolled": true
   },
   "outputs": [
    {
     "name": "stdout",
     "output_type": "stream",
     "text": [
      "---------- DkNN predict\n",
      "\n",
      "## Fetching Activations from Layer relu\n",
      "Processing Batch 0\n",
      "Processing Batch 1\n",
      "Processing Batch 2\n",
      "Processing Batch 3\n",
      "Processing Batch 4\n",
      "Processing Batch 5\n",
      "Processing Batch 6\n",
      "Processing Batch 7\n",
      "Processing Batch 8\n",
      "Processing Batch 9\n",
      "done!\n",
      "\n",
      "## Fetching Activations from Layer layer1\n",
      "Processing Batch 0\n",
      "Processing Batch 1\n",
      "Processing Batch 2\n",
      "Processing Batch 3\n",
      "Processing Batch 4\n",
      "Processing Batch 5\n",
      "Processing Batch 6\n",
      "Processing Batch 7\n",
      "Processing Batch 8\n",
      "Processing Batch 9\n",
      "done!\n",
      "\n",
      "## Fetching Activations from Layer layer2\n",
      "Processing Batch 0\n",
      "Processing Batch 1\n",
      "Processing Batch 2\n",
      "Processing Batch 3\n",
      "Processing Batch 4\n",
      "Processing Batch 5\n",
      "Processing Batch 6\n",
      "Processing Batch 7\n",
      "Processing Batch 8\n",
      "Processing Batch 9\n",
      "done!\n",
      "\n",
      "## Fetching Activations from Layer layer3\n",
      "Processing Batch 0\n",
      "Processing Batch 1\n",
      "Processing Batch 2\n",
      "Processing Batch 3\n",
      "Processing Batch 4\n",
      "Processing Batch 5\n",
      "Processing Batch 6\n",
      "Processing Batch 7\n",
      "Processing Batch 8\n",
      "Processing Batch 9\n",
      "done!\n",
      "\n",
      "## Fetching Activations from Layer avgpool\n",
      "Processing Batch 0\n",
      "Processing Batch 1\n",
      "Processing Batch 2\n",
      "Processing Batch 3\n",
      "Processing Batch 4\n",
      "Processing Batch 5\n",
      "Processing Batch 6\n",
      "Processing Batch 7\n",
      "Processing Batch 8\n",
      "Processing Batch 9\n",
      "done!\n",
      "\n",
      "## Fetching Activations from Layer fc\n",
      "Processing Batch 0\n",
      "Processing Batch 1\n",
      "Processing Batch 2\n",
      "Processing Batch 3\n",
      "Processing Batch 4\n",
      "Processing Batch 5\n",
      "Processing Batch 6\n",
      "Processing Batch 7\n",
      "Processing Batch 8\n",
      "Processing Batch 9\n",
      "done!\n",
      "\n",
      "kNN search time: 687.3737862110138\n",
      "Nonconformity calculated\n",
      "Predictions created\n",
      "\n",
      "---------------------------------------------\n",
      "preds:   (9250, 10)\n",
      "targets: (9250,)\n"
     ]
    }
   ],
   "source": [
    "start_test_time = time.time()\n",
    "dknn_preds_advset, adv_targets = dknn.fprop(advloader)\n",
    "end_test_time = time.time()\n",
    "\n",
    "print()\n",
    "print('---------------------------------------------')\n",
    "print('preds:   {}'.format(dknn_preds_advset.shape))\n",
    "print('targets: {}'.format(test_targets.shape))"
   ]
  },
  {
   "cell_type": "code",
   "execution_count": 31,
   "metadata": {},
   "outputs": [
    {
     "name": "stdout",
     "output_type": "stream",
     "text": [
      "time: 824.6349849700928\n"
     ]
    }
   ],
   "source": [
    "print('time: {}'.format(end_test_time - start_test_time))"
   ]
  },
  {
   "cell_type": "markdown",
   "metadata": {
    "colab_type": "text",
    "id": "RBMj-wHJ7gJ5"
   },
   "source": [
    "Let's plot the result."
   ]
  },
  {
   "cell_type": "code",
   "execution_count": 32,
   "metadata": {
    "colab": {
     "base_uri": "https://localhost:8080/",
     "height": 314
    },
    "colab_type": "code",
    "id": "m9wR6su_PYx0",
    "outputId": "78bce374-e24b-471e-9994-7d6da56c72d3"
   },
   "outputs": [
    {
     "name": "stdout",
     "output_type": "stream",
     "text": [
      "(9250,) (9250,)\n"
     ]
    },
    {
     "data": {
      "image/png": "[encoded data removed]",
      "text/plain": [
       "<Figure size 432x288 with 2 Axes>"
      ]
     },
     "metadata": {
      "needs_background": "light"
     },
     "output_type": "display_data"
    }
   ],
   "source": [
    "with warnings.catch_warnings():\n",
    "    warnings.simplefilter(\"ignore\", category=RuntimeWarning)\n",
    "    plot_reliability_diagram(dknn_preds_advset, test_targets)"
   ]
  },
  {
   "cell_type": "markdown",
   "metadata": {
    "colab_type": "text",
    "id": "HTmunLNo73q_"
   },
   "source": [
    "For comparision let us also create the plot using the softmax scores instead of the DkNN scores."
   ]
  },
  {
   "cell_type": "code",
   "execution_count": 33,
   "metadata": {
    "colab": {},
    "colab_type": "code",
    "id": "03EP0_icXx2R"
   },
   "outputs": [],
   "source": [
    "def get_softmax_scores(model, dataloader):\n",
    "    model.eval()\n",
    "    softmax_scores = []\n",
    "    \n",
    "    with torch.no_grad():\n",
    "        for data in dataloader:\n",
    "            # Get the inputs; data is a list of [inputs, labels]\n",
    "            inputs, targets = data\n",
    "\n",
    "            if use_cuda:\n",
    "              inputs, targets = inputs.cuda(), targets.cuda()\n",
    "            \n",
    "            # Forward + loss + correct\n",
    "            outputs = model(inputs)\n",
    "            criterion(outputs, targets)\n",
    "            \n",
    "            # Get softmax scores\n",
    "            softmax_output = torch.nn.functional.softmax(outputs.data, dim=1)\n",
    "            pred, pred_idx = torch.max(softmax_output, 1)\n",
    "            softmax_score = np.zeros((pred.shape[0],10), dtype=np.float32)\n",
    "\n",
    "            pred = pred.detach().cpu().numpy()\n",
    "            pred_idx = pred_idx.detach().cpu().numpy()\n",
    "\n",
    "            softmax_score[np.arange(pred_idx.shape[0]), pred_idx] = pred\n",
    "            softmax_scores.append(softmax_score)\n",
    "    \n",
    "    return np.vstack(softmax_scores)"
   ]
  },
  {
   "cell_type": "markdown",
   "metadata": {
    "colab_type": "text",
    "id": "lxqHW_ge8w91"
   },
   "source": [
    "Compute the softmax scores for the test set."
   ]
  },
  {
   "cell_type": "code",
   "execution_count": 34,
   "metadata": {
    "colab": {
     "base_uri": "https://localhost:8080/",
     "height": 34
    },
    "colab_type": "code",
    "id": "v6QkcyicAbp8",
    "outputId": "a6575691-289e-4a4a-defd-7e3af03d7640"
   },
   "outputs": [
    {
     "ename": "NameError",
     "evalue": "name 'criterion' is not defined",
     "output_type": "error",
     "traceback": [
      "\u001b[0;31m---------------------------------------------------------------------------\u001b[0m",
      "\u001b[0;31mNameError\u001b[0m                                 Traceback (most recent call last)",
      "\u001b[0;32m<ipython-input-34-7499f5560e55>\u001b[0m in \u001b[0;36m<module>\u001b[0;34m\u001b[0m\n\u001b[0;32m----> 1\u001b[0;31m \u001b[0msoftmax_scores_testset\u001b[0m \u001b[0;34m=\u001b[0m \u001b[0mget_softmax_scores\u001b[0m\u001b[0;34m(\u001b[0m\u001b[0mmodel\u001b[0m\u001b[0;34m,\u001b[0m \u001b[0mtestloader\u001b[0m\u001b[0;34m)\u001b[0m\u001b[0;34m;\u001b[0m \u001b[0msoftmax_scores_testset\u001b[0m\u001b[0;34m.\u001b[0m\u001b[0mshape\u001b[0m\u001b[0;34m\u001b[0m\u001b[0;34m\u001b[0m\u001b[0m\n\u001b[0m",
      "\u001b[0;32m<ipython-input-33-f200be53b8f1>\u001b[0m in \u001b[0;36mget_softmax_scores\u001b[0;34m(model, dataloader)\u001b[0m\n\u001b[1;32m     13\u001b[0m             \u001b[0;31m# Forward + loss + correct\u001b[0m\u001b[0;34m\u001b[0m\u001b[0;34m\u001b[0m\u001b[0;34m\u001b[0m\u001b[0m\n\u001b[1;32m     14\u001b[0m             \u001b[0moutputs\u001b[0m \u001b[0;34m=\u001b[0m \u001b[0mmodel\u001b[0m\u001b[0;34m(\u001b[0m\u001b[0minputs\u001b[0m\u001b[0;34m)\u001b[0m\u001b[0;34m\u001b[0m\u001b[0;34m\u001b[0m\u001b[0m\n\u001b[0;32m---> 15\u001b[0;31m             \u001b[0mcriterion\u001b[0m\u001b[0;34m(\u001b[0m\u001b[0moutputs\u001b[0m\u001b[0;34m,\u001b[0m \u001b[0mtargets\u001b[0m\u001b[0;34m)\u001b[0m\u001b[0;34m\u001b[0m\u001b[0;34m\u001b[0m\u001b[0m\n\u001b[0m\u001b[1;32m     16\u001b[0m \u001b[0;34m\u001b[0m\u001b[0m\n\u001b[1;32m     17\u001b[0m             \u001b[0;31m# Get softmax scores\u001b[0m\u001b[0;34m\u001b[0m\u001b[0;34m\u001b[0m\u001b[0;34m\u001b[0m\u001b[0m\n",
      "\u001b[0;31mNameError\u001b[0m: name 'criterion' is not defined"
     ]
    }
   ],
   "source": [
    "softmax_scores_testset = get_softmax_scores(model, testloader); softmax_scores_testset.shape"
   ]
  },
  {
   "cell_type": "markdown",
   "metadata": {
    "colab_type": "text",
    "id": "YA_54B0Q9BlM"
   },
   "source": [
    "Let's plot the result."
   ]
  },
  {
   "cell_type": "code",
   "execution_count": null,
   "metadata": {
    "colab": {
     "base_uri": "https://localhost:8080/",
     "height": 314
    },
    "colab_type": "code",
    "id": "9hXjFs6tENvS",
    "outputId": "5700ea30-2351-4bdf-ef54-28a7c82e9b4b"
   },
   "outputs": [],
   "source": [
    "with warnings.catch_warnings():\n",
    "    warnings.simplefilter(\"ignore\", category=RuntimeWarning)\n",
    "    plot_reliability_diagram(softmax_scores_testset, test_targets)"
   ]
  },
  {
   "cell_type": "markdown",
   "metadata": {
    "colab_type": "text",
    "id": "jm9Gy4J59OyX"
   },
   "source": [
    "Compute the softmax scores for the test set."
   ]
  },
  {
   "cell_type": "code",
   "execution_count": null,
   "metadata": {
    "colab": {
     "base_uri": "https://localhost:8080/",
     "height": 34
    },
    "colab_type": "code",
    "id": "ZjSTpiJmEas0",
    "outputId": "3fde1477-4771-43f8-eb4d-42cc2bcf75bb"
   },
   "outputs": [],
   "source": [
    "softmax_scores_advset = get_softmax_scores(model, advloader); softmax_scores_advset.shape"
   ]
  },
  {
   "cell_type": "code",
   "execution_count": null,
   "metadata": {
    "colab": {
     "base_uri": "https://localhost:8080/",
     "height": 314
    },
    "colab_type": "code",
    "id": "B2BKSjTdEj-l",
    "outputId": "f22edce1-8921-4832-acf8-f0d21dadb6ab"
   },
   "outputs": [],
   "source": [
    "with warnings.catch_warnings():\n",
    "    warnings.simplefilter(\"ignore\", category=RuntimeWarning)\n",
    "    plot_reliability_diagram(softmax_scores_advset, adv_targets)"
   ]
  },
  {
   "cell_type": "code",
   "execution_count": null,
   "metadata": {
    "colab": {},
    "colab_type": "code",
    "id": "Mn16mBzdEnfk"
   },
   "outputs": [],
   "source": []
  }
 ],
 "metadata": {
  "colab": {
   "collapsed_sections": [],
   "name": "dknn.ipynb",
   "provenance": []
  },
  "kernelspec": {
   "display_name": "Python 3 (ipykernel)",
   "language": "python",
   "name": "python3"
  },
  "language_info": {
   "codemirror_mode": {
    "name": "ipython",
    "version": 3
   },
   "file_extension": ".py",
   "mimetype": "text/x-python",
   "name": "python",
   "nbconvert_exporter": "python",
   "pygments_lexer": "ipython3",
   "version": "3.11.3"
  }
 },
 "nbformat": 4,
 "nbformat_minor": 1
}
