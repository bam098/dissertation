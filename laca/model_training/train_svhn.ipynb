{
 "cells": [
  {
   "cell_type": "markdown",
   "metadata": {
    "id": "vkFfaHmXHKUQ"
   },
   "source": [
    "# SVHN Training\n"
   ]
  },
  {
   "cell_type": "markdown",
   "metadata": {
    "id": "3scPTYvgw854"
   },
   "source": [
    "The training setup is the same one that has also been used by Papernot and McDaniel. For more details see their [paper](https://arxiv.org/abs/1803.04765) and their [sample code](https://github.com/cleverhans-lab/cleverhans/blob/master/cleverhans/model_zoo/deep_k_nearest_neighbors/dknn.py)."
   ]
  },
  {
   "cell_type": "code",
   "execution_count": 1,
   "metadata": {
    "colab": {
     "base_uri": "https://localhost:8080/"
    },
    "executionInfo": {
     "elapsed": 160668,
     "status": "ok",
     "timestamp": 1612890836806,
     "user": {
      "displayName": "Bam Power",
      "photoUrl": "https://lh3.googleusercontent.com/a-/AOh14GgSMnvpPSpQHyFMhcdXXX00QS82LMCMbDQiszLr=s64",
      "userId": "17908920294202220192"
     },
     "user_tz": -60
    },
    "id": "ExlhM-ej9utH",
    "outputId": "6e9c11d1-a38c-45fb-f27d-6dfe37dda0eb"
   },
   "outputs": [
    {
     "name": "stdout",
     "output_type": "stream",
     "text": [
      "Uninstalling torch-1.7.0+cu101:\n",
      "  Successfully uninstalled torch-1.7.0+cu101\n",
      "Uninstalling torchvision-0.8.1+cu101:\n",
      "  Successfully uninstalled torchvision-0.8.1+cu101\n",
      "Looking in links: https://download.pytorch.org/whl/torch_stable.html\n",
      "Collecting torch==1.7.0+cu101\n",
      "\u001b[?25l  Downloading https://download.pytorch.org/whl/cu101/torch-1.7.0%2Bcu101-cp36-cp36m-linux_x86_64.whl (735.3MB)\n",
      "\u001b[K     |████████████████████████████████| 735.3MB 25kB/s \n",
      "\u001b[?25hCollecting torchvision==0.8.1+cu101\n",
      "\u001b[?25l  Downloading https://download.pytorch.org/whl/cu101/torchvision-0.8.1%2Bcu101-cp36-cp36m-linux_x86_64.whl (12.8MB)\n",
      "\u001b[K     |████████████████████████████████| 12.8MB 244kB/s \n",
      "\u001b[?25hRequirement already satisfied: typing-extensions in /usr/local/lib/python3.6/dist-packages (from torch==1.7.0+cu101) (3.7.4.3)\n",
      "Requirement already satisfied: future in /usr/local/lib/python3.6/dist-packages (from torch==1.7.0+cu101) (0.16.0)\n",
      "Requirement already satisfied: dataclasses in /usr/local/lib/python3.6/dist-packages (from torch==1.7.0+cu101) (0.8)\n",
      "Requirement already satisfied: numpy in /usr/local/lib/python3.6/dist-packages (from torch==1.7.0+cu101) (1.19.5)\n",
      "Requirement already satisfied: pillow>=4.1.1 in /usr/local/lib/python3.6/dist-packages (from torchvision==0.8.1+cu101) (7.0.0)\n",
      "Installing collected packages: torch, torchvision\n",
      "Successfully installed torch-1.7.0+cu101 torchvision-0.8.1+cu101\n"
     ]
    }
   ],
   "source": [
    "! pip uninstall torch torchvision -y\n",
    "! pip install torch==1.7.0+cu101 torchvision==0.8.1+cu101 -f https://download.pytorch.org/whl/torch_stable.html"
   ]
  },
  {
   "cell_type": "code",
   "execution_count": 2,
   "metadata": {
    "colab": {
     "base_uri": "https://localhost:8080/"
    },
    "executionInfo": {
     "elapsed": 1094,
     "status": "ok",
     "timestamp": 1612890846614,
     "user": {
      "displayName": "Bam Power",
      "photoUrl": "https://lh3.googleusercontent.com/a-/AOh14GgSMnvpPSpQHyFMhcdXXX00QS82LMCMbDQiszLr=s64",
      "userId": "17908920294202220192"
     },
     "user_tz": -60
    },
    "id": "2PTvaJ7Q9yo8",
    "outputId": "1fae9bb5-db38-4924-84e9-1ba7a73ebe51"
   },
   "outputs": [
    {
     "name": "stdout",
     "output_type": "stream",
     "text": [
      "python version:      3.6.9\n",
      "torch version:       1.7.0+cu101\n",
      "torchvision version: 0.8.1+cu101\n",
      "numpy version:       1.19.5\n",
      "matplotlib version:  3.2.2\n",
      "CUDA available:      True\n",
      "cuDNN enabled:       True\n",
      "num gpus:            1\n",
      "gpu:                 Tesla T4\n",
      "\n",
      "------------------------- CUDA -------------------------\n",
      "nvcc: NVIDIA (R) Cuda compiler driver\n",
      "Copyright (c) 2005-2019 NVIDIA Corporation\n",
      "Built on Sun_Jul_28_19:07:16_PDT_2019\n",
      "Cuda compilation tools, release 10.1, V10.1.243\n"
     ]
    }
   ],
   "source": [
    "%reload_ext autoreload\n",
    "%autoreload 2\n",
    "%matplotlib inline\n",
    "\n",
    "import torch\n",
    "import torch.nn as nn\n",
    "import torch.nn.functional as F\n",
    "import torch.optim as optim\n",
    "from torch.utils.data import DataLoader\n",
    "import torchvision\n",
    "from torchvision import transforms\n",
    "import matplotlib\n",
    "import matplotlib.pyplot as plt\n",
    "import numpy as np\n",
    "import platform\n",
    "\n",
    "print('python version:      {}'.format(platform.python_version()))\n",
    "print('torch version:       {}'.format(torch.__version__))\n",
    "print('torchvision version: {}'.format(torchvision.__version__))\n",
    "print('numpy version:       {}'.format(np.__version__))\n",
    "print('matplotlib version:  {}'.format(matplotlib.__version__))\n",
    "\n",
    "use_cuda = torch.cuda.is_available()\n",
    "print('CUDA available:      {}'.format(use_cuda))\n",
    "print('cuDNN enabled:       {}'.format(torch.backends.cudnn.enabled))\n",
    "print('num gpus:            {}'.format(torch.cuda.device_count()))\n",
    "\n",
    "if use_cuda:\n",
    "    print('gpu:                 {}'.format(torch.cuda.get_device_name(0)))\n",
    "\n",
    "    print()\n",
    "    print('------------------------- CUDA -------------------------')\n",
    "    ! nvcc --version"
   ]
  },
  {
   "cell_type": "markdown",
   "metadata": {
    "id": "yb63e9GR-Aii"
   },
   "source": [
    "Put CUDNN to deterministic and set seed values for [reproducibility reasons](https://pytorch.org/docs/stable/notes/randomness.html)."
   ]
  },
  {
   "cell_type": "code",
   "execution_count": 3,
   "metadata": {
    "executionInfo": {
     "elapsed": 467,
     "status": "ok",
     "timestamp": 1612890848553,
     "user": {
      "displayName": "Bam Power",
      "photoUrl": "https://lh3.googleusercontent.com/a-/AOh14GgSMnvpPSpQHyFMhcdXXX00QS82LMCMbDQiszLr=s64",
      "userId": "17908920294202220192"
     },
     "user_tz": -60
    },
    "id": "yMH4t0VK9-Cp"
   },
   "outputs": [],
   "source": [
    "random_seed = 0\n",
    "torch.manual_seed(random_seed)\n",
    "np.random.seed(random_seed)\n",
    "\n",
    "torch.backends.cudnn.benchmark = False\n",
    "torch.backends.cudnn.deterministic = True\n",
    "torch.set_deterministic(True)"
   ]
  },
  {
   "cell_type": "markdown",
   "metadata": {
    "id": "ELNzocTU-DwE"
   },
   "source": [
    "Let's set some parameters."
   ]
  },
  {
   "cell_type": "code",
   "execution_count": 4,
   "metadata": {
    "executionInfo": {
     "elapsed": 571,
     "status": "ok",
     "timestamp": 1612890849912,
     "user": {
      "displayName": "Bam Power",
      "photoUrl": "https://lh3.googleusercontent.com/a-/AOh14GgSMnvpPSpQHyFMhcdXXX00QS82LMCMbDQiszLr=s64",
      "userId": "17908920294202220192"
     },
     "user_tz": -60
    },
    "id": "7dBVyKcX4qNw"
   },
   "outputs": [],
   "source": [
    "num_epochs = 18           # number of training epochs\n",
    "batch_size_train = 500    # batch size for training\n",
    "batch_size_test = 1000    # batch size for testing\n",
    "learning_rate = 0.001     # learning rate for training\n",
    "calibset_size = 750       # size of the calibration set (should be used for calculating a confidence score later)\n",
    "\n",
    "log_interval = 10         # printing training statistics after 10 iterations"
   ]
  },
  {
   "cell_type": "markdown",
   "metadata": {
    "id": "Wik1VDmc-GfA"
   },
   "source": [
    "## Data"
   ]
  },
  {
   "cell_type": "markdown",
   "metadata": {
    "id": "U7c2zcL7yVUC"
   },
   "source": [
    "### Specify Dataset"
   ]
  },
  {
   "cell_type": "markdown",
   "metadata": {
    "id": "eoGsnIwryaom"
   },
   "source": [
    "Define data transform functions for training and test set. The SVHN statistics to normalize the dataset were also used in:\n",
    "- https://github.com/aaron-xichen/pytorch-playground/blob/master/svhn/dataset.py\n",
    "- https://github.com/potterhsu/SVHNClassifier-PyTorch/blob/master/train.py\n",
    "- https://github.com/9310gaurav/virtual-adversarial-training/blob/master/main.py\n",
    "\n",
    "Source of the dataset: http://ufldl.stanford.edu/housenumbers/"
   ]
  },
  {
   "cell_type": "code",
   "execution_count": 5,
   "metadata": {
    "executionInfo": {
     "elapsed": 478,
     "status": "ok",
     "timestamp": 1612890852306,
     "user": {
      "displayName": "Bam Power",
      "photoUrl": "https://lh3.googleusercontent.com/a-/AOh14GgSMnvpPSpQHyFMhcdXXX00QS82LMCMbDQiszLr=s64",
      "userId": "17908920294202220192"
     },
     "user_tz": -60
    },
    "id": "VmUEEiqvyRj4"
   },
   "outputs": [],
   "source": [
    "transform = transforms.Compose([\n",
    "    transforms.ToTensor(),\n",
    "    transforms.Normalize((0.5, 0.5, 0.5), (0.5, 0.5, 0.5))\n",
    "])"
   ]
  },
  {
   "cell_type": "markdown",
   "metadata": {
    "id": "OQKJcyi_yfkV"
   },
   "source": [
    "Define training, test and calibration set."
   ]
  },
  {
   "cell_type": "code",
   "execution_count": 6,
   "metadata": {
    "colab": {
     "base_uri": "https://localhost:8080/",
     "height": 115,
     "referenced_widgets": [
      "a7a10fdd31af40fc824c14d2b6600158",
      "4e737a2a3ff5498da99cdecf3eb7f738",
      "191807580916433793eb6a2008141520",
      "5e9021b735e34794896b5939a7c71c84",
      "5121a71619b74aab89ca601bf731b463",
      "81dd13555844417bb8197fb5cbbdcc1e",
      "a1905289897d43a2b372c266ac686a3d",
      "d9977914194346edaada7b5c27057299",
      "11b95285cc7c4c6995146c0b37650c65",
      "e184605588d843dfbdb2c14ddded8b14",
      "e2af8486a875412d969886d3620dc3a5",
      "cce49d8d1b4a4fb882f63f9ec41eebe4",
      "e36a4dba3abd4825afcbf4f81c5c003a",
      "e4544e177b954b4aba8100493ba32e4c",
      "517d5fbe99964718b913798c88cf3e8c",
      "ebdad419c2964e3ea2ffd2cbeec3c6c8"
     ]
    },
    "executionInfo": {
     "elapsed": 18863,
     "status": "ok",
     "timestamp": 1612890871831,
     "user": {
      "displayName": "Bam Power",
      "photoUrl": "https://lh3.googleusercontent.com/a-/AOh14GgSMnvpPSpQHyFMhcdXXX00QS82LMCMbDQiszLr=s64",
      "userId": "17908920294202220192"
     },
     "user_tz": -60
    },
    "id": "TeakmI6Xyf8-",
    "outputId": "dd7103d9-0b06-4600-f805-852f4cdb9df2"
   },
   "outputs": [
    {
     "name": "stdout",
     "output_type": "stream",
     "text": [
      "Downloading http://ufldl.stanford.edu/housenumbers/train_32x32.mat to ./data/train_32x32.mat\n"
     ]
    },
    {
     "data": {
      "application/vnd.jupyter.widget-view+json": {
       "model_id": "a7a10fdd31af40fc824c14d2b6600158",
       "version_major": 2,
       "version_minor": 0
      },
      "text/plain": [
       "HBox(children=(FloatProgress(value=1.0, bar_style='info', max=1.0), HTML(value='')))"
      ]
     },
     "metadata": {
      "tags": []
     },
     "output_type": "display_data"
    },
    {
     "name": "stdout",
     "output_type": "stream",
     "text": [
      "Downloading http://ufldl.stanford.edu/housenumbers/test_32x32.mat to ./data/test_32x32.mat\n"
     ]
    },
    {
     "data": {
      "application/vnd.jupyter.widget-view+json": {
       "model_id": "11b95285cc7c4c6995146c0b37650c65",
       "version_major": 2,
       "version_minor": 0
      },
      "text/plain": [
       "HBox(children=(FloatProgress(value=1.0, bar_style='info', max=1.0), HTML(value='')))"
      ]
     },
     "metadata": {
      "tags": []
     },
     "output_type": "display_data"
    }
   ],
   "source": [
    "# Training set\n",
    "trainset = torchvision.datasets.SVHN(\n",
    "    root='./data', split='train', download=True, transform=transform\n",
    ")\n",
    "\n",
    "# Test set and calibration set\n",
    "orig_testset = torchvision.datasets.SVHN(\n",
    "    root='./data', split='test', download=True, transform=transform\n",
    ")\n",
    "orig_testset_size = len(orig_testset)\n",
    "\n",
    "testset_size = orig_testset_size - calibset_size\n",
    "testset, calibset = torch.utils.data.random_split(orig_testset, [testset_size, calibset_size])"
   ]
  },
  {
   "cell_type": "markdown",
   "metadata": {
    "id": "AzgtNQAwymuT"
   },
   "source": [
    "### Load Data"
   ]
  },
  {
   "cell_type": "markdown",
   "metadata": {
    "id": "ZlSfVhWEyxG7"
   },
   "source": [
    "Create train, test and calibration data loader."
   ]
  },
  {
   "cell_type": "code",
   "execution_count": 7,
   "metadata": {
    "executionInfo": {
     "elapsed": 476,
     "status": "ok",
     "timestamp": 1612890875338,
     "user": {
      "displayName": "Bam Power",
      "photoUrl": "https://lh3.googleusercontent.com/a-/AOh14GgSMnvpPSpQHyFMhcdXXX00QS82LMCMbDQiszLr=s64",
      "userId": "17908920294202220192"
     },
     "user_tz": -60
    },
    "id": "0fi0GzKryxw4"
   },
   "outputs": [],
   "source": [
    "# Create training data loader\n",
    "trainloader = torch.utils.data.DataLoader(\n",
    "    trainset, batch_size=batch_size_train, shuffle=True, num_workers=2\n",
    ")\n",
    "\n",
    "# Create test data loader\n",
    "testloader = torch.utils.data.DataLoader(\n",
    "    testset, batch_size=batch_size_test, shuffle=False, num_workers=2\n",
    ")\n",
    "\n",
    "# Create calib data loader\n",
    "calibloader = torch.utils.data.DataLoader(\n",
    "    calibset, batch_size=calibset_size, shuffle=False, num_workers=2\n",
    ")"
   ]
  },
  {
   "cell_type": "markdown",
   "metadata": {
    "id": "Ha-pQCWXb0Iv"
   },
   "source": [
    "Print out the sizes of the datasets."
   ]
  },
  {
   "cell_type": "code",
   "execution_count": 8,
   "metadata": {
    "colab": {
     "base_uri": "https://localhost:8080/"
    },
    "executionInfo": {
     "elapsed": 490,
     "status": "ok",
     "timestamp": 1612890876770,
     "user": {
      "displayName": "Bam Power",
      "photoUrl": "https://lh3.googleusercontent.com/a-/AOh14GgSMnvpPSpQHyFMhcdXXX00QS82LMCMbDQiszLr=s64",
      "userId": "17908920294202220192"
     },
     "user_tz": -60
    },
    "id": "F5XTyUe0b31Q",
    "outputId": "02670c22-2fae-4605-ee2c-d5f4b12dee28"
   },
   "outputs": [
    {
     "name": "stdout",
     "output_type": "stream",
     "text": [
      "trainset size: 73257\n",
      "testset size:  25282\n",
      "calibset size: 750\n"
     ]
    }
   ],
   "source": [
    "print('trainset size: {}'.format(len(trainloader.dataset)))\n",
    "print('testset size:  {}'.format(len(testloader.dataset)))\n",
    "print('calibset size: {}'.format(len(calibloader.dataset)))"
   ]
  },
  {
   "cell_type": "markdown",
   "metadata": {
    "id": "SvhyHSj_y2Ra"
   },
   "source": [
    "### Display Samples"
   ]
  },
  {
   "cell_type": "code",
   "execution_count": 9,
   "metadata": {
    "executionInfo": {
     "elapsed": 482,
     "status": "ok",
     "timestamp": 1612890878653,
     "user": {
      "displayName": "Bam Power",
      "photoUrl": "https://lh3.googleusercontent.com/a-/AOh14GgSMnvpPSpQHyFMhcdXXX00QS82LMCMbDQiszLr=s64",
      "userId": "17908920294202220192"
     },
     "user_tz": -60
    },
    "id": "NQBLPagqy2_J"
   },
   "outputs": [],
   "source": [
    "def show_samples(data, targets):\n",
    "    data = data.numpy()\n",
    "    print(\"tensor shape: \" + str(data.shape))\n",
    "    \n",
    "    fig = plt.figure()\n",
    "    for i in range(9):\n",
    "        plt.subplot(3,3,i+1)\n",
    "        plt.tight_layout()\n",
    "        \n",
    "        img = np.moveaxis(data[i], 0, -1)\n",
    "        img = img * 0.5 + 0.5  # unnormalize\n",
    "        plt.imshow(img)\n",
    "        plt.title(\"Ground Truth: {}\".format(targets[i]))\n",
    "        \n",
    "        plt.xticks([])\n",
    "        plt.yticks([])"
   ]
  },
  {
   "cell_type": "markdown",
   "metadata": {
    "id": "0kXdGSzry8Ce"
   },
   "source": [
    "Load a few test images and display them."
   ]
  },
  {
   "cell_type": "code",
   "execution_count": 10,
   "metadata": {
    "colab": {
     "base_uri": "https://localhost:8080/",
     "height": 301
    },
    "executionInfo": {
     "elapsed": 2316,
     "status": "ok",
     "timestamp": 1612890882469,
     "user": {
      "displayName": "Bam Power",
      "photoUrl": "https://lh3.googleusercontent.com/a-/AOh14GgSMnvpPSpQHyFMhcdXXX00QS82LMCMbDQiszLr=s64",
      "userId": "17908920294202220192"
     },
     "user_tz": -60
    },
    "id": "woBy6gE-y8YR",
    "outputId": "e6c46ff8-3b9a-431d-fd4e-c99088aac835"
   },
   "outputs": [
    {
     "name": "stdout",
     "output_type": "stream",
     "text": [
      "tensor shape: (1000, 3, 32, 32)\n"
     ]
    },
    {
     "data": {
      "image/png": "[encoded data removed]",
      "text/plain": [
       "<Figure size 432x288 with 9 Axes>"
      ]
     },
     "metadata": {
      "tags": []
     },
     "output_type": "display_data"
    }
   ],
   "source": [
    "dataiter = enumerate(testloader)\n",
    "_, (sample_data, sample_targets) = next(dataiter)\n",
    "\n",
    "show_samples(sample_data, sample_targets)"
   ]
  },
  {
   "cell_type": "markdown",
   "metadata": {
    "id": "8nrEJtUA4vwY"
   },
   "source": [
    "## Define Training and Test Functions"
   ]
  },
  {
   "cell_type": "markdown",
   "metadata": {
    "id": "hqpIuwp2awI9"
   },
   "source": [
    "Let's define the functions for training and testing."
   ]
  },
  {
   "cell_type": "code",
   "execution_count": 11,
   "metadata": {
    "executionInfo": {
     "elapsed": 510,
     "status": "ok",
     "timestamp": 1612890889086,
     "user": {
      "displayName": "Bam Power",
      "photoUrl": "https://lh3.googleusercontent.com/a-/AOh14GgSMnvpPSpQHyFMhcdXXX00QS82LMCMbDQiszLr=s64",
      "userId": "17908920294202220192"
     },
     "user_tz": -60
    },
    "id": "PgBe_-yy4w-B"
   },
   "outputs": [],
   "source": [
    "def train(num_epochs, model, optim, scheduler, crit, train_loader, test_loader):\n",
    "    train_losses = []\n",
    "    test_losses = []\n",
    "    test_accs = []\n",
    "    \n",
    "    for epoch in range(1, num_epochs + 1):\n",
    "        model, train_losses = train_one_epoch(epoch, model, optim, scheduler, crit, train_loader, train_losses)\n",
    "        test_losses, test_accs = test(model, crit, test_loader, test_losses, test_accs)\n",
    "        \n",
    "    print('Finished Training')\n",
    "    return train_losses, test_losses, test_accs\n",
    "    \n",
    "\n",
    "def train_one_epoch(epoch_num, model, optim, schueduler, crit, data_loader, losses):\n",
    "    model.train()\n",
    "    running_loss = 0.0\n",
    "    \n",
    "    for batch_idx, data in enumerate(data_loader):\n",
    "        # Get the inputs; data is a list of [inputs, labels]\n",
    "        inputs, targets = data\n",
    "\n",
    "        if use_cuda:\n",
    "            inputs, targets = inputs.cuda(), targets.cuda()\n",
    "        \n",
    "        # Zero the parameter gradients\n",
    "        optim.zero_grad()\n",
    "        \n",
    "        # Forward + backward + optimize\n",
    "        outputs = model(inputs)\n",
    "        loss = crit(outputs, targets)\n",
    "        loss.backward()\n",
    "        optimizer.step()\n",
    "        \n",
    "        # Print statistics\n",
    "        running_loss += loss.item()\n",
    "        \n",
    "        if batch_idx % log_interval == 0:\n",
    "            dataset_size = len(data_loader.dataset)\n",
    "            used_samples = batch_idx * len(inputs)\n",
    "            train_progress = 100. * batch_idx / len(data_loader)\n",
    "            avg_batch_loss = running_loss / log_interval\n",
    "            \n",
    "            print('Train Epoch: {} [{}/{} ({:.0f}%)]\\tLoss: {:.6f}'.format(\n",
    "                epoch_num, used_samples, dataset_size, train_progress, avg_batch_loss\n",
    "            ))\n",
    "            \n",
    "            losses.append(avg_batch_loss)\n",
    "            running_loss = 0.0\n",
    "    \n",
    "    scheduler.step()\n",
    "            \n",
    "    return model, losses\n",
    "     \n",
    "    \n",
    "def test(model, crit, data_loader, test_losses, test_accs):\n",
    "    model.eval()\n",
    "    correct = 0\n",
    "    test_loss = 0\n",
    "    \n",
    "    with torch.no_grad():\n",
    "        for data in data_loader:\n",
    "            # Get the inputs; data is a list of [inputs, labels]\n",
    "            inputs, targets = data\n",
    "\n",
    "            if use_cuda:\n",
    "                inputs, targets = inputs.cuda(), targets.cuda()\n",
    "            \n",
    "            # Forward + loss + correct\n",
    "            outputs = model(inputs)\n",
    "            test_loss += crit(outputs, targets).item()\n",
    "            \n",
    "            _, predicted = torch.max(outputs.data, 1)\n",
    "            correct += (predicted == targets).sum().item()\n",
    "          \n",
    "    dataset_size = len(data_loader.dataset)\n",
    "    test_loss /= dataset_size\n",
    "    acc = 100. * correct / dataset_size\n",
    "    \n",
    "    test_losses.append(test_loss)\n",
    "    test_accs.append(acc)\n",
    "    \n",
    "    print('\\nTest set: Avg. loss: {:.6f}, Accuracy: {}/{} ({:.2f}%)\\n'.format(\n",
    "        test_loss, correct, dataset_size, acc\n",
    "    ))\n",
    "    \n",
    "    return test_losses, test_accs"
   ]
  },
  {
   "cell_type": "markdown",
   "metadata": {
    "id": "_YFZQkAi450A"
   },
   "source": [
    "## Network Architecture"
   ]
  },
  {
   "cell_type": "markdown",
   "metadata": {
    "id": "52b1IG-ra3eH"
   },
   "source": [
    "Let's define the neural network based model architecture for SVHN."
   ]
  },
  {
   "cell_type": "code",
   "execution_count": 12,
   "metadata": {
    "executionInfo": {
     "elapsed": 500,
     "status": "ok",
     "timestamp": 1612890891957,
     "user": {
      "displayName": "Bam Power",
      "photoUrl": "https://lh3.googleusercontent.com/a-/AOh14GgSMnvpPSpQHyFMhcdXXX00QS82LMCMbDQiszLr=s64",
      "userId": "17908920294202220192"
     },
     "user_tz": -60
    },
    "id": "P7Pt-A4Z47aj"
   },
   "outputs": [],
   "source": [
    "class SvhnNet(nn.Module):\n",
    "    def __init__(self):\n",
    "        super(SvhnNet, self).__init__()\n",
    "        self.conv1 = nn.Conv2d(3, 64, kernel_size=8, stride=2, padding=3)\n",
    "        self.relu1 = nn.ReLU(True)\n",
    "        self.conv2 = nn.Conv2d(64, 128, kernel_size=6, stride=2)\n",
    "        self.relu2 = nn.ReLU(True)\n",
    "        self.conv3 = nn.Conv2d(128, 128, kernel_size=5)\n",
    "        self.relu3 = nn.ReLU(True)\n",
    "        self.fc = nn.Linear(512, 10)\n",
    "\n",
    "    def forward(self, x):\n",
    "        x = self.relu1(self.conv1(x))\n",
    "        x = self.relu2(self.conv2(x))\n",
    "        x = self.relu3(self.conv3(x))\n",
    "        x = x.view(-1, 512)\n",
    "        x = self.fc(x)\n",
    "        return x"
   ]
  },
  {
   "cell_type": "markdown",
   "metadata": {
    "id": "szo94UrQH0qc"
   },
   "source": [
    "## Model Training"
   ]
  },
  {
   "cell_type": "markdown",
   "metadata": {
    "id": "mXs2dnBFISBR"
   },
   "source": [
    "Let's train the model."
   ]
  },
  {
   "cell_type": "code",
   "execution_count": 13,
   "metadata": {
    "colab": {
     "base_uri": "https://localhost:8080/"
    },
    "executionInfo": {
     "elapsed": 346042,
     "status": "ok",
     "timestamp": 1612891238926,
     "user": {
      "displayName": "Bam Power",
      "photoUrl": "https://lh3.googleusercontent.com/a-/AOh14GgSMnvpPSpQHyFMhcdXXX00QS82LMCMbDQiszLr=s64",
      "userId": "17908920294202220192"
     },
     "user_tz": -60
    },
    "id": "rP4BTofQITUI",
    "outputId": "d22a7c4d-63e4-4935-8a90-5ea84784708e",
    "scrolled": true
   },
   "outputs": [
    {
     "name": "stdout",
     "output_type": "stream",
     "text": [
      "Using  1  GPU(s)\n",
      "Train Epoch: 1 [0/73257 (0%)]\tLoss: 0.230500\n",
      "Train Epoch: 1 [5000/73257 (7%)]\tLoss: 2.291185\n",
      "Train Epoch: 1 [10000/73257 (14%)]\tLoss: 2.234729\n",
      "Train Epoch: 1 [15000/73257 (20%)]\tLoss: 2.230769\n",
      "Train Epoch: 1 [20000/73257 (27%)]\tLoss: 2.150621\n",
      "Train Epoch: 1 [25000/73257 (34%)]\tLoss: 1.987400\n",
      "Train Epoch: 1 [30000/73257 (41%)]\tLoss: 1.813532\n",
      "Train Epoch: 1 [35000/73257 (48%)]\tLoss: 1.564170\n",
      "Train Epoch: 1 [40000/73257 (54%)]\tLoss: 1.310728\n",
      "Train Epoch: 1 [45000/73257 (61%)]\tLoss: 1.101605\n",
      "Train Epoch: 1 [50000/73257 (68%)]\tLoss: 0.938456\n",
      "Train Epoch: 1 [55000/73257 (75%)]\tLoss: 0.906359\n",
      "Train Epoch: 1 [60000/73257 (82%)]\tLoss: 0.848932\n",
      "Train Epoch: 1 [65000/73257 (88%)]\tLoss: 0.767864\n",
      "Train Epoch: 1 [70000/73257 (95%)]\tLoss: 0.737683\n",
      "\n",
      "Test set: Avg. loss: 0.000767, Accuracy: 19752/25282 (78.13%)\n",
      "\n",
      "Train Epoch: 2 [0/73257 (0%)]\tLoss: 0.073534\n",
      "Train Epoch: 2 [5000/73257 (7%)]\tLoss: 0.653276\n",
      "Train Epoch: 2 [10000/73257 (14%)]\tLoss: 0.670702\n",
      "Train Epoch: 2 [15000/73257 (20%)]\tLoss: 0.658492\n",
      "Train Epoch: 2 [20000/73257 (27%)]\tLoss: 0.629935\n",
      "Train Epoch: 2 [25000/73257 (34%)]\tLoss: 0.596942\n",
      "Train Epoch: 2 [30000/73257 (41%)]\tLoss: 0.588090\n",
      "Train Epoch: 2 [35000/73257 (48%)]\tLoss: 0.618135\n",
      "Train Epoch: 2 [40000/73257 (54%)]\tLoss: 0.585720\n",
      "Train Epoch: 2 [45000/73257 (61%)]\tLoss: 0.564092\n",
      "Train Epoch: 2 [50000/73257 (68%)]\tLoss: 0.558930\n",
      "Train Epoch: 2 [55000/73257 (75%)]\tLoss: 0.532945\n",
      "Train Epoch: 2 [60000/73257 (82%)]\tLoss: 0.551023\n",
      "Train Epoch: 2 [65000/73257 (88%)]\tLoss: 0.549323\n",
      "Train Epoch: 2 [70000/73257 (95%)]\tLoss: 0.550630\n",
      "\n",
      "Test set: Avg. loss: 0.000591, Accuracy: 21042/25282 (83.23%)\n",
      "\n",
      "Train Epoch: 3 [0/73257 (0%)]\tLoss: 0.051366\n",
      "Train Epoch: 3 [5000/73257 (7%)]\tLoss: 0.481869\n",
      "Train Epoch: 3 [10000/73257 (14%)]\tLoss: 0.513169\n",
      "Train Epoch: 3 [15000/73257 (20%)]\tLoss: 0.489212\n",
      "Train Epoch: 3 [20000/73257 (27%)]\tLoss: 0.492119\n",
      "Train Epoch: 3 [25000/73257 (34%)]\tLoss: 0.500035\n",
      "Train Epoch: 3 [30000/73257 (41%)]\tLoss: 0.475237\n",
      "Train Epoch: 3 [35000/73257 (48%)]\tLoss: 0.453059\n",
      "Train Epoch: 3 [40000/73257 (54%)]\tLoss: 0.447676\n",
      "Train Epoch: 3 [45000/73257 (61%)]\tLoss: 0.458090\n",
      "Train Epoch: 3 [50000/73257 (68%)]\tLoss: 0.451073\n",
      "Train Epoch: 3 [55000/73257 (75%)]\tLoss: 0.474222\n",
      "Train Epoch: 3 [60000/73257 (82%)]\tLoss: 0.426864\n",
      "Train Epoch: 3 [65000/73257 (88%)]\tLoss: 0.444515\n",
      "Train Epoch: 3 [70000/73257 (95%)]\tLoss: 0.466103\n",
      "\n",
      "Test set: Avg. loss: 0.000545, Accuracy: 21388/25282 (84.60%)\n",
      "\n",
      "Train Epoch: 4 [0/73257 (0%)]\tLoss: 0.050299\n",
      "Train Epoch: 4 [5000/73257 (7%)]\tLoss: 0.417901\n",
      "Train Epoch: 4 [10000/73257 (14%)]\tLoss: 0.419233\n",
      "Train Epoch: 4 [15000/73257 (20%)]\tLoss: 0.414971\n",
      "Train Epoch: 4 [20000/73257 (27%)]\tLoss: 0.434502\n",
      "Train Epoch: 4 [25000/73257 (34%)]\tLoss: 0.403754\n",
      "Train Epoch: 4 [30000/73257 (41%)]\tLoss: 0.431908\n",
      "Train Epoch: 4 [35000/73257 (48%)]\tLoss: 0.402872\n",
      "Train Epoch: 4 [40000/73257 (54%)]\tLoss: 0.406699\n",
      "Train Epoch: 4 [45000/73257 (61%)]\tLoss: 0.405351\n",
      "Train Epoch: 4 [50000/73257 (68%)]\tLoss: 0.392949\n",
      "Train Epoch: 4 [55000/73257 (75%)]\tLoss: 0.406694\n",
      "Train Epoch: 4 [60000/73257 (82%)]\tLoss: 0.383419\n",
      "Train Epoch: 4 [65000/73257 (88%)]\tLoss: 0.386755\n",
      "Train Epoch: 4 [70000/73257 (95%)]\tLoss: 0.411423\n",
      "\n",
      "Test set: Avg. loss: 0.000481, Accuracy: 21839/25282 (86.38%)\n",
      "\n",
      "Train Epoch: 5 [0/73257 (0%)]\tLoss: 0.034174\n",
      "Train Epoch: 5 [5000/73257 (7%)]\tLoss: 0.371052\n",
      "Train Epoch: 5 [10000/73257 (14%)]\tLoss: 0.379643\n",
      "Train Epoch: 5 [15000/73257 (20%)]\tLoss: 0.359030\n",
      "Train Epoch: 5 [20000/73257 (27%)]\tLoss: 0.399248\n",
      "Train Epoch: 5 [25000/73257 (34%)]\tLoss: 0.370943\n",
      "Train Epoch: 5 [30000/73257 (41%)]\tLoss: 0.372582\n",
      "Train Epoch: 5 [35000/73257 (48%)]\tLoss: 0.386009\n",
      "Train Epoch: 5 [40000/73257 (54%)]\tLoss: 0.364742\n",
      "Train Epoch: 5 [45000/73257 (61%)]\tLoss: 0.365530\n",
      "Train Epoch: 5 [50000/73257 (68%)]\tLoss: 0.358507\n",
      "Train Epoch: 5 [55000/73257 (75%)]\tLoss: 0.358075\n",
      "Train Epoch: 5 [60000/73257 (82%)]\tLoss: 0.382695\n",
      "Train Epoch: 5 [65000/73257 (88%)]\tLoss: 0.321540\n",
      "Train Epoch: 5 [70000/73257 (95%)]\tLoss: 0.342063\n",
      "\n",
      "Test set: Avg. loss: 0.000445, Accuracy: 22087/25282 (87.36%)\n",
      "\n",
      "Train Epoch: 6 [0/73257 (0%)]\tLoss: 0.032575\n",
      "Train Epoch: 6 [5000/73257 (7%)]\tLoss: 0.328129\n",
      "Train Epoch: 6 [10000/73257 (14%)]\tLoss: 0.318998\n",
      "Train Epoch: 6 [15000/73257 (20%)]\tLoss: 0.357640\n",
      "Train Epoch: 6 [20000/73257 (27%)]\tLoss: 0.329575\n",
      "Train Epoch: 6 [25000/73257 (34%)]\tLoss: 0.359570\n",
      "Train Epoch: 6 [30000/73257 (41%)]\tLoss: 0.318500\n",
      "Train Epoch: 6 [35000/73257 (48%)]\tLoss: 0.340747\n",
      "Train Epoch: 6 [40000/73257 (54%)]\tLoss: 0.334564\n",
      "Train Epoch: 6 [45000/73257 (61%)]\tLoss: 0.356857\n",
      "Train Epoch: 6 [50000/73257 (68%)]\tLoss: 0.332108\n",
      "Train Epoch: 6 [55000/73257 (75%)]\tLoss: 0.334574\n",
      "Train Epoch: 6 [60000/73257 (82%)]\tLoss: 0.345899\n",
      "Train Epoch: 6 [65000/73257 (88%)]\tLoss: 0.323604\n",
      "Train Epoch: 6 [70000/73257 (95%)]\tLoss: 0.340626\n",
      "\n",
      "Test set: Avg. loss: 0.000442, Accuracy: 22155/25282 (87.63%)\n",
      "\n",
      "Train Epoch: 7 [0/73257 (0%)]\tLoss: 0.031897\n",
      "Train Epoch: 7 [5000/73257 (7%)]\tLoss: 0.304045\n",
      "Train Epoch: 7 [10000/73257 (14%)]\tLoss: 0.298235\n",
      "Train Epoch: 7 [15000/73257 (20%)]\tLoss: 0.322226\n",
      "Train Epoch: 7 [20000/73257 (27%)]\tLoss: 0.310247\n",
      "Train Epoch: 7 [25000/73257 (34%)]\tLoss: 0.318366\n",
      "Train Epoch: 7 [30000/73257 (41%)]\tLoss: 0.315906\n",
      "Train Epoch: 7 [35000/73257 (48%)]\tLoss: 0.317637\n",
      "Train Epoch: 7 [40000/73257 (54%)]\tLoss: 0.327316\n",
      "Train Epoch: 7 [45000/73257 (61%)]\tLoss: 0.294159\n",
      "Train Epoch: 7 [50000/73257 (68%)]\tLoss: 0.321452\n",
      "Train Epoch: 7 [55000/73257 (75%)]\tLoss: 0.318249\n",
      "Train Epoch: 7 [60000/73257 (82%)]\tLoss: 0.331135\n",
      "Train Epoch: 7 [65000/73257 (88%)]\tLoss: 0.303664\n",
      "Train Epoch: 7 [70000/73257 (95%)]\tLoss: 0.306702\n",
      "\n",
      "Test set: Avg. loss: 0.000418, Accuracy: 22335/25282 (88.34%)\n",
      "\n",
      "Train Epoch: 8 [0/73257 (0%)]\tLoss: 0.027682\n",
      "Train Epoch: 8 [5000/73257 (7%)]\tLoss: 0.296046\n",
      "Train Epoch: 8 [10000/73257 (14%)]\tLoss: 0.285630\n",
      "Train Epoch: 8 [15000/73257 (20%)]\tLoss: 0.289193\n",
      "Train Epoch: 8 [20000/73257 (27%)]\tLoss: 0.296693\n",
      "Train Epoch: 8 [25000/73257 (34%)]\tLoss: 0.292489\n",
      "Train Epoch: 8 [30000/73257 (41%)]\tLoss: 0.294247\n",
      "Train Epoch: 8 [35000/73257 (48%)]\tLoss: 0.268792\n",
      "Train Epoch: 8 [40000/73257 (54%)]\tLoss: 0.294724\n",
      "Train Epoch: 8 [45000/73257 (61%)]\tLoss: 0.291887\n",
      "Train Epoch: 8 [50000/73257 (68%)]\tLoss: 0.300434\n",
      "Train Epoch: 8 [55000/73257 (75%)]\tLoss: 0.295496\n",
      "Train Epoch: 8 [60000/73257 (82%)]\tLoss: 0.286703\n",
      "Train Epoch: 8 [65000/73257 (88%)]\tLoss: 0.294118\n",
      "Train Epoch: 8 [70000/73257 (95%)]\tLoss: 0.287784\n",
      "\n",
      "Test set: Avg. loss: 0.000420, Accuracy: 22311/25282 (88.25%)\n",
      "\n",
      "Train Epoch: 9 [0/73257 (0%)]\tLoss: 0.028686\n",
      "Train Epoch: 9 [5000/73257 (7%)]\tLoss: 0.281421\n",
      "Train Epoch: 9 [10000/73257 (14%)]\tLoss: 0.275849\n",
      "Train Epoch: 9 [15000/73257 (20%)]\tLoss: 0.268277\n",
      "Train Epoch: 9 [20000/73257 (27%)]\tLoss: 0.238772\n",
      "Train Epoch: 9 [25000/73257 (34%)]\tLoss: 0.280016\n",
      "Train Epoch: 9 [30000/73257 (41%)]\tLoss: 0.272354\n",
      "Train Epoch: 9 [35000/73257 (48%)]\tLoss: 0.255844\n",
      "Train Epoch: 9 [40000/73257 (54%)]\tLoss: 0.262984\n",
      "Train Epoch: 9 [45000/73257 (61%)]\tLoss: 0.272584\n",
      "Train Epoch: 9 [50000/73257 (68%)]\tLoss: 0.271301\n",
      "Train Epoch: 9 [55000/73257 (75%)]\tLoss: 0.275004\n",
      "Train Epoch: 9 [60000/73257 (82%)]\tLoss: 0.279878\n",
      "Train Epoch: 9 [65000/73257 (88%)]\tLoss: 0.294016\n",
      "Train Epoch: 9 [70000/73257 (95%)]\tLoss: 0.265612\n",
      "\n",
      "Test set: Avg. loss: 0.000405, Accuracy: 22418/25282 (88.67%)\n",
      "\n",
      "Train Epoch: 10 [0/73257 (0%)]\tLoss: 0.028871\n",
      "Train Epoch: 10 [5000/73257 (7%)]\tLoss: 0.246023\n",
      "Train Epoch: 10 [10000/73257 (14%)]\tLoss: 0.241866\n",
      "Train Epoch: 10 [15000/73257 (20%)]\tLoss: 0.271114\n",
      "Train Epoch: 10 [20000/73257 (27%)]\tLoss: 0.245872\n",
      "Train Epoch: 10 [25000/73257 (34%)]\tLoss: 0.252314\n",
      "Train Epoch: 10 [30000/73257 (41%)]\tLoss: 0.252920\n",
      "Train Epoch: 10 [35000/73257 (48%)]\tLoss: 0.250403\n",
      "Train Epoch: 10 [40000/73257 (54%)]\tLoss: 0.261711\n",
      "Train Epoch: 10 [45000/73257 (61%)]\tLoss: 0.274115\n",
      "Train Epoch: 10 [50000/73257 (68%)]\tLoss: 0.253017\n",
      "Train Epoch: 10 [55000/73257 (75%)]\tLoss: 0.239048\n",
      "Train Epoch: 10 [60000/73257 (82%)]\tLoss: 0.258608\n",
      "Train Epoch: 10 [65000/73257 (88%)]\tLoss: 0.284944\n",
      "Train Epoch: 10 [70000/73257 (95%)]\tLoss: 0.273815\n",
      "\n",
      "Test set: Avg. loss: 0.000408, Accuracy: 22419/25282 (88.68%)\n",
      "\n",
      "Train Epoch: 11 [0/73257 (0%)]\tLoss: 0.026351\n",
      "Train Epoch: 11 [5000/73257 (7%)]\tLoss: 0.235382\n",
      "Train Epoch: 11 [10000/73257 (14%)]\tLoss: 0.238594\n",
      "Train Epoch: 11 [15000/73257 (20%)]\tLoss: 0.225937\n",
      "Train Epoch: 11 [20000/73257 (27%)]\tLoss: 0.211351\n",
      "Train Epoch: 11 [25000/73257 (34%)]\tLoss: 0.224934\n",
      "Train Epoch: 11 [30000/73257 (41%)]\tLoss: 0.203613\n",
      "Train Epoch: 11 [35000/73257 (48%)]\tLoss: 0.221217\n",
      "Train Epoch: 11 [40000/73257 (54%)]\tLoss: 0.199886\n",
      "Train Epoch: 11 [45000/73257 (61%)]\tLoss: 0.196398\n",
      "Train Epoch: 11 [50000/73257 (68%)]\tLoss: 0.194008\n",
      "Train Epoch: 11 [55000/73257 (75%)]\tLoss: 0.197934\n",
      "Train Epoch: 11 [60000/73257 (82%)]\tLoss: 0.194570\n",
      "Train Epoch: 11 [65000/73257 (88%)]\tLoss: 0.215645\n",
      "Train Epoch: 11 [70000/73257 (95%)]\tLoss: 0.233245\n",
      "\n",
      "Test set: Avg. loss: 0.000373, Accuracy: 22732/25282 (89.91%)\n",
      "\n",
      "Train Epoch: 12 [0/73257 (0%)]\tLoss: 0.021499\n",
      "Train Epoch: 12 [5000/73257 (7%)]\tLoss: 0.203853\n",
      "Train Epoch: 12 [10000/73257 (14%)]\tLoss: 0.191721\n",
      "Train Epoch: 12 [15000/73257 (20%)]\tLoss: 0.198565\n",
      "Train Epoch: 12 [20000/73257 (27%)]\tLoss: 0.201763\n",
      "Train Epoch: 12 [25000/73257 (34%)]\tLoss: 0.218705\n",
      "Train Epoch: 12 [30000/73257 (41%)]\tLoss: 0.191351\n",
      "Train Epoch: 12 [35000/73257 (48%)]\tLoss: 0.197392\n",
      "Train Epoch: 12 [40000/73257 (54%)]\tLoss: 0.201882\n",
      "Train Epoch: 12 [45000/73257 (61%)]\tLoss: 0.215954\n",
      "Train Epoch: 12 [50000/73257 (68%)]\tLoss: 0.204661\n",
      "Train Epoch: 12 [55000/73257 (75%)]\tLoss: 0.200027\n",
      "Train Epoch: 12 [60000/73257 (82%)]\tLoss: 0.243641\n",
      "Train Epoch: 12 [65000/73257 (88%)]\tLoss: 0.201006\n",
      "Train Epoch: 12 [70000/73257 (95%)]\tLoss: 0.200673\n",
      "\n",
      "Test set: Avg. loss: 0.000373, Accuracy: 22733/25282 (89.92%)\n",
      "\n",
      "Train Epoch: 13 [0/73257 (0%)]\tLoss: 0.022659\n",
      "Train Epoch: 13 [5000/73257 (7%)]\tLoss: 0.192404\n",
      "Train Epoch: 13 [10000/73257 (14%)]\tLoss: 0.191051\n",
      "Train Epoch: 13 [15000/73257 (20%)]\tLoss: 0.212286\n",
      "Train Epoch: 13 [20000/73257 (27%)]\tLoss: 0.202715\n",
      "Train Epoch: 13 [25000/73257 (34%)]\tLoss: 0.207375\n",
      "Train Epoch: 13 [30000/73257 (41%)]\tLoss: 0.208064\n",
      "Train Epoch: 13 [35000/73257 (48%)]\tLoss: 0.201328\n",
      "Train Epoch: 13 [40000/73257 (54%)]\tLoss: 0.199600\n",
      "Train Epoch: 13 [45000/73257 (61%)]\tLoss: 0.200582\n",
      "Train Epoch: 13 [50000/73257 (68%)]\tLoss: 0.196284\n",
      "Train Epoch: 13 [55000/73257 (75%)]\tLoss: 0.219922\n",
      "Train Epoch: 13 [60000/73257 (82%)]\tLoss: 0.193664\n",
      "Train Epoch: 13 [65000/73257 (88%)]\tLoss: 0.209020\n",
      "Train Epoch: 13 [70000/73257 (95%)]\tLoss: 0.197212\n",
      "\n",
      "Test set: Avg. loss: 0.000376, Accuracy: 22721/25282 (89.87%)\n",
      "\n",
      "Train Epoch: 14 [0/73257 (0%)]\tLoss: 0.022353\n",
      "Train Epoch: 14 [5000/73257 (7%)]\tLoss: 0.209433\n",
      "Train Epoch: 14 [10000/73257 (14%)]\tLoss: 0.214093\n",
      "Train Epoch: 14 [15000/73257 (20%)]\tLoss: 0.192245\n",
      "Train Epoch: 14 [20000/73257 (27%)]\tLoss: 0.194517\n",
      "Train Epoch: 14 [25000/73257 (34%)]\tLoss: 0.196959\n",
      "Train Epoch: 14 [30000/73257 (41%)]\tLoss: 0.209638\n",
      "Train Epoch: 14 [35000/73257 (48%)]\tLoss: 0.201887\n",
      "Train Epoch: 14 [40000/73257 (54%)]\tLoss: 0.219294\n",
      "Train Epoch: 14 [45000/73257 (61%)]\tLoss: 0.192600\n",
      "Train Epoch: 14 [50000/73257 (68%)]\tLoss: 0.189153\n",
      "Train Epoch: 14 [55000/73257 (75%)]\tLoss: 0.191553\n",
      "Train Epoch: 14 [60000/73257 (82%)]\tLoss: 0.186917\n",
      "Train Epoch: 14 [65000/73257 (88%)]\tLoss: 0.215679\n",
      "Train Epoch: 14 [70000/73257 (95%)]\tLoss: 0.183011\n",
      "\n",
      "Test set: Avg. loss: 0.000377, Accuracy: 22719/25282 (89.86%)\n",
      "\n",
      "Train Epoch: 15 [0/73257 (0%)]\tLoss: 0.027565\n",
      "Train Epoch: 15 [5000/73257 (7%)]\tLoss: 0.198541\n",
      "Train Epoch: 15 [10000/73257 (14%)]\tLoss: 0.197281\n",
      "Train Epoch: 15 [15000/73257 (20%)]\tLoss: 0.206228\n",
      "Train Epoch: 15 [20000/73257 (27%)]\tLoss: 0.204055\n",
      "Train Epoch: 15 [25000/73257 (34%)]\tLoss: 0.195695\n",
      "Train Epoch: 15 [30000/73257 (41%)]\tLoss: 0.190795\n",
      "Train Epoch: 15 [35000/73257 (48%)]\tLoss: 0.197657\n",
      "Train Epoch: 15 [40000/73257 (54%)]\tLoss: 0.192295\n",
      "Train Epoch: 15 [45000/73257 (61%)]\tLoss: 0.191059\n",
      "Train Epoch: 15 [50000/73257 (68%)]\tLoss: 0.179662\n",
      "Train Epoch: 15 [55000/73257 (75%)]\tLoss: 0.206515\n",
      "Train Epoch: 15 [60000/73257 (82%)]\tLoss: 0.191548\n",
      "Train Epoch: 15 [65000/73257 (88%)]\tLoss: 0.181788\n",
      "Train Epoch: 15 [70000/73257 (95%)]\tLoss: 0.188311\n",
      "\n",
      "Test set: Avg. loss: 0.000375, Accuracy: 22741/25282 (89.95%)\n",
      "\n",
      "Train Epoch: 16 [0/73257 (0%)]\tLoss: 0.021477\n",
      "Train Epoch: 16 [5000/73257 (7%)]\tLoss: 0.178247\n",
      "Train Epoch: 16 [10000/73257 (14%)]\tLoss: 0.190763\n",
      "Train Epoch: 16 [15000/73257 (20%)]\tLoss: 0.196742\n",
      "Train Epoch: 16 [20000/73257 (27%)]\tLoss: 0.198156\n",
      "Train Epoch: 16 [25000/73257 (34%)]\tLoss: 0.195779\n",
      "Train Epoch: 16 [30000/73257 (41%)]\tLoss: 0.191999\n",
      "Train Epoch: 16 [35000/73257 (48%)]\tLoss: 0.203678\n",
      "Train Epoch: 16 [40000/73257 (54%)]\tLoss: 0.184509\n",
      "Train Epoch: 16 [45000/73257 (61%)]\tLoss: 0.181920\n",
      "Train Epoch: 16 [50000/73257 (68%)]\tLoss: 0.208524\n",
      "Train Epoch: 16 [55000/73257 (75%)]\tLoss: 0.203411\n",
      "Train Epoch: 16 [60000/73257 (82%)]\tLoss: 0.197963\n",
      "Train Epoch: 16 [65000/73257 (88%)]\tLoss: 0.182280\n",
      "Train Epoch: 16 [70000/73257 (95%)]\tLoss: 0.190362\n",
      "\n",
      "Test set: Avg. loss: 0.000376, Accuracy: 22742/25282 (89.95%)\n",
      "\n",
      "Train Epoch: 17 [0/73257 (0%)]\tLoss: 0.019709\n",
      "Train Epoch: 17 [5000/73257 (7%)]\tLoss: 0.181229\n",
      "Train Epoch: 17 [10000/73257 (14%)]\tLoss: 0.190495\n",
      "Train Epoch: 17 [15000/73257 (20%)]\tLoss: 0.185605\n",
      "Train Epoch: 17 [20000/73257 (27%)]\tLoss: 0.209768\n",
      "Train Epoch: 17 [25000/73257 (34%)]\tLoss: 0.194620\n",
      "Train Epoch: 17 [30000/73257 (41%)]\tLoss: 0.184444\n",
      "Train Epoch: 17 [35000/73257 (48%)]\tLoss: 0.213373\n",
      "Train Epoch: 17 [40000/73257 (54%)]\tLoss: 0.205413\n",
      "Train Epoch: 17 [45000/73257 (61%)]\tLoss: 0.184750\n",
      "Train Epoch: 17 [50000/73257 (68%)]\tLoss: 0.197781\n",
      "Train Epoch: 17 [55000/73257 (75%)]\tLoss: 0.187658\n",
      "Train Epoch: 17 [60000/73257 (82%)]\tLoss: 0.195054\n",
      "Train Epoch: 17 [65000/73257 (88%)]\tLoss: 0.186977\n",
      "Train Epoch: 17 [70000/73257 (95%)]\tLoss: 0.185782\n",
      "\n",
      "Test set: Avg. loss: 0.000375, Accuracy: 22733/25282 (89.92%)\n",
      "\n",
      "Train Epoch: 18 [0/73257 (0%)]\tLoss: 0.022020\n",
      "Train Epoch: 18 [5000/73257 (7%)]\tLoss: 0.194565\n",
      "Train Epoch: 18 [10000/73257 (14%)]\tLoss: 0.174432\n",
      "Train Epoch: 18 [15000/73257 (20%)]\tLoss: 0.201590\n",
      "Train Epoch: 18 [20000/73257 (27%)]\tLoss: 0.204960\n",
      "Train Epoch: 18 [25000/73257 (34%)]\tLoss: 0.190197\n",
      "Train Epoch: 18 [30000/73257 (41%)]\tLoss: 0.188508\n",
      "Train Epoch: 18 [35000/73257 (48%)]\tLoss: 0.183596\n",
      "Train Epoch: 18 [40000/73257 (54%)]\tLoss: 0.198852\n",
      "Train Epoch: 18 [45000/73257 (61%)]\tLoss: 0.189399\n",
      "Train Epoch: 18 [50000/73257 (68%)]\tLoss: 0.184458\n",
      "Train Epoch: 18 [55000/73257 (75%)]\tLoss: 0.194259\n",
      "Train Epoch: 18 [60000/73257 (82%)]\tLoss: 0.201896\n",
      "Train Epoch: 18 [65000/73257 (88%)]\tLoss: 0.201809\n",
      "Train Epoch: 18 [70000/73257 (95%)]\tLoss: 0.187798\n",
      "\n",
      "Test set: Avg. loss: 0.000375, Accuracy: 22739/25282 (89.94%)\n",
      "\n",
      "Finished Training\n",
      "\n",
      "Accuracies: [78.12673048018353, 83.22917490704849, 84.59773752076576, 86.38161537853019, 87.36255043113678, 87.63151649394827, 88.34348548374338, 88.24855628510403, 88.67178229570446, 88.6757376789811, 89.91377264456926, 89.9177280278459, 89.87026342852623, 89.86235266197295, 89.94937109405902, 89.95332647733565, 89.9177280278459, 89.94146032750574]\n"
     ]
    }
   ],
   "source": [
    "# Create Model\n",
    "model = SvhnNet()\n",
    "\n",
    "if use_cuda:\n",
    "    model.cuda()\n",
    "    print('Using ', torch.cuda.device_count(), ' GPU(s)')\n",
    "\n",
    "# Define Optimizer\n",
    "criterion = nn.CrossEntropyLoss()\n",
    "optimizer = optim.Adam(model.parameters(), lr=learning_rate)\n",
    "scheduler= optim.lr_scheduler.MultiStepLR(optimizer, milestones=[10,14,16], gamma=0.1)\n",
    "\n",
    "# Start Training\n",
    "_, _, accs = train(num_epochs, model, optimizer, scheduler, criterion, trainloader, testloader)\n",
    "\n",
    "print()\n",
    "print('Accuracies: {}'.format(accs))"
   ]
  },
  {
   "cell_type": "markdown",
   "metadata": {
    "id": "qOX5Iwrde9f5"
   },
   "source": [
    "Put model in evaluation mode."
   ]
  },
  {
   "cell_type": "code",
   "execution_count": 14,
   "metadata": {
    "colab": {
     "base_uri": "https://localhost:8080/"
    },
    "executionInfo": {
     "elapsed": 473,
     "status": "ok",
     "timestamp": 1612891245146,
     "user": {
      "displayName": "Bam Power",
      "photoUrl": "https://lh3.googleusercontent.com/a-/AOh14GgSMnvpPSpQHyFMhcdXXX00QS82LMCMbDQiszLr=s64",
      "userId": "17908920294202220192"
     },
     "user_tz": -60
    },
    "id": "g10p0O_9fAOe",
    "outputId": "20b8d8a8-682f-4328-9297-25e5f4cabdc4"
   },
   "outputs": [
    {
     "name": "stdout",
     "output_type": "stream",
     "text": [
      "Using  1  GPU(s)\n"
     ]
    }
   ],
   "source": [
    "model.eval()\n",
    "\n",
    "if use_cuda:\n",
    "    model.cuda()\n",
    "    print('Using ', torch.cuda.device_count(), ' GPU(s)')"
   ]
  },
  {
   "cell_type": "markdown",
   "metadata": {
    "id": "FRreifcIgVNz"
   },
   "source": [
    "Let's test our model again to see again which accuracy we have finally reached."
   ]
  },
  {
   "cell_type": "code",
   "execution_count": 15,
   "metadata": {
    "executionInfo": {
     "elapsed": 447,
     "status": "ok",
     "timestamp": 1612891246351,
     "user": {
      "displayName": "Bam Power",
      "photoUrl": "https://lh3.googleusercontent.com/a-/AOh14GgSMnvpPSpQHyFMhcdXXX00QS82LMCMbDQiszLr=s64",
      "userId": "17908920294202220192"
     },
     "user_tz": -60
    },
    "id": "GblopwOcg1HF"
   },
   "outputs": [],
   "source": [
    "def test_final(model, data_loader):\n",
    "    _, accs = test(model, criterion, data_loader, [], [])\n",
    "    return accs[0]"
   ]
  },
  {
   "cell_type": "code",
   "execution_count": 16,
   "metadata": {
    "colab": {
     "base_uri": "https://localhost:8080/"
    },
    "executionInfo": {
     "elapsed": 5207,
     "status": "ok",
     "timestamp": 1612891252827,
     "user": {
      "displayName": "Bam Power",
      "photoUrl": "https://lh3.googleusercontent.com/a-/AOh14GgSMnvpPSpQHyFMhcdXXX00QS82LMCMbDQiszLr=s64",
      "userId": "17908920294202220192"
     },
     "user_tz": -60
    },
    "id": "ruV5BFPJgYJY",
    "outputId": "326d3179-f7b9-4c90-9207-bf58b63c70ef"
   },
   "outputs": [
    {
     "name": "stdout",
     "output_type": "stream",
     "text": [
      "\n",
      "Test set: Avg. loss: 0.000375, Accuracy: 22739/25282 (89.94%)\n",
      "\n"
     ]
    },
    {
     "data": {
      "text/plain": [
       "89.94146032750574"
      ]
     },
     "execution_count": 16,
     "metadata": {
      "tags": []
     },
     "output_type": "execute_result"
    }
   ],
   "source": [
    "test_acc = test_final(model, testloader); test_acc"
   ]
  },
  {
   "cell_type": "markdown",
   "metadata": {
    "id": "ndn0ckY3XNFk"
   },
   "source": [
    "Let's save the model."
   ]
  },
  {
   "cell_type": "code",
   "execution_count": 17,
   "metadata": {
    "executionInfo": {
     "elapsed": 452,
     "status": "ok",
     "timestamp": 1612891254710,
     "user": {
      "displayName": "Bam Power",
      "photoUrl": "https://lh3.googleusercontent.com/a-/AOh14GgSMnvpPSpQHyFMhcdXXX00QS82LMCMbDQiszLr=s64",
      "userId": "17908920294202220192"
     },
     "user_tz": -60
    },
    "id": "Mn16mBzdEnfk"
   },
   "outputs": [],
   "source": [
    "torch.save(model.state_dict(), \"./svhn_model.pth\")"
   ]
  },
  {
   "cell_type": "code",
   "execution_count": 18,
   "metadata": {
    "colab": {
     "base_uri": "https://localhost:8080/"
    },
    "executionInfo": {
     "elapsed": 552,
     "status": "ok",
     "timestamp": 1612891256303,
     "user": {
      "displayName": "Bam Power",
      "photoUrl": "https://lh3.googleusercontent.com/a-/AOh14GgSMnvpPSpQHyFMhcdXXX00QS82LMCMbDQiszLr=s64",
      "userId": "17908920294202220192"
     },
     "user_tz": -60
    },
    "id": "9E2mBMz-XVyH",
    "outputId": "b6f382ca-8048-4493-eb10-9c140a0b6ebb"
   },
   "outputs": [
    {
     "name": "stdout",
     "output_type": "stream",
     "text": [
      "data  sample_data  svhn_model.pth\n"
     ]
    }
   ],
   "source": [
    "! ls"
   ]
  },
  {
   "cell_type": "code",
   "execution_count": 19,
   "metadata": {
    "colab": {
     "base_uri": "https://localhost:8080/",
     "height": 17
    },
    "executionInfo": {
     "elapsed": 470,
     "status": "ok",
     "timestamp": 1612891258217,
     "user": {
      "displayName": "Bam Power",
      "photoUrl": "https://lh3.googleusercontent.com/a-/AOh14GgSMnvpPSpQHyFMhcdXXX00QS82LMCMbDQiszLr=s64",
      "userId": "17908920294202220192"
     },
     "user_tz": -60
    },
    "id": "d7HV1Mfvp21K",
    "outputId": "ac8a595e-bf51-4213-8486-1a413379d73a"
   },
   "outputs": [
    {
     "data": {
      "application/javascript": [
       "\n",
       "    async function download(id, filename, size) {\n",
       "      if (!google.colab.kernel.accessAllowed) {\n",
       "        return;\n",
       "      }\n",
       "      const div = document.createElement('div');\n",
       "      const label = document.createElement('label');\n",
       "      label.textContent = `Downloading \"${filename}\": `;\n",
       "      div.appendChild(label);\n",
       "      const progress = document.createElement('progress');\n",
       "      progress.max = size;\n",
       "      div.appendChild(progress);\n",
       "      document.body.appendChild(div);\n",
       "\n",
       "      const buffers = [];\n",
       "      let downloaded = 0;\n",
       "\n",
       "      const channel = await google.colab.kernel.comms.open(id);\n",
       "      // Send a message to notify the kernel that we're ready.\n",
       "      channel.send({})\n",
       "\n",
       "      for await (const message of channel.messages) {\n",
       "        // Send a message to notify the kernel that we're ready.\n",
       "        channel.send({})\n",
       "        if (message.buffers) {\n",
       "          for (const buffer of message.buffers) {\n",
       "            buffers.push(buffer);\n",
       "            downloaded += buffer.byteLength;\n",
       "            progress.value = downloaded;\n",
       "          }\n",
       "        }\n",
       "      }\n",
       "      const blob = new Blob(buffers, {type: 'application/binary'});\n",
       "      const a = document.createElement('a');\n",
       "      a.href = window.URL.createObjectURL(blob);\n",
       "      a.download = filename;\n",
       "      div.appendChild(a);\n",
       "      a.click();\n",
       "      div.remove();\n",
       "    }\n",
       "  "
      ],
      "text/plain": [
       "<IPython.core.display.Javascript object>"
      ]
     },
     "metadata": {
      "tags": []
     },
     "output_type": "display_data"
    },
    {
     "data": {
      "application/javascript": [
       "download(\"download_870bf263-18d9-4f70-8bbd-bb88c2d0481d\", \"svhn_model.pth\", 2891983)"
      ],
      "text/plain": [
       "<IPython.core.display.Javascript object>"
      ]
     },
     "metadata": {
      "tags": []
     },
     "output_type": "display_data"
    }
   ],
   "source": [
    "from google.colab import files\n",
    "files.download('./svhn_model.pth')"
   ]
  },
  {
   "cell_type": "code",
   "execution_count": null,
   "metadata": {
    "id": "vSGM5aFLqExM"
   },
   "outputs": [],
   "source": []
  }
 ],
 "metadata": {
  "accelerator": "GPU",
  "colab": {
   "authorship_tag": "ABX9TyPdAsiF/VxLsroqfwb1u77Y",
   "collapsed_sections": [],
   "name": "train_svhn.ipynb",
   "provenance": [
    {
     "file_id": "12Wzn6lCPM7DcKAgwUE0-LJdf0Y-HhfGp",
     "timestamp": 1612890211414
    }
   ]
  },
  "kernelspec": {
   "display_name": "Python 3 (ipykernel)",
   "language": "python",
   "name": "python3"
  },
  "language_info": {
   "codemirror_mode": {
    "name": "ipython",
    "version": 3
   },
   "file_extension": ".py",
   "mimetype": "text/x-python",
   "name": "python",
   "nbconvert_exporter": "python",
   "pygments_lexer": "ipython3",
   "version": "3.8.5"
  },
  "widgets": {
   "application/vnd.jupyter.widget-state+json": {
    "11b95285cc7c4c6995146c0b37650c65": {
     "model_module": "@jupyter-widgets/controls",
     "model_name": "HBoxModel",
     "state": {
      "_dom_classes": [],
      "_model_module": "@jupyter-widgets/controls",
      "_model_module_version": "1.5.0",
      "_model_name": "HBoxModel",
      "_view_count": null,
      "_view_module": "@jupyter-widgets/controls",
      "_view_module_version": "1.5.0",
      "_view_name": "HBoxView",
      "box_style": "",
      "children": [
       "IPY_MODEL_e2af8486a875412d969886d3620dc3a5",
       "IPY_MODEL_cce49d8d1b4a4fb882f63f9ec41eebe4"
      ],
      "layout": "IPY_MODEL_e184605588d843dfbdb2c14ddded8b14"
     }
    },
    "191807580916433793eb6a2008141520": {
     "model_module": "@jupyter-widgets/controls",
     "model_name": "FloatProgressModel",
     "state": {
      "_dom_classes": [],
      "_model_module": "@jupyter-widgets/controls",
      "_model_module_version": "1.5.0",
      "_model_name": "FloatProgressModel",
      "_view_count": null,
      "_view_module": "@jupyter-widgets/controls",
      "_view_module_version": "1.5.0",
      "_view_name": "ProgressView",
      "bar_style": "info",
      "description": "",
      "description_tooltip": null,
      "layout": "IPY_MODEL_81dd13555844417bb8197fb5cbbdcc1e",
      "max": 1,
      "min": 0,
      "orientation": "horizontal",
      "style": "IPY_MODEL_5121a71619b74aab89ca601bf731b463",
      "value": 1
     }
    },
    "4e737a2a3ff5498da99cdecf3eb7f738": {
     "model_module": "@jupyter-widgets/base",
     "model_name": "LayoutModel",
     "state": {
      "_model_module": "@jupyter-widgets/base",
      "_model_module_version": "1.2.0",
      "_model_name": "LayoutModel",
      "_view_count": null,
      "_view_module": "@jupyter-widgets/base",
      "_view_module_version": "1.2.0",
      "_view_name": "LayoutView",
      "align_content": null,
      "align_items": null,
      "align_self": null,
      "border": null,
      "bottom": null,
      "display": null,
      "flex": null,
      "flex_flow": null,
      "grid_area": null,
      "grid_auto_columns": null,
      "grid_auto_flow": null,
      "grid_auto_rows": null,
      "grid_column": null,
      "grid_gap": null,
      "grid_row": null,
      "grid_template_areas": null,
      "grid_template_columns": null,
      "grid_template_rows": null,
      "height": null,
      "justify_content": null,
      "justify_items": null,
      "left": null,
      "margin": null,
      "max_height": null,
      "max_width": null,
      "min_height": null,
      "min_width": null,
      "object_fit": null,
      "object_position": null,
      "order": null,
      "overflow": null,
      "overflow_x": null,
      "overflow_y": null,
      "padding": null,
      "right": null,
      "top": null,
      "visibility": null,
      "width": null
     }
    },
    "5121a71619b74aab89ca601bf731b463": {
     "model_module": "@jupyter-widgets/controls",
     "model_name": "ProgressStyleModel",
     "state": {
      "_model_module": "@jupyter-widgets/controls",
      "_model_module_version": "1.5.0",
      "_model_name": "ProgressStyleModel",
      "_view_count": null,
      "_view_module": "@jupyter-widgets/base",
      "_view_module_version": "1.2.0",
      "_view_name": "StyleView",
      "bar_color": null,
      "description_width": "initial"
     }
    },
    "517d5fbe99964718b913798c88cf3e8c": {
     "model_module": "@jupyter-widgets/controls",
     "model_name": "DescriptionStyleModel",
     "state": {
      "_model_module": "@jupyter-widgets/controls",
      "_model_module_version": "1.5.0",
      "_model_name": "DescriptionStyleModel",
      "_view_count": null,
      "_view_module": "@jupyter-widgets/base",
      "_view_module_version": "1.2.0",
      "_view_name": "StyleView",
      "description_width": ""
     }
    },
    "5e9021b735e34794896b5939a7c71c84": {
     "model_module": "@jupyter-widgets/controls",
     "model_name": "HTMLModel",
     "state": {
      "_dom_classes": [],
      "_model_module": "@jupyter-widgets/controls",
      "_model_module_version": "1.5.0",
      "_model_name": "HTMLModel",
      "_view_count": null,
      "_view_module": "@jupyter-widgets/controls",
      "_view_module_version": "1.5.0",
      "_view_name": "HTMLView",
      "description": "",
      "description_tooltip": null,
      "layout": "IPY_MODEL_d9977914194346edaada7b5c27057299",
      "placeholder": "​",
      "style": "IPY_MODEL_a1905289897d43a2b372c266ac686a3d",
      "value": " 182042624/? [00:30&lt;00:00, 20623882.99it/s]"
     }
    },
    "81dd13555844417bb8197fb5cbbdcc1e": {
     "model_module": "@jupyter-widgets/base",
     "model_name": "LayoutModel",
     "state": {
      "_model_module": "@jupyter-widgets/base",
      "_model_module_version": "1.2.0",
      "_model_name": "LayoutModel",
      "_view_count": null,
      "_view_module": "@jupyter-widgets/base",
      "_view_module_version": "1.2.0",
      "_view_name": "LayoutView",
      "align_content": null,
      "align_items": null,
      "align_self": null,
      "border": null,
      "bottom": null,
      "display": null,
      "flex": null,
      "flex_flow": null,
      "grid_area": null,
      "grid_auto_columns": null,
      "grid_auto_flow": null,
      "grid_auto_rows": null,
      "grid_column": null,
      "grid_gap": null,
      "grid_row": null,
      "grid_template_areas": null,
      "grid_template_columns": null,
      "grid_template_rows": null,
      "height": null,
      "justify_content": null,
      "justify_items": null,
      "left": null,
      "margin": null,
      "max_height": null,
      "max_width": null,
      "min_height": null,
      "min_width": null,
      "object_fit": null,
      "object_position": null,
      "order": null,
      "overflow": null,
      "overflow_x": null,
      "overflow_y": null,
      "padding": null,
      "right": null,
      "top": null,
      "visibility": null,
      "width": null
     }
    },
    "a1905289897d43a2b372c266ac686a3d": {
     "model_module": "@jupyter-widgets/controls",
     "model_name": "DescriptionStyleModel",
     "state": {
      "_model_module": "@jupyter-widgets/controls",
      "_model_module_version": "1.5.0",
      "_model_name": "DescriptionStyleModel",
      "_view_count": null,
      "_view_module": "@jupyter-widgets/base",
      "_view_module_version": "1.2.0",
      "_view_name": "StyleView",
      "description_width": ""
     }
    },
    "a7a10fdd31af40fc824c14d2b6600158": {
     "model_module": "@jupyter-widgets/controls",
     "model_name": "HBoxModel",
     "state": {
      "_dom_classes": [],
      "_model_module": "@jupyter-widgets/controls",
      "_model_module_version": "1.5.0",
      "_model_name": "HBoxModel",
      "_view_count": null,
      "_view_module": "@jupyter-widgets/controls",
      "_view_module_version": "1.5.0",
      "_view_name": "HBoxView",
      "box_style": "",
      "children": [
       "IPY_MODEL_191807580916433793eb6a2008141520",
       "IPY_MODEL_5e9021b735e34794896b5939a7c71c84"
      ],
      "layout": "IPY_MODEL_4e737a2a3ff5498da99cdecf3eb7f738"
     }
    },
    "cce49d8d1b4a4fb882f63f9ec41eebe4": {
     "model_module": "@jupyter-widgets/controls",
     "model_name": "HTMLModel",
     "state": {
      "_dom_classes": [],
      "_model_module": "@jupyter-widgets/controls",
      "_model_module_version": "1.5.0",
      "_model_name": "HTMLModel",
      "_view_count": null,
      "_view_module": "@jupyter-widgets/controls",
      "_view_module_version": "1.5.0",
      "_view_name": "HTMLView",
      "description": "",
      "description_tooltip": null,
      "layout": "IPY_MODEL_ebdad419c2964e3ea2ffd2cbeec3c6c8",
      "placeholder": "​",
      "style": "IPY_MODEL_517d5fbe99964718b913798c88cf3e8c",
      "value": " 64282624/? [00:16&lt;00:00, 25284170.37it/s]"
     }
    },
    "d9977914194346edaada7b5c27057299": {
     "model_module": "@jupyter-widgets/base",
     "model_name": "LayoutModel",
     "state": {
      "_model_module": "@jupyter-widgets/base",
      "_model_module_version": "1.2.0",
      "_model_name": "LayoutModel",
      "_view_count": null,
      "_view_module": "@jupyter-widgets/base",
      "_view_module_version": "1.2.0",
      "_view_name": "LayoutView",
      "align_content": null,
      "align_items": null,
      "align_self": null,
      "border": null,
      "bottom": null,
      "display": null,
      "flex": null,
      "flex_flow": null,
      "grid_area": null,
      "grid_auto_columns": null,
      "grid_auto_flow": null,
      "grid_auto_rows": null,
      "grid_column": null,
      "grid_gap": null,
      "grid_row": null,
      "grid_template_areas": null,
      "grid_template_columns": null,
      "grid_template_rows": null,
      "height": null,
      "justify_content": null,
      "justify_items": null,
      "left": null,
      "margin": null,
      "max_height": null,
      "max_width": null,
      "min_height": null,
      "min_width": null,
      "object_fit": null,
      "object_position": null,
      "order": null,
      "overflow": null,
      "overflow_x": null,
      "overflow_y": null,
      "padding": null,
      "right": null,
      "top": null,
      "visibility": null,
      "width": null
     }
    },
    "e184605588d843dfbdb2c14ddded8b14": {
     "model_module": "@jupyter-widgets/base",
     "model_name": "LayoutModel",
     "state": {
      "_model_module": "@jupyter-widgets/base",
      "_model_module_version": "1.2.0",
      "_model_name": "LayoutModel",
      "_view_count": null,
      "_view_module": "@jupyter-widgets/base",
      "_view_module_version": "1.2.0",
      "_view_name": "LayoutView",
      "align_content": null,
      "align_items": null,
      "align_self": null,
      "border": null,
      "bottom": null,
      "display": null,
      "flex": null,
      "flex_flow": null,
      "grid_area": null,
      "grid_auto_columns": null,
      "grid_auto_flow": null,
      "grid_auto_rows": null,
      "grid_column": null,
      "grid_gap": null,
      "grid_row": null,
      "grid_template_areas": null,
      "grid_template_columns": null,
      "grid_template_rows": null,
      "height": null,
      "justify_content": null,
      "justify_items": null,
      "left": null,
      "margin": null,
      "max_height": null,
      "max_width": null,
      "min_height": null,
      "min_width": null,
      "object_fit": null,
      "object_position": null,
      "order": null,
      "overflow": null,
      "overflow_x": null,
      "overflow_y": null,
      "padding": null,
      "right": null,
      "top": null,
      "visibility": null,
      "width": null
     }
    },
    "e2af8486a875412d969886d3620dc3a5": {
     "model_module": "@jupyter-widgets/controls",
     "model_name": "FloatProgressModel",
     "state": {
      "_dom_classes": [],
      "_model_module": "@jupyter-widgets/controls",
      "_model_module_version": "1.5.0",
      "_model_name": "FloatProgressModel",
      "_view_count": null,
      "_view_module": "@jupyter-widgets/controls",
      "_view_module_version": "1.5.0",
      "_view_name": "ProgressView",
      "bar_style": "info",
      "description": "",
      "description_tooltip": null,
      "layout": "IPY_MODEL_e4544e177b954b4aba8100493ba32e4c",
      "max": 1,
      "min": 0,
      "orientation": "horizontal",
      "style": "IPY_MODEL_e36a4dba3abd4825afcbf4f81c5c003a",
      "value": 1
     }
    },
    "e36a4dba3abd4825afcbf4f81c5c003a": {
     "model_module": "@jupyter-widgets/controls",
     "model_name": "ProgressStyleModel",
     "state": {
      "_model_module": "@jupyter-widgets/controls",
      "_model_module_version": "1.5.0",
      "_model_name": "ProgressStyleModel",
      "_view_count": null,
      "_view_module": "@jupyter-widgets/base",
      "_view_module_version": "1.2.0",
      "_view_name": "StyleView",
      "bar_color": null,
      "description_width": "initial"
     }
    },
    "e4544e177b954b4aba8100493ba32e4c": {
     "model_module": "@jupyter-widgets/base",
     "model_name": "LayoutModel",
     "state": {
      "_model_module": "@jupyter-widgets/base",
      "_model_module_version": "1.2.0",
      "_model_name": "LayoutModel",
      "_view_count": null,
      "_view_module": "@jupyter-widgets/base",
      "_view_module_version": "1.2.0",
      "_view_name": "LayoutView",
      "align_content": null,
      "align_items": null,
      "align_self": null,
      "border": null,
      "bottom": null,
      "display": null,
      "flex": null,
      "flex_flow": null,
      "grid_area": null,
      "grid_auto_columns": null,
      "grid_auto_flow": null,
      "grid_auto_rows": null,
      "grid_column": null,
      "grid_gap": null,
      "grid_row": null,
      "grid_template_areas": null,
      "grid_template_columns": null,
      "grid_template_rows": null,
      "height": null,
      "justify_content": null,
      "justify_items": null,
      "left": null,
      "margin": null,
      "max_height": null,
      "max_width": null,
      "min_height": null,
      "min_width": null,
      "object_fit": null,
      "object_position": null,
      "order": null,
      "overflow": null,
      "overflow_x": null,
      "overflow_y": null,
      "padding": null,
      "right": null,
      "top": null,
      "visibility": null,
      "width": null
     }
    },
    "ebdad419c2964e3ea2ffd2cbeec3c6c8": {
     "model_module": "@jupyter-widgets/base",
     "model_name": "LayoutModel",
     "state": {
      "_model_module": "@jupyter-widgets/base",
      "_model_module_version": "1.2.0",
      "_model_name": "LayoutModel",
      "_view_count": null,
      "_view_module": "@jupyter-widgets/base",
      "_view_module_version": "1.2.0",
      "_view_name": "LayoutView",
      "align_content": null,
      "align_items": null,
      "align_self": null,
      "border": null,
      "bottom": null,
      "display": null,
      "flex": null,
      "flex_flow": null,
      "grid_area": null,
      "grid_auto_columns": null,
      "grid_auto_flow": null,
      "grid_auto_rows": null,
      "grid_column": null,
      "grid_gap": null,
      "grid_row": null,
      "grid_template_areas": null,
      "grid_template_columns": null,
      "grid_template_rows": null,
      "height": null,
      "justify_content": null,
      "justify_items": null,
      "left": null,
      "margin": null,
      "max_height": null,
      "max_width": null,
      "min_height": null,
      "min_width": null,
      "object_fit": null,
      "object_position": null,
      "order": null,
      "overflow": null,
      "overflow_x": null,
      "overflow_y": null,
      "padding": null,
      "right": null,
      "top": null,
      "visibility": null,
      "width": null
     }
    }
   }
  }
 },
 "nbformat": 4,
 "nbformat_minor": 1
}
