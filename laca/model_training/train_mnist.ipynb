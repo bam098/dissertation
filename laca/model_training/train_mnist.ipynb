{
 "cells": [
  {
   "cell_type": "markdown",
   "metadata": {
    "id": "vkFfaHmXHKUQ"
   },
   "source": [
    "# MNIST Training\n"
   ]
  },
  {
   "cell_type": "markdown",
   "metadata": {
    "id": "QlKtXlb-wULO"
   },
   "source": [
    "The training setup is the same one that has also been used by Papernot and McDaniel. For more details see their [paper](https://arxiv.org/abs/1803.04765) and their [sample code](https://github.com/cleverhans-lab/cleverhans/blob/master/cleverhans/model_zoo/deep_k_nearest_neighbors/dknn.py)."
   ]
  },
  {
   "cell_type": "code",
   "execution_count": null,
   "metadata": {
    "colab": {
     "base_uri": "https://localhost:8080/"
    },
    "executionInfo": {
     "elapsed": 93444,
     "status": "ok",
     "timestamp": 1612889299156,
     "user": {
      "displayName": "Bam Power",
      "photoUrl": "https://lh3.googleusercontent.com/a-/AOh14GgSMnvpPSpQHyFMhcdXXX00QS82LMCMbDQiszLr=s64",
      "userId": "17908920294202220192"
     },
     "user_tz": -60
    },
    "id": "ExlhM-ej9utH",
    "outputId": "aa84a8b5-6092-453e-cac2-d41770556a29"
   },
   "outputs": [
    {
     "name": "stdout",
     "output_type": "stream",
     "text": [
      "Uninstalling torch-1.7.0+cu101:\n",
      "  Successfully uninstalled torch-1.7.0+cu101\n",
      "Uninstalling torchvision-0.8.1+cu101:\n",
      "  Successfully uninstalled torchvision-0.8.1+cu101\n",
      "Looking in links: https://download.pytorch.org/whl/torch_stable.html\n",
      "Collecting torch==1.7.0+cu101\n",
      "  Using cached https://download.pytorch.org/whl/cu101/torch-1.7.0%2Bcu101-cp36-cp36m-linux_x86_64.whl\n",
      "Collecting torchvision==0.8.1+cu101\n",
      "  Using cached https://download.pytorch.org/whl/cu101/torchvision-0.8.1%2Bcu101-cp36-cp36m-linux_x86_64.whl\n",
      "Requirement already satisfied: typing-extensions in /usr/local/lib/python3.6/dist-packages (from torch==1.7.0+cu101) (3.7.4.3)\n",
      "Requirement already satisfied: dataclasses in /usr/local/lib/python3.6/dist-packages (from torch==1.7.0+cu101) (0.8)\n",
      "Requirement already satisfied: future in /usr/local/lib/python3.6/dist-packages (from torch==1.7.0+cu101) (0.16.0)\n",
      "Requirement already satisfied: numpy in /usr/local/lib/python3.6/dist-packages (from torch==1.7.0+cu101) (1.19.5)\n",
      "Requirement already satisfied: pillow>=4.1.1 in /usr/local/lib/python3.6/dist-packages (from torchvision==0.8.1+cu101) (7.0.0)\n",
      "Installing collected packages: torch, torchvision\n",
      "Successfully installed torch-1.7.0+cu101 torchvision-0.8.1+cu101\n"
     ]
    }
   ],
   "source": [
    "! pip uninstall torch torchvision -y\n",
    "! pip install torch==1.7.0+cu101 torchvision==0.8.1+cu101 -f https://download.pytorch.org/whl/torch_stable.html"
   ]
  },
  {
   "cell_type": "code",
   "execution_count": null,
   "metadata": {
    "colab": {
     "base_uri": "https://localhost:8080/"
    },
    "executionInfo": {
     "elapsed": 1425,
     "status": "ok",
     "timestamp": 1612889307212,
     "user": {
      "displayName": "Bam Power",
      "photoUrl": "https://lh3.googleusercontent.com/a-/AOh14GgSMnvpPSpQHyFMhcdXXX00QS82LMCMbDQiszLr=s64",
      "userId": "17908920294202220192"
     },
     "user_tz": -60
    },
    "id": "2PTvaJ7Q9yo8",
    "outputId": "e8ed78ad-b450-4d80-c1bc-30b68d625756"
   },
   "outputs": [
    {
     "name": "stdout",
     "output_type": "stream",
     "text": [
      "python version:      3.6.9\n",
      "torch version:       1.7.0+cu101\n",
      "torchvision version: 0.8.1+cu101\n",
      "numpy version:       1.19.5\n",
      "matplotlib version:  3.2.2\n",
      "CUDA available:      True\n",
      "cuDNN enabled:       True\n",
      "num gpus:            1\n",
      "gpu:                 Tesla T4\n",
      "\n",
      "------------------------- CUDA -------------------------\n",
      "nvcc: NVIDIA (R) Cuda compiler driver\n",
      "Copyright (c) 2005-2019 NVIDIA Corporation\n",
      "Built on Sun_Jul_28_19:07:16_PDT_2019\n",
      "Cuda compilation tools, release 10.1, V10.1.243\n"
     ]
    }
   ],
   "source": [
    "%reload_ext autoreload\n",
    "%autoreload 2\n",
    "%matplotlib inline\n",
    "\n",
    "import torch\n",
    "import torch.nn as nn\n",
    "import torch.nn.functional as F\n",
    "import torch.optim as optim\n",
    "from torch.utils.data import DataLoader\n",
    "import torchvision\n",
    "from torchvision import transforms\n",
    "import matplotlib\n",
    "import matplotlib.pyplot as plt\n",
    "import numpy as np\n",
    "import platform\n",
    "\n",
    "print('python version:      {}'.format(platform.python_version()))\n",
    "print('torch version:       {}'.format(torch.__version__))\n",
    "print('torchvision version: {}'.format(torchvision.__version__))\n",
    "print('numpy version:       {}'.format(np.__version__))\n",
    "print('matplotlib version:  {}'.format(matplotlib.__version__))\n",
    "\n",
    "use_cuda = torch.cuda.is_available()\n",
    "print('CUDA available:      {}'.format(use_cuda))\n",
    "print('cuDNN enabled:       {}'.format(torch.backends.cudnn.enabled))\n",
    "print('num gpus:            {}'.format(torch.cuda.device_count()))\n",
    "\n",
    "if use_cuda:\n",
    "    print('gpu:                 {}'.format(torch.cuda.get_device_name(0)))\n",
    "\n",
    "    print()\n",
    "    print('------------------------- CUDA -------------------------')\n",
    "    ! nvcc --version"
   ]
  },
  {
   "cell_type": "markdown",
   "metadata": {
    "id": "yb63e9GR-Aii"
   },
   "source": [
    "Put CUDNN to deterministic and set seed values for [reproducibility reasons](https://pytorch.org/docs/stable/notes/randomness.html)."
   ]
  },
  {
   "cell_type": "code",
   "execution_count": null,
   "metadata": {
    "id": "yMH4t0VK9-Cp"
   },
   "outputs": [],
   "source": [
    "random_seed = 0\n",
    "torch.manual_seed(random_seed)\n",
    "np.random.seed(random_seed)\n",
    "\n",
    "torch.backends.cudnn.benchmark = False\n",
    "torch.backends.cudnn.deterministic = True\n",
    "torch.set_deterministic(True)"
   ]
  },
  {
   "cell_type": "markdown",
   "metadata": {
    "id": "ELNzocTU-DwE"
   },
   "source": [
    "Let's set some parameters."
   ]
  },
  {
   "cell_type": "code",
   "execution_count": null,
   "metadata": {
    "id": "7dBVyKcX4qNw"
   },
   "outputs": [],
   "source": [
    "num_epochs = 6            # number of training epochs\n",
    "batch_size_train = 500    # batch size for training\n",
    "batch_size_test = 1000    # batch size for testing\n",
    "learning_rate = 0.001     # learning rate for training\n",
    "calibset_size = 750       # size of the calibration set (should be used for calculating a confidence score later)\n",
    "\n",
    "log_interval = 10         # printing training statistics after 10 iterations"
   ]
  },
  {
   "cell_type": "markdown",
   "metadata": {
    "id": "Wik1VDmc-GfA"
   },
   "source": [
    "## Data"
   ]
  },
  {
   "cell_type": "markdown",
   "metadata": {
    "id": "U7c2zcL7yVUC"
   },
   "source": [
    "### Specify Dataset"
   ]
  },
  {
   "cell_type": "markdown",
   "metadata": {
    "id": "eoGsnIwryaom"
   },
   "source": [
    "Define data transform functions for training and test set."
   ]
  },
  {
   "cell_type": "code",
   "execution_count": null,
   "metadata": {
    "id": "VmUEEiqvyRj4"
   },
   "outputs": [],
   "source": [
    "transform = transforms.Compose([\n",
    "    transforms.ToTensor(),\n",
    "    transforms.Normalize((0.1307,), (0.3081,))\n",
    "])"
   ]
  },
  {
   "cell_type": "markdown",
   "metadata": {
    "id": "OQKJcyi_yfkV"
   },
   "source": [
    "Define training test and calibration set."
   ]
  },
  {
   "cell_type": "code",
   "execution_count": null,
   "metadata": {
    "id": "TeakmI6Xyf8-"
   },
   "outputs": [],
   "source": [
    "# Training set\n",
    "trainset = torchvision.datasets.MNIST(\n",
    "    root='./data', train=True, download=True, transform=transform\n",
    ")\n",
    "\n",
    "# Test set and calibration set\n",
    "orig_testset = torchvision.datasets.MNIST(\n",
    "    root='./data', train=False, download=True, transform=transform\n",
    ")\n",
    "orig_testset_size = len(orig_testset)\n",
    "\n",
    "testset_size = orig_testset_size - calibset_size\n",
    "testset, calibset = torch.utils.data.random_split(orig_testset, [testset_size, calibset_size])"
   ]
  },
  {
   "cell_type": "markdown",
   "metadata": {
    "id": "AzgtNQAwymuT"
   },
   "source": [
    "### Load Data"
   ]
  },
  {
   "cell_type": "markdown",
   "metadata": {
    "id": "ZlSfVhWEyxG7"
   },
   "source": [
    "Create train, test and calibration data loader."
   ]
  },
  {
   "cell_type": "code",
   "execution_count": null,
   "metadata": {
    "id": "0fi0GzKryxw4"
   },
   "outputs": [],
   "source": [
    "# Create training data loader\n",
    "trainloader = torch.utils.data.DataLoader(\n",
    "    trainset, batch_size=batch_size_train, shuffle=True, num_workers=2\n",
    ")\n",
    "\n",
    "# Create test data loader\n",
    "testloader = torch.utils.data.DataLoader(\n",
    "    testset, batch_size=batch_size_test, shuffle=False, num_workers=2\n",
    ")\n",
    "\n",
    "# Create calib data loader\n",
    "calibloader = torch.utils.data.DataLoader(\n",
    "    calibset, batch_size=calibset_size, shuffle=False, num_workers=2\n",
    ")"
   ]
  },
  {
   "cell_type": "markdown",
   "metadata": {
    "id": "Ha-pQCWXb0Iv"
   },
   "source": [
    "Print out the sizes of the datasets."
   ]
  },
  {
   "cell_type": "code",
   "execution_count": null,
   "metadata": {
    "colab": {
     "base_uri": "https://localhost:8080/"
    },
    "executionInfo": {
     "elapsed": 574,
     "status": "ok",
     "timestamp": 1612889317885,
     "user": {
      "displayName": "Bam Power",
      "photoUrl": "https://lh3.googleusercontent.com/a-/AOh14GgSMnvpPSpQHyFMhcdXXX00QS82LMCMbDQiszLr=s64",
      "userId": "17908920294202220192"
     },
     "user_tz": -60
    },
    "id": "F5XTyUe0b31Q",
    "outputId": "dc5578ee-ddbe-43bd-ad45-b676e9c1f864"
   },
   "outputs": [
    {
     "name": "stdout",
     "output_type": "stream",
     "text": [
      "trainset size: 60000\n",
      "testset size:  9250\n",
      "calibset size: 750\n"
     ]
    }
   ],
   "source": [
    "print('trainset size: {}'.format(len(trainloader.dataset)))\n",
    "print('testset size:  {}'.format(len(testloader.dataset)))\n",
    "print('calibset size: {}'.format(len(calibloader.dataset)))"
   ]
  },
  {
   "cell_type": "markdown",
   "metadata": {
    "id": "SvhyHSj_y2Ra"
   },
   "source": [
    "### Display Samples"
   ]
  },
  {
   "cell_type": "code",
   "execution_count": null,
   "metadata": {
    "id": "NQBLPagqy2_J"
   },
   "outputs": [],
   "source": [
    "def show_samples(data, targets):\n",
    "    data = data.numpy()\n",
    "    print(\"tensor shape: \" + str(data.shape))\n",
    "    \n",
    "    fig = plt.figure()\n",
    "    for i in range(9):\n",
    "        plt.subplot(3,3,i+1)\n",
    "        plt.tight_layout()\n",
    "        \n",
    "        img = data * 0.3081 + 0.1307  # unnormalize\n",
    "        plt.imshow(img[i][0], cmap='gray', interpolation='none')\n",
    "        plt.title(\"Ground Truth: {}\".format(targets[i]))\n",
    "        \n",
    "        plt.xticks([])\n",
    "        plt.yticks([])"
   ]
  },
  {
   "cell_type": "markdown",
   "metadata": {
    "id": "0kXdGSzry8Ce"
   },
   "source": [
    "Load a few test images and display them."
   ]
  },
  {
   "cell_type": "code",
   "execution_count": null,
   "metadata": {
    "colab": {
     "base_uri": "https://localhost:8080/",
     "height": 301
    },
    "executionInfo": {
     "elapsed": 1891,
     "status": "ok",
     "timestamp": 1612890028446,
     "user": {
      "displayName": "Bam Power",
      "photoUrl": "https://lh3.googleusercontent.com/a-/AOh14GgSMnvpPSpQHyFMhcdXXX00QS82LMCMbDQiszLr=s64",
      "userId": "17908920294202220192"
     },
     "user_tz": -60
    },
    "id": "woBy6gE-y8YR",
    "outputId": "634df330-225e-4d11-c590-62e776f71154"
   },
   "outputs": [
    {
     "name": "stdout",
     "output_type": "stream",
     "text": [
      "tensor shape: (1000, 1, 28, 28)\n"
     ]
    },
    {
     "data": {
      "image/png": "[encoded data removed]",
      "text/plain": [
       "<Figure size 432x288 with 9 Axes>"
      ]
     },
     "metadata": {
      "tags": []
     },
     "output_type": "display_data"
    }
   ],
   "source": [
    "dataiter = enumerate(testloader)\n",
    "_, (sample_data, sample_targets) = next(dataiter)\n",
    "\n",
    "show_samples(sample_data, sample_targets)"
   ]
  },
  {
   "cell_type": "markdown",
   "metadata": {
    "id": "8nrEJtUA4vwY"
   },
   "source": [
    "## Define Training and Test Functions"
   ]
  },
  {
   "cell_type": "markdown",
   "metadata": {
    "id": "hqpIuwp2awI9"
   },
   "source": [
    "Let's define the functions for training and testing."
   ]
  },
  {
   "cell_type": "code",
   "execution_count": null,
   "metadata": {
    "id": "PgBe_-yy4w-B"
   },
   "outputs": [],
   "source": [
    "def train(num_epochs, model, optim, crit, train_loader, test_loader):\n",
    "    train_losses = []\n",
    "    test_losses = []\n",
    "    test_accs = []\n",
    "    \n",
    "    for epoch in range(1, num_epochs + 1):\n",
    "        model, train_losses = train_one_epoch(epoch, model, optim, crit, train_loader, train_losses)\n",
    "        test_losses, test_accs = test(model, crit, test_loader, test_losses, test_accs)\n",
    "        \n",
    "    print('Finished Training')\n",
    "    return train_losses, test_losses, test_accs\n",
    "    \n",
    "\n",
    "def train_one_epoch(epoch_num, model, optim, crit, data_loader, losses):\n",
    "    model.train()\n",
    "    running_loss = 0.0\n",
    "    \n",
    "    for batch_idx, data in enumerate(data_loader):\n",
    "        # Get the inputs; data is a list of [inputs, labels]\n",
    "        inputs, targets = data\n",
    "\n",
    "        if use_cuda:\n",
    "            inputs, targets = inputs.cuda(), targets.cuda()\n",
    "        \n",
    "        # Zero the parameter gradients\n",
    "        optim.zero_grad()\n",
    "        \n",
    "        # Forward + backward + optimize\n",
    "        outputs = model(inputs)\n",
    "        loss = crit(outputs, targets)\n",
    "        loss.backward()\n",
    "        optimizer.step()\n",
    "        \n",
    "        # Print statistics\n",
    "        running_loss += loss.item()\n",
    "        \n",
    "        if batch_idx % log_interval == 0:\n",
    "            dataset_size = len(data_loader.dataset)\n",
    "            used_samples = batch_idx * len(inputs)\n",
    "            train_progress = 100. * batch_idx / len(data_loader)\n",
    "            avg_batch_loss = running_loss / log_interval\n",
    "            \n",
    "            print('Train Epoch: {} [{}/{} ({:.0f}%)]\\tLoss: {:.6f}'.format(\n",
    "                epoch_num, used_samples, dataset_size, train_progress, avg_batch_loss\n",
    "            ))\n",
    "            \n",
    "            losses.append(avg_batch_loss)\n",
    "            running_loss = 0.0\n",
    "            \n",
    "    return model, losses\n",
    "     \n",
    "    \n",
    "def test(model, crit, data_loader, test_losses, test_accs):\n",
    "    model.eval()\n",
    "    correct = 0\n",
    "    test_loss = 0\n",
    "    \n",
    "    with torch.no_grad():\n",
    "        for data in data_loader:\n",
    "            # Get the inputs; data is a list of [inputs, labels]\n",
    "            inputs, targets = data\n",
    "\n",
    "            if use_cuda:\n",
    "              inputs, targets = inputs.cuda(), targets.cuda()\n",
    "            \n",
    "            # Forward + loss + correct\n",
    "            outputs = model(inputs)\n",
    "            test_loss += crit(outputs, targets).item()\n",
    "            \n",
    "            _, predicted = torch.max(outputs.data, 1)\n",
    "            correct += (predicted == targets).sum().item()\n",
    "          \n",
    "    dataset_size = len(data_loader.dataset)\n",
    "    test_loss /= dataset_size\n",
    "    acc = 100. * correct / dataset_size\n",
    "    \n",
    "    test_losses.append(test_loss)\n",
    "    test_accs.append(acc)\n",
    "    \n",
    "    print('\\nTest set: Avg. loss: {:.6f}, Accuracy: {}/{} ({:.2f}%)\\n'.format(\n",
    "        test_loss, correct, dataset_size, acc\n",
    "    ))\n",
    "    \n",
    "    return test_losses, test_accs"
   ]
  },
  {
   "cell_type": "markdown",
   "metadata": {
    "id": "_YFZQkAi450A"
   },
   "source": [
    "## Network Architecture"
   ]
  },
  {
   "cell_type": "markdown",
   "metadata": {
    "id": "52b1IG-ra3eH"
   },
   "source": [
    "Let's define the neural network based model architecture for MNIST."
   ]
  },
  {
   "cell_type": "code",
   "execution_count": null,
   "metadata": {
    "id": "P7Pt-A4Z47aj"
   },
   "outputs": [],
   "source": [
    "class MnistNet(nn.Module):\n",
    "    def __init__(self):\n",
    "        super(MnistNet, self).__init__()\n",
    "        self.conv1 = nn.Conv2d(1, 64, kernel_size=8, stride=2, padding=3)\n",
    "        self.relu1 = nn.ReLU(True)\n",
    "        self.conv2 = nn.Conv2d(64, 128, kernel_size=6, stride=2)\n",
    "        self.relu2 = nn.ReLU(True)\n",
    "        self.conv3 = nn.Conv2d(128, 128, kernel_size=5)\n",
    "        self.relu3 = nn.ReLU(True)\n",
    "        self.fc = nn.Linear(128, 10)\n",
    "\n",
    "    def forward(self, x):\n",
    "        x = self.relu1(self.conv1(x))\n",
    "        x = self.relu2(self.conv2(x))\n",
    "        x = self.relu3(self.conv3(x))\n",
    "        x = x.view(-1, 128)\n",
    "        x = self.fc(x)\n",
    "        return x"
   ]
  },
  {
   "cell_type": "markdown",
   "metadata": {
    "id": "szo94UrQH0qc"
   },
   "source": [
    "## Model Training"
   ]
  },
  {
   "cell_type": "markdown",
   "metadata": {
    "id": "mXs2dnBFISBR"
   },
   "source": [
    "Let's train the model."
   ]
  },
  {
   "cell_type": "code",
   "execution_count": null,
   "metadata": {
    "colab": {
     "base_uri": "https://localhost:8080/"
    },
    "executionInfo": {
     "elapsed": 69652,
     "status": "ok",
     "timestamp": 1612890108830,
     "user": {
      "displayName": "Bam Power",
      "photoUrl": "https://lh3.googleusercontent.com/a-/AOh14GgSMnvpPSpQHyFMhcdXXX00QS82LMCMbDQiszLr=s64",
      "userId": "17908920294202220192"
     },
     "user_tz": -60
    },
    "id": "rP4BTofQITUI",
    "outputId": "f5f0e783-2286-4ad8-da84-651eab33d41e"
   },
   "outputs": [
    {
     "name": "stdout",
     "output_type": "stream",
     "text": [
      "Using  1  GPU(s)\n",
      "Train Epoch: 1 [0/60000 (0%)]\tLoss: 0.229999\n",
      "Train Epoch: 1 [5000/60000 (8%)]\tLoss: 1.106209\n",
      "Train Epoch: 1 [10000/60000 (17%)]\tLoss: 0.398306\n",
      "Train Epoch: 1 [15000/60000 (25%)]\tLoss: 0.291384\n",
      "Train Epoch: 1 [20000/60000 (33%)]\tLoss: 0.224361\n",
      "Train Epoch: 1 [25000/60000 (42%)]\tLoss: 0.187163\n",
      "Train Epoch: 1 [30000/60000 (50%)]\tLoss: 0.164172\n",
      "Train Epoch: 1 [35000/60000 (58%)]\tLoss: 0.138616\n",
      "Train Epoch: 1 [40000/60000 (67%)]\tLoss: 0.116260\n",
      "Train Epoch: 1 [45000/60000 (75%)]\tLoss: 0.115057\n",
      "Train Epoch: 1 [50000/60000 (83%)]\tLoss: 0.096055\n",
      "Train Epoch: 1 [55000/60000 (92%)]\tLoss: 0.088089\n",
      "\n",
      "Test set: Avg. loss: 0.000077, Accuracy: 9054/9250 (97.88%)\n",
      "\n",
      "Train Epoch: 2 [0/60000 (0%)]\tLoss: 0.007645\n",
      "Train Epoch: 2 [5000/60000 (8%)]\tLoss: 0.068021\n",
      "Train Epoch: 2 [10000/60000 (17%)]\tLoss: 0.080752\n",
      "Train Epoch: 2 [15000/60000 (25%)]\tLoss: 0.055804\n",
      "Train Epoch: 2 [20000/60000 (33%)]\tLoss: 0.058146\n",
      "Train Epoch: 2 [25000/60000 (42%)]\tLoss: 0.061231\n",
      "Train Epoch: 2 [30000/60000 (50%)]\tLoss: 0.057074\n",
      "Train Epoch: 2 [35000/60000 (58%)]\tLoss: 0.055939\n",
      "Train Epoch: 2 [40000/60000 (67%)]\tLoss: 0.048180\n",
      "Train Epoch: 2 [45000/60000 (75%)]\tLoss: 0.055813\n",
      "Train Epoch: 2 [50000/60000 (83%)]\tLoss: 0.053610\n",
      "Train Epoch: 2 [55000/60000 (92%)]\tLoss: 0.053053\n",
      "\n",
      "Test set: Avg. loss: 0.000047, Accuracy: 9122/9250 (98.62%)\n",
      "\n",
      "Train Epoch: 3 [0/60000 (0%)]\tLoss: 0.005307\n",
      "Train Epoch: 3 [5000/60000 (8%)]\tLoss: 0.044027\n",
      "Train Epoch: 3 [10000/60000 (17%)]\tLoss: 0.038153\n",
      "Train Epoch: 3 [15000/60000 (25%)]\tLoss: 0.047619\n",
      "Train Epoch: 3 [20000/60000 (33%)]\tLoss: 0.036797\n",
      "Train Epoch: 3 [25000/60000 (42%)]\tLoss: 0.035925\n",
      "Train Epoch: 3 [30000/60000 (50%)]\tLoss: 0.038587\n",
      "Train Epoch: 3 [35000/60000 (58%)]\tLoss: 0.041899\n",
      "Train Epoch: 3 [40000/60000 (67%)]\tLoss: 0.035123\n",
      "Train Epoch: 3 [45000/60000 (75%)]\tLoss: 0.033280\n",
      "Train Epoch: 3 [50000/60000 (83%)]\tLoss: 0.045205\n",
      "Train Epoch: 3 [55000/60000 (92%)]\tLoss: 0.035862\n",
      "\n",
      "Test set: Avg. loss: 0.000049, Accuracy: 9122/9250 (98.62%)\n",
      "\n",
      "Train Epoch: 4 [0/60000 (0%)]\tLoss: 0.002131\n",
      "Train Epoch: 4 [5000/60000 (8%)]\tLoss: 0.025984\n",
      "Train Epoch: 4 [10000/60000 (17%)]\tLoss: 0.038760\n",
      "Train Epoch: 4 [15000/60000 (25%)]\tLoss: 0.034443\n",
      "Train Epoch: 4 [20000/60000 (33%)]\tLoss: 0.021310\n",
      "Train Epoch: 4 [25000/60000 (42%)]\tLoss: 0.023944\n",
      "Train Epoch: 4 [30000/60000 (50%)]\tLoss: 0.029394\n",
      "Train Epoch: 4 [35000/60000 (58%)]\tLoss: 0.023520\n",
      "Train Epoch: 4 [40000/60000 (67%)]\tLoss: 0.023839\n",
      "Train Epoch: 4 [45000/60000 (75%)]\tLoss: 0.027884\n",
      "Train Epoch: 4 [50000/60000 (83%)]\tLoss: 0.027898\n",
      "Train Epoch: 4 [55000/60000 (92%)]\tLoss: 0.027327\n",
      "\n",
      "Test set: Avg. loss: 0.000037, Accuracy: 9139/9250 (98.80%)\n",
      "\n",
      "Train Epoch: 5 [0/60000 (0%)]\tLoss: 0.001734\n",
      "Train Epoch: 5 [5000/60000 (8%)]\tLoss: 0.021257\n",
      "Train Epoch: 5 [10000/60000 (17%)]\tLoss: 0.021322\n",
      "Train Epoch: 5 [15000/60000 (25%)]\tLoss: 0.018930\n",
      "Train Epoch: 5 [20000/60000 (33%)]\tLoss: 0.023415\n",
      "Train Epoch: 5 [25000/60000 (42%)]\tLoss: 0.014696\n",
      "Train Epoch: 5 [30000/60000 (50%)]\tLoss: 0.022717\n",
      "Train Epoch: 5 [35000/60000 (58%)]\tLoss: 0.017106\n",
      "Train Epoch: 5 [40000/60000 (67%)]\tLoss: 0.019089\n",
      "Train Epoch: 5 [45000/60000 (75%)]\tLoss: 0.020244\n",
      "Train Epoch: 5 [50000/60000 (83%)]\tLoss: 0.018579\n",
      "Train Epoch: 5 [55000/60000 (92%)]\tLoss: 0.031159\n",
      "\n",
      "Test set: Avg. loss: 0.000046, Accuracy: 9137/9250 (98.78%)\n",
      "\n",
      "Train Epoch: 6 [0/60000 (0%)]\tLoss: 0.002346\n",
      "Train Epoch: 6 [5000/60000 (8%)]\tLoss: 0.012510\n",
      "Train Epoch: 6 [10000/60000 (17%)]\tLoss: 0.015486\n",
      "Train Epoch: 6 [15000/60000 (25%)]\tLoss: 0.012902\n",
      "Train Epoch: 6 [20000/60000 (33%)]\tLoss: 0.014653\n",
      "Train Epoch: 6 [25000/60000 (42%)]\tLoss: 0.017600\n",
      "Train Epoch: 6 [30000/60000 (50%)]\tLoss: 0.015466\n",
      "Train Epoch: 6 [35000/60000 (58%)]\tLoss: 0.017738\n",
      "Train Epoch: 6 [40000/60000 (67%)]\tLoss: 0.017825\n",
      "Train Epoch: 6 [45000/60000 (75%)]\tLoss: 0.018324\n",
      "Train Epoch: 6 [50000/60000 (83%)]\tLoss: 0.017810\n",
      "Train Epoch: 6 [55000/60000 (92%)]\tLoss: 0.018285\n",
      "\n",
      "Test set: Avg. loss: 0.000038, Accuracy: 9162/9250 (99.05%)\n",
      "\n",
      "Finished Training\n",
      "\n",
      "Accuracies: [97.88108108108108, 98.61621621621622, 98.61621621621622, 98.8, 98.77837837837838, 99.04864864864865]\n"
     ]
    }
   ],
   "source": [
    "# Create Model\n",
    "model = MnistNet()\n",
    "\n",
    "if use_cuda:\n",
    "    model.cuda()\n",
    "    print('Using ', torch.cuda.device_count(), ' GPU(s)')\n",
    "\n",
    "# Define Optimizer\n",
    "criterion = nn.CrossEntropyLoss()\n",
    "optimizer = optim.Adam(model.parameters(), lr=learning_rate)\n",
    "\n",
    "# Start Training\n",
    "_, _, accs = train(num_epochs, model, optimizer, criterion, trainloader, testloader)\n",
    "\n",
    "print()\n",
    "print('Accuracies: {}'.format(accs))"
   ]
  },
  {
   "cell_type": "markdown",
   "metadata": {
    "id": "qOX5Iwrde9f5"
   },
   "source": [
    "Put model in evaluation mode."
   ]
  },
  {
   "cell_type": "code",
   "execution_count": null,
   "metadata": {
    "colab": {
     "base_uri": "https://localhost:8080/"
    },
    "executionInfo": {
     "elapsed": 730,
     "status": "ok",
     "timestamp": 1612890119997,
     "user": {
      "displayName": "Bam Power",
      "photoUrl": "https://lh3.googleusercontent.com/a-/AOh14GgSMnvpPSpQHyFMhcdXXX00QS82LMCMbDQiszLr=s64",
      "userId": "17908920294202220192"
     },
     "user_tz": -60
    },
    "id": "g10p0O_9fAOe",
    "outputId": "d65d837b-be7d-4d75-a31d-7fd7111842a3"
   },
   "outputs": [
    {
     "name": "stdout",
     "output_type": "stream",
     "text": [
      "Using  1  GPU(s)\n"
     ]
    }
   ],
   "source": [
    "model.eval()\n",
    "\n",
    "if use_cuda:\n",
    "    model.cuda()\n",
    "    print('Using ', torch.cuda.device_count(), ' GPU(s)')"
   ]
  },
  {
   "cell_type": "markdown",
   "metadata": {
    "id": "FRreifcIgVNz"
   },
   "source": [
    "Let's test our model again to see again which accuracy we have finally reached."
   ]
  },
  {
   "cell_type": "code",
   "execution_count": null,
   "metadata": {
    "id": "GblopwOcg1HF"
   },
   "outputs": [],
   "source": [
    "def test_final(model, data_loader):\n",
    "    _, accs = test(model, criterion, data_loader, [], [])\n",
    "    return accs[0]"
   ]
  },
  {
   "cell_type": "code",
   "execution_count": null,
   "metadata": {
    "colab": {
     "base_uri": "https://localhost:8080/"
    },
    "executionInfo": {
     "elapsed": 2109,
     "status": "ok",
     "timestamp": 1612890126745,
     "user": {
      "displayName": "Bam Power",
      "photoUrl": "https://lh3.googleusercontent.com/a-/AOh14GgSMnvpPSpQHyFMhcdXXX00QS82LMCMbDQiszLr=s64",
      "userId": "17908920294202220192"
     },
     "user_tz": -60
    },
    "id": "ruV5BFPJgYJY",
    "outputId": "ba1eaf5d-5f9b-4c81-ff51-a6a42a3c8f08"
   },
   "outputs": [
    {
     "name": "stdout",
     "output_type": "stream",
     "text": [
      "\n",
      "Test set: Avg. loss: 0.000038, Accuracy: 9162/9250 (99.05%)\n",
      "\n"
     ]
    },
    {
     "data": {
      "text/plain": [
       "99.04864864864865"
      ]
     },
     "execution_count": 16,
     "metadata": {
      "tags": []
     },
     "output_type": "execute_result"
    }
   ],
   "source": [
    "test_acc = test_final(model, testloader); test_acc"
   ]
  },
  {
   "cell_type": "markdown",
   "metadata": {
    "id": "ndn0ckY3XNFk"
   },
   "source": [
    "Let's save the model."
   ]
  },
  {
   "cell_type": "code",
   "execution_count": null,
   "metadata": {
    "id": "Mn16mBzdEnfk"
   },
   "outputs": [],
   "source": [
    "torch.save(model.state_dict(), \"./mnist_model.pth\")"
   ]
  },
  {
   "cell_type": "code",
   "execution_count": null,
   "metadata": {
    "colab": {
     "base_uri": "https://localhost:8080/"
    },
    "executionInfo": {
     "elapsed": 585,
     "status": "ok",
     "timestamp": 1612890135015,
     "user": {
      "displayName": "Bam Power",
      "photoUrl": "https://lh3.googleusercontent.com/a-/AOh14GgSMnvpPSpQHyFMhcdXXX00QS82LMCMbDQiszLr=s64",
      "userId": "17908920294202220192"
     },
     "user_tz": -60
    },
    "id": "9E2mBMz-XVyH",
    "outputId": "1251504f-d55d-4a81-e013-2356febef1c2"
   },
   "outputs": [
    {
     "name": "stdout",
     "output_type": "stream",
     "text": [
      "data  mnist_model.pth  sample_data\n"
     ]
    }
   ],
   "source": [
    "! ls"
   ]
  },
  {
   "cell_type": "code",
   "execution_count": null,
   "metadata": {
    "colab": {
     "base_uri": "https://localhost:8080/",
     "height": 17
    },
    "executionInfo": {
     "elapsed": 478,
     "status": "ok",
     "timestamp": 1612890137273,
     "user": {
      "displayName": "Bam Power",
      "photoUrl": "https://lh3.googleusercontent.com/a-/AOh14GgSMnvpPSpQHyFMhcdXXX00QS82LMCMbDQiszLr=s64",
      "userId": "17908920294202220192"
     },
     "user_tz": -60
    },
    "id": "d7HV1Mfvp21K",
    "outputId": "ec15eb72-d743-43e6-ad02-f5162ee6c8d4"
   },
   "outputs": [
    {
     "data": {
      "application/javascript": [
       "\n",
       "    async function download(id, filename, size) {\n",
       "      if (!google.colab.kernel.accessAllowed) {\n",
       "        return;\n",
       "      }\n",
       "      const div = document.createElement('div');\n",
       "      const label = document.createElement('label');\n",
       "      label.textContent = `Downloading \"${filename}\": `;\n",
       "      div.appendChild(label);\n",
       "      const progress = document.createElement('progress');\n",
       "      progress.max = size;\n",
       "      div.appendChild(progress);\n",
       "      document.body.appendChild(div);\n",
       "\n",
       "      const buffers = [];\n",
       "      let downloaded = 0;\n",
       "\n",
       "      const channel = await google.colab.kernel.comms.open(id);\n",
       "      // Send a message to notify the kernel that we're ready.\n",
       "      channel.send({})\n",
       "\n",
       "      for await (const message of channel.messages) {\n",
       "        // Send a message to notify the kernel that we're ready.\n",
       "        channel.send({})\n",
       "        if (message.buffers) {\n",
       "          for (const buffer of message.buffers) {\n",
       "            buffers.push(buffer);\n",
       "            downloaded += buffer.byteLength;\n",
       "            progress.value = downloaded;\n",
       "          }\n",
       "        }\n",
       "      }\n",
       "      const blob = new Blob(buffers, {type: 'application/binary'});\n",
       "      const a = document.createElement('a');\n",
       "      a.href = window.URL.createObjectURL(blob);\n",
       "      a.download = filename;\n",
       "      div.appendChild(a);\n",
       "      a.click();\n",
       "      div.remove();\n",
       "    }\n",
       "  "
      ],
      "text/plain": [
       "<IPython.core.display.Javascript object>"
      ]
     },
     "metadata": {
      "tags": []
     },
     "output_type": "display_data"
    },
    {
     "data": {
      "application/javascript": [
       "download(\"download_dadec68d-f475-4f09-902d-ffd33c2a8659\", \"mnist_model.pth\", 2843855)"
      ],
      "text/plain": [
       "<IPython.core.display.Javascript object>"
      ]
     },
     "metadata": {
      "tags": []
     },
     "output_type": "display_data"
    }
   ],
   "source": [
    "from google.colab import files\n",
    "files.download('./mnist_model.pth')"
   ]
  },
  {
   "cell_type": "code",
   "execution_count": null,
   "metadata": {
    "id": "vSGM5aFLqExM"
   },
   "outputs": [],
   "source": []
  }
 ],
 "metadata": {
  "accelerator": "GPU",
  "colab": {
   "authorship_tag": "ABX9TyPTI8gogjVOJ4nQ6v1Q8CjB",
   "collapsed_sections": [],
   "name": "train_mnist.ipynb",
   "provenance": [
    {
     "file_id": "1yrq2Vp3vAQUgtClMxHNrQzsrxKnl6S7q",
     "timestamp": 1612888726487
    }
   ]
  },
  "kernelspec": {
   "display_name": "Python 3",
   "language": "python",
   "name": "python3"
  },
  "language_info": {
   "codemirror_mode": {
    "name": "ipython",
    "version": 3
   },
   "file_extension": ".py",
   "mimetype": "text/x-python",
   "name": "python",
   "nbconvert_exporter": "python",
   "pygments_lexer": "ipython3",
   "version": "3.6.9"
  }
 },
 "nbformat": 4,
 "nbformat_minor": 1
}
