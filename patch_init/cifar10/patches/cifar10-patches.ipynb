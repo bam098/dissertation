{
 "cells": [
  {
   "cell_type": "code",
   "execution_count": null,
   "metadata": {},
   "outputs": [],
   "source": [
    "#from google.colab import files\n",
    "#files.upload()"
   ]
  },
  {
   "cell_type": "code",
   "execution_count": null,
   "metadata": {},
   "outputs": [
    {
     "name": "stdout",
     "output_type": "stream",
     "text": [
      "imgrepr-0.0.1-cp36-cp36m-linux_x86_64.whl  sample_data\n"
     ]
    }
   ],
   "source": [
    "! ls"
   ]
  },
  {
   "cell_type": "code",
   "execution_count": null,
   "metadata": {},
   "outputs": [
    {
     "name": "stdout",
     "output_type": "stream",
     "text": [
      "Uninstalling imgrepr-0.0.1:\n",
      "  Successfully uninstalled imgrepr-0.0.1\n",
      "Processing ./imgrepr-0.0.1-cp36-cp36m-linux_x86_64.whl\n",
      "Requirement already satisfied: Pillow-SIMD>=7.0.0.post3 in /usr/local/lib/python3.6/dist-packages (from imgrepr==0.0.1) (7.0.0.post3)\n",
      "Requirement already satisfied: cython>=0.29.19 in /usr/local/lib/python3.6/dist-packages (from imgrepr==0.0.1) (0.29.21)\n",
      "Requirement already satisfied: numpy>=1.16.4 in /usr/local/lib/python3.6/dist-packages (from imgrepr==0.0.1) (1.18.5)\n",
      "Requirement already satisfied: opencv-contrib-python==3.4.2.17 in /usr/local/lib/python3.6/dist-packages (from imgrepr==0.0.1) (3.4.2.17)\n",
      "Installing collected packages: imgrepr\n",
      "Successfully installed imgrepr-0.0.1\n"
     ]
    }
   ],
   "source": [
    "! pip uninstall imgrepr -y\n",
    "! pip install imgrepr-0.0.1-cp36-cp36m-linux_x86_64.whl"
   ]
  },
  {
   "cell_type": "code",
   "execution_count": null,
   "metadata": {},
   "outputs": [
    {
     "name": "stdout",
     "output_type": "stream",
     "text": [
      "python version:      3.6.9\n",
      "sklearn version:     0.22.2.post1\n",
      "umap version:        0.4.6\n",
      "numpy version:       1.18.5\n",
      "matplotlib version:  3.2.2\n",
      "pickle version:      4.0\n",
      "torch version:       1.6.0+cu101\n",
      "torchvision version: 0.7.0+cu101\n",
      "PIL version:         7.0.0.post3\n"
     ]
    }
   ],
   "source": [
    "%reload_ext autoreload\n",
    "%autoreload 2\n",
    "%matplotlib inline\n",
    "\n",
    "import numpy\n",
    "import sklearn\n",
    "import platform\n",
    "import matplotlib\n",
    "import pickle\n",
    "import torch\n",
    "import torchvision\n",
    "import umap\n",
    "import PIL\n",
    "\n",
    "print('python version:      {}'.format(platform.python_version()))\n",
    "print('sklearn version:     {}'.format(sklearn.__version__))\n",
    "print('umap version:        {}'.format(umap.__version__))\n",
    "print('numpy version:       {}'.format(numpy.__version__))\n",
    "print('matplotlib version:  {}'.format(matplotlib.__version__))\n",
    "print('pickle version:      {}'.format(pickle.format_version))\n",
    "print('torch version:       {}'.format(torch.__version__))\n",
    "print('torchvision version: {}'.format(torchvision.__version__))\n",
    "print('PIL version:         {}'.format(PIL.__version__))\n",
    "\n",
    "from sklearn.cluster import KMeans\n",
    "from sklearn.manifold import TSNE\n",
    "from sklearn.preprocessing import StandardScaler\n",
    "from sklearn.decomposition import PCA\n",
    "from sklearn.metrics import pairwise_distances_argmin_min, pairwise_distances\n",
    "import numpy as np\n",
    "import matplotlib.pyplot as plt\n",
    "import pickle\n",
    "import torch\n",
    "from torchvision import transforms\n",
    "from imgrepr.image_patch import ImagePatchExtractor\n",
    "from imgrepr.image_keypoint import ImageKeyPoint\n",
    "from collections import Counter\n",
    "\n",
    "random_seed = 1\n",
    "torch.manual_seed(random_seed)\n",
    "np.random.seed(random_seed)\n",
    "torch.manual_seed(random_seed)\n",
    "torch.backends.cudnn.deterministic = True\n",
    "torch.backends.cudnn.benchmark = False"
   ]
  },
  {
   "cell_type": "markdown",
   "metadata": {},
   "source": [
    "Mount GDrive:"
   ]
  },
  {
   "cell_type": "code",
   "execution_count": null,
   "metadata": {},
   "outputs": [
    {
     "name": "stdout",
     "output_type": "stream",
     "text": [
      "Go to this URL in a browser: https://accounts.google.com/o/oauth2/auth?client_id=947318989803-6bn6qk8qdgf4n4g3pfee6491hc0brc4i.apps.googleusercontent.com&redirect_uri=urn%3aietf%3awg%3aoauth%3a2.0%3aoob&scope=email%20https%3a%2f%2fwww.googleapis.com%2fauth%2fdocs.test%20https%3a%2f%2fwww.googleapis.com%2fauth%2fdrive%20https%3a%2f%2fwww.googleapis.com%2fauth%2fdrive.photos.readonly%20https%3a%2f%2fwww.googleapis.com%2fauth%2fpeopleapi.readonly&response_type=code\n",
      "\n",
      "Enter your authorization code:\n",
      "··········\n",
      "Mounted at /content/gdrive\n"
     ]
    }
   ],
   "source": [
    "from google.colab import drive\n",
    "drive.mount('/content/gdrive', force_remount=True)"
   ]
  },
  {
   "cell_type": "code",
   "execution_count": null,
   "metadata": {},
   "outputs": [],
   "source": [
    "base_url = '/content/gdrive/My Drive/neuralnet-patchinit/cifar10_kmeans/'"
   ]
  },
  {
   "cell_type": "markdown",
   "metadata": {},
   "source": [
    "# Load Data"
   ]
  },
  {
   "cell_type": "markdown",
   "metadata": {},
   "source": [
    "Define data transform functions:"
   ]
  },
  {
   "cell_type": "code",
   "execution_count": null,
   "metadata": {},
   "outputs": [],
   "source": [
    "transform = transforms.Compose([\n",
    "    transforms.ToTensor()\n",
    "])"
   ]
  },
  {
   "cell_type": "markdown",
   "metadata": {},
   "source": [
    "Define training set:"
   ]
  },
  {
   "cell_type": "code",
   "execution_count": null,
   "metadata": {},
   "outputs": [
    {
     "name": "stdout",
     "output_type": "stream",
     "text": [
      "Downloading https://www.cs.toronto.edu/~kriz/cifar-10-python.tar.gz to ./data/cifar-10-python.tar.gz\n"
     ]
    },
    {
     "data": {
      "application/vnd.jupyter.widget-view+json": {
       "model_id": "6a764df00633463789e41820f1866435",
       "version_major": 2,
       "version_minor": 0
      },
      "text/plain": [
       "HBox(children=(FloatProgress(value=1.0, bar_style='info', max=1.0), HTML(value='')))"
      ]
     },
     "metadata": {},
     "output_type": "display_data"
    },
    {
     "name": "stdout",
     "output_type": "stream",
     "text": [
      "Extracting ./data/cifar-10-python.tar.gz to ./data\n"
     ]
    }
   ],
   "source": [
    "trainset = torchvision.datasets.CIFAR10(\n",
    "    root='./data', train=True, download=True, transform=transform\n",
    ")"
   ]
  },
  {
   "cell_type": "markdown",
   "metadata": {},
   "source": [
    "Create train data loader:"
   ]
  },
  {
   "cell_type": "code",
   "execution_count": null,
   "metadata": {},
   "outputs": [],
   "source": [
    "batch_size = 15500\n",
    "\n",
    "trainloader = torch.utils.data.DataLoader(\n",
    "    trainset, batch_size=batch_size, shuffle=True, num_workers=2\n",
    ")"
   ]
  },
  {
   "cell_type": "markdown",
   "metadata": {},
   "source": [
    "# Create Patches"
   ]
  },
  {
   "cell_type": "code",
   "execution_count": null,
   "metadata": {},
   "outputs": [],
   "source": [
    "def get_patches_from_batch(batch):\n",
    "    patches = []\n",
    "    for sample in batch:\n",
    "        sample_patches = get_patches(sample)\n",
    "\n",
    "        if sample_patches.shape[0] != 0:\n",
    "            patches.append(sample_patches)\n",
    "\n",
    "    return np.vstack(patches)\n",
    "\n",
    "\n",
    "def get_patches(sample):\n",
    "    image_rgb = np.moveaxis(sample, 0, -1)\n",
    "\n",
    "    if np.max(image_rgb) != 0:\n",
    "        image_rgb = (image_rgb * 255) / np.max(image_rgb)\n",
    "\n",
    "    image_rgb = image_rgb.astype('uint8')\n",
    "    \n",
    "    patch_extractor = ImagePatchExtractor(7)\n",
    "    patches = patch_extractor.get_keypoint_patches(image_rgb, \"SIFT\", 9, 5)\n",
    "\n",
    "    patches = list(map(lambda p: np.moveaxis(p, 2, 0), patches))\n",
    "    patches = list(map(lambda p: p.flatten(), patches))\n",
    "    patches = list(map(lambda p: (p / 255.0).astype(np.double), patches))\n",
    "\n",
    "    if not patches:\n",
    "      return np.array([])\n",
    "\n",
    "    return np.vstack(patches)\n",
    "\n",
    "\n",
    "def show_sample(data):\n",
    "    print(\"tensor shape: \" + str(data.shape))\n",
    "    print(\"min:          \" + str(np.amin(data)))\n",
    "    print(\"max:          \" + str(np.amax(data)))\n",
    "    \n",
    "    fig = plt.figure()\n",
    "    patch = np.moveaxis(data, 0, -1)\n",
    "    plt.imshow(patch, cmap='gray', interpolation='none')\n",
    "    plt.xticks([])\n",
    "    plt.yticks([])\n",
    "\n",
    "\n",
    "def show_patches(patches):\n",
    "    print(\"tensor shape: \" + str(patches.shape))\n",
    "    \n",
    "    fig = plt.figure(figsize=(8,8))\n",
    "    for i in range(patches.shape[0]):\n",
    "        plt.subplot(3,3,i+1)\n",
    "        plt.tight_layout()\n",
    "        patch = np.moveaxis(patches[i], 0, -1)\n",
    "        plt.imshow(patch, cmap='gray', interpolation='none')\n",
    "        plt.xticks([])\n",
    "        plt.yticks([])"
   ]
  },
  {
   "cell_type": "markdown",
   "metadata": {},
   "source": [
    "Extract patches from samples:"
   ]
  },
  {
   "cell_type": "code",
   "execution_count": null,
   "metadata": {},
   "outputs": [
    {
     "name": "stdout",
     "output_type": "stream",
     "text": [
      "total patches:  (165450, 675)\n",
      "sample patches: (51334, 675)\n"
     ]
    }
   ],
   "source": [
    "patch_data = []\n",
    "sample_patch_data = None\n",
    "test_sample = None\n",
    "\n",
    "for batch_idx, (batch_data, batch_target) in enumerate(trainloader):\n",
    "    batch_np = batch_data.detach().numpy()\n",
    "\n",
    "    batch_patches = get_patches_from_batch(batch_np)\n",
    "    patch_data.append(batch_patches)\n",
    "\n",
    "    if batch_idx == 0:\n",
    "        sample_patch_data = batch_patches\n",
    "        test_sample = batch_np[0]\n",
    "\n",
    "\n",
    "patch_data = np.vstack(patch_data)\n",
    "\n",
    "print(\"total patches:  {}\".format(patch_data.shape))\n",
    "print(\"sample patches: {}\".format(sample_patch_data.shape))"
   ]
  },
  {
   "cell_type": "markdown",
   "metadata": {},
   "source": [
    "Show patches of first sample:"
   ]
  },
  {
   "cell_type": "code",
   "execution_count": null,
   "metadata": {},
   "outputs": [
    {
     "name": "stdout",
     "output_type": "stream",
     "text": [
      "tensor shape: (9, 3, 15, 15)\n"
     ]
    },
    {
     "data": {
      "image/png": "[encoded data removed]",
      "text/plain": [
       "<Figure size 576x576 with 9 Axes>"
      ]
     },
     "metadata": {},
     "output_type": "display_data"
    }
   ],
   "source": [
    "sample_patches = patch_data[0:9].reshape(9, 3, 15, 15)\n",
    "show_patches(sample_patches)"
   ]
  },
  {
   "cell_type": "markdown",
   "metadata": {},
   "source": [
    "Show test sample:"
   ]
  },
  {
   "cell_type": "code",
   "execution_count": null,
   "metadata": {},
   "outputs": [
    {
     "name": "stdout",
     "output_type": "stream",
     "text": [
      "tensor shape: (3, 32, 32)\n",
      "min:          0.105882354\n",
      "max:          1.0\n"
     ]
    },
    {
     "data": {
      "image/png": "[encoded data removed]",
      "text/plain": [
       "<Figure size 432x288 with 1 Axes>"
      ]
     },
     "metadata": {},
     "output_type": "display_data"
    }
   ],
   "source": [
    "show_sample(test_sample)"
   ]
  },
  {
   "cell_type": "markdown",
   "metadata": {},
   "source": [
    "# Cluster Patch Data - 1st layer"
   ]
  },
  {
   "cell_type": "code",
   "execution_count": null,
   "metadata": {},
   "outputs": [],
   "source": [
    "def show_center_patches(patches):\n",
    "    print(\"tensor shape: \" + str(patches.shape))\n",
    "    \n",
    "    fig = plt.figure(figsize=(8,8))\n",
    "    for i in range(patches.shape[0]):\n",
    "        plt.subplot(4,4,i+1)\n",
    "        plt.tight_layout()\n",
    "        patch = np.moveaxis(patches[i], 0, -1)\n",
    "        plt.imshow(patch, cmap='gray', interpolation='none')\n",
    "        plt.xticks([])\n",
    "        plt.yticks([])"
   ]
  },
  {
   "cell_type": "markdown",
   "metadata": {},
   "source": [
    "## Using PCA"
   ]
  },
  {
   "cell_type": "markdown",
   "metadata": {},
   "source": [
    "Scale data:"
   ]
  },
  {
   "cell_type": "code",
   "execution_count": null,
   "metadata": {},
   "outputs": [],
   "source": [
    "scaler = StandardScaler()\n",
    "patch_data_scaled = scaler.fit_transform(patch_data)\n",
    "sample_patch_data_scaled = scaler.fit_transform(sample_patch_data)"
   ]
  },
  {
   "cell_type": "markdown",
   "metadata": {},
   "source": [
    "Reduce data to 2D using PCA:"
   ]
  },
  {
   "cell_type": "code",
   "execution_count": null,
   "metadata": {},
   "outputs": [
    {
     "data": {
      "text/plain": [
       "(165450, 2)"
      ]
     },
     "execution_count": null,
     "metadata": {},
     "output_type": "execute_result"
    }
   ],
   "source": [
    "pca = PCA(n_components=2)\n",
    "patch_data_2d_pca = pca.fit_transform(patch_data_scaled); patch_data_2d_pca.shape"
   ]
  },
  {
   "cell_type": "markdown",
   "metadata": {},
   "source": [
    "Apply kMeans:"
   ]
  },
  {
   "cell_type": "code",
   "execution_count": null,
   "metadata": {},
   "outputs": [],
   "source": [
    "#kmeans_pca = KMeans(n_clusters=16, random_state=0).fit(patch_data_2d_pca)"
   ]
  },
  {
   "cell_type": "markdown",
   "metadata": {},
   "source": [
    "Get the closest patch for each cluster center:"
   ]
  },
  {
   "cell_type": "code",
   "execution_count": null,
   "metadata": {},
   "outputs": [],
   "source": [
    "#closest_pca, _ = pairwise_distances_argmin_min(kmeans_pca.cluster_centers_, patch_data_2d_pca)"
   ]
  },
  {
   "cell_type": "code",
   "execution_count": null,
   "metadata": {},
   "outputs": [],
   "source": [
    "#center_patches_pca = []\n",
    "#\n",
    "#for c in closest_pca:\n",
    "#    temp_patch = patch_data[c].reshape(1, 3, 15, 15)\n",
    "#    center_patches_pca.append(temp_patch)\n",
    "#\n",
    "#center_patches_pca = np.vstack(center_patches_pca)\n",
    "#show_center_patches(center_patches_pca)"
   ]
  },
  {
   "cell_type": "markdown",
   "metadata": {},
   "source": [
    "Save found patches:"
   ]
  },
  {
   "cell_type": "code",
   "execution_count": null,
   "metadata": {},
   "outputs": [],
   "source": [
    "#center_patches_pca.shape"
   ]
  },
  {
   "cell_type": "code",
   "execution_count": null,
   "metadata": {},
   "outputs": [],
   "source": [
    "#result_path_pca = base_url + \"cifar10_patches_pca_kmeans_multilayer1.txt\"\n",
    "#with open(result_path_pca, \"wb\") as fp:\n",
    "#    pickle.dump(center_patches_pca, fp)"
   ]
  },
  {
   "cell_type": "markdown",
   "metadata": {},
   "source": [
    "Get the k closest patches for each cluster center:"
   ]
  },
  {
   "cell_type": "code",
   "execution_count": null,
   "metadata": {},
   "outputs": [],
   "source": [
    "#k = 10"
   ]
  },
  {
   "cell_type": "code",
   "execution_count": null,
   "metadata": {},
   "outputs": [],
   "source": [
    "#distances_pca = pairwise_distances(kmeans_pca.cluster_centers_, patch_data_2d_pca); distances_pca.shape"
   ]
  },
  {
   "cell_type": "code",
   "execution_count": null,
   "metadata": {},
   "outputs": [],
   "source": [
    "#nearest_idx_pca = np.argsort(distances_pca, axis=1)[:,:k]; nearest_idx_pca[:,0]"
   ]
  },
  {
   "cell_type": "markdown",
   "metadata": {},
   "source": [
    "Check if we really found the k closest clusters:"
   ]
  },
  {
   "cell_type": "code",
   "execution_count": null,
   "metadata": {},
   "outputs": [],
   "source": [
    "#for i in range(kmeans_pca.cluster_centers_.shape[0]):\n",
    "#    center_distances = distances_pca[i][nearest_idx_pca[i]]\n",
    "#    farthest = max(center_distances)\n",
    "#    nearer_points = distances_pca[i] < farthest\n",
    "#    assert Counter(nearer_points)[True] == (k-1)"
   ]
  },
  {
   "cell_type": "markdown",
   "metadata": {},
   "source": [
    "Average k closest samples for each cluster:"
   ]
  },
  {
   "cell_type": "code",
   "execution_count": null,
   "metadata": {},
   "outputs": [],
   "source": [
    "#center_patches_avg_pca = []\n",
    "#\n",
    "#for c in range(nearest_idx_pca.shape[0]):\n",
    "#    temp_patch = np.zeros((1,3,15,15))\n",
    "#\n",
    "#    for s in range(nearest_idx_pca.shape[1]):\n",
    "#        temp_idx = nearest_idx_pca[c,s]\n",
    "#        temp_patch = temp_patch + patch_data[temp_idx].reshape(1,3,15,15)\n",
    "#\n",
    "#    temp_patch = temp_patch / (nearest_idx_pca.shape[1])\n",
    "#    center_patches_avg_pca.append(temp_patch)\n",
    "#\n",
    "#center_patches_avg_pca = np.vstack(center_patches_avg_pca)\n",
    "#show_center_patches(center_patches_avg_pca)"
   ]
  },
  {
   "cell_type": "markdown",
   "metadata": {},
   "source": [
    "Save found average patches:"
   ]
  },
  {
   "cell_type": "code",
   "execution_count": null,
   "metadata": {},
   "outputs": [],
   "source": [
    "#center_patches_avg_pca.shape"
   ]
  },
  {
   "cell_type": "code",
   "execution_count": null,
   "metadata": {},
   "outputs": [],
   "source": [
    "#result_path_avg_pca = base_url + \"cifar10_patches_avg_pca_kmeans_multilayer1.txt\"\n",
    "#with open(result_path_avg_pca, \"wb\") as fp:\n",
    "#    pickle.dump(center_patches_avg_pca, fp)"
   ]
  },
  {
   "cell_type": "markdown",
   "metadata": {},
   "source": [
    "## Using UMAP"
   ]
  },
  {
   "cell_type": "markdown",
   "metadata": {},
   "source": [
    "Reduce data to 2D using UMAP:"
   ]
  },
  {
   "cell_type": "code",
   "execution_count": null,
   "metadata": {},
   "outputs": [
    {
     "data": {
      "text/plain": [
       "(51334, 2)"
      ]
     },
     "execution_count": null,
     "metadata": {},
     "output_type": "execute_result"
    }
   ],
   "source": [
    "reducer = umap.UMAP()\n",
    "patch_data_2d_umap = reducer.fit_transform(sample_patch_data_scaled); patch_data_2d_umap.shape"
   ]
  },
  {
   "cell_type": "markdown",
   "metadata": {},
   "source": [
    "Apply kMeans:"
   ]
  },
  {
   "cell_type": "code",
   "execution_count": null,
   "metadata": {},
   "outputs": [],
   "source": [
    "#kmeans_umap = KMeans(n_clusters=16, random_state=0).fit(patch_data_2d_umap)"
   ]
  },
  {
   "cell_type": "markdown",
   "metadata": {},
   "source": [
    "Get the closest patch for each cluster center:"
   ]
  },
  {
   "cell_type": "code",
   "execution_count": null,
   "metadata": {},
   "outputs": [],
   "source": [
    "#closest_umap, _ = pairwise_distances_argmin_min(kmeans_umap.cluster_centers_, patch_data_2d_umap)"
   ]
  },
  {
   "cell_type": "code",
   "execution_count": null,
   "metadata": {},
   "outputs": [],
   "source": [
    "#center_patches_umap = []\n",
    "#\n",
    "#for c in closest_umap:\n",
    "#    temp_patch = patch_data[c].reshape(1,3,15,15)\n",
    "#    center_patches_umap.append(temp_patch)\n",
    "#\n",
    "#center_patches_umap = np.vstack(center_patches_umap)\n",
    "#show_center_patches(center_patches_umap)"
   ]
  },
  {
   "cell_type": "markdown",
   "metadata": {},
   "source": [
    "Save found patches:"
   ]
  },
  {
   "cell_type": "code",
   "execution_count": null,
   "metadata": {},
   "outputs": [],
   "source": [
    "#center_patches_umap.shape"
   ]
  },
  {
   "cell_type": "code",
   "execution_count": null,
   "metadata": {},
   "outputs": [],
   "source": [
    "#result_path_umap = base_url + \"cifar10_patches_umap_kmeans_multilayer1.txt\"\n",
    "#with open(result_path_umap, \"wb\") as fp:\n",
    "#    pickle.dump(center_patches_umap, fp)"
   ]
  },
  {
   "cell_type": "markdown",
   "metadata": {},
   "source": [
    "Get the k closest patches for each cluster center:"
   ]
  },
  {
   "cell_type": "code",
   "execution_count": null,
   "metadata": {},
   "outputs": [],
   "source": [
    "#k = 5"
   ]
  },
  {
   "cell_type": "code",
   "execution_count": null,
   "metadata": {},
   "outputs": [],
   "source": [
    "#distances_umap = pairwise_distances(kmeans_umap.cluster_centers_, patch_data_2d_umap); distances_umap.shape"
   ]
  },
  {
   "cell_type": "code",
   "execution_count": null,
   "metadata": {},
   "outputs": [],
   "source": [
    "#nearest_idx_umap = np.argsort(distances_umap, axis=1)[:,:k]; nearest_idx_umap[:,0]"
   ]
  },
  {
   "cell_type": "markdown",
   "metadata": {},
   "source": [
    "Check if we really found the k closest clusters:"
   ]
  },
  {
   "cell_type": "code",
   "execution_count": null,
   "metadata": {},
   "outputs": [],
   "source": [
    "#for i in range(kmeans_umap.cluster_centers_.shape[0]):\n",
    "#    center_distances = distances_umap[i][nearest_idx_umap[i]]\n",
    "#    farthest = max(center_distances)\n",
    "#    nearer_points = distances_umap[i] < farthest\n",
    "#    assert Counter(nearer_points)[True] == (k-1)"
   ]
  },
  {
   "cell_type": "markdown",
   "metadata": {},
   "source": [
    "Average k closest samples for each cluster:"
   ]
  },
  {
   "cell_type": "code",
   "execution_count": null,
   "metadata": {},
   "outputs": [],
   "source": [
    "#center_patches_avg_umap = []\n",
    "#\n",
    "#for c in range(nearest_idx_umap.shape[0]):\n",
    "#    temp_patch = np.zeros((1,3,15,15))\n",
    "#\n",
    "#    for s in range(nearest_idx_umap.shape[1]):\n",
    "#        temp_idx = nearest_idx_umap[c,s]\n",
    "#        temp_patch = temp_patch + patch_data[temp_idx].reshape(1,3,15,15)\n",
    "#\n",
    "#    temp_patch = temp_patch / (nearest_idx_umap.shape[1])\n",
    "#    center_patches_avg_umap.append(temp_patch)\n",
    "#\n",
    "#center_patches_avg_umap = np.vstack(center_patches_avg_umap)\n",
    "#show_center_patches(center_patches_avg_umap)"
   ]
  },
  {
   "cell_type": "markdown",
   "metadata": {},
   "source": [
    "Save found average patches:"
   ]
  },
  {
   "cell_type": "code",
   "execution_count": null,
   "metadata": {},
   "outputs": [],
   "source": [
    "#center_patches_avg_umap.shape"
   ]
  },
  {
   "cell_type": "code",
   "execution_count": null,
   "metadata": {},
   "outputs": [],
   "source": [
    "#result_path_avg_umap = base_url + \"cifar10_patches_avg_umap_kmeans_multilayer1.txt\"\n",
    "#with open(result_path_avg_umap, \"wb\") as fp:\n",
    "#    pickle.dump(center_patches_avg_umap, fp)"
   ]
  },
  {
   "cell_type": "markdown",
   "metadata": {},
   "source": [
    "Get the k closest patches for each cluster center:"
   ]
  },
  {
   "cell_type": "code",
   "execution_count": null,
   "metadata": {},
   "outputs": [],
   "source": [
    "#k = 10"
   ]
  },
  {
   "cell_type": "code",
   "execution_count": null,
   "metadata": {},
   "outputs": [],
   "source": [
    "#distances_umap = pairwise_distances(kmeans_umap.cluster_centers_, patch_data_2d_umap); distances_umap.shape"
   ]
  },
  {
   "cell_type": "code",
   "execution_count": null,
   "metadata": {},
   "outputs": [],
   "source": [
    "#nearest_idx_umap = np.argsort(distances_umap, axis=1)[:,:k]; nearest_idx_umap[:,0]"
   ]
  },
  {
   "cell_type": "markdown",
   "metadata": {},
   "source": [
    "Check if we really found the k closest clusters:"
   ]
  },
  {
   "cell_type": "code",
   "execution_count": null,
   "metadata": {},
   "outputs": [],
   "source": [
    "#for i in range(kmeans_umap.cluster_centers_.shape[0]):\n",
    "#    center_distances = distances_umap[i][nearest_idx_umap[i]]\n",
    "#    farthest = max(center_distances)\n",
    "#    nearer_points = distances_umap[i] < farthest\n",
    "#    assert Counter(nearer_points)[True] == (k-1)"
   ]
  },
  {
   "cell_type": "markdown",
   "metadata": {},
   "source": [
    "Average k closest samples for each cluster:"
   ]
  },
  {
   "cell_type": "code",
   "execution_count": null,
   "metadata": {},
   "outputs": [],
   "source": [
    "#center_patches_avg_umap = []\n",
    "#\n",
    "#for c in range(nearest_idx_umap.shape[0]):\n",
    "#    temp_patch = np.zeros((1,3,15,15))\n",
    "#\n",
    "#    for s in range(nearest_idx_umap.shape[1]):\n",
    "#        temp_idx = nearest_idx_umap[c,s]\n",
    "#        temp_patch = temp_patch + patch_data[temp_idx].reshape(1,3,15,15)\n",
    "#\n",
    "#    temp_patch = temp_patch / (nearest_idx_umap.shape[1])\n",
    "#    center_patches_avg_umap.append(temp_patch)\n",
    "#\n",
    "#center_patches_avg_umap = np.vstack(center_patches_avg_umap)\n",
    "#show_center_patches(center_patches_avg_umap)"
   ]
  },
  {
   "cell_type": "markdown",
   "metadata": {},
   "source": [
    "Save found average patches:"
   ]
  },
  {
   "cell_type": "code",
   "execution_count": null,
   "metadata": {},
   "outputs": [],
   "source": [
    "#center_patches_avg_umap.shape"
   ]
  },
  {
   "cell_type": "code",
   "execution_count": null,
   "metadata": {},
   "outputs": [],
   "source": [
    "#result_path_avg_umap = base_url + \"mnist_patches_avg_more_umap_kmeans_multilayer1.txt\"\n",
    "#with open(result_path_avg_umap, \"wb\") as fp:\n",
    "#    pickle.dump(center_patches_avg_umap, fp)"
   ]
  },
  {
   "cell_type": "markdown",
   "metadata": {},
   "source": [
    "## Using t-SNE"
   ]
  },
  {
   "cell_type": "markdown",
   "metadata": {},
   "source": [
    "Reduce data to 2D using t-SNE:"
   ]
  },
  {
   "cell_type": "code",
   "execution_count": null,
   "metadata": {},
   "outputs": [],
   "source": [
    "#patch_data_2d_tsne = TSNE(n_components=2).fit_transform(sample_patch_data_scaled); patch_data_2d_tsne.shape"
   ]
  },
  {
   "cell_type": "markdown",
   "metadata": {},
   "source": [
    "Apply kMeans:"
   ]
  },
  {
   "cell_type": "code",
   "execution_count": null,
   "metadata": {},
   "outputs": [],
   "source": [
    "#kmeans_tsne = KMeans(n_clusters=16, random_state=0).fit(patch_data_2d_tsne)"
   ]
  },
  {
   "cell_type": "markdown",
   "metadata": {},
   "source": [
    "Get the closest patch for each cluster center:"
   ]
  },
  {
   "cell_type": "code",
   "execution_count": null,
   "metadata": {},
   "outputs": [],
   "source": [
    "#closest_tsne, _ = pairwise_distances_argmin_min(kmeans_tsne.cluster_centers_, patch_data_2d_tsne)"
   ]
  },
  {
   "cell_type": "code",
   "execution_count": null,
   "metadata": {},
   "outputs": [],
   "source": [
    "#center_patches_tsne = []\n",
    "#\n",
    "#for c in closest_tsne:\n",
    "#    temp_patch = patch_data[c].reshape(1,3,15,15)\n",
    "#    center_patches_tsne.append(temp_patch)\n",
    "#\n",
    "#center_patches_tsne = np.vstack(center_patches_tsne)\n",
    "#show_center_patches(center_patches_tsne)"
   ]
  },
  {
   "cell_type": "markdown",
   "metadata": {},
   "source": [
    "Save found patches:"
   ]
  },
  {
   "cell_type": "code",
   "execution_count": null,
   "metadata": {},
   "outputs": [],
   "source": [
    "#center_patches_tsne.shape"
   ]
  },
  {
   "cell_type": "code",
   "execution_count": null,
   "metadata": {},
   "outputs": [],
   "source": [
    "#result_path_tsne = base_url + \"cifar10_patches_tsne_kmeans.txt\"\n",
    "#with open(result_path_tsne, \"wb\") as fp:\n",
    "#    pickle.dump(center_patches_tsne, fp)"
   ]
  },
  {
   "cell_type": "markdown",
   "metadata": {},
   "source": [
    "# Cluster Patch Data - 2nd layer"
   ]
  },
  {
   "cell_type": "code",
   "execution_count": null,
   "metadata": {},
   "outputs": [],
   "source": [
    "#def show_center_patches(patches):\n",
    "#    print(\"tensor shape: \" + str(patches.shape))\n",
    "#    \n",
    "#    fig = plt.figure(figsize=(8,8))\n",
    "#    for i in range(patches.shape[0]):\n",
    "#        plt.subplot(4,4,i+1)\n",
    "#        plt.tight_layout()\n",
    "#        patch = np.moveaxis(patches[i], 0, -1)\n",
    "#        plt.imshow(patch, cmap='gray', interpolation='none')\n",
    "#        plt.xticks([])\n",
    "#        plt.yticks([])"
   ]
  },
  {
   "cell_type": "markdown",
   "metadata": {},
   "source": [
    "## Using PCA"
   ]
  },
  {
   "cell_type": "markdown",
   "metadata": {},
   "source": [
    "Scale data:"
   ]
  },
  {
   "cell_type": "code",
   "execution_count": null,
   "metadata": {},
   "outputs": [],
   "source": [
    "#scaler = StandardScaler()\n",
    "#patch_data_scaled = scaler.fit_transform(patch_data)\n",
    "#sample_patch_data_scaled = scaler.fit_transform(sample_patch_data)"
   ]
  },
  {
   "cell_type": "markdown",
   "metadata": {},
   "source": [
    "Reduce data to 2D using PCA:"
   ]
  },
  {
   "cell_type": "code",
   "execution_count": null,
   "metadata": {},
   "outputs": [],
   "source": [
    "#pca = PCA(n_components=2)\n",
    "#patch_data_2d_pca = pca.fit_transform(patch_data_scaled); patch_data_2d_pca.shape"
   ]
  },
  {
   "cell_type": "markdown",
   "metadata": {},
   "source": [
    "Apply kMeans:"
   ]
  },
  {
   "cell_type": "code",
   "execution_count": null,
   "metadata": {},
   "outputs": [],
   "source": [
    "#kmeans_pca = KMeans(n_clusters=86, random_state=0).fit(patch_data_2d_pca)"
   ]
  },
  {
   "cell_type": "markdown",
   "metadata": {},
   "source": [
    "Get the closest patch for each cluster center:"
   ]
  },
  {
   "cell_type": "code",
   "execution_count": null,
   "metadata": {},
   "outputs": [],
   "source": [
    "#closest_pca, _ = pairwise_distances_argmin_min(kmeans_pca.cluster_centers_, patch_data_2d_pca)"
   ]
  },
  {
   "cell_type": "code",
   "execution_count": null,
   "metadata": {},
   "outputs": [],
   "source": [
    "#center_patches_pca = []\n",
    "#\n",
    "#for c in closest_pca:\n",
    "#    temp_patch = patch_data[c].reshape(1, 3, 15, 15)\n",
    "#    center_patches_pca.append(temp_patch)\n",
    "#\n",
    "#center_patches_pca = np.vstack(center_patches_pca)\n",
    "#show_center_patches(center_patches_pca[:16])"
   ]
  },
  {
   "cell_type": "markdown",
   "metadata": {},
   "source": [
    "Save found patches:"
   ]
  },
  {
   "cell_type": "code",
   "execution_count": null,
   "metadata": {},
   "outputs": [],
   "source": [
    "#center_patches_pca.shape"
   ]
  },
  {
   "cell_type": "code",
   "execution_count": null,
   "metadata": {},
   "outputs": [],
   "source": [
    "#result_path_pca = base_url + \"cifar10_patches_pca_kmeans_multilayer2.txt\"\n",
    "#with open(result_path_pca, \"wb\") as fp:\n",
    "#    pickle.dump(center_patches_pca, fp)"
   ]
  },
  {
   "cell_type": "markdown",
   "metadata": {},
   "source": [
    "Get the k closest patches for each cluster center:"
   ]
  },
  {
   "cell_type": "code",
   "execution_count": null,
   "metadata": {},
   "outputs": [],
   "source": [
    "#k = 10"
   ]
  },
  {
   "cell_type": "code",
   "execution_count": null,
   "metadata": {},
   "outputs": [],
   "source": [
    "#distances_pca = pairwise_distances(kmeans_pca.cluster_centers_, patch_data_2d_pca); distances_pca.shape"
   ]
  },
  {
   "cell_type": "code",
   "execution_count": null,
   "metadata": {},
   "outputs": [],
   "source": [
    "#nearest_idx_pca = np.argsort(distances_pca, axis=1)[:,:k]; nearest_idx_pca[:,0]"
   ]
  },
  {
   "cell_type": "markdown",
   "metadata": {},
   "source": [
    "Check if we really found the k closest clusters:"
   ]
  },
  {
   "cell_type": "code",
   "execution_count": null,
   "metadata": {},
   "outputs": [],
   "source": [
    "#for i in range(kmeans_pca.cluster_centers_.shape[0]):\n",
    "#    center_distances = distances_pca[i][nearest_idx_pca[i]]\n",
    "#    farthest = max(center_distances)\n",
    "#    nearer_points = distances_pca[i] < farthest\n",
    "#    assert Counter(nearer_points)[True] == (k-1)"
   ]
  },
  {
   "cell_type": "markdown",
   "metadata": {},
   "source": [
    "Average k closest samples for each cluster:"
   ]
  },
  {
   "cell_type": "code",
   "execution_count": null,
   "metadata": {},
   "outputs": [],
   "source": [
    "#center_patches_avg_pca = []\n",
    "#\n",
    "#for c in range(nearest_idx_pca.shape[0]):\n",
    "#    temp_patch = np.zeros((1,3,15,15))\n",
    "#\n",
    "#    for s in range(nearest_idx_pca.shape[1]):\n",
    "#        temp_idx = nearest_idx_pca[c,s]\n",
    "#        temp_patch = temp_patch + patch_data[temp_idx].reshape(1,3,15,15)\n",
    "#\n",
    "#    temp_patch = temp_patch / (nearest_idx_pca.shape[1])\n",
    "#    center_patches_avg_pca.append(temp_patch)\n",
    "#\n",
    "#center_patches_avg_pca = np.vstack(center_patches_avg_pca)\n",
    "#show_center_patches(center_patches_avg_pca[:16])"
   ]
  },
  {
   "cell_type": "markdown",
   "metadata": {},
   "source": [
    "Save found average patches:"
   ]
  },
  {
   "cell_type": "code",
   "execution_count": null,
   "metadata": {},
   "outputs": [],
   "source": [
    "#center_patches_avg_pca.shape"
   ]
  },
  {
   "cell_type": "code",
   "execution_count": null,
   "metadata": {},
   "outputs": [],
   "source": [
    "#result_path_avg_pca = base_url + \"cifar10_patches_avg_pca_kmeans_multilayer2.txt\"\n",
    "#with open(result_path_avg_pca, \"wb\") as fp:\n",
    "#    pickle.dump(center_patches_avg_pca, fp)"
   ]
  },
  {
   "cell_type": "markdown",
   "metadata": {},
   "source": [
    "## Using UMAP"
   ]
  },
  {
   "cell_type": "markdown",
   "metadata": {},
   "source": [
    "Reduce data to 2D using UMAP:"
   ]
  },
  {
   "cell_type": "code",
   "execution_count": null,
   "metadata": {},
   "outputs": [],
   "source": [
    "#reducer = umap.UMAP()\n",
    "#patch_data_2d_umap = reducer.fit_transform(sample_patch_data_scaled); patch_data_2d_umap.shape"
   ]
  },
  {
   "cell_type": "markdown",
   "metadata": {},
   "source": [
    "Apply kMeans:"
   ]
  },
  {
   "cell_type": "code",
   "execution_count": null,
   "metadata": {},
   "outputs": [],
   "source": [
    "#kmeans_umap = KMeans(n_clusters=86, random_state=0).fit(patch_data_2d_umap)"
   ]
  },
  {
   "cell_type": "markdown",
   "metadata": {},
   "source": [
    "Get the closest patch for each cluster center:"
   ]
  },
  {
   "cell_type": "code",
   "execution_count": null,
   "metadata": {},
   "outputs": [],
   "source": [
    "#closest_umap, _ = pairwise_distances_argmin_min(kmeans_umap.cluster_centers_, patch_data_2d_umap)"
   ]
  },
  {
   "cell_type": "code",
   "execution_count": null,
   "metadata": {},
   "outputs": [],
   "source": [
    "#center_patches_umap = []\n",
    "#\n",
    "#for c in closest_umap:\n",
    "#    temp_patch = patch_data[c].reshape(1,3,15,15)\n",
    "#    center_patches_umap.append(temp_patch)\n",
    "#\n",
    "#center_patches_umap = np.vstack(center_patches_umap)\n",
    "#show_center_patches(center_patches_umap[:16])"
   ]
  },
  {
   "cell_type": "markdown",
   "metadata": {},
   "source": [
    "Save found patches:"
   ]
  },
  {
   "cell_type": "code",
   "execution_count": null,
   "metadata": {},
   "outputs": [],
   "source": [
    "#center_patches_umap.shape"
   ]
  },
  {
   "cell_type": "code",
   "execution_count": null,
   "metadata": {},
   "outputs": [],
   "source": [
    "#result_path_umap = base_url + \"cifar10_patches_umap_kmeans_multilayer2.txt\"\n",
    "#with open(result_path_umap, \"wb\") as fp:\n",
    "#    pickle.dump(center_patches_umap, fp)"
   ]
  },
  {
   "cell_type": "markdown",
   "metadata": {},
   "source": [
    "Get the k closest patches for each cluster center:"
   ]
  },
  {
   "cell_type": "code",
   "execution_count": null,
   "metadata": {},
   "outputs": [],
   "source": [
    "#k = 5"
   ]
  },
  {
   "cell_type": "code",
   "execution_count": null,
   "metadata": {},
   "outputs": [],
   "source": [
    "#distances_umap = pairwise_distances(kmeans_umap.cluster_centers_, patch_data_2d_umap); distances_umap.shape"
   ]
  },
  {
   "cell_type": "code",
   "execution_count": null,
   "metadata": {},
   "outputs": [],
   "source": [
    "#nearest_idx_umap = np.argsort(distances_umap, axis=1)[:,:k]; nearest_idx_umap[:,0]"
   ]
  },
  {
   "cell_type": "markdown",
   "metadata": {},
   "source": [
    "Check if we really found the k closest clusters:"
   ]
  },
  {
   "cell_type": "code",
   "execution_count": null,
   "metadata": {},
   "outputs": [],
   "source": [
    "#for i in range(kmeans_umap.cluster_centers_.shape[0]):\n",
    "#    center_distances = distances_umap[i][nearest_idx_umap[i]]\n",
    "#    farthest = max(center_distances)\n",
    "#    nearer_points = distances_umap[i] < farthest\n",
    "#    assert Counter(nearer_points)[True] == (k-1)"
   ]
  },
  {
   "cell_type": "markdown",
   "metadata": {},
   "source": [
    "Average k closest samples for each cluster:"
   ]
  },
  {
   "cell_type": "code",
   "execution_count": null,
   "metadata": {},
   "outputs": [],
   "source": [
    "#center_patches_avg_umap = []\n",
    "#\n",
    "#for c in range(nearest_idx_umap.shape[0]):\n",
    "#    temp_patch = np.zeros((1,3,15,15))\n",
    "#\n",
    "#    for s in range(nearest_idx_umap.shape[1]):\n",
    "#        temp_idx = nearest_idx_umap[c,s]\n",
    "#        temp_patch = temp_patch + patch_data[temp_idx].reshape(1,3,15,15)\n",
    "#\n",
    "#    temp_patch = temp_patch / (nearest_idx_umap.shape[1])\n",
    "#    center_patches_avg_umap.append(temp_patch)\n",
    "#\n",
    "#center_patches_avg_umap = np.vstack(center_patches_avg_umap)\n",
    "#show_center_patches(center_patches_avg_umap[:16])"
   ]
  },
  {
   "cell_type": "markdown",
   "metadata": {},
   "source": [
    "Save found average patches:"
   ]
  },
  {
   "cell_type": "code",
   "execution_count": null,
   "metadata": {},
   "outputs": [],
   "source": [
    "#center_patches_avg_umap.shape"
   ]
  },
  {
   "cell_type": "code",
   "execution_count": null,
   "metadata": {},
   "outputs": [],
   "source": [
    "#result_path_avg_umap = base_url + \"cifar10_patches_avg_umap_kmeans_multilayer2.txt\"\n",
    "#with open(result_path_avg_umap, \"wb\") as fp:\n",
    "#    pickle.dump(center_patches_avg_umap, fp)"
   ]
  },
  {
   "cell_type": "markdown",
   "metadata": {},
   "source": [
    "Get the k closest patches for each cluster center:"
   ]
  },
  {
   "cell_type": "code",
   "execution_count": null,
   "metadata": {},
   "outputs": [],
   "source": [
    "#k = 10"
   ]
  },
  {
   "cell_type": "code",
   "execution_count": null,
   "metadata": {},
   "outputs": [],
   "source": [
    "#distances_umap = pairwise_distances(kmeans_umap.cluster_centers_, patch_data_2d_umap); distances_umap.shape"
   ]
  },
  {
   "cell_type": "code",
   "execution_count": null,
   "metadata": {},
   "outputs": [],
   "source": [
    "#nearest_idx_umap = np.argsort(distances_umap, axis=1)[:,:k]; nearest_idx_umap[:,0]"
   ]
  },
  {
   "cell_type": "markdown",
   "metadata": {},
   "source": [
    "Check if we really found the k closest clusters:"
   ]
  },
  {
   "cell_type": "code",
   "execution_count": null,
   "metadata": {},
   "outputs": [],
   "source": [
    "#for i in range(kmeans_umap.cluster_centers_.shape[0]):\n",
    "#    center_distances = distances_umap[i][nearest_idx_umap[i]]\n",
    "#    farthest = max(center_distances)\n",
    "#    nearer_points = distances_umap[i] < farthest\n",
    "#    assert Counter(nearer_points)[True] == (k-1)"
   ]
  },
  {
   "cell_type": "markdown",
   "metadata": {},
   "source": [
    "Average k closest samples for each cluster:"
   ]
  },
  {
   "cell_type": "code",
   "execution_count": null,
   "metadata": {},
   "outputs": [],
   "source": [
    "#center_patches_avg_umap = []\n",
    "#\n",
    "#for c in range(nearest_idx_umap.shape[0]):\n",
    "#    temp_patch = np.zeros((1,3,15,15))\n",
    "#\n",
    "#    for s in range(nearest_idx_umap.shape[1]):\n",
    "#        temp_idx = nearest_idx_umap[c,s]\n",
    "#        temp_patch = temp_patch + patch_data[temp_idx].reshape(1,3,15,15)\n",
    "#\n",
    "#    temp_patch = temp_patch / (nearest_idx_umap.shape[1])\n",
    "#    center_patches_avg_umap.append(temp_patch)\n",
    "#\n",
    "#center_patches_avg_umap = np.vstack(center_patches_avg_umap)\n",
    "#show_center_patches(center_patches_avg_umap[:16])"
   ]
  },
  {
   "cell_type": "markdown",
   "metadata": {},
   "source": [
    "Save found average patches:"
   ]
  },
  {
   "cell_type": "code",
   "execution_count": null,
   "metadata": {},
   "outputs": [],
   "source": [
    "#center_patches_avg_umap.shape"
   ]
  },
  {
   "cell_type": "code",
   "execution_count": null,
   "metadata": {},
   "outputs": [],
   "source": [
    "#result_path_avg_umap = base_url + \"mnist_patches_avg_more_umap_kmeans_multilayer2.txt\"\n",
    "#with open(result_path_avg_umap, \"wb\") as fp:\n",
    "#    pickle.dump(center_patches_avg_umap, fp)"
   ]
  },
  {
   "cell_type": "markdown",
   "metadata": {},
   "source": [
    "# Cluster Patch Data - 3rd layer"
   ]
  },
  {
   "cell_type": "code",
   "execution_count": null,
   "metadata": {},
   "outputs": [],
   "source": [
    "#def show_center_patches(patches):\n",
    "#    print(\"tensor shape: \" + str(patches.shape))\n",
    "#    \n",
    "#    fig = plt.figure(figsize=(8,8))\n",
    "#    for i in range(patches.shape[0]):\n",
    "#        plt.subplot(4,4,i+1)\n",
    "#        plt.tight_layout()\n",
    "#        patch = np.moveaxis(patches[i], 0, -1)\n",
    "#        plt.imshow(patch, cmap='gray', interpolation='none')\n",
    "#        plt.xticks([])\n",
    "#        plt.yticks([])"
   ]
  },
  {
   "cell_type": "markdown",
   "metadata": {},
   "source": [
    "## Using PCA"
   ]
  },
  {
   "cell_type": "markdown",
   "metadata": {},
   "source": [
    "Scale data:"
   ]
  },
  {
   "cell_type": "code",
   "execution_count": null,
   "metadata": {},
   "outputs": [],
   "source": [
    "#scaler = StandardScaler()\n",
    "#patch_data_scaled = scaler.fit_transform(patch_data)\n",
    "#sample_patch_data_scaled = scaler.fit_transform(sample_patch_data)"
   ]
  },
  {
   "cell_type": "markdown",
   "metadata": {},
   "source": [
    "Reduce data to 2D using PCA:"
   ]
  },
  {
   "cell_type": "code",
   "execution_count": null,
   "metadata": {},
   "outputs": [],
   "source": [
    "#pca = PCA(n_components=2)\n",
    "#patch_data_2d_pca = pca.fit_transform(patch_data_scaled); patch_data_2d_pca.shape"
   ]
  },
  {
   "cell_type": "markdown",
   "metadata": {},
   "source": [
    "Apply kMeans:"
   ]
  },
  {
   "cell_type": "code",
   "execution_count": null,
   "metadata": {},
   "outputs": [],
   "source": [
    "#kmeans_pca = KMeans(n_clusters=342, random_state=0).fit(patch_data_2d_pca)"
   ]
  },
  {
   "cell_type": "markdown",
   "metadata": {},
   "source": [
    "Get the closest patch for each cluster center:"
   ]
  },
  {
   "cell_type": "code",
   "execution_count": null,
   "metadata": {},
   "outputs": [],
   "source": [
    "#closest_pca, _ = pairwise_distances_argmin_min(kmeans_pca.cluster_centers_, patch_data_2d_pca)"
   ]
  },
  {
   "cell_type": "code",
   "execution_count": null,
   "metadata": {},
   "outputs": [],
   "source": [
    "#center_patches_pca = []\n",
    "#\n",
    "#for c in closest_pca:\n",
    "#    temp_patch = patch_data[c].reshape(1, 3, 15, 15)\n",
    "#    center_patches_pca.append(temp_patch)\n",
    "#\n",
    "#center_patches_pca = np.vstack(center_patches_pca)\n",
    "#show_center_patches(center_patches_pca[:16])"
   ]
  },
  {
   "cell_type": "markdown",
   "metadata": {},
   "source": [
    "Save found patches:"
   ]
  },
  {
   "cell_type": "code",
   "execution_count": null,
   "metadata": {},
   "outputs": [],
   "source": [
    "#center_patches_pca.shape"
   ]
  },
  {
   "cell_type": "code",
   "execution_count": null,
   "metadata": {},
   "outputs": [],
   "source": [
    "#result_path_pca = base_url + \"cifar10_patches_pca_kmeans_multilayer3.txt\"\n",
    "#with open(result_path_pca, \"wb\") as fp:\n",
    "#    pickle.dump(center_patches_pca, fp)"
   ]
  },
  {
   "cell_type": "markdown",
   "metadata": {},
   "source": [
    "Get the k closest patches for each cluster center:"
   ]
  },
  {
   "cell_type": "code",
   "execution_count": null,
   "metadata": {},
   "outputs": [],
   "source": [
    "#k = 10"
   ]
  },
  {
   "cell_type": "code",
   "execution_count": null,
   "metadata": {},
   "outputs": [],
   "source": [
    "#distances_pca = pairwise_distances(kmeans_pca.cluster_centers_, patch_data_2d_pca); distances_pca.shape"
   ]
  },
  {
   "cell_type": "code",
   "execution_count": null,
   "metadata": {},
   "outputs": [],
   "source": [
    "#nearest_idx_pca = np.argsort(distances_pca, axis=1)[:,:k]; nearest_idx_pca[:,0]"
   ]
  },
  {
   "cell_type": "markdown",
   "metadata": {},
   "source": [
    "Check if we really found the k closest clusters:"
   ]
  },
  {
   "cell_type": "code",
   "execution_count": null,
   "metadata": {},
   "outputs": [],
   "source": [
    "#for i in range(kmeans_pca.cluster_centers_.shape[0]):\n",
    "#    center_distances = distances_pca[i][nearest_idx_pca[i]]\n",
    "#    farthest = max(center_distances)\n",
    "#    nearer_points = distances_pca[i] < farthest\n",
    "#    assert Counter(nearer_points)[True] == (k-1)"
   ]
  },
  {
   "cell_type": "markdown",
   "metadata": {},
   "source": [
    "Average k closest samples for each cluster:"
   ]
  },
  {
   "cell_type": "code",
   "execution_count": null,
   "metadata": {},
   "outputs": [],
   "source": [
    "#center_patches_avg_pca = []\n",
    "#\n",
    "#for c in range(nearest_idx_pca.shape[0]):\n",
    "#    temp_patch = np.zeros((1,3,15,15))\n",
    "#\n",
    "#    for s in range(nearest_idx_pca.shape[1]):\n",
    "#        temp_idx = nearest_idx_pca[c,s]\n",
    "#        temp_patch = temp_patch + patch_data[temp_idx].reshape(1,3,15,15)\n",
    "#\n",
    "#    temp_patch = temp_patch / (nearest_idx_pca.shape[1])\n",
    "#    center_patches_avg_pca.append(temp_patch)\n",
    "#\n",
    "#center_patches_avg_pca = np.vstack(center_patches_avg_pca)\n",
    "#show_center_patches(center_patches_avg_pca[:16])"
   ]
  },
  {
   "cell_type": "markdown",
   "metadata": {},
   "source": [
    "Save found average patches:"
   ]
  },
  {
   "cell_type": "code",
   "execution_count": null,
   "metadata": {},
   "outputs": [],
   "source": [
    "#center_patches_avg_pca.shape"
   ]
  },
  {
   "cell_type": "code",
   "execution_count": null,
   "metadata": {},
   "outputs": [],
   "source": [
    "#result_path_avg_pca = base_url + \"cifar10_patches_avg_pca_kmeans_multilayer3.txt\"\n",
    "#with open(result_path_avg_pca, \"wb\") as fp:\n",
    "#    pickle.dump(center_patches_avg_pca, fp)"
   ]
  },
  {
   "cell_type": "markdown",
   "metadata": {},
   "source": [
    "## Using UMAP"
   ]
  },
  {
   "cell_type": "markdown",
   "metadata": {},
   "source": [
    "Reduce data to 2D using UMAP:"
   ]
  },
  {
   "cell_type": "code",
   "execution_count": null,
   "metadata": {},
   "outputs": [],
   "source": [
    "#reducer = umap.UMAP()\n",
    "#patch_data_2d_umap = reducer.fit_transform(sample_patch_data_scaled); patch_data_2d_umap.shape"
   ]
  },
  {
   "cell_type": "markdown",
   "metadata": {},
   "source": [
    "Apply kMeans:"
   ]
  },
  {
   "cell_type": "code",
   "execution_count": null,
   "metadata": {},
   "outputs": [],
   "source": [
    "#kmeans_umap = KMeans(n_clusters=342, random_state=0).fit(patch_data_2d_umap)"
   ]
  },
  {
   "cell_type": "markdown",
   "metadata": {},
   "source": [
    "Get the closest patch for each cluster center:"
   ]
  },
  {
   "cell_type": "code",
   "execution_count": null,
   "metadata": {},
   "outputs": [],
   "source": [
    "#closest_umap, _ = pairwise_distances_argmin_min(kmeans_umap.cluster_centers_, patch_data_2d_umap)"
   ]
  },
  {
   "cell_type": "code",
   "execution_count": null,
   "metadata": {},
   "outputs": [],
   "source": [
    "#center_patches_umap = []\n",
    "#\n",
    "#for c in closest_umap:\n",
    "#    temp_patch = patch_data[c].reshape(1,3,15,15)\n",
    "#    center_patches_umap.append(temp_patch)\n",
    "#\n",
    "#center_patches_umap = np.vstack(center_patches_umap)\n",
    "#show_center_patches(center_patches_umap[:16])"
   ]
  },
  {
   "cell_type": "markdown",
   "metadata": {},
   "source": [
    "Save found patches:"
   ]
  },
  {
   "cell_type": "code",
   "execution_count": null,
   "metadata": {},
   "outputs": [],
   "source": [
    "#center_patches_umap.shape"
   ]
  },
  {
   "cell_type": "code",
   "execution_count": null,
   "metadata": {},
   "outputs": [],
   "source": [
    "#result_path_umap = base_url + \"cifar10_patches_umap_kmeans_multilayer3.txt\"\n",
    "#with open(result_path_umap, \"wb\") as fp:\n",
    "#    pickle.dump(center_patches_umap, fp)"
   ]
  },
  {
   "cell_type": "markdown",
   "metadata": {},
   "source": [
    "Get the k closest patches for each cluster center:"
   ]
  },
  {
   "cell_type": "code",
   "execution_count": null,
   "metadata": {},
   "outputs": [],
   "source": [
    "#k = 5"
   ]
  },
  {
   "cell_type": "code",
   "execution_count": null,
   "metadata": {},
   "outputs": [],
   "source": [
    "#distances_umap = pairwise_distances(kmeans_umap.cluster_centers_, patch_data_2d_umap); distances_umap.shape"
   ]
  },
  {
   "cell_type": "code",
   "execution_count": null,
   "metadata": {},
   "outputs": [],
   "source": [
    "#nearest_idx_umap = np.argsort(distances_umap, axis=1)[:,:k]; nearest_idx_umap[:,0]"
   ]
  },
  {
   "cell_type": "markdown",
   "metadata": {},
   "source": [
    "Check if we really found the k closest clusters:"
   ]
  },
  {
   "cell_type": "code",
   "execution_count": null,
   "metadata": {},
   "outputs": [],
   "source": [
    "#for i in range(kmeans_umap.cluster_centers_.shape[0]):\n",
    "#    center_distances = distances_umap[i][nearest_idx_umap[i]]\n",
    "#    farthest = max(center_distances)\n",
    "#    nearer_points = distances_umap[i] < farthest\n",
    "#    assert Counter(nearer_points)[True] == (k-1)"
   ]
  },
  {
   "cell_type": "markdown",
   "metadata": {},
   "source": [
    "Average k closest samples for each cluster:"
   ]
  },
  {
   "cell_type": "code",
   "execution_count": null,
   "metadata": {},
   "outputs": [],
   "source": [
    "#center_patches_avg_umap = []\n",
    "#\n",
    "#for c in range(nearest_idx_umap.shape[0]):\n",
    "#    temp_patch = np.zeros((1,3,15,15))\n",
    "#\n",
    "#    for s in range(nearest_idx_umap.shape[1]):\n",
    "#        temp_idx = nearest_idx_umap[c,s]\n",
    "#        temp_patch = temp_patch + patch_data[temp_idx].reshape(1,3,15,15)\n",
    "#\n",
    "#    temp_patch = temp_patch / (nearest_idx_umap.shape[1])\n",
    "#    center_patches_avg_umap.append(temp_patch)\n",
    "#\n",
    "#center_patches_avg_umap = np.vstack(center_patches_avg_umap)\n",
    "#show_center_patches(center_patches_avg_umap[:16])"
   ]
  },
  {
   "cell_type": "markdown",
   "metadata": {},
   "source": [
    "Save found average patches:"
   ]
  },
  {
   "cell_type": "code",
   "execution_count": null,
   "metadata": {},
   "outputs": [],
   "source": [
    "#center_patches_avg_umap.shape"
   ]
  },
  {
   "cell_type": "code",
   "execution_count": null,
   "metadata": {},
   "outputs": [],
   "source": [
    "#result_path_avg_umap = base_url + \"cifar10_patches_avg_umap_kmeans_multilayer3.txt\"\n",
    "#with open(result_path_avg_umap, \"wb\") as fp:\n",
    "#    pickle.dump(center_patches_avg_umap, fp)"
   ]
  },
  {
   "cell_type": "markdown",
   "metadata": {},
   "source": [
    "Get the k closest patches for each cluster center:"
   ]
  },
  {
   "cell_type": "code",
   "execution_count": null,
   "metadata": {},
   "outputs": [],
   "source": [
    "#k = 10"
   ]
  },
  {
   "cell_type": "code",
   "execution_count": null,
   "metadata": {},
   "outputs": [],
   "source": [
    "#distances_umap = pairwise_distances(kmeans_umap.cluster_centers_, patch_data_2d_umap); distances_umap.shape"
   ]
  },
  {
   "cell_type": "code",
   "execution_count": null,
   "metadata": {},
   "outputs": [],
   "source": [
    "#nearest_idx_umap = np.argsort(distances_umap, axis=1)[:,:k]; nearest_idx_umap[:,0]"
   ]
  },
  {
   "cell_type": "markdown",
   "metadata": {},
   "source": [
    "Check if we really found the k closest clusters:"
   ]
  },
  {
   "cell_type": "code",
   "execution_count": null,
   "metadata": {},
   "outputs": [],
   "source": [
    "#for i in range(kmeans_umap.cluster_centers_.shape[0]):\n",
    "#    center_distances = distances_umap[i][nearest_idx_umap[i]]\n",
    "#    farthest = max(center_distances)\n",
    "#    nearer_points = distances_umap[i] < farthest\n",
    "#    assert Counter(nearer_points)[True] == (k-1)"
   ]
  },
  {
   "cell_type": "markdown",
   "metadata": {},
   "source": [
    "Average k closest samples for each cluster:"
   ]
  },
  {
   "cell_type": "code",
   "execution_count": null,
   "metadata": {},
   "outputs": [],
   "source": [
    "#center_patches_avg_umap = []\n",
    "#\n",
    "#for c in range(nearest_idx_umap.shape[0]):\n",
    "#    temp_patch = np.zeros((1,3,15,15))\n",
    "#\n",
    "#    for s in range(nearest_idx_umap.shape[1]):\n",
    "#        temp_idx = nearest_idx_umap[c,s]\n",
    "#        temp_patch = temp_patch + patch_data[temp_idx].reshape(1,3,15,15)\n",
    "#\n",
    "#    temp_patch = temp_patch / (nearest_idx_umap.shape[1])\n",
    "#    center_patches_avg_umap.append(temp_patch)\n",
    "#\n",
    "#center_patches_avg_umap = np.vstack(center_patches_avg_umap)\n",
    "#show_center_patches(center_patches_avg_umap[:16])"
   ]
  },
  {
   "cell_type": "markdown",
   "metadata": {},
   "source": [
    "Save found average patches:"
   ]
  },
  {
   "cell_type": "code",
   "execution_count": null,
   "metadata": {},
   "outputs": [],
   "source": [
    "#center_patches_avg_umap.shape"
   ]
  },
  {
   "cell_type": "code",
   "execution_count": null,
   "metadata": {},
   "outputs": [],
   "source": [
    "#result_path_avg_umap = base_url + \"mnist_patches_avg_more_umap_kmeans_multilayer3.txt\"\n",
    "#with open(result_path_avg_umap, \"wb\") as fp:\n",
    "#    pickle.dump(center_patches_avg_umap, fp)"
   ]
  },
  {
   "cell_type": "markdown",
   "metadata": {},
   "source": [
    "# Cluster Patch Data - 4nd layer"
   ]
  },
  {
   "cell_type": "code",
   "execution_count": null,
   "metadata": {},
   "outputs": [],
   "source": [
    "#def show_center_patches(patches):\n",
    "#    print(\"tensor shape: \" + str(patches.shape))\n",
    "#    \n",
    "#    fig = plt.figure(figsize=(8,8))\n",
    "#    for i in range(patches.shape[0]):\n",
    "#        plt.subplot(4,4,i+1)\n",
    "#        plt.tight_layout()\n",
    "#        patch = np.moveaxis(patches[i], 0, -1)\n",
    "#        plt.imshow(patch, cmap='gray', interpolation='none')\n",
    "#        plt.xticks([])\n",
    "#        plt.yticks([])"
   ]
  },
  {
   "cell_type": "markdown",
   "metadata": {},
   "source": [
    "## Using PCA"
   ]
  },
  {
   "cell_type": "markdown",
   "metadata": {},
   "source": [
    "Scale data:"
   ]
  },
  {
   "cell_type": "code",
   "execution_count": null,
   "metadata": {},
   "outputs": [],
   "source": [
    "#scaler = StandardScaler()\n",
    "#patch_data_scaled = scaler.fit_transform(patch_data)\n",
    "#sample_patch_data_scaled = scaler.fit_transform(sample_patch_data)"
   ]
  },
  {
   "cell_type": "markdown",
   "metadata": {},
   "source": [
    "Reduce data to 2D using PCA:"
   ]
  },
  {
   "cell_type": "code",
   "execution_count": null,
   "metadata": {},
   "outputs": [],
   "source": [
    "#pca = PCA(n_components=2)\n",
    "#patch_data_2d_pca = pca.fit_transform(patch_data_scaled); patch_data_2d_pca.shape"
   ]
  },
  {
   "cell_type": "markdown",
   "metadata": {},
   "source": [
    "Apply kMeans:"
   ]
  },
  {
   "cell_type": "code",
   "execution_count": null,
   "metadata": {},
   "outputs": [],
   "source": [
    "kmeans_pca = KMeans(n_clusters=1366, random_state=0).fit(patch_data_2d_pca)"
   ]
  },
  {
   "cell_type": "markdown",
   "metadata": {},
   "source": [
    "Get the closest patch for each cluster center:"
   ]
  },
  {
   "cell_type": "code",
   "execution_count": null,
   "metadata": {},
   "outputs": [],
   "source": [
    "closest_pca, _ = pairwise_distances_argmin_min(kmeans_pca.cluster_centers_, patch_data_2d_pca)"
   ]
  },
  {
   "cell_type": "code",
   "execution_count": null,
   "metadata": {},
   "outputs": [
    {
     "name": "stdout",
     "output_type": "stream",
     "text": [
      "tensor shape: (16, 3, 15, 15)\n"
     ]
    },
    {
     "data": {
      "image/png": "[encoded data removed]",
      "text/plain": [
       "<Figure size 576x576 with 16 Axes>"
      ]
     },
     "metadata": {},
     "output_type": "display_data"
    }
   ],
   "source": [
    "center_patches_pca = []\n",
    "\n",
    "for c in closest_pca:\n",
    "    temp_patch = patch_data[c].reshape(1, 3, 15, 15)\n",
    "    center_patches_pca.append(temp_patch)\n",
    "\n",
    "center_patches_pca = np.vstack(center_patches_pca)\n",
    "show_center_patches(center_patches_pca[:16])"
   ]
  },
  {
   "cell_type": "markdown",
   "metadata": {},
   "source": [
    "Save found patches:"
   ]
  },
  {
   "cell_type": "code",
   "execution_count": null,
   "metadata": {},
   "outputs": [
    {
     "data": {
      "text/plain": [
       "(1366, 3, 15, 15)"
      ]
     },
     "execution_count": null,
     "metadata": {},
     "output_type": "execute_result"
    }
   ],
   "source": [
    "center_patches_pca.shape"
   ]
  },
  {
   "cell_type": "code",
   "execution_count": null,
   "metadata": {},
   "outputs": [],
   "source": [
    "result_path_pca = base_url + \"cifar10_patches_pca_kmeans_multilayer4.txt\"\n",
    "with open(result_path_pca, \"wb\") as fp:\n",
    "    pickle.dump(center_patches_pca, fp)"
   ]
  },
  {
   "cell_type": "markdown",
   "metadata": {},
   "source": [
    "Get the k closest patches for each cluster center:"
   ]
  },
  {
   "cell_type": "code",
   "execution_count": null,
   "metadata": {},
   "outputs": [],
   "source": [
    "k = 10"
   ]
  },
  {
   "cell_type": "code",
   "execution_count": null,
   "metadata": {},
   "outputs": [
    {
     "data": {
      "text/plain": [
       "(1366, 165450)"
      ]
     },
     "execution_count": null,
     "metadata": {},
     "output_type": "execute_result"
    }
   ],
   "source": [
    "distances_pca = pairwise_distances(kmeans_pca.cluster_centers_, patch_data_2d_pca); distances_pca.shape"
   ]
  },
  {
   "cell_type": "code",
   "execution_count": null,
   "metadata": {},
   "outputs": [
    {
     "data": {
      "text/plain": [
       "array([ 31169, 144951, 137299, ...,  92661,   4139,   9126])"
      ]
     },
     "execution_count": null,
     "metadata": {},
     "output_type": "execute_result"
    }
   ],
   "source": [
    "nearest_idx_pca = np.argsort(distances_pca, axis=1)[:,:k]; nearest_idx_pca[:,0]"
   ]
  },
  {
   "cell_type": "markdown",
   "metadata": {},
   "source": [
    "Check if we really found the k closest clusters:"
   ]
  },
  {
   "cell_type": "code",
   "execution_count": null,
   "metadata": {},
   "outputs": [],
   "source": [
    "for i in range(kmeans_pca.cluster_centers_.shape[0]):\n",
    "    center_distances = distances_pca[i][nearest_idx_pca[i]]\n",
    "    farthest = max(center_distances)\n",
    "    nearer_points = distances_pca[i] < farthest\n",
    "    assert Counter(nearer_points)[True] == (k-1)"
   ]
  },
  {
   "cell_type": "markdown",
   "metadata": {},
   "source": [
    "Average k closest samples for each cluster:"
   ]
  },
  {
   "cell_type": "code",
   "execution_count": null,
   "metadata": {},
   "outputs": [
    {
     "name": "stdout",
     "output_type": "stream",
     "text": [
      "tensor shape: (16, 3, 15, 15)\n"
     ]
    },
    {
     "data": {
      "image/png": "[encoded data removed]",
      "text/plain": [
       "<Figure size 576x576 with 16 Axes>"
      ]
     },
     "metadata": {},
     "output_type": "display_data"
    }
   ],
   "source": [
    "center_patches_avg_pca = []\n",
    "\n",
    "for c in range(nearest_idx_pca.shape[0]):\n",
    "    temp_patch = np.zeros((1,3,15,15))\n",
    "\n",
    "    for s in range(nearest_idx_pca.shape[1]):\n",
    "        temp_idx = nearest_idx_pca[c,s]\n",
    "        temp_patch = temp_patch + patch_data[temp_idx].reshape(1,3,15,15)\n",
    "\n",
    "    temp_patch = temp_patch / (nearest_idx_pca.shape[1])\n",
    "    center_patches_avg_pca.append(temp_patch)\n",
    "\n",
    "center_patches_avg_pca = np.vstack(center_patches_avg_pca)\n",
    "show_center_patches(center_patches_avg_pca[:16])"
   ]
  },
  {
   "cell_type": "markdown",
   "metadata": {},
   "source": [
    "Save found average patches:"
   ]
  },
  {
   "cell_type": "code",
   "execution_count": null,
   "metadata": {},
   "outputs": [
    {
     "data": {
      "text/plain": [
       "(1366, 3, 15, 15)"
      ]
     },
     "execution_count": null,
     "metadata": {},
     "output_type": "execute_result"
    }
   ],
   "source": [
    "center_patches_avg_pca.shape"
   ]
  },
  {
   "cell_type": "code",
   "execution_count": null,
   "metadata": {},
   "outputs": [],
   "source": [
    "result_path_avg_pca = base_url + \"cifar10_patches_avg_pca_kmeans_multilayer4.txt\"\n",
    "with open(result_path_avg_pca, \"wb\") as fp:\n",
    "    pickle.dump(center_patches_avg_pca, fp)"
   ]
  },
  {
   "cell_type": "markdown",
   "metadata": {},
   "source": [
    "## Using UMAP"
   ]
  },
  {
   "cell_type": "markdown",
   "metadata": {},
   "source": [
    "Reduce data to 2D using UMAP:"
   ]
  },
  {
   "cell_type": "code",
   "execution_count": null,
   "metadata": {},
   "outputs": [],
   "source": [
    "#reducer = umap.UMAP()\n",
    "#patch_data_2d_umap = reducer.fit_transform(sample_patch_data_scaled); patch_data_2d_umap.shape"
   ]
  },
  {
   "cell_type": "markdown",
   "metadata": {},
   "source": [
    "Apply kMeans:"
   ]
  },
  {
   "cell_type": "code",
   "execution_count": null,
   "metadata": {},
   "outputs": [],
   "source": [
    "kmeans_umap = KMeans(n_clusters=1366, random_state=0).fit(patch_data_2d_umap)"
   ]
  },
  {
   "cell_type": "markdown",
   "metadata": {},
   "source": [
    "Get the closest patch for each cluster center:"
   ]
  },
  {
   "cell_type": "code",
   "execution_count": null,
   "metadata": {},
   "outputs": [],
   "source": [
    "closest_umap, _ = pairwise_distances_argmin_min(kmeans_umap.cluster_centers_, patch_data_2d_umap)"
   ]
  },
  {
   "cell_type": "code",
   "execution_count": null,
   "metadata": {},
   "outputs": [
    {
     "name": "stdout",
     "output_type": "stream",
     "text": [
      "tensor shape: (16, 3, 15, 15)\n"
     ]
    },
    {
     "data": {
      "image/png": "[encoded data removed]",
      "text/plain": [
       "<Figure size 576x576 with 16 Axes>"
      ]
     },
     "metadata": {},
     "output_type": "display_data"
    }
   ],
   "source": [
    "center_patches_umap = []\n",
    "\n",
    "for c in closest_umap:\n",
    "    temp_patch = patch_data[c].reshape(1,3,15,15)\n",
    "    center_patches_umap.append(temp_patch)\n",
    "\n",
    "center_patches_umap = np.vstack(center_patches_umap)\n",
    "show_center_patches(center_patches_umap[:16])"
   ]
  },
  {
   "cell_type": "markdown",
   "metadata": {},
   "source": [
    "Save found patches:"
   ]
  },
  {
   "cell_type": "code",
   "execution_count": null,
   "metadata": {},
   "outputs": [
    {
     "data": {
      "text/plain": [
       "(1366, 3, 15, 15)"
      ]
     },
     "execution_count": null,
     "metadata": {},
     "output_type": "execute_result"
    }
   ],
   "source": [
    "center_patches_umap.shape"
   ]
  },
  {
   "cell_type": "code",
   "execution_count": null,
   "metadata": {},
   "outputs": [],
   "source": [
    "result_path_umap = base_url + \"cifar10_patches_umap_kmeans_multilayer4.txt\"\n",
    "with open(result_path_umap, \"wb\") as fp:\n",
    "    pickle.dump(center_patches_umap, fp)"
   ]
  },
  {
   "cell_type": "markdown",
   "metadata": {},
   "source": [
    "Get the k closest patches for each cluster center:"
   ]
  },
  {
   "cell_type": "code",
   "execution_count": null,
   "metadata": {},
   "outputs": [],
   "source": [
    "k = 5"
   ]
  },
  {
   "cell_type": "code",
   "execution_count": null,
   "metadata": {},
   "outputs": [
    {
     "data": {
      "text/plain": [
       "(1366, 51334)"
      ]
     },
     "execution_count": null,
     "metadata": {},
     "output_type": "execute_result"
    }
   ],
   "source": [
    "distances_umap = pairwise_distances(kmeans_umap.cluster_centers_, patch_data_2d_umap); distances_umap.shape"
   ]
  },
  {
   "cell_type": "code",
   "execution_count": null,
   "metadata": {},
   "outputs": [
    {
     "data": {
      "text/plain": [
       "array([ 3877, 32839, 30482, ..., 20829,  6192, 43722])"
      ]
     },
     "execution_count": null,
     "metadata": {},
     "output_type": "execute_result"
    }
   ],
   "source": [
    "nearest_idx_umap = np.argsort(distances_umap, axis=1)[:,:k]; nearest_idx_umap[:,0]"
   ]
  },
  {
   "cell_type": "markdown",
   "metadata": {},
   "source": [
    "Check if we really found the k closest clusters:"
   ]
  },
  {
   "cell_type": "code",
   "execution_count": null,
   "metadata": {},
   "outputs": [],
   "source": [
    "for i in range(kmeans_umap.cluster_centers_.shape[0]):\n",
    "    center_distances = distances_umap[i][nearest_idx_umap[i]]\n",
    "    farthest = max(center_distances)\n",
    "    nearer_points = distances_umap[i] < farthest\n",
    "    assert Counter(nearer_points)[True] == (k-1)"
   ]
  },
  {
   "cell_type": "markdown",
   "metadata": {},
   "source": [
    "Average k closest samples for each cluster:"
   ]
  },
  {
   "cell_type": "code",
   "execution_count": null,
   "metadata": {},
   "outputs": [
    {
     "name": "stdout",
     "output_type": "stream",
     "text": [
      "tensor shape: (16, 3, 15, 15)\n"
     ]
    },
    {
     "data": {
      "image/png": "[encoded data removed]",
      "text/plain": [
       "<Figure size 576x576 with 16 Axes>"
      ]
     },
     "metadata": {},
     "output_type": "display_data"
    }
   ],
   "source": [
    "center_patches_avg_umap = []\n",
    "\n",
    "for c in range(nearest_idx_umap.shape[0]):\n",
    "    temp_patch = np.zeros((1,3,15,15))\n",
    "\n",
    "    for s in range(nearest_idx_umap.shape[1]):\n",
    "        temp_idx = nearest_idx_umap[c,s]\n",
    "        temp_patch = temp_patch + patch_data[temp_idx].reshape(1,3,15,15)\n",
    "\n",
    "    temp_patch = temp_patch / (nearest_idx_umap.shape[1])\n",
    "    center_patches_avg_umap.append(temp_patch)\n",
    "\n",
    "center_patches_avg_umap = np.vstack(center_patches_avg_umap)\n",
    "show_center_patches(center_patches_avg_umap[:16])"
   ]
  },
  {
   "cell_type": "markdown",
   "metadata": {},
   "source": [
    "Save found average patches:"
   ]
  },
  {
   "cell_type": "code",
   "execution_count": null,
   "metadata": {},
   "outputs": [
    {
     "data": {
      "text/plain": [
       "(1366, 3, 15, 15)"
      ]
     },
     "execution_count": null,
     "metadata": {},
     "output_type": "execute_result"
    }
   ],
   "source": [
    "center_patches_avg_umap.shape"
   ]
  },
  {
   "cell_type": "code",
   "execution_count": null,
   "metadata": {},
   "outputs": [],
   "source": [
    "result_path_avg_umap = base_url + \"cifar10_patches_avg_umap_kmeans_multilayer4.txt\"\n",
    "with open(result_path_avg_umap, \"wb\") as fp:\n",
    "    pickle.dump(center_patches_avg_umap, fp)"
   ]
  },
  {
   "cell_type": "markdown",
   "metadata": {},
   "source": [
    "Get the k closest patches for each cluster center:"
   ]
  },
  {
   "cell_type": "code",
   "execution_count": null,
   "metadata": {},
   "outputs": [],
   "source": [
    "k = 10"
   ]
  },
  {
   "cell_type": "code",
   "execution_count": null,
   "metadata": {},
   "outputs": [
    {
     "data": {
      "text/plain": [
       "(1366, 51334)"
      ]
     },
     "execution_count": null,
     "metadata": {},
     "output_type": "execute_result"
    }
   ],
   "source": [
    "distances_umap = pairwise_distances(kmeans_umap.cluster_centers_, patch_data_2d_umap); distances_umap.shape"
   ]
  },
  {
   "cell_type": "code",
   "execution_count": null,
   "metadata": {},
   "outputs": [
    {
     "data": {
      "text/plain": [
       "array([ 3877, 32839, 30482, ..., 20829,  6192, 43722])"
      ]
     },
     "execution_count": null,
     "metadata": {},
     "output_type": "execute_result"
    }
   ],
   "source": [
    "nearest_idx_umap = np.argsort(distances_umap, axis=1)[:,:k]; nearest_idx_umap[:,0]"
   ]
  },
  {
   "cell_type": "markdown",
   "metadata": {},
   "source": [
    "Check if we really found the k closest clusters:"
   ]
  },
  {
   "cell_type": "code",
   "execution_count": null,
   "metadata": {},
   "outputs": [],
   "source": [
    "for i in range(kmeans_umap.cluster_centers_.shape[0]):\n",
    "    center_distances = distances_umap[i][nearest_idx_umap[i]]\n",
    "    farthest = max(center_distances)\n",
    "    nearer_points = distances_umap[i] < farthest\n",
    "    assert Counter(nearer_points)[True] == (k-1)"
   ]
  },
  {
   "cell_type": "markdown",
   "metadata": {},
   "source": [
    "Average k closest samples for each cluster:"
   ]
  },
  {
   "cell_type": "code",
   "execution_count": null,
   "metadata": {},
   "outputs": [
    {
     "name": "stdout",
     "output_type": "stream",
     "text": [
      "tensor shape: (16, 3, 15, 15)\n"
     ]
    },
    {
     "data": {
      "image/png": "[encoded data removed]",
      "text/plain": [
       "<Figure size 576x576 with 16 Axes>"
      ]
     },
     "metadata": {},
     "output_type": "display_data"
    }
   ],
   "source": [
    "center_patches_avg_umap = []\n",
    "\n",
    "for c in range(nearest_idx_umap.shape[0]):\n",
    "    temp_patch = np.zeros((1,3,15,15))\n",
    "\n",
    "    for s in range(nearest_idx_umap.shape[1]):\n",
    "        temp_idx = nearest_idx_umap[c,s]\n",
    "        temp_patch = temp_patch + patch_data[temp_idx].reshape(1,3,15,15)\n",
    "\n",
    "    temp_patch = temp_patch / (nearest_idx_umap.shape[1])\n",
    "    center_patches_avg_umap.append(temp_patch)\n",
    "\n",
    "center_patches_avg_umap = np.vstack(center_patches_avg_umap)\n",
    "show_center_patches(center_patches_avg_umap[:16])"
   ]
  },
  {
   "cell_type": "markdown",
   "metadata": {},
   "source": [
    "Save found average patches:"
   ]
  },
  {
   "cell_type": "code",
   "execution_count": null,
   "metadata": {},
   "outputs": [
    {
     "data": {
      "text/plain": [
       "(1366, 3, 15, 15)"
      ]
     },
     "execution_count": null,
     "metadata": {},
     "output_type": "execute_result"
    }
   ],
   "source": [
    "center_patches_avg_umap.shape"
   ]
  },
  {
   "cell_type": "code",
   "execution_count": null,
   "metadata": {},
   "outputs": [],
   "source": [
    "result_path_avg_umap = base_url + \"mnist_patches_avg_more_umap_kmeans_multilayer4.txt\"\n",
    "with open(result_path_avg_umap, \"wb\") as fp:\n",
    "    pickle.dump(center_patches_avg_umap, fp)"
   ]
  },
  {
   "cell_type": "code",
   "execution_count": null,
   "metadata": {},
   "outputs": [],
   "source": []
  }
 ],
 "metadata": {
  "kernelspec": {
   "display_name": "Python 3 (ipykernel)",
   "language": "python",
   "name": "python3"
  },
  "language_info": {
   "codemirror_mode": {
    "name": "ipython",
    "version": 3
   },
   "file_extension": ".py",
   "mimetype": "text/x-python",
   "name": "python",
   "nbconvert_exporter": "python",
   "pygments_lexer": "ipython3",
   "version": "3.11.3"
  },
  "widgets": {
   "application/vnd.jupyter.widget-state+json": {
    "518d4f84f9db44f691a3937dcc140bf9": {
     "model_module": "@jupyter-widgets/base",
     "model_name": "LayoutModel",
     "state": {
      "_model_module": "@jupyter-widgets/base",
      "_model_module_version": "1.2.0",
      "_model_name": "LayoutModel",
      "_view_count": null,
      "_view_module": "@jupyter-widgets/base",
      "_view_module_version": "1.2.0",
      "_view_name": "LayoutView",
      "align_content": null,
      "align_items": null,
      "align_self": null,
      "border": null,
      "bottom": null,
      "display": null,
      "flex": null,
      "flex_flow": null,
      "grid_area": null,
      "grid_auto_columns": null,
      "grid_auto_flow": null,
      "grid_auto_rows": null,
      "grid_column": null,
      "grid_gap": null,
      "grid_row": null,
      "grid_template_areas": null,
      "grid_template_columns": null,
      "grid_template_rows": null,
      "height": null,
      "justify_content": null,
      "justify_items": null,
      "left": null,
      "margin": null,
      "max_height": null,
      "max_width": null,
      "min_height": null,
      "min_width": null,
      "object_fit": null,
      "object_position": null,
      "order": null,
      "overflow": null,
      "overflow_x": null,
      "overflow_y": null,
      "padding": null,
      "right": null,
      "top": null,
      "visibility": null,
      "width": null
     }
    },
    "63179f79dc3645b1994b9eca48262f85": {
     "model_module": "@jupyter-widgets/controls",
     "model_name": "DescriptionStyleModel",
     "state": {
      "_model_module": "@jupyter-widgets/controls",
      "_model_module_version": "1.5.0",
      "_model_name": "DescriptionStyleModel",
      "_view_count": null,
      "_view_module": "@jupyter-widgets/base",
      "_view_module_version": "1.2.0",
      "_view_name": "StyleView",
      "description_width": ""
     }
    },
    "6a764df00633463789e41820f1866435": {
     "model_module": "@jupyter-widgets/controls",
     "model_name": "HBoxModel",
     "state": {
      "_dom_classes": [],
      "_model_module": "@jupyter-widgets/controls",
      "_model_module_version": "1.5.0",
      "_model_name": "HBoxModel",
      "_view_count": null,
      "_view_module": "@jupyter-widgets/controls",
      "_view_module_version": "1.5.0",
      "_view_name": "HBoxView",
      "box_style": "",
      "children": [
       "IPY_MODEL_76c6984e1769439c81578c83ac03b4cb",
       "IPY_MODEL_98d6070a34bf4afea0eac43ac5f097e4"
      ],
      "layout": "IPY_MODEL_518d4f84f9db44f691a3937dcc140bf9"
     }
    },
    "76c6984e1769439c81578c83ac03b4cb": {
     "model_module": "@jupyter-widgets/controls",
     "model_name": "FloatProgressModel",
     "state": {
      "_dom_classes": [],
      "_model_module": "@jupyter-widgets/controls",
      "_model_module_version": "1.5.0",
      "_model_name": "FloatProgressModel",
      "_view_count": null,
      "_view_module": "@jupyter-widgets/controls",
      "_view_module_version": "1.5.0",
      "_view_name": "ProgressView",
      "bar_style": "info",
      "description": "",
      "description_tooltip": null,
      "layout": "IPY_MODEL_b167c51290a14b31a8d10a8d57578c62",
      "max": 1,
      "min": 0,
      "orientation": "horizontal",
      "style": "IPY_MODEL_d044d5d3018f42cf98f404eca46c3a47",
      "value": 1
     }
    },
    "97df99b914ed4b3faf9bee270f7f7888": {
     "model_module": "@jupyter-widgets/base",
     "model_name": "LayoutModel",
     "state": {
      "_model_module": "@jupyter-widgets/base",
      "_model_module_version": "1.2.0",
      "_model_name": "LayoutModel",
      "_view_count": null,
      "_view_module": "@jupyter-widgets/base",
      "_view_module_version": "1.2.0",
      "_view_name": "LayoutView",
      "align_content": null,
      "align_items": null,
      "align_self": null,
      "border": null,
      "bottom": null,
      "display": null,
      "flex": null,
      "flex_flow": null,
      "grid_area": null,
      "grid_auto_columns": null,
      "grid_auto_flow": null,
      "grid_auto_rows": null,
      "grid_column": null,
      "grid_gap": null,
      "grid_row": null,
      "grid_template_areas": null,
      "grid_template_columns": null,
      "grid_template_rows": null,
      "height": null,
      "justify_content": null,
      "justify_items": null,
      "left": null,
      "margin": null,
      "max_height": null,
      "max_width": null,
      "min_height": null,
      "min_width": null,
      "object_fit": null,
      "object_position": null,
      "order": null,
      "overflow": null,
      "overflow_x": null,
      "overflow_y": null,
      "padding": null,
      "right": null,
      "top": null,
      "visibility": null,
      "width": null
     }
    },
    "98d6070a34bf4afea0eac43ac5f097e4": {
     "model_module": "@jupyter-widgets/controls",
     "model_name": "HTMLModel",
     "state": {
      "_dom_classes": [],
      "_model_module": "@jupyter-widgets/controls",
      "_model_module_version": "1.5.0",
      "_model_name": "HTMLModel",
      "_view_count": null,
      "_view_module": "@jupyter-widgets/controls",
      "_view_module_version": "1.5.0",
      "_view_name": "HTMLView",
      "description": "",
      "description_tooltip": null,
      "layout": "IPY_MODEL_97df99b914ed4b3faf9bee270f7f7888",
      "placeholder": "​",
      "style": "IPY_MODEL_63179f79dc3645b1994b9eca48262f85",
      "value": " 170500096/? [00:20&lt;00:00, 52213092.04it/s]"
     }
    },
    "b167c51290a14b31a8d10a8d57578c62": {
     "model_module": "@jupyter-widgets/base",
     "model_name": "LayoutModel",
     "state": {
      "_model_module": "@jupyter-widgets/base",
      "_model_module_version": "1.2.0",
      "_model_name": "LayoutModel",
      "_view_count": null,
      "_view_module": "@jupyter-widgets/base",
      "_view_module_version": "1.2.0",
      "_view_name": "LayoutView",
      "align_content": null,
      "align_items": null,
      "align_self": null,
      "border": null,
      "bottom": null,
      "display": null,
      "flex": null,
      "flex_flow": null,
      "grid_area": null,
      "grid_auto_columns": null,
      "grid_auto_flow": null,
      "grid_auto_rows": null,
      "grid_column": null,
      "grid_gap": null,
      "grid_row": null,
      "grid_template_areas": null,
      "grid_template_columns": null,
      "grid_template_rows": null,
      "height": null,
      "justify_content": null,
      "justify_items": null,
      "left": null,
      "margin": null,
      "max_height": null,
      "max_width": null,
      "min_height": null,
      "min_width": null,
      "object_fit": null,
      "object_position": null,
      "order": null,
      "overflow": null,
      "overflow_x": null,
      "overflow_y": null,
      "padding": null,
      "right": null,
      "top": null,
      "visibility": null,
      "width": null
     }
    },
    "d044d5d3018f42cf98f404eca46c3a47": {
     "model_module": "@jupyter-widgets/controls",
     "model_name": "ProgressStyleModel",
     "state": {
      "_model_module": "@jupyter-widgets/controls",
      "_model_module_version": "1.5.0",
      "_model_name": "ProgressStyleModel",
      "_view_count": null,
      "_view_module": "@jupyter-widgets/base",
      "_view_module_version": "1.2.0",
      "_view_name": "StyleView",
      "bar_color": null,
      "description_width": "initial"
     }
    }
   }
  }
 },
 "nbformat": 4,
 "nbformat_minor": 1
}
